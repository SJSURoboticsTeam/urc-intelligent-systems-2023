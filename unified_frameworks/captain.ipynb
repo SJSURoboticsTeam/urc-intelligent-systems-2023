{
 "cells": [
  {
   "cell_type": "code",
   "execution_count": 1,
   "metadata": {},
   "outputs": [],
   "source": [
    "# import matplotlib\n",
    "# matplotlib.use(\"qtagg\")\n",
    "%matplotlib qt\n",
    "import os\n",
    "root = os.path.realpath(os.getcwd()+ os.sep+\"..\")\n",
    "import sys\n",
    "sys.path.append(root)\n",
    "from modules.WiFi import WiFi, Modes, make_command\n",
    "import pathfinder, pathfinder_visualizer\n",
    "import importlib\n",
    "import matplotlib.pyplot as plt\n",
    "import matplotlib.animation as anim\n",
    "import time\n",
    "import re, json\n",
    "from datetime import datetime"
   ]
  },
  {
   "cell_type": "code",
   "execution_count": null,
   "metadata": {},
   "outputs": [
    {
     "name": "stdout",
     "output_type": "stream",
     "text": [
      "called start_path_finder_service\n",
      "Starting Pathfinder Service\n",
      "Called start_worldview_service\n",
      "Starting Worldview Service\n",
      "Called start_lidar_service\n",
      "Starting Lidar Service\n",
      "\n",
      "started Lidar Scanning Thread\n"
     ]
    },
    {
     "name": "stderr",
     "output_type": "stream",
     "text": [
      "Too many measurments in the input buffer: 501/500. Clearing buffer...\n",
      "Too many measurments in the input buffer: 538/500. Clearing buffer...\n",
      "Too many measurments in the input buffer: 512/500. Clearing buffer...\n",
      "Too many measurments in the input buffer: 583/500. Clearing buffer...\n",
      "Too many measurments in the input buffer: 501/500. Clearing buffer...\n",
      "Too many measurments in the input buffer: 590/500. Clearing buffer...\n",
      "Too many measurments in the input buffer: 508/500. Clearing buffer...\n",
      "Too many measurments in the input buffer: 585/500. Clearing buffer...\n",
      "Too many measurments in the input buffer: 522/500. Clearing buffer...\n",
      "Too many measurments in the input buffer: 577/500. Clearing buffer...\n",
      "Too many measurments in the input buffer: 576/500. Clearing buffer...\n",
      "Too many measurments in the input buffer: 538/500. Clearing buffer...\n",
      "Too many measurments in the input buffer: 527/500. Clearing buffer...\n",
      "Too many measurments in the input buffer: 571/500. Clearing buffer...\n",
      "Too many measurments in the input buffer: 504/500. Clearing buffer...\n",
      "Too many measurments in the input buffer: 566/500. Clearing buffer...\n",
      "Too many measurments in the input buffer: 516/500. Clearing buffer...\n",
      "Too many measurments in the input buffer: 581/500. Clearing buffer...\n",
      "Too many measurments in the input buffer: 519/500. Clearing buffer...\n",
      "Too many measurments in the input buffer: 508/500. Clearing buffer...\n",
      "Too many measurments in the input buffer: 502/500. Clearing buffer...\n",
      "Too many measurments in the input buffer: 534/500. Clearing buffer...\n",
      "Too many measurments in the input buffer: 516/500. Clearing buffer...\n",
      "Too many measurments in the input buffer: 537/500. Clearing buffer...\n",
      "Too many measurments in the input buffer: 542/500. Clearing buffer...\n",
      "Too many measurments in the input buffer: 524/500. Clearing buffer...\n",
      "Too many measurments in the input buffer: 536/500. Clearing buffer...\n",
      "Too many measurments in the input buffer: 550/500. Clearing buffer...\n"
     ]
    },
    {
     "name": "stdout",
     "output_type": "stream",
     "text": [
      "Sending command : {'HB': 0, 'IO': 1, 'WO': 0, 'DM': 'S', 'CMD': [0, -26]}\n"
     ]
    },
    {
     "name": "stderr",
     "output_type": "stream",
     "text": [
      "Too many measurments in the input buffer: 546/500. Clearing buffer...\n"
     ]
    },
    {
     "name": "stdout",
     "output_type": "stream",
     "text": [
      "Data sent successfully\n"
     ]
    },
    {
     "name": "stderr",
     "output_type": "stream",
     "text": [
      "Too many measurments in the input buffer: 507/500. Clearing buffer...\n"
     ]
    },
    {
     "name": "stdout",
     "output_type": "stream",
     "text": [
      "Sending command : {'HB': 0, 'IO': 1, 'WO': 0, 'DM': 'S', 'CMD': [0, -26]}\n",
      "Data sent successfully\n"
     ]
    },
    {
     "name": "stderr",
     "output_type": "stream",
     "text": [
      "Too many measurments in the input buffer: 517/500. Clearing buffer...\n"
     ]
    },
    {
     "name": "stdout",
     "output_type": "stream",
     "text": [
      "Sending command : {'HB': 0, 'IO': 1, 'WO': 0, 'DM': 'S', 'CMD': [0, -26]}\n",
      "Data sent successfully\n",
      "Sending command : {'HB': 0, 'IO': 1, 'WO': 0, 'DM': 'S', 'CMD': [0, -26]}\n",
      "Data sent successfully\n"
     ]
    },
    {
     "name": "stderr",
     "output_type": "stream",
     "text": [
      "Too many measurments in the input buffer: 563/500. Clearing buffer...\n"
     ]
    },
    {
     "name": "stdout",
     "output_type": "stream",
     "text": [
      "Sending command : {'HB': 0, 'IO': 1, 'WO': 0, 'DM': 'S', 'CMD': [0, -45]}\n",
      "Data sent successfully\n"
     ]
    },
    {
     "name": "stderr",
     "output_type": "stream",
     "text": [
      "Too many measurments in the input buffer: 527/500. Clearing buffer...\n"
     ]
    },
    {
     "name": "stdout",
     "output_type": "stream",
     "text": [
      "Sending command : {'HB': 0, 'IO': 1, 'WO': 0, 'DM': 'S', 'CMD': [0, -26]}\n",
      "Data sent successfully\n",
      "Sending command : {'HB': 0, 'IO': 1, 'WO': 0, 'DM': 'S', 'CMD': [0, -26]}\n",
      "Data sent successfully\n"
     ]
    },
    {
     "name": "stderr",
     "output_type": "stream",
     "text": [
      "Too many measurments in the input buffer: 555/500. Clearing buffer...\n"
     ]
    },
    {
     "name": "stdout",
     "output_type": "stream",
     "text": [
      "Sending command : {'HB': 0, 'IO': 1, 'WO': 0, 'DM': 'S', 'CMD': [0, -26]}\n",
      "Data sent successfully\n",
      "Sending command : {'HB': 0, 'IO': 1, 'WO': 0, 'DM': 'S', 'CMD': [0, -45]}\n",
      "Data sent successfully\n"
     ]
    },
    {
     "name": "stderr",
     "output_type": "stream",
     "text": [
      "Too many measurments in the input buffer: 501/500. Clearing buffer...\n"
     ]
    },
    {
     "name": "stdout",
     "output_type": "stream",
     "text": [
      "Sending command : {'HB': 0, 'IO': 1, 'WO': 0, 'DM': 'S', 'CMD': [0, -26]}\n",
      "Data sent successfully\n"
     ]
    },
    {
     "name": "stderr",
     "output_type": "stream",
     "text": [
      "Too many measurments in the input buffer: 525/500. Clearing buffer...\n"
     ]
    },
    {
     "name": "stdout",
     "output_type": "stream",
     "text": [
      "Sending command : {'HB': 0, 'IO': 1, 'WO': 0, 'DM': 'S', 'CMD': [0, -26]}\n",
      "Data sent successfully\n"
     ]
    },
    {
     "name": "stderr",
     "output_type": "stream",
     "text": [
      "Too many measurments in the input buffer: 583/500. Clearing buffer...\n"
     ]
    },
    {
     "name": "stdout",
     "output_type": "stream",
     "text": [
      "Sending command : {'HB': 0, 'IO': 1, 'WO': 0, 'DM': 'S', 'CMD': [0, -26]}\n",
      "Data sent successfully\n",
      "Sending command : {'HB': 0, 'IO': 1, 'WO': 0, 'DM': 'D', 'CMD': [0, -9]}\n",
      "Data sent successfully\n"
     ]
    },
    {
     "name": "stderr",
     "output_type": "stream",
     "text": [
      "Too many measurments in the input buffer: 505/500. Clearing buffer...\n"
     ]
    },
    {
     "name": "stdout",
     "output_type": "stream",
     "text": [
      "Sending command : {'HB': 0, 'IO': 1, 'WO': 0, 'DM': 'S', 'CMD': [0, -26]}\n",
      "Data sent successfully\n",
      "Sending command : {'HB': 0, 'IO': 1, 'WO': 0, 'DM': 'S', 'CMD': [0, -45]}\n",
      "Data sent successfully\n"
     ]
    },
    {
     "name": "stderr",
     "output_type": "stream",
     "text": [
      "Too many measurments in the input buffer: 588/500. Clearing buffer...\n"
     ]
    },
    {
     "name": "stdout",
     "output_type": "stream",
     "text": [
      "Sending command : {'HB': 0, 'IO': 1, 'WO': 0, 'DM': 'S', 'CMD': [0, -26]}\n",
      "Data sent successfully\n"
     ]
    },
    {
     "name": "stderr",
     "output_type": "stream",
     "text": [
      "Too many measurments in the input buffer: 553/500. Clearing buffer...\n"
     ]
    },
    {
     "name": "stdout",
     "output_type": "stream",
     "text": [
      "Sending command : {'HB': 0, 'IO': 1, 'WO': 0, 'DM': 'S', 'CMD': [0, -26]}\n",
      "Data sent successfully\n",
      "Sending command : {'HB': 0, 'IO': 1, 'WO': 0, 'DM': 'S', 'CMD': [0, -45]}\n",
      "Data sent successfully\n"
     ]
    },
    {
     "name": "stderr",
     "output_type": "stream",
     "text": [
      "Too many measurments in the input buffer: 503/500. Clearing buffer...\n"
     ]
    },
    {
     "name": "stdout",
     "output_type": "stream",
     "text": [
      "Sending command : {'HB': 0, 'IO': 1, 'WO': 0, 'DM': 'S', 'CMD': [0, -45]}\n",
      "Data sent successfully\n",
      "Sending command : {'HB': 0, 'IO': 1, 'WO': 0, 'DM': 'S', 'CMD': [0, -26]}\n",
      "Data sent successfully\n"
     ]
    },
    {
     "name": "stderr",
     "output_type": "stream",
     "text": [
      "Too many measurments in the input buffer: 513/500. Clearing buffer...\n"
     ]
    },
    {
     "name": "stdout",
     "output_type": "stream",
     "text": [
      "Sending command : {'HB': 0, 'IO': 1, 'WO': 0, 'DM': 'S', 'CMD': [0, -26]}\n",
      "Data sent successfully\n"
     ]
    },
    {
     "name": "stderr",
     "output_type": "stream",
     "text": [
      "Too many measurments in the input buffer: 538/500. Clearing buffer...\n"
     ]
    },
    {
     "name": "stdout",
     "output_type": "stream",
     "text": [
      "Sending command : {'HB': 0, 'IO': 1, 'WO': 0, 'DM': 'S', 'CMD': [0, -26]}\n",
      "Data sent successfully\n",
      "Sending command : {'HB': 0, 'IO': 1, 'WO': 0, 'DM': 'S', 'CMD': [0, -26]}\n",
      "Data sent successfully\n"
     ]
    },
    {
     "name": "stderr",
     "output_type": "stream",
     "text": [
      "Too many measurments in the input buffer: 537/500. Clearing buffer...\n"
     ]
    },
    {
     "name": "stdout",
     "output_type": "stream",
     "text": [
      "Sending command : {'HB': 0, 'IO': 1, 'WO': 0, 'DM': 'S', 'CMD': [0, -26]}\n",
      "Data sent successfully\n"
     ]
    },
    {
     "name": "stderr",
     "output_type": "stream",
     "text": [
      "Too many measurments in the input buffer: 561/500. Clearing buffer...\n"
     ]
    },
    {
     "name": "stdout",
     "output_type": "stream",
     "text": [
      "Sending command : {'HB': 0, 'IO': 1, 'WO': 0, 'DM': 'S', 'CMD': [0, -26]}\n",
      "Data sent successfully\n"
     ]
    },
    {
     "name": "stderr",
     "output_type": "stream",
     "text": [
      "Too many measurments in the input buffer: 519/500. Clearing buffer...\n"
     ]
    },
    {
     "name": "stdout",
     "output_type": "stream",
     "text": [
      "Sending command : {'HB': 0, 'IO': 1, 'WO': 0, 'DM': 'S', 'CMD': [0, -26]}\n",
      "Data sent successfully\n"
     ]
    },
    {
     "name": "stderr",
     "output_type": "stream",
     "text": [
      "Too many measurments in the input buffer: 507/500. Clearing buffer...\n"
     ]
    },
    {
     "name": "stdout",
     "output_type": "stream",
     "text": [
      "Sending command : {'HB': 0, 'IO': 1, 'WO': 0, 'DM': 'S', 'CMD': [-13, -26]}\n",
      "Data sent successfully\n"
     ]
    },
    {
     "name": "stderr",
     "output_type": "stream",
     "text": [
      "Too many measurments in the input buffer: 571/500. Clearing buffer...\n"
     ]
    },
    {
     "name": "stdout",
     "output_type": "stream",
     "text": [
      "Sending command : {'HB': 0, 'IO': 1, 'WO': 0, 'DM': 'S', 'CMD': [-7, -26]}\n",
      "Data sent successfully\n"
     ]
    },
    {
     "name": "stderr",
     "output_type": "stream",
     "text": [
      "Too many measurments in the input buffer: 557/500. Clearing buffer...\n",
      "Too many measurments in the input buffer: 504/500. Clearing buffer...\n"
     ]
    },
    {
     "name": "stdout",
     "output_type": "stream",
     "text": [
      "Sending command : {'HB': 0, 'IO': 1, 'WO': 0, 'DM': 'S', 'CMD': [-5, -45]}\n",
      "Data sent successfully\n",
      "Sending command : {'HB': 0, 'IO': 1, 'WO': 0, 'DM': 'S', 'CMD': [-4, -26]}\n",
      "Data sent successfully\n"
     ]
    },
    {
     "name": "stderr",
     "output_type": "stream",
     "text": [
      "Too many measurments in the input buffer: 563/500. Clearing buffer...\n",
      "Too many measurments in the input buffer: 518/500. Clearing buffer...\n"
     ]
    },
    {
     "name": "stdout",
     "output_type": "stream",
     "text": [
      "Sending command : {'HB': 0, 'IO': 1, 'WO': 0, 'DM': 'S', 'CMD': [0, -26]}\n",
      "Data sent successfully\n"
     ]
    },
    {
     "name": "stderr",
     "output_type": "stream",
     "text": [
      "Too many measurments in the input buffer: 529/500. Clearing buffer...\n"
     ]
    },
    {
     "name": "stdout",
     "output_type": "stream",
     "text": [
      "Sending command : {'HB': 0, 'IO': 1, 'WO': 0, 'DM': 'S', 'CMD': [0, -26]}\n",
      "Data sent successfully\n"
     ]
    },
    {
     "name": "stderr",
     "output_type": "stream",
     "text": [
      "Too many measurments in the input buffer: 514/500. Clearing buffer...\n"
     ]
    },
    {
     "name": "stdout",
     "output_type": "stream",
     "text": [
      "Sending command : {'HB': 0, 'IO': 1, 'WO': 0, 'DM': 'S', 'CMD': [0, -26]}\n",
      "Data sent successfully\n"
     ]
    },
    {
     "name": "stderr",
     "output_type": "stream",
     "text": [
      "Too many measurments in the input buffer: 534/500. Clearing buffer...\n"
     ]
    },
    {
     "name": "stdout",
     "output_type": "stream",
     "text": [
      "Sending command : {'HB': 0, 'IO': 1, 'WO': 0, 'DM': 'S', 'CMD': [0, -26]}\n",
      "Data sent successfully\n",
      "Data sent successfully\n"
     ]
    },
    {
     "name": "stderr",
     "output_type": "stream",
     "text": [
      "Too many measurments in the input buffer: 545/500. Clearing buffer...\n",
      "Too many measurments in the input buffer: 531/500. Clearing buffer...\n",
      "Too many measurments in the input buffer: 512/500. Clearing buffer...\n",
      "Too many measurments in the input buffer: 544/500. Clearing buffer...\n",
      "Too many measurments in the input buffer: 522/500. Clearing buffer...\n",
      "Too many measurments in the input buffer: 507/500. Clearing buffer...\n",
      "Too many measurments in the input buffer: 516/500. Clearing buffer...\n",
      "Too many measurments in the input buffer: 508/500. Clearing buffer...\n",
      "Too many measurments in the input buffer: 571/500. Clearing buffer...\n",
      "Too many measurments in the input buffer: 522/500. Clearing buffer...\n",
      "Too many measurments in the input buffer: 522/500. Clearing buffer...\n",
      "Too many measurments in the input buffer: 516/500. Clearing buffer...\n",
      "Too many measurments in the input buffer: 500/500. Clearing buffer...\n",
      "Too many measurments in the input buffer: 584/500. Clearing buffer...\n",
      "Too many measurments in the input buffer: 522/500. Clearing buffer...\n",
      "Too many measurments in the input buffer: 509/500. Clearing buffer...\n",
      "Too many measurments in the input buffer: 555/500. Clearing buffer...\n",
      "Too many measurments in the input buffer: 546/500. Clearing buffer...\n",
      "Too many measurments in the input buffer: 575/500. Clearing buffer...\n",
      "Too many measurments in the input buffer: 573/500. Clearing buffer...\n",
      "Too many measurments in the input buffer: 503/500. Clearing buffer...\n",
      "Too many measurments in the input buffer: 517/500. Clearing buffer...\n",
      "Too many measurments in the input buffer: 526/500. Clearing buffer...\n",
      "Too many measurments in the input buffer: 526/500. Clearing buffer...\n",
      "Too many measurments in the input buffer: 571/500. Clearing buffer...\n",
      "Too many measurments in the input buffer: 510/500. Clearing buffer...\n",
      "Too many measurments in the input buffer: 522/500. Clearing buffer...\n",
      "Too many measurments in the input buffer: 519/500. Clearing buffer...\n",
      "Too many measurments in the input buffer: 532/500. Clearing buffer...\n",
      "Too many measurments in the input buffer: 520/500. Clearing buffer...\n",
      "Too many measurments in the input buffer: 509/500. Clearing buffer...\n",
      "Too many measurments in the input buffer: 504/500. Clearing buffer...\n",
      "Too many measurments in the input buffer: 508/500. Clearing buffer...\n",
      "Too many measurments in the input buffer: 590/500. Clearing buffer...\n",
      "Too many measurments in the input buffer: 594/500. Clearing buffer...\n",
      "Too many measurments in the input buffer: 571/500. Clearing buffer...\n",
      "Too many measurments in the input buffer: 525/500. Clearing buffer...\n",
      "Too many measurments in the input buffer: 506/500. Clearing buffer...\n",
      "Too many measurments in the input buffer: 520/500. Clearing buffer...\n",
      "Too many measurments in the input buffer: 502/500. Clearing buffer...\n",
      "Too many measurments in the input buffer: 520/500. Clearing buffer...\n"
     ]
    },
    {
     "name": "stdout",
     "output_type": "stream",
     "text": [
      "Sending command : {'HB': 0, 'IO': 1, 'WO': 0, 'DM': 'S', 'CMD': [0, -45]}\n"
     ]
    },
    {
     "name": "stderr",
     "output_type": "stream",
     "text": [
      "Too many measurments in the input buffer: 586/500. Clearing buffer...\n"
     ]
    },
    {
     "name": "stdout",
     "output_type": "stream",
     "text": [
      "Data sent successfully\n"
     ]
    },
    {
     "name": "stderr",
     "output_type": "stream",
     "text": [
      "Too many measurments in the input buffer: 508/500. Clearing buffer...\n"
     ]
    },
    {
     "name": "stdout",
     "output_type": "stream",
     "text": [
      "Sending command : {'HB': 0, 'IO': 1, 'WO': 0, 'DM': 'S', 'CMD': [0, -45]}\n",
      "Data sent successfully\n"
     ]
    },
    {
     "name": "stderr",
     "output_type": "stream",
     "text": [
      "Too many measurments in the input buffer: 573/500. Clearing buffer...\n"
     ]
    },
    {
     "name": "stdout",
     "output_type": "stream",
     "text": [
      "Sending command : {'HB': 0, 'IO': 1, 'WO': 0, 'DM': 'S', 'CMD': [0, -45]}\n",
      "Data sent successfully\n"
     ]
    },
    {
     "name": "stderr",
     "output_type": "stream",
     "text": [
      "Too many measurments in the input buffer: 588/500. Clearing buffer...\n"
     ]
    },
    {
     "name": "stdout",
     "output_type": "stream",
     "text": [
      "Sending command : {'HB': 0, 'IO': 1, 'WO': 0, 'DM': 'S', 'CMD': [0, -26]}\n",
      "Data sent successfully\n"
     ]
    },
    {
     "name": "stderr",
     "output_type": "stream",
     "text": [
      "Too many measurments in the input buffer: 507/500. Clearing buffer...\n"
     ]
    },
    {
     "name": "stdout",
     "output_type": "stream",
     "text": [
      "Sending command : {'HB': 0, 'IO': 1, 'WO': 0, 'DM': 'S', 'CMD': [0, -45]}\n",
      "Data sent successfully\n"
     ]
    },
    {
     "name": "stderr",
     "output_type": "stream",
     "text": [
      "Too many measurments in the input buffer: 572/500. Clearing buffer...\n"
     ]
    },
    {
     "name": "stdout",
     "output_type": "stream",
     "text": [
      "Sending command : {'HB': 0, 'IO': 1, 'WO': 0, 'DM': 'S', 'CMD': [0, -26]}\n",
      "Data sent successfully\n"
     ]
    },
    {
     "name": "stderr",
     "output_type": "stream",
     "text": [
      "Too many measurments in the input buffer: 554/500. Clearing buffer...\n"
     ]
    },
    {
     "name": "stdout",
     "output_type": "stream",
     "text": [
      "Sending command : {'HB': 0, 'IO': 1, 'WO': 0, 'DM': 'S', 'CMD': [0, -45]}\n",
      "Data sent successfully\n"
     ]
    },
    {
     "name": "stderr",
     "output_type": "stream",
     "text": [
      "Too many measurments in the input buffer: 513/500. Clearing buffer...\n"
     ]
    },
    {
     "name": "stdout",
     "output_type": "stream",
     "text": [
      "Sending command : {'HB': 0, 'IO': 1, 'WO': 0, 'DM': 'S', 'CMD': [0, -45]}\n",
      "Data sent successfully\n",
      "Sending command : {'HB': 0, 'IO': 1, 'WO': 0, 'DM': 'S', 'CMD': [0, -45]}\n",
      "Data sent successfully\n"
     ]
    },
    {
     "name": "stderr",
     "output_type": "stream",
     "text": [
      "Too many measurments in the input buffer: 518/500. Clearing buffer...\n"
     ]
    },
    {
     "name": "stdout",
     "output_type": "stream",
     "text": [
      "Sending command : {'HB': 0, 'IO': 1, 'WO': 0, 'DM': 'S', 'CMD': [0, -45]}\n",
      "Data sent successfully\n"
     ]
    },
    {
     "name": "stderr",
     "output_type": "stream",
     "text": [
      "Too many measurments in the input buffer: 561/500. Clearing buffer...\n"
     ]
    },
    {
     "name": "stdout",
     "output_type": "stream",
     "text": [
      "Sending command : {'HB': 0, 'IO': 1, 'WO': 0, 'DM': 'S', 'CMD': [0, -45]}\n",
      "Data sent successfully\n"
     ]
    },
    {
     "name": "stderr",
     "output_type": "stream",
     "text": [
      "Too many measurments in the input buffer: 503/500. Clearing buffer...\n"
     ]
    },
    {
     "name": "stdout",
     "output_type": "stream",
     "text": [
      "Sending command : {'HB': 0, 'IO': 1, 'WO': 0, 'DM': 'S', 'CMD': [0, -26]}\n",
      "Data sent successfully\n"
     ]
    },
    {
     "name": "stderr",
     "output_type": "stream",
     "text": [
      "Too many measurments in the input buffer: 507/500. Clearing buffer...\n"
     ]
    },
    {
     "name": "stdout",
     "output_type": "stream",
     "text": [
      "Sending command : {'HB': 0, 'IO': 1, 'WO': 0, 'DM': 'S', 'CMD': [0, -45]}\n",
      "Data sent successfully\n"
     ]
    },
    {
     "name": "stderr",
     "output_type": "stream",
     "text": [
      "Too many measurments in the input buffer: 523/500. Clearing buffer...\n"
     ]
    },
    {
     "name": "stdout",
     "output_type": "stream",
     "text": [
      "Sending command : {'HB': 0, 'IO': 1, 'WO': 0, 'DM': 'S', 'CMD': [0, -45]}\n",
      "Data sent successfully\n"
     ]
    },
    {
     "name": "stderr",
     "output_type": "stream",
     "text": [
      "Too many measurments in the input buffer: 513/500. Clearing buffer...\n"
     ]
    },
    {
     "name": "stdout",
     "output_type": "stream",
     "text": [
      "Sending command : {'HB': 0, 'IO': 1, 'WO': 0, 'DM': 'S', 'CMD': [0, -45]}\n",
      "Data sent successfully\n"
     ]
    },
    {
     "name": "stderr",
     "output_type": "stream",
     "text": [
      "Too many measurments in the input buffer: 548/500. Clearing buffer...\n"
     ]
    },
    {
     "name": "stdout",
     "output_type": "stream",
     "text": [
      "Sending command : {'HB': 0, 'IO': 1, 'WO': 0, 'DM': 'S', 'CMD': [0, -45]}\n",
      "Data sent successfully\n"
     ]
    },
    {
     "name": "stderr",
     "output_type": "stream",
     "text": [
      "Too many measurments in the input buffer: 520/500. Clearing buffer...\n"
     ]
    },
    {
     "name": "stdout",
     "output_type": "stream",
     "text": [
      "Sending command : {'HB': 0, 'IO': 1, 'WO': 0, 'DM': 'S', 'CMD': [0, -26]}\n",
      "Data sent successfully\n"
     ]
    },
    {
     "name": "stderr",
     "output_type": "stream",
     "text": [
      "Too many measurments in the input buffer: 577/500. Clearing buffer...\n"
     ]
    },
    {
     "name": "stdout",
     "output_type": "stream",
     "text": [
      "Sending command : {'HB': 0, 'IO': 1, 'WO': 0, 'DM': 'S', 'CMD': [0, -45]}\n",
      "Data sent successfully\n"
     ]
    },
    {
     "name": "stderr",
     "output_type": "stream",
     "text": [
      "Too many measurments in the input buffer: 517/500. Clearing buffer...\n"
     ]
    },
    {
     "name": "stdout",
     "output_type": "stream",
     "text": [
      "Sending command : {'HB': 0, 'IO': 1, 'WO': 0, 'DM': 'S', 'CMD': [0, -45]}\n",
      "Data sent successfully\n"
     ]
    },
    {
     "name": "stderr",
     "output_type": "stream",
     "text": [
      "Too many measurments in the input buffer: 524/500. Clearing buffer...\n"
     ]
    },
    {
     "name": "stdout",
     "output_type": "stream",
     "text": [
      "Sending command : {'HB': 0, 'IO': 1, 'WO': 0, 'DM': 'S', 'CMD': [0, -45]}\n",
      "Data sent successfully\n",
      "Sending command : {'HB': 0, 'IO': 1, 'WO': 0, 'DM': 'S', 'CMD': [0, -45]}\n",
      "Data sent successfully\n"
     ]
    },
    {
     "name": "stderr",
     "output_type": "stream",
     "text": [
      "Too many measurments in the input buffer: 578/500. Clearing buffer...\n"
     ]
    },
    {
     "name": "stdout",
     "output_type": "stream",
     "text": [
      "Sending command : {'HB': 0, 'IO': 1, 'WO': 0, 'DM': 'S', 'CMD': [0, -45]}\n",
      "Data sent successfully\n"
     ]
    },
    {
     "name": "stderr",
     "output_type": "stream",
     "text": [
      "Too many measurments in the input buffer: 530/500. Clearing buffer...\n"
     ]
    },
    {
     "name": "stdout",
     "output_type": "stream",
     "text": [
      "Sending command : {'HB': 0, 'IO': 1, 'WO': 0, 'DM': 'S', 'CMD': [0, -45]}\n",
      "Data sent successfully\n"
     ]
    },
    {
     "name": "stderr",
     "output_type": "stream",
     "text": [
      "Too many measurments in the input buffer: 511/500. Clearing buffer...\n"
     ]
    },
    {
     "name": "stdout",
     "output_type": "stream",
     "text": [
      "Sending command : {'HB': 0, 'IO': 1, 'WO': 0, 'DM': 'S', 'CMD': [0, -45]}\n",
      "Data sent successfully\n"
     ]
    },
    {
     "name": "stderr",
     "output_type": "stream",
     "text": [
      "Too many measurments in the input buffer: 556/500. Clearing buffer...\n"
     ]
    },
    {
     "name": "stdout",
     "output_type": "stream",
     "text": [
      "Sending command : {'HB': 0, 'IO': 1, 'WO': 0, 'DM': 'S', 'CMD': [0, -45]}\n",
      "Data sent successfully\n"
     ]
    },
    {
     "name": "stderr",
     "output_type": "stream",
     "text": [
      "Too many measurments in the input buffer: 535/500. Clearing buffer...\n"
     ]
    },
    {
     "name": "stdout",
     "output_type": "stream",
     "text": [
      "Sending command : {'HB': 0, 'IO': 1, 'WO': 0, 'DM': 'S', 'CMD': [0, -45]}\n",
      "Data sent successfully\n"
     ]
    },
    {
     "name": "stderr",
     "output_type": "stream",
     "text": [
      "Too many measurments in the input buffer: 550/500. Clearing buffer...\n"
     ]
    },
    {
     "name": "stdout",
     "output_type": "stream",
     "text": [
      "Sending command : {'HB': 0, 'IO': 1, 'WO': 0, 'DM': 'S', 'CMD': [0, -45]}\n",
      "Data sent successfully\n"
     ]
    },
    {
     "name": "stderr",
     "output_type": "stream",
     "text": [
      "Too many measurments in the input buffer: 570/500. Clearing buffer...\n"
     ]
    },
    {
     "name": "stdout",
     "output_type": "stream",
     "text": [
      "Sending command : {'HB': 0, 'IO': 1, 'WO': 0, 'DM': 'S', 'CMD': [0, -45]}\n",
      "Data sent successfully\n"
     ]
    },
    {
     "name": "stderr",
     "output_type": "stream",
     "text": [
      "Too many measurments in the input buffer: 504/500. Clearing buffer...\n"
     ]
    },
    {
     "name": "stdout",
     "output_type": "stream",
     "text": [
      "Sending command : {'HB': 0, 'IO': 1, 'WO': 0, 'DM': 'S', 'CMD': [0, -45]}\n",
      "Data sent successfully\n",
      "Data sent successfully\n"
     ]
    },
    {
     "name": "stderr",
     "output_type": "stream",
     "text": [
      "Too many measurments in the input buffer: 520/500. Clearing buffer...\n",
      "Too many measurments in the input buffer: 570/500. Clearing buffer...\n",
      "Too many measurments in the input buffer: 552/500. Clearing buffer...\n",
      "Too many measurments in the input buffer: 500/500. Clearing buffer...\n",
      "Too many measurments in the input buffer: 582/500. Clearing buffer...\n",
      "Too many measurments in the input buffer: 529/500. Clearing buffer...\n",
      "Too many measurments in the input buffer: 517/500. Clearing buffer...\n",
      "Too many measurments in the input buffer: 524/500. Clearing buffer...\n",
      "Too many measurments in the input buffer: 550/500. Clearing buffer...\n",
      "Too many measurments in the input buffer: 514/500. Clearing buffer...\n",
      "Too many measurments in the input buffer: 573/500. Clearing buffer...\n",
      "Too many measurments in the input buffer: 559/500. Clearing buffer...\n",
      "Too many measurments in the input buffer: 569/500. Clearing buffer...\n",
      "Too many measurments in the input buffer: 574/500. Clearing buffer...\n",
      "Too many measurments in the input buffer: 568/500. Clearing buffer...\n",
      "Too many measurments in the input buffer: 542/500. Clearing buffer...\n",
      "Too many measurments in the input buffer: 503/500. Clearing buffer...\n",
      "Too many measurments in the input buffer: 503/500. Clearing buffer...\n",
      "Too many measurments in the input buffer: 579/500. Clearing buffer...\n",
      "Too many measurments in the input buffer: 529/500. Clearing buffer...\n",
      "Too many measurments in the input buffer: 535/500. Clearing buffer...\n",
      "Too many measurments in the input buffer: 501/500. Clearing buffer...\n",
      "Too many measurments in the input buffer: 506/500. Clearing buffer...\n",
      "Too many measurments in the input buffer: 588/500. Clearing buffer...\n",
      "Too many measurments in the input buffer: 504/500. Clearing buffer...\n",
      "Too many measurments in the input buffer: 548/500. Clearing buffer...\n",
      "Too many measurments in the input buffer: 512/500. Clearing buffer...\n",
      "Too many measurments in the input buffer: 504/500. Clearing buffer...\n",
      "Too many measurments in the input buffer: 528/500. Clearing buffer...\n",
      "Too many measurments in the input buffer: 555/500. Clearing buffer...\n",
      "Too many measurments in the input buffer: 523/500. Clearing buffer...\n",
      "Too many measurments in the input buffer: 519/500. Clearing buffer...\n",
      "Too many measurments in the input buffer: 566/500. Clearing buffer...\n",
      "Too many measurments in the input buffer: 541/500. Clearing buffer...\n",
      "Too many measurments in the input buffer: 592/500. Clearing buffer...\n",
      "Too many measurments in the input buffer: 560/500. Clearing buffer...\n",
      "Too many measurments in the input buffer: 554/500. Clearing buffer...\n",
      "Too many measurments in the input buffer: 577/500. Clearing buffer...\n",
      "Too many measurments in the input buffer: 517/500. Clearing buffer...\n",
      "Too many measurments in the input buffer: 560/500. Clearing buffer...\n",
      "Too many measurments in the input buffer: 564/500. Clearing buffer...\n",
      "Too many measurments in the input buffer: 523/500. Clearing buffer...\n",
      "Too many measurments in the input buffer: 516/500. Clearing buffer...\n",
      "Too many measurments in the input buffer: 594/500. Clearing buffer...\n",
      "Too many measurments in the input buffer: 503/500. Clearing buffer...\n",
      "Too many measurments in the input buffer: 534/500. Clearing buffer...\n",
      "Too many measurments in the input buffer: 536/500. Clearing buffer...\n",
      "Too many measurments in the input buffer: 508/500. Clearing buffer...\n",
      "Too many measurments in the input buffer: 548/500. Clearing buffer...\n",
      "Too many measurments in the input buffer: 522/500. Clearing buffer...\n",
      "Too many measurments in the input buffer: 519/500. Clearing buffer...\n",
      "Too many measurments in the input buffer: 554/500. Clearing buffer...\n",
      "Too many measurments in the input buffer: 502/500. Clearing buffer...\n",
      "Too many measurments in the input buffer: 523/500. Clearing buffer...\n",
      "Too many measurments in the input buffer: 502/500. Clearing buffer...\n",
      "Too many measurments in the input buffer: 574/500. Clearing buffer...\n",
      "Too many measurments in the input buffer: 509/500. Clearing buffer...\n",
      "Too many measurments in the input buffer: 519/500. Clearing buffer...\n",
      "Too many measurments in the input buffer: 521/500. Clearing buffer...\n",
      "Too many measurments in the input buffer: 579/500. Clearing buffer...\n",
      "Too many measurments in the input buffer: 571/500. Clearing buffer...\n",
      "Too many measurments in the input buffer: 521/500. Clearing buffer...\n",
      "Too many measurments in the input buffer: 526/500. Clearing buffer...\n",
      "Too many measurments in the input buffer: 517/500. Clearing buffer...\n",
      "Too many measurments in the input buffer: 555/500. Clearing buffer...\n",
      "Too many measurments in the input buffer: 588/500. Clearing buffer...\n",
      "Too many measurments in the input buffer: 511/500. Clearing buffer...\n",
      "Too many measurments in the input buffer: 548/500. Clearing buffer...\n",
      "Too many measurments in the input buffer: 527/500. Clearing buffer...\n",
      "Too many measurments in the input buffer: 502/500. Clearing buffer...\n",
      "Too many measurments in the input buffer: 503/500. Clearing buffer...\n",
      "Too many measurments in the input buffer: 509/500. Clearing buffer...\n",
      "Too many measurments in the input buffer: 591/500. Clearing buffer...\n",
      "Too many measurments in the input buffer: 533/500. Clearing buffer...\n"
     ]
    },
    {
     "name": "stdout",
     "output_type": "stream",
     "text": [
      "Sending command : {'HB': 0, 'IO': 1, 'WO': 0, 'DM': 'S', 'CMD': [0, -45]}\n"
     ]
    },
    {
     "name": "stderr",
     "output_type": "stream",
     "text": [
      "Too many measurments in the input buffer: 527/500. Clearing buffer...\n"
     ]
    },
    {
     "name": "stdout",
     "output_type": "stream",
     "text": [
      "Data sent successfully\n",
      "Sending command : {'HB': 0, 'IO': 1, 'WO': 0, 'DM': 'S', 'CMD': [0, -45]}\n",
      "Data sent successfully\n"
     ]
    },
    {
     "name": "stderr",
     "output_type": "stream",
     "text": [
      "Too many measurments in the input buffer: 533/500. Clearing buffer...\n"
     ]
    },
    {
     "name": "stdout",
     "output_type": "stream",
     "text": [
      "Sending command : {'HB': 0, 'IO': 1, 'WO': 0, 'DM': 'S', 'CMD': [0, -45]}\n",
      "Data sent successfully\n"
     ]
    },
    {
     "name": "stderr",
     "output_type": "stream",
     "text": [
      "Too many measurments in the input buffer: 542/500. Clearing buffer...\n"
     ]
    },
    {
     "name": "stdout",
     "output_type": "stream",
     "text": [
      "Sending command : {'HB': 0, 'IO': 1, 'WO': 0, 'DM': 'S', 'CMD': [0, -45]}\n",
      "Data sent successfully\n"
     ]
    },
    {
     "name": "stderr",
     "output_type": "stream",
     "text": [
      "Too many measurments in the input buffer: 534/500. Clearing buffer...\n"
     ]
    },
    {
     "name": "stdout",
     "output_type": "stream",
     "text": [
      "Sending command : {'HB': 0, 'IO': 1, 'WO': 0, 'DM': 'S', 'CMD': [0, -26]}\n",
      "Data sent successfully\n"
     ]
    },
    {
     "name": "stderr",
     "output_type": "stream",
     "text": [
      "Too many measurments in the input buffer: 524/500. Clearing buffer...\n"
     ]
    },
    {
     "name": "stdout",
     "output_type": "stream",
     "text": [
      "Sending command : {'HB': 0, 'IO': 1, 'WO': 0, 'DM': 'S', 'CMD': [0, -26]}\n",
      "Data sent successfully\n",
      "Sending command : {'HB': 0, 'IO': 1, 'WO': 0, 'DM': 'S', 'CMD': [0, -26]}\n",
      "Data sent successfully\n"
     ]
    },
    {
     "name": "stderr",
     "output_type": "stream",
     "text": [
      "Too many measurments in the input buffer: 558/500. Clearing buffer...\n"
     ]
    },
    {
     "name": "stdout",
     "output_type": "stream",
     "text": [
      "Sending command : {'HB': 0, 'IO': 1, 'WO': 0, 'DM': 'S', 'CMD': [0, -26]}\n",
      "Data sent successfully\n"
     ]
    },
    {
     "name": "stderr",
     "output_type": "stream",
     "text": [
      "Too many measurments in the input buffer: 558/500. Clearing buffer...\n"
     ]
    },
    {
     "name": "stdout",
     "output_type": "stream",
     "text": [
      "Sending command : {'HB': 0, 'IO': 1, 'WO': 0, 'DM': 'S', 'CMD': [0, -26]}\n",
      "Data sent successfully\n"
     ]
    },
    {
     "name": "stderr",
     "output_type": "stream",
     "text": [
      "Too many measurments in the input buffer: 511/500. Clearing buffer...\n"
     ]
    },
    {
     "name": "stdout",
     "output_type": "stream",
     "text": [
      "Sending command : {'HB': 0, 'IO': 1, 'WO': 0, 'DM': 'S', 'CMD': [0, -26]}\n",
      "Data sent successfully\n"
     ]
    },
    {
     "name": "stderr",
     "output_type": "stream",
     "text": [
      "Too many measurments in the input buffer: 539/500. Clearing buffer...\n"
     ]
    },
    {
     "name": "stdout",
     "output_type": "stream",
     "text": [
      "Sending command : {'HB': 0, 'IO': 1, 'WO': 0, 'DM': 'S', 'CMD': [0, -26]}\n",
      "Data sent successfully\n",
      "Sending command : {'HB': 0, 'IO': 1, 'WO': 0, 'DM': 'S', 'CMD': [0, -26]}\n",
      "Data sent successfully\n"
     ]
    },
    {
     "name": "stderr",
     "output_type": "stream",
     "text": [
      "Too many measurments in the input buffer: 512/500. Clearing buffer...\n"
     ]
    },
    {
     "name": "stdout",
     "output_type": "stream",
     "text": [
      "Sending command : {'HB': 0, 'IO': 1, 'WO': 0, 'DM': 'S', 'CMD': [0, -26]}\n",
      "Data sent successfully\n"
     ]
    },
    {
     "name": "stderr",
     "output_type": "stream",
     "text": [
      "Too many measurments in the input buffer: 507/500. Clearing buffer...\n"
     ]
    },
    {
     "name": "stdout",
     "output_type": "stream",
     "text": [
      "Sending command : {'HB': 0, 'IO': 1, 'WO': 0, 'DM': 'S', 'CMD': [0, -26]}\n",
      "Data sent successfully\n"
     ]
    },
    {
     "name": "stderr",
     "output_type": "stream",
     "text": [
      "Too many measurments in the input buffer: 537/500. Clearing buffer...\n"
     ]
    },
    {
     "name": "stdout",
     "output_type": "stream",
     "text": [
      "Sending command : {'HB': 0, 'IO': 1, 'WO': 0, 'DM': 'S', 'CMD': [0, -26]}\n",
      "Data sent successfully\n"
     ]
    },
    {
     "name": "stderr",
     "output_type": "stream",
     "text": [
      "Too many measurments in the input buffer: 577/500. Clearing buffer...\n"
     ]
    },
    {
     "name": "stdout",
     "output_type": "stream",
     "text": [
      "Sending command : {'HB': 0, 'IO': 1, 'WO': 0, 'DM': 'S', 'CMD': [-13, -26]}\n",
      "Data sent successfully\n"
     ]
    },
    {
     "name": "stderr",
     "output_type": "stream",
     "text": [
      "Too many measurments in the input buffer: 522/500. Clearing buffer...\n"
     ]
    },
    {
     "name": "stdout",
     "output_type": "stream",
     "text": [
      "Sending command : {'HB': 0, 'IO': 1, 'WO': 0, 'DM': 'S', 'CMD': [-9, -26]}\n"
     ]
    },
    {
     "name": "stderr",
     "output_type": "stream",
     "text": [
      "Too many measurments in the input buffer: 529/500. Clearing buffer...\n"
     ]
    },
    {
     "name": "stdout",
     "output_type": "stream",
     "text": [
      "Data sent successfully\n"
     ]
    },
    {
     "name": "stderr",
     "output_type": "stream",
     "text": [
      "Too many measurments in the input buffer: 500/500. Clearing buffer...\n"
     ]
    },
    {
     "name": "stdout",
     "output_type": "stream",
     "text": [
      "Sending command : {'HB': 0, 'IO': 1, 'WO': 0, 'DM': 'S', 'CMD': [-6, -26]}\n",
      "Data sent successfully\n",
      "Sending command : {'HB': 0, 'IO': 1, 'WO': 0, 'DM': 'S', 'CMD': [-7, -26]}\n",
      "Data sent successfully\n"
     ]
    },
    {
     "name": "stderr",
     "output_type": "stream",
     "text": [
      "Too many measurments in the input buffer: 536/500. Clearing buffer...\n"
     ]
    },
    {
     "name": "stdout",
     "output_type": "stream",
     "text": [
      "Sending command : {'HB': 0, 'IO': 1, 'WO': 0, 'DM': 'S', 'CMD': [-7, -26]}\n",
      "Data sent successfully\n"
     ]
    },
    {
     "name": "stderr",
     "output_type": "stream",
     "text": [
      "Too many measurments in the input buffer: 539/500. Clearing buffer...\n"
     ]
    },
    {
     "name": "stdout",
     "output_type": "stream",
     "text": [
      "Sending command : {'HB': 0, 'IO': 1, 'WO': 0, 'DM': 'S', 'CMD': [-7, -26]}\n",
      "Data sent successfully\n"
     ]
    },
    {
     "name": "stderr",
     "output_type": "stream",
     "text": [
      "Too many measurments in the input buffer: 510/500. Clearing buffer...\n"
     ]
    },
    {
     "name": "stdout",
     "output_type": "stream",
     "text": [
      "Sending command : {'HB': 0, 'IO': 1, 'WO': 0, 'DM': 'S', 'CMD': [-7, -26]}\n",
      "Data sent successfully\n"
     ]
    },
    {
     "name": "stderr",
     "output_type": "stream",
     "text": [
      "Too many measurments in the input buffer: 543/500. Clearing buffer...\n"
     ]
    },
    {
     "name": "stdout",
     "output_type": "stream",
     "text": [
      "Sending command : {'HB': 0, 'IO': 1, 'WO': 0, 'DM': 'S', 'CMD': [-7, -26]}\n",
      "Data sent successfully\n"
     ]
    },
    {
     "name": "stderr",
     "output_type": "stream",
     "text": [
      "Too many measurments in the input buffer: 517/500. Clearing buffer...\n"
     ]
    },
    {
     "name": "stdout",
     "output_type": "stream",
     "text": [
      "Sending command : {'HB': 0, 'IO': 1, 'WO': 0, 'DM': 'S', 'CMD': [-7, -45]}\n",
      "Data sent successfully\n"
     ]
    },
    {
     "name": "stderr",
     "output_type": "stream",
     "text": [
      "Too many measurments in the input buffer: 531/500. Clearing buffer...\n"
     ]
    },
    {
     "name": "stdout",
     "output_type": "stream",
     "text": [
      "Sending command : {'HB': 0, 'IO': 1, 'WO': 0, 'DM': 'S', 'CMD': [-7, -26]}\n",
      "Data sent successfully\n"
     ]
    },
    {
     "name": "stderr",
     "output_type": "stream",
     "text": [
      "Too many measurments in the input buffer: 502/500. Clearing buffer...\n"
     ]
    },
    {
     "name": "stdout",
     "output_type": "stream",
     "text": [
      "Sending command : {'HB': 0, 'IO': 1, 'WO': 0, 'DM': 'S', 'CMD': [-7, -26]}\n",
      "Data sent successfully\n",
      "Sending command : {'HB': 0, 'IO': 1, 'WO': 0, 'DM': 'S', 'CMD': [-7, -26]}\n",
      "Data sent successfully\n"
     ]
    },
    {
     "name": "stderr",
     "output_type": "stream",
     "text": [
      "Too many measurments in the input buffer: 534/500. Clearing buffer...\n"
     ]
    },
    {
     "name": "stdout",
     "output_type": "stream",
     "text": [
      "Sending command : {'HB': 0, 'IO': 1, 'WO': 0, 'DM': 'S', 'CMD': [-7, -45]}\n",
      "Data sent successfully\n",
      "Sending command : {'HB': 0, 'IO': 1, 'WO': 0, 'DM': 'S', 'CMD': [-7, -45]}\n",
      "Data sent successfully\n"
     ]
    },
    {
     "name": "stderr",
     "output_type": "stream",
     "text": [
      "Too many measurments in the input buffer: 538/500. Clearing buffer...\n"
     ]
    },
    {
     "name": "stdout",
     "output_type": "stream",
     "text": [
      "Sending command : {'HB': 0, 'IO': 1, 'WO': 0, 'DM': 'S', 'CMD': [-7, -26]}\n",
      "Data sent successfully\n"
     ]
    },
    {
     "name": "stderr",
     "output_type": "stream",
     "text": [
      "Too many measurments in the input buffer: 516/500. Clearing buffer...\n"
     ]
    },
    {
     "name": "stdout",
     "output_type": "stream",
     "text": [
      "Sending command : {'HB': 0, 'IO': 1, 'WO': 0, 'DM': 'S', 'CMD': [-7, -26]}\n",
      "Data sent successfully\n",
      "Sending command : {'HB': 0, 'IO': 1, 'WO': 0, 'DM': 'S', 'CMD': [0, -45]}\n",
      "Data sent successfully\n"
     ]
    },
    {
     "name": "stderr",
     "output_type": "stream",
     "text": [
      "Too many measurments in the input buffer: 519/500. Clearing buffer...\n"
     ]
    },
    {
     "name": "stdout",
     "output_type": "stream",
     "text": [
      "Sending command : {'HB': 0, 'IO': 1, 'WO': 0, 'DM': 'S', 'CMD': [0, -26]}\n",
      "Data sent successfully\n"
     ]
    },
    {
     "name": "stderr",
     "output_type": "stream",
     "text": [
      "Too many measurments in the input buffer: 514/500. Clearing buffer...\n"
     ]
    },
    {
     "name": "stdout",
     "output_type": "stream",
     "text": [
      "Sending command : {'HB': 0, 'IO': 1, 'WO': 0, 'DM': 'S', 'CMD': [0, -26]}\n",
      "Data sent successfully\n"
     ]
    },
    {
     "name": "stderr",
     "output_type": "stream",
     "text": [
      "Too many measurments in the input buffer: 515/500. Clearing buffer...\n"
     ]
    },
    {
     "name": "stdout",
     "output_type": "stream",
     "text": [
      "Data sent successfully\n"
     ]
    },
    {
     "name": "stderr",
     "output_type": "stream",
     "text": [
      "Too many measurments in the input buffer: 578/500. Clearing buffer...\n",
      "Too many measurments in the input buffer: 538/500. Clearing buffer...\n",
      "Too many measurments in the input buffer: 502/500. Clearing buffer...\n",
      "Too many measurments in the input buffer: 549/500. Clearing buffer...\n",
      "Too many measurments in the input buffer: 533/500. Clearing buffer...\n",
      "Too many measurments in the input buffer: 501/500. Clearing buffer...\n",
      "Too many measurments in the input buffer: 509/500. Clearing buffer...\n",
      "Too many measurments in the input buffer: 564/500. Clearing buffer...\n",
      "Too many measurments in the input buffer: 512/500. Clearing buffer...\n",
      "Too many measurments in the input buffer: 518/500. Clearing buffer...\n"
     ]
    },
    {
     "name": "stdout",
     "output_type": "stream",
     "text": [
      "Sending command : {'HB': 0, 'IO': 1, 'WO': 0, 'DM': 'S', 'CMD': [0, -45]}\n"
     ]
    },
    {
     "name": "stderr",
     "output_type": "stream",
     "text": [
      "Too many measurments in the input buffer: 525/500. Clearing buffer...\n"
     ]
    },
    {
     "name": "stdout",
     "output_type": "stream",
     "text": [
      "Data sent successfully\n"
     ]
    },
    {
     "name": "stderr",
     "output_type": "stream",
     "text": [
      "Too many measurments in the input buffer: 541/500. Clearing buffer...\n"
     ]
    },
    {
     "name": "stdout",
     "output_type": "stream",
     "text": [
      "Sending command : {'HB': 0, 'IO': 1, 'WO': 0, 'DM': 'S', 'CMD': [0, -45]}\n",
      "Data sent successfully\n"
     ]
    },
    {
     "name": "stderr",
     "output_type": "stream",
     "text": [
      "Too many measurments in the input buffer: 530/500. Clearing buffer...\n"
     ]
    },
    {
     "name": "stdout",
     "output_type": "stream",
     "text": [
      "Sending command : {'HB': 0, 'IO': 1, 'WO': 0, 'DM': 'S', 'CMD': [0, -45]}\n",
      "Data sent successfully\n"
     ]
    },
    {
     "name": "stderr",
     "output_type": "stream",
     "text": [
      "Too many measurments in the input buffer: 518/500. Clearing buffer...\n"
     ]
    },
    {
     "name": "stdout",
     "output_type": "stream",
     "text": [
      "Sending command : {'HB': 0, 'IO': 1, 'WO': 0, 'DM': 'S', 'CMD': [0, -26]}\n",
      "Data sent successfully\n",
      "Sending command : {'HB': 0, 'IO': 1, 'WO': 0, 'DM': 'S', 'CMD': [0, -26]}\n",
      "Data sent successfully\n"
     ]
    },
    {
     "name": "stderr",
     "output_type": "stream",
     "text": [
      "Too many measurments in the input buffer: 516/500. Clearing buffer...\n"
     ]
    },
    {
     "name": "stdout",
     "output_type": "stream",
     "text": [
      "Sending command : {'HB': 0, 'IO': 1, 'WO': 0, 'DM': 'S', 'CMD': [0, -45]}\n",
      "Data sent successfully\n"
     ]
    },
    {
     "name": "stderr",
     "output_type": "stream",
     "text": [
      "Too many measurments in the input buffer: 534/500. Clearing buffer...\n"
     ]
    },
    {
     "name": "stdout",
     "output_type": "stream",
     "text": [
      "Sending command : {'HB': 0, 'IO': 1, 'WO': 0, 'DM': 'S', 'CMD': [0, -45]}\n",
      "Data sent successfully\n"
     ]
    },
    {
     "name": "stderr",
     "output_type": "stream",
     "text": [
      "Too many measurments in the input buffer: 506/500. Clearing buffer...\n"
     ]
    },
    {
     "name": "stdout",
     "output_type": "stream",
     "text": [
      "Sending command : {'HB': 0, 'IO': 1, 'WO': 0, 'DM': 'S', 'CMD': [0, 26]}\n",
      "Data sent successfully\n"
     ]
    },
    {
     "name": "stderr",
     "output_type": "stream",
     "text": [
      "Too many measurments in the input buffer: 513/500. Clearing buffer...\n"
     ]
    },
    {
     "name": "stdout",
     "output_type": "stream",
     "text": [
      "Sending command : {'HB': 0, 'IO': 1, 'WO': 0, 'DM': 'S', 'CMD': [0, 44]}\n",
      "Data sent successfully\n"
     ]
    },
    {
     "name": "stderr",
     "output_type": "stream",
     "text": [
      "Too many measurments in the input buffer: 540/500. Clearing buffer...\n"
     ]
    },
    {
     "name": "stdout",
     "output_type": "stream",
     "text": [
      "Sending command : {'HB': 0, 'IO': 1, 'WO': 0, 'DM': 'S', 'CMD': [0, -26]}\n",
      "Data sent successfully\n"
     ]
    },
    {
     "name": "stderr",
     "output_type": "stream",
     "text": [
      "Too many measurments in the input buffer: 513/500. Clearing buffer...\n"
     ]
    },
    {
     "name": "stdout",
     "output_type": "stream",
     "text": [
      "Sending command : {'HB': 0, 'IO': 1, 'WO': 0, 'DM': 'S', 'CMD': [0, -45]}\n",
      "Data sent successfully\n",
      "Sending command : {'HB': 0, 'IO': 1, 'WO': 0, 'DM': 'S', 'CMD': [0, -45]}\n",
      "Data sent successfully\n"
     ]
    },
    {
     "name": "stderr",
     "output_type": "stream",
     "text": [
      "Too many measurments in the input buffer: 546/500. Clearing buffer...\n"
     ]
    },
    {
     "name": "stdout",
     "output_type": "stream",
     "text": [
      "Sending command : {'HB': 0, 'IO': 1, 'WO': 0, 'DM': 'S', 'CMD': [0, -26]}\n",
      "Data sent successfully\n",
      "Sending command : {'HB': 0, 'IO': 1, 'WO': 0, 'DM': 'D', 'CMD': [0, 9]}\n",
      "Data sent successfully\n"
     ]
    },
    {
     "name": "stderr",
     "output_type": "stream",
     "text": [
      "Too many measurments in the input buffer: 513/500. Clearing buffer...\n"
     ]
    },
    {
     "name": "stdout",
     "output_type": "stream",
     "text": [
      "Sending command : {'HB': 0, 'IO': 1, 'WO': 0, 'DM': 'S', 'CMD': [0, -45]}\n",
      "Data sent successfully\n"
     ]
    },
    {
     "name": "stderr",
     "output_type": "stream",
     "text": [
      "Too many measurments in the input buffer: 503/500. Clearing buffer...\n"
     ]
    },
    {
     "name": "stdout",
     "output_type": "stream",
     "text": [
      "Sending command : {'HB': 0, 'IO': 1, 'WO': 0, 'DM': 'S', 'CMD': [0, -45]}\n",
      "Data sent successfully\n"
     ]
    },
    {
     "name": "stderr",
     "output_type": "stream",
     "text": [
      "Too many measurments in the input buffer: 528/500. Clearing buffer...\n"
     ]
    },
    {
     "name": "stdout",
     "output_type": "stream",
     "text": [
      "Sending command : {'HB': 0, 'IO': 1, 'WO': 0, 'DM': 'S', 'CMD': [0, -26]}\n",
      "Data sent successfully\n",
      "Sending command : {'HB': 0, 'IO': 1, 'WO': 0, 'DM': 'D', 'CMD': [0, -9]}\n",
      "Data sent successfully\n"
     ]
    },
    {
     "name": "stderr",
     "output_type": "stream",
     "text": [
      "Too many measurments in the input buffer: 580/500. Clearing buffer...\n"
     ]
    },
    {
     "name": "stdout",
     "output_type": "stream",
     "text": [
      "Sending command : {'HB': 0, 'IO': 1, 'WO': 0, 'DM': 'D', 'CMD': [0, -9]}\n",
      "Data sent successfully\n",
      "Sending command : {'HB': 0, 'IO': 1, 'WO': 0, 'DM': 'S', 'CMD': [0, -45]}\n",
      "Data sent successfully\n"
     ]
    },
    {
     "name": "stderr",
     "output_type": "stream",
     "text": [
      "Too many measurments in the input buffer: 509/500. Clearing buffer...\n"
     ]
    },
    {
     "name": "stdout",
     "output_type": "stream",
     "text": [
      "Sending command : {'HB': 0, 'IO': 1, 'WO': 0, 'DM': 'S', 'CMD': [0, -45]}\n",
      "Data sent successfully\n"
     ]
    },
    {
     "name": "stderr",
     "output_type": "stream",
     "text": [
      "Too many measurments in the input buffer: 562/500. Clearing buffer...\n"
     ]
    },
    {
     "name": "stdout",
     "output_type": "stream",
     "text": [
      "Sending command : {'HB': 0, 'IO': 1, 'WO': 0, 'DM': 'D', 'CMD': [0, -9]}\n",
      "Data sent successfully\n"
     ]
    },
    {
     "name": "stderr",
     "output_type": "stream",
     "text": [
      "Too many measurments in the input buffer: 591/500. Clearing buffer...\n"
     ]
    },
    {
     "name": "stdout",
     "output_type": "stream",
     "text": [
      "Sending command : {'HB': 0, 'IO': 1, 'WO': 0, 'DM': 'S', 'CMD': [0, -26]}\n",
      "Data sent successfully\n",
      "Sending command : {'HB': 0, 'IO': 1, 'WO': 0, 'DM': 'S', 'CMD': [0, -45]}\n",
      "Data sent successfully\n"
     ]
    },
    {
     "name": "stderr",
     "output_type": "stream",
     "text": [
      "Too many measurments in the input buffer: 518/500. Clearing buffer...\n"
     ]
    },
    {
     "name": "stdout",
     "output_type": "stream",
     "text": [
      "Sending command : {'HB': 0, 'IO': 1, 'WO': 0, 'DM': 'D', 'CMD': [0, -9]}\n",
      "Data sent successfully\n",
      "Sending command : {'HB': 0, 'IO': 1, 'WO': 0, 'DM': 'S', 'CMD': [0, -26]}\n",
      "Data sent successfully\n"
     ]
    },
    {
     "name": "stderr",
     "output_type": "stream",
     "text": [
      "Too many measurments in the input buffer: 539/500. Clearing buffer...\n"
     ]
    },
    {
     "name": "stdout",
     "output_type": "stream",
     "text": [
      "Sending command : {'HB': 0, 'IO': 1, 'WO': 0, 'DM': 'S', 'CMD': [0, -45]}\n",
      "Data sent successfully\n"
     ]
    },
    {
     "name": "stderr",
     "output_type": "stream",
     "text": [
      "Too many measurments in the input buffer: 516/500. Clearing buffer...\n"
     ]
    },
    {
     "name": "stdout",
     "output_type": "stream",
     "text": [
      "Sending command : {'HB': 0, 'IO': 1, 'WO': 0, 'DM': 'D', 'CMD': [0, -9]}\n",
      "Data sent successfully\n"
     ]
    },
    {
     "name": "stderr",
     "output_type": "stream",
     "text": [
      "Too many measurments in the input buffer: 560/500. Clearing buffer...\n"
     ]
    },
    {
     "name": "stdout",
     "output_type": "stream",
     "text": [
      "Sending command : {'HB': 0, 'IO': 1, 'WO': 0, 'DM': 'D', 'CMD': [0, -9]}\n",
      "Data sent successfully\n"
     ]
    },
    {
     "name": "stderr",
     "output_type": "stream",
     "text": [
      "Too many measurments in the input buffer: 555/500. Clearing buffer...\n"
     ]
    },
    {
     "name": "stdout",
     "output_type": "stream",
     "text": [
      "Sending command : {'HB': 0, 'IO': 1, 'WO': 0, 'DM': 'S', 'CMD': [0, -45]}\n",
      "Data sent successfully\n",
      "Sending command : {'HB': 0, 'IO': 1, 'WO': 0, 'DM': 'S', 'CMD': [0, -26]}\n",
      "Data sent successfully\n"
     ]
    },
    {
     "name": "stderr",
     "output_type": "stream",
     "text": [
      "Too many measurments in the input buffer: 522/500. Clearing buffer...\n"
     ]
    },
    {
     "name": "stdout",
     "output_type": "stream",
     "text": [
      "Sending command : {'HB': 0, 'IO': 1, 'WO': 0, 'DM': 'S', 'CMD': [-3, -45]}\n",
      "Data sent successfully\n"
     ]
    },
    {
     "name": "stderr",
     "output_type": "stream",
     "text": [
      "Too many measurments in the input buffer: 577/500. Clearing buffer...\n"
     ]
    },
    {
     "name": "stdout",
     "output_type": "stream",
     "text": [
      "Sending command : {'HB': 0, 'IO': 1, 'WO': 0, 'DM': 'D', 'CMD': [3, -9]}\n",
      "Data sent successfully\n"
     ]
    },
    {
     "name": "stderr",
     "output_type": "stream",
     "text": [
      "Too many measurments in the input buffer: 555/500. Clearing buffer...\n"
     ]
    },
    {
     "name": "stdout",
     "output_type": "stream",
     "text": [
      "Sending command : {'HB': 0, 'IO': 1, 'WO': 0, 'DM': 'S', 'CMD': [-6, -26]}\n",
      "Data sent successfully\n"
     ]
    },
    {
     "name": "stderr",
     "output_type": "stream",
     "text": [
      "Too many measurments in the input buffer: 559/500. Clearing buffer...\n"
     ]
    },
    {
     "name": "stdout",
     "output_type": "stream",
     "text": [
      "Sending command : {'HB': 0, 'IO': 1, 'WO': 0, 'DM': 'S', 'CMD': [-6, -45]}\n",
      "Data sent successfully\n"
     ]
    },
    {
     "name": "stderr",
     "output_type": "stream",
     "text": [
      "Too many measurments in the input buffer: 511/500. Clearing buffer...\n"
     ]
    },
    {
     "name": "stdout",
     "output_type": "stream",
     "text": [
      "Sending command : {'HB': 0, 'IO': 1, 'WO': 0, 'DM': 'S', 'CMD': [5, 44]}\n",
      "Data sent successfully\n"
     ]
    },
    {
     "name": "stderr",
     "output_type": "stream",
     "text": [
      "Too many measurments in the input buffer: 557/500. Clearing buffer...\n"
     ]
    },
    {
     "name": "stdout",
     "output_type": "stream",
     "text": [
      "Sending command : {'HB': 0, 'IO': 1, 'WO': 0, 'DM': 'S', 'CMD': [5, 44]}\n",
      "Data sent successfully\n"
     ]
    },
    {
     "name": "stderr",
     "output_type": "stream",
     "text": [
      "Too many measurments in the input buffer: 552/500. Clearing buffer...\n"
     ]
    },
    {
     "name": "stdout",
     "output_type": "stream",
     "text": [
      "Sending command : {'HB': 0, 'IO': 1, 'WO': 0, 'DM': 'D', 'CMD': [5, 9]}\n",
      "Data sent successfully\n"
     ]
    },
    {
     "name": "stderr",
     "output_type": "stream",
     "text": [
      "Too many measurments in the input buffer: 549/500. Clearing buffer...\n"
     ]
    },
    {
     "name": "stdout",
     "output_type": "stream",
     "text": [
      "Sending command : {'HB': 0, 'IO': 1, 'WO': 0, 'DM': 'D', 'CMD': [5, 9]}\n",
      "Data sent successfully\n"
     ]
    },
    {
     "name": "stderr",
     "output_type": "stream",
     "text": [
      "Too many measurments in the input buffer: 508/500. Clearing buffer...\n"
     ]
    },
    {
     "name": "stdout",
     "output_type": "stream",
     "text": [
      "Sending command : {'HB': 0, 'IO': 1, 'WO': 0, 'DM': 'S', 'CMD': [5, 44]}\n",
      "Data sent successfully\n"
     ]
    },
    {
     "name": "stderr",
     "output_type": "stream",
     "text": [
      "Too many measurments in the input buffer: 580/500. Clearing buffer...\n"
     ]
    },
    {
     "name": "stdout",
     "output_type": "stream",
     "text": [
      "Sending command : {'HB': 0, 'IO': 1, 'WO': 0, 'DM': 'S', 'CMD': [5, 26]}\n",
      "Data sent successfully\n",
      "Sending command : {'HB': 0, 'IO': 1, 'WO': 0, 'DM': 'S', 'CMD': [5, 26]}\n",
      "Data sent successfully\n"
     ]
    },
    {
     "name": "stderr",
     "output_type": "stream",
     "text": [
      "Too many measurments in the input buffer: 727/500. Clearing buffer...\n"
     ]
    },
    {
     "name": "stdout",
     "output_type": "stream",
     "text": [
      "Sending command : {'HB': 0, 'IO': 1, 'WO': 0, 'DM': 'S', 'CMD': [-5, -45]}\n",
      "Data sent successfully\n"
     ]
    },
    {
     "name": "stderr",
     "output_type": "stream",
     "text": [
      "Too many measurments in the input buffer: 575/500. Clearing buffer...\n"
     ]
    },
    {
     "name": "stdout",
     "output_type": "stream",
     "text": [
      "Sending command : {'HB': 0, 'IO': 1, 'WO': 0, 'DM': 'D', 'CMD': [5, -9]}\n",
      "Data sent successfully\n"
     ]
    },
    {
     "name": "stderr",
     "output_type": "stream",
     "text": [
      "Too many measurments in the input buffer: 551/500. Clearing buffer...\n"
     ]
    },
    {
     "name": "stdout",
     "output_type": "stream",
     "text": [
      "Sending command : {'HB': 0, 'IO': 1, 'WO': 0, 'DM': 'S', 'CMD': [-5, -45]}\n",
      "Data sent successfully\n"
     ]
    },
    {
     "name": "stderr",
     "output_type": "stream",
     "text": [
      "Too many measurments in the input buffer: 526/500. Clearing buffer...\n"
     ]
    },
    {
     "name": "stdout",
     "output_type": "stream",
     "text": [
      "Sending command : {'HB': 0, 'IO': 1, 'WO': 0, 'DM': 'S', 'CMD': [-5, -45]}\n",
      "Data sent successfully\n"
     ]
    },
    {
     "name": "stderr",
     "output_type": "stream",
     "text": [
      "Too many measurments in the input buffer: 510/500. Clearing buffer...\n"
     ]
    },
    {
     "name": "stdout",
     "output_type": "stream",
     "text": [
      "Sending command : {'HB': 0, 'IO': 1, 'WO': 0, 'DM': 'S', 'CMD': [-5, -45]}\n",
      "Data sent successfully\n"
     ]
    },
    {
     "name": "stderr",
     "output_type": "stream",
     "text": [
      "Too many measurments in the input buffer: 573/500. Clearing buffer...\n"
     ]
    },
    {
     "name": "stdout",
     "output_type": "stream",
     "text": [
      "Sending command : {'HB': 0, 'IO': 1, 'WO': 0, 'DM': 'S', 'CMD': [5, 44]}\n",
      "Data sent successfully\n"
     ]
    },
    {
     "name": "stderr",
     "output_type": "stream",
     "text": [
      "Too many measurments in the input buffer: 548/500. Clearing buffer...\n"
     ]
    },
    {
     "name": "stdout",
     "output_type": "stream",
     "text": [
      "Sending command : {'HB': 0, 'IO': 1, 'WO': 0, 'DM': 'S', 'CMD': [5, 44]}\n",
      "Data sent successfully\n"
     ]
    },
    {
     "name": "stderr",
     "output_type": "stream",
     "text": [
      "Too many measurments in the input buffer: 526/500. Clearing buffer...\n"
     ]
    },
    {
     "name": "stdout",
     "output_type": "stream",
     "text": [
      "Sending command : {'HB': 0, 'IO': 1, 'WO': 0, 'DM': 'D', 'CMD': [5, 9]}\n",
      "Data sent successfully\n",
      "Sending command : {'HB': 0, 'IO': 1, 'WO': 0, 'DM': 'S', 'CMD': [-5, -26]}\n",
      "Data sent successfully\n"
     ]
    },
    {
     "name": "stderr",
     "output_type": "stream",
     "text": [
      "Too many measurments in the input buffer: 502/500. Clearing buffer...\n"
     ]
    },
    {
     "name": "stdout",
     "output_type": "stream",
     "text": [
      "Sending command : {'HB': 0, 'IO': 1, 'WO': 0, 'DM': 'S', 'CMD': [-5, -26]}\n",
      "Data sent successfully\n"
     ]
    },
    {
     "name": "stderr",
     "output_type": "stream",
     "text": [
      "Too many measurments in the input buffer: 580/500. Clearing buffer...\n"
     ]
    },
    {
     "name": "stdout",
     "output_type": "stream",
     "text": [
      "Sending command : {'HB': 0, 'IO': 1, 'WO': 0, 'DM': 'S', 'CMD': [-5, -45]}\n",
      "Data sent successfully\n"
     ]
    },
    {
     "name": "stderr",
     "output_type": "stream",
     "text": [
      "Too many measurments in the input buffer: 535/500. Clearing buffer...\n"
     ]
    },
    {
     "name": "stdout",
     "output_type": "stream",
     "text": [
      "Sending command : {'HB': 0, 'IO': 1, 'WO': 0, 'DM': 'S', 'CMD': [-5, -45]}\n",
      "Data sent successfully\n"
     ]
    },
    {
     "name": "stderr",
     "output_type": "stream",
     "text": [
      "Too many measurments in the input buffer: 508/500. Clearing buffer...\n"
     ]
    },
    {
     "name": "stdout",
     "output_type": "stream",
     "text": [
      "Sending command : {'HB': 0, 'IO': 1, 'WO': 0, 'DM': 'D', 'CMD': [5, 9]}\n",
      "Data sent successfully\n"
     ]
    },
    {
     "name": "stderr",
     "output_type": "stream",
     "text": [
      "Too many measurments in the input buffer: 535/500. Clearing buffer...\n"
     ]
    },
    {
     "name": "stdout",
     "output_type": "stream",
     "text": [
      "Sending command : {'HB': 0, 'IO': 1, 'WO': 0, 'DM': 'D', 'CMD': [5, -9]}\n",
      "Data sent successfully\n"
     ]
    },
    {
     "name": "stderr",
     "output_type": "stream",
     "text": [
      "Too many measurments in the input buffer: 552/500. Clearing buffer...\n"
     ]
    },
    {
     "name": "stdout",
     "output_type": "stream",
     "text": [
      "Sending command : {'HB': 0, 'IO': 1, 'WO': 0, 'DM': 'S', 'CMD': [-5, -26]}\n",
      "Data sent successfully\n",
      "Sending command : {'HB': 0, 'IO': 1, 'WO': 0, 'DM': 'S', 'CMD': [-5, -26]}\n",
      "Data sent successfully\n",
      "Sending command : {'HB': 0, 'IO': 1, 'WO': 0, 'DM': 'S', 'CMD': [-5, -45]}\n",
      "Data sent successfully\n"
     ]
    },
    {
     "name": "stderr",
     "output_type": "stream",
     "text": [
      "Too many measurments in the input buffer: 561/500. Clearing buffer...\n"
     ]
    },
    {
     "name": "stdout",
     "output_type": "stream",
     "text": [
      "Sending command : {'HB': 0, 'IO': 1, 'WO': 0, 'DM': 'S', 'CMD': [-5, -45]}\n",
      "Data sent successfully\n",
      "Sending command : {'HB': 0, 'IO': 1, 'WO': 0, 'DM': 'S', 'CMD': [-5, -45]}\n",
      "Data sent successfully\n"
     ]
    },
    {
     "name": "stderr",
     "output_type": "stream",
     "text": [
      "Too many measurments in the input buffer: 570/500. Clearing buffer...\n",
      "Too many measurments in the input buffer: 540/500. Clearing buffer...\n"
     ]
    },
    {
     "name": "stdout",
     "output_type": "stream",
     "text": [
      "Sending command : {'HB': 0, 'IO': 1, 'WO': 0, 'DM': 'S', 'CMD': [-5, -26]}\n",
      "Data sent successfully\n",
      "Sending command : {'HB': 0, 'IO': 1, 'WO': 0, 'DM': 'S', 'CMD': [-5, -26]}\n",
      "Data sent successfully\n"
     ]
    },
    {
     "name": "stderr",
     "output_type": "stream",
     "text": [
      "Too many measurments in the input buffer: 524/500. Clearing buffer...\n",
      "Too many measurments in the input buffer: 510/500. Clearing buffer...\n"
     ]
    },
    {
     "name": "stdout",
     "output_type": "stream",
     "text": [
      "Sending command : {'HB': 0, 'IO': 1, 'WO': 0, 'DM': 'D', 'CMD': [5, -9]}\n",
      "Data sent successfully\n"
     ]
    },
    {
     "name": "stderr",
     "output_type": "stream",
     "text": [
      "Too many measurments in the input buffer: 511/500. Clearing buffer...\n"
     ]
    },
    {
     "name": "stdout",
     "output_type": "stream",
     "text": [
      "Sending command : {'HB': 0, 'IO': 1, 'WO': 0, 'DM': 'S', 'CMD': [-5, -26]}\n",
      "Data sent successfully\n"
     ]
    },
    {
     "name": "stderr",
     "output_type": "stream",
     "text": [
      "Too many measurments in the input buffer: 555/500. Clearing buffer...\n"
     ]
    },
    {
     "name": "stdout",
     "output_type": "stream",
     "text": [
      "Sending command : {'HB': 0, 'IO': 1, 'WO': 0, 'DM': 'S', 'CMD': [-5, -26]}\n",
      "Data sent successfully\n",
      "Sending command : {'HB': 0, 'IO': 1, 'WO': 0, 'DM': 'S', 'CMD': [-5, -26]}\n",
      "Data sent successfully\n"
     ]
    },
    {
     "name": "stderr",
     "output_type": "stream",
     "text": [
      "Too many measurments in the input buffer: 517/500. Clearing buffer...\n",
      "Too many measurments in the input buffer: 562/500. Clearing buffer...\n"
     ]
    },
    {
     "name": "stdout",
     "output_type": "stream",
     "text": [
      "Sending command : {'HB': 0, 'IO': 1, 'WO': 0, 'DM': 'S', 'CMD': [-5, -26]}\n",
      "Data sent successfully\n",
      "Sending command : {'HB': 0, 'IO': 1, 'WO': 0, 'DM': 'S', 'CMD': [-5, -26]}\n",
      "Data sent successfully\n"
     ]
    },
    {
     "name": "stderr",
     "output_type": "stream",
     "text": [
      "Too many measurments in the input buffer: 518/500. Clearing buffer...\n"
     ]
    },
    {
     "name": "stdout",
     "output_type": "stream",
     "text": [
      "Sending command : {'HB': 0, 'IO': 1, 'WO': 0, 'DM': 'S', 'CMD': [-5, -26]}\n",
      "Data sent successfully\n"
     ]
    },
    {
     "name": "stderr",
     "output_type": "stream",
     "text": [
      "Too many measurments in the input buffer: 548/500. Clearing buffer...\n"
     ]
    },
    {
     "name": "stdout",
     "output_type": "stream",
     "text": [
      "Sending command : {'HB': 0, 'IO': 1, 'WO': 0, 'DM': 'S', 'CMD': [-5, -26]}\n",
      "Data sent successfully\n",
      "Sending command : {'HB': 0, 'IO': 1, 'WO': 0, 'DM': 'D', 'CMD': [5, -9]}\n",
      "Data sent successfully\n"
     ]
    },
    {
     "name": "stderr",
     "output_type": "stream",
     "text": [
      "Too many measurments in the input buffer: 547/500. Clearing buffer...\n"
     ]
    },
    {
     "name": "stdout",
     "output_type": "stream",
     "text": [
      "Sending command : {'HB': 0, 'IO': 1, 'WO': 0, 'DM': 'D', 'CMD': [5, -9]}\n",
      "Data sent successfully\n"
     ]
    },
    {
     "name": "stderr",
     "output_type": "stream",
     "text": [
      "Too many measurments in the input buffer: 542/500. Clearing buffer...\n"
     ]
    },
    {
     "name": "stdout",
     "output_type": "stream",
     "text": [
      "Sending command : {'HB': 0, 'IO': 1, 'WO': 0, 'DM': 'D', 'CMD': [5, -9]}\n",
      "Data sent successfully\n"
     ]
    },
    {
     "name": "stderr",
     "output_type": "stream",
     "text": [
      "Too many measurments in the input buffer: 529/500. Clearing buffer...\n"
     ]
    },
    {
     "name": "stdout",
     "output_type": "stream",
     "text": [
      "Sending command : {'HB': 0, 'IO': 1, 'WO': 0, 'DM': 'D', 'CMD': [5, -9]}\n",
      "Data sent successfully\n"
     ]
    },
    {
     "name": "stderr",
     "output_type": "stream",
     "text": [
      "Too many measurments in the input buffer: 557/500. Clearing buffer...\n"
     ]
    },
    {
     "name": "stdout",
     "output_type": "stream",
     "text": [
      "Sending command : {'HB': 0, 'IO': 1, 'WO': 0, 'DM': 'D', 'CMD': [5, -9]}\n",
      "Data sent successfully\n"
     ]
    },
    {
     "name": "stderr",
     "output_type": "stream",
     "text": [
      "Too many measurments in the input buffer: 587/500. Clearing buffer...\n"
     ]
    },
    {
     "name": "stdout",
     "output_type": "stream",
     "text": [
      "Sending command : {'HB': 0, 'IO': 1, 'WO': 0, 'DM': 'D', 'CMD': [5, -9]}\n",
      "Data sent successfully\n"
     ]
    },
    {
     "name": "stderr",
     "output_type": "stream",
     "text": [
      "Too many measurments in the input buffer: 583/500. Clearing buffer...\n"
     ]
    },
    {
     "name": "stdout",
     "output_type": "stream",
     "text": [
      "Sending command : {'HB': 0, 'IO': 1, 'WO': 0, 'DM': 'D', 'CMD': [5, -9]}\n",
      "Data sent successfully\n"
     ]
    },
    {
     "name": "stderr",
     "output_type": "stream",
     "text": [
      "Too many measurments in the input buffer: 582/500. Clearing buffer...\n"
     ]
    },
    {
     "name": "stdout",
     "output_type": "stream",
     "text": [
      "Sending command : {'HB': 0, 'IO': 1, 'WO': 0, 'DM': 'D', 'CMD': [5, -9]}\n",
      "Data sent successfully\n"
     ]
    },
    {
     "name": "stderr",
     "output_type": "stream",
     "text": [
      "Too many measurments in the input buffer: 544/500. Clearing buffer...\n"
     ]
    },
    {
     "name": "stdout",
     "output_type": "stream",
     "text": [
      "Sending command : {'HB': 0, 'IO': 1, 'WO': 0, 'DM': 'D', 'CMD': [5, -9]}\n",
      "Data sent successfully\n",
      "Sending command : {'HB': 0, 'IO': 1, 'WO': 0, 'DM': 'D', 'CMD': [5, -9]}\n",
      "Data sent successfully\n"
     ]
    },
    {
     "name": "stderr",
     "output_type": "stream",
     "text": [
      "Too many measurments in the input buffer: 522/500. Clearing buffer...\n"
     ]
    },
    {
     "name": "stdout",
     "output_type": "stream",
     "text": [
      "Sending command : {'HB': 0, 'IO': 1, 'WO': 0, 'DM': 'D', 'CMD': [5, -9]}\n",
      "Data sent successfully\n"
     ]
    },
    {
     "name": "stderr",
     "output_type": "stream",
     "text": [
      "Too many measurments in the input buffer: 517/500. Clearing buffer...\n"
     ]
    },
    {
     "name": "stdout",
     "output_type": "stream",
     "text": [
      "Sending command : {'HB': 0, 'IO': 1, 'WO': 0, 'DM': 'D', 'CMD': [5, -9]}\n",
      "Data sent successfully\n"
     ]
    },
    {
     "name": "stderr",
     "output_type": "stream",
     "text": [
      "Too many measurments in the input buffer: 550/500. Clearing buffer...\n"
     ]
    },
    {
     "name": "stdout",
     "output_type": "stream",
     "text": [
      "Sending command : {'HB': 0, 'IO': 1, 'WO': 0, 'DM': 'D', 'CMD': [5, -9]}\n",
      "Data sent successfully\n"
     ]
    },
    {
     "name": "stderr",
     "output_type": "stream",
     "text": [
      "Too many measurments in the input buffer: 589/500. Clearing buffer...\n"
     ]
    },
    {
     "name": "stdout",
     "output_type": "stream",
     "text": [
      "Sending command : {'HB': 0, 'IO': 1, 'WO': 0, 'DM': 'D', 'CMD': [5, -9]}\n",
      "Data sent successfully\n"
     ]
    },
    {
     "name": "stderr",
     "output_type": "stream",
     "text": [
      "Too many measurments in the input buffer: 518/500. Clearing buffer...\n"
     ]
    },
    {
     "name": "stdout",
     "output_type": "stream",
     "text": [
      "Sending command : {'HB': 0, 'IO': 1, 'WO': 0, 'DM': 'D', 'CMD': [5, -9]}\n",
      "Data sent successfully\n",
      "Sending command : {'HB': 0, 'IO': 1, 'WO': 0, 'DM': 'D', 'CMD': [5, -9]}\n",
      "Data sent successfully\n"
     ]
    },
    {
     "name": "stderr",
     "output_type": "stream",
     "text": [
      "Too many measurments in the input buffer: 540/500. Clearing buffer...\n",
      "Too many measurments in the input buffer: 512/500. Clearing buffer...\n"
     ]
    },
    {
     "name": "stdout",
     "output_type": "stream",
     "text": [
      "Sending command : {'HB': 0, 'IO': 1, 'WO': 0, 'DM': 'D', 'CMD': [5, -9]}\n",
      "Data sent successfully\n"
     ]
    },
    {
     "name": "stderr",
     "output_type": "stream",
     "text": [
      "Too many measurments in the input buffer: 513/500. Clearing buffer...\n"
     ]
    },
    {
     "name": "stdout",
     "output_type": "stream",
     "text": [
      "Sending command : {'HB': 0, 'IO': 1, 'WO': 0, 'DM': 'D', 'CMD': [5, -9]}\n",
      "Data sent successfully\n"
     ]
    },
    {
     "name": "stderr",
     "output_type": "stream",
     "text": [
      "Too many measurments in the input buffer: 520/500. Clearing buffer...\n"
     ]
    },
    {
     "name": "stdout",
     "output_type": "stream",
     "text": [
      "Sending command : {'HB': 0, 'IO': 1, 'WO': 0, 'DM': 'D', 'CMD': [5, -9]}\n",
      "Data sent successfully\n"
     ]
    },
    {
     "name": "stderr",
     "output_type": "stream",
     "text": [
      "Too many measurments in the input buffer: 519/500. Clearing buffer...\n"
     ]
    },
    {
     "name": "stdout",
     "output_type": "stream",
     "text": [
      "Sending command : {'HB': 0, 'IO': 1, 'WO': 0, 'DM': 'S', 'CMD': [-5, -26]}\n",
      "Data sent successfully\n"
     ]
    },
    {
     "name": "stderr",
     "output_type": "stream",
     "text": [
      "Too many measurments in the input buffer: 554/500. Clearing buffer...\n"
     ]
    },
    {
     "name": "stdout",
     "output_type": "stream",
     "text": [
      "Sending command : {'HB': 0, 'IO': 1, 'WO': 0, 'DM': 'S', 'CMD': [-5, -26]}\n",
      "Data sent successfully\n"
     ]
    },
    {
     "name": "stderr",
     "output_type": "stream",
     "text": [
      "Too many measurments in the input buffer: 515/500. Clearing buffer...\n"
     ]
    },
    {
     "name": "stdout",
     "output_type": "stream",
     "text": [
      "Sending command : {'HB': 0, 'IO': 1, 'WO': 0, 'DM': 'D', 'CMD': [5, -9]}\n",
      "Data sent successfully\n"
     ]
    },
    {
     "name": "stderr",
     "output_type": "stream",
     "text": [
      "Too many measurments in the input buffer: 522/500. Clearing buffer...\n"
     ]
    },
    {
     "name": "stdout",
     "output_type": "stream",
     "text": [
      "Sending command : {'HB': 0, 'IO': 1, 'WO': 0, 'DM': 'D', 'CMD': [5, -9]}\n",
      "Data sent successfully\n",
      "Sending command : {'HB': 0, 'IO': 1, 'WO': 0, 'DM': 'D', 'CMD': [5, -9]}\n",
      "Data sent successfully\n"
     ]
    },
    {
     "name": "stderr",
     "output_type": "stream",
     "text": [
      "Too many measurments in the input buffer: 540/500. Clearing buffer...\n"
     ]
    },
    {
     "name": "stdout",
     "output_type": "stream",
     "text": [
      "Sending command : {'HB': 0, 'IO': 1, 'WO': 0, 'DM': 'D', 'CMD': [5, -9]}\n",
      "Data sent successfully\n"
     ]
    },
    {
     "name": "stderr",
     "output_type": "stream",
     "text": [
      "Too many measurments in the input buffer: 506/500. Clearing buffer...\n"
     ]
    },
    {
     "name": "stdout",
     "output_type": "stream",
     "text": [
      "Sending command : {'HB': 0, 'IO': 1, 'WO': 0, 'DM': 'D', 'CMD': [5, -9]}\n",
      "Data sent successfully\n",
      "Sending command : {'HB': 0, 'IO': 1, 'WO': 0, 'DM': 'D', 'CMD': [5, -9]}\n",
      "Data sent successfully\n"
     ]
    },
    {
     "name": "stderr",
     "output_type": "stream",
     "text": [
      "Too many measurments in the input buffer: 527/500. Clearing buffer...\n"
     ]
    },
    {
     "name": "stdout",
     "output_type": "stream",
     "text": [
      "Sending command : {'HB': 0, 'IO': 1, 'WO': 0, 'DM': 'D', 'CMD': [5, -9]}\n",
      "Data sent successfully\n",
      "Sending command : {'HB': 0, 'IO': 1, 'WO': 0, 'DM': 'D', 'CMD': [5, -9]}\n",
      "Data sent successfully\n"
     ]
    },
    {
     "name": "stderr",
     "output_type": "stream",
     "text": [
      "Too many measurments in the input buffer: 579/500. Clearing buffer...\n"
     ]
    },
    {
     "name": "stdout",
     "output_type": "stream",
     "text": [
      "Sending command : {'HB': 0, 'IO': 1, 'WO': 0, 'DM': 'D', 'CMD': [5, -9]}\n",
      "Data sent successfully\n",
      "Sending command : {'HB': 0, 'IO': 1, 'WO': 0, 'DM': 'D', 'CMD': [5, -9]}\n",
      "Data sent successfully\n"
     ]
    },
    {
     "name": "stderr",
     "output_type": "stream",
     "text": [
      "Too many measurments in the input buffer: 505/500. Clearing buffer...\n"
     ]
    },
    {
     "name": "stdout",
     "output_type": "stream",
     "text": [
      "Sending command : {'HB': 0, 'IO': 1, 'WO': 0, 'DM': 'D', 'CMD': [5, -9]}\n",
      "Data sent successfully\n"
     ]
    },
    {
     "name": "stderr",
     "output_type": "stream",
     "text": [
      "Too many measurments in the input buffer: 562/500. Clearing buffer...\n"
     ]
    },
    {
     "name": "stdout",
     "output_type": "stream",
     "text": [
      "Sending command : {'HB': 0, 'IO': 1, 'WO': 0, 'DM': 'D', 'CMD': [5, -9]}\n",
      "Data sent successfully\n",
      "Sending command : {'HB': 0, 'IO': 1, 'WO': 0, 'DM': 'D', 'CMD': [5, -9]}\n",
      "Data sent successfully\n"
     ]
    },
    {
     "name": "stderr",
     "output_type": "stream",
     "text": [
      "Too many measurments in the input buffer: 533/500. Clearing buffer...\n"
     ]
    },
    {
     "name": "stdout",
     "output_type": "stream",
     "text": [
      "Sending command : {'HB': 0, 'IO': 1, 'WO': 0, 'DM': 'D', 'CMD': [5, -9]}\n",
      "Data sent successfully\n"
     ]
    },
    {
     "name": "stderr",
     "output_type": "stream",
     "text": [
      "Too many measurments in the input buffer: 506/500. Clearing buffer...\n"
     ]
    },
    {
     "name": "stdout",
     "output_type": "stream",
     "text": [
      "Sending command : {'HB': 0, 'IO': 1, 'WO': 0, 'DM': 'D', 'CMD': [5, -9]}\n",
      "Data sent successfully\n",
      "Sending command : {'HB': 0, 'IO': 1, 'WO': 0, 'DM': 'D', 'CMD': [5, -9]}\n",
      "Data sent successfully\n"
     ]
    },
    {
     "name": "stderr",
     "output_type": "stream",
     "text": [
      "Too many measurments in the input buffer: 566/500. Clearing buffer...\n"
     ]
    },
    {
     "name": "stdout",
     "output_type": "stream",
     "text": [
      "Sending command : {'HB': 0, 'IO': 1, 'WO': 0, 'DM': 'D', 'CMD': [5, -9]}\n",
      "Data sent successfully\n"
     ]
    },
    {
     "name": "stderr",
     "output_type": "stream",
     "text": [
      "Too many measurments in the input buffer: 529/500. Clearing buffer...\n"
     ]
    },
    {
     "name": "stdout",
     "output_type": "stream",
     "text": [
      "Sending command : {'HB': 0, 'IO': 1, 'WO': 0, 'DM': 'D', 'CMD': [5, -9]}\n",
      "Data sent successfully\n",
      "Sending command : {'HB': 0, 'IO': 1, 'WO': 0, 'DM': 'D', 'CMD': [5, -9]}\n",
      "Data sent successfully\n",
      "Sending command : {'HB': 0, 'IO': 1, 'WO': 0, 'DM': 'D', 'CMD': [5, -9]}\n",
      "Data sent successfully\n"
     ]
    },
    {
     "name": "stderr",
     "output_type": "stream",
     "text": [
      "Too many measurments in the input buffer: 522/500. Clearing buffer...\n"
     ]
    },
    {
     "name": "stdout",
     "output_type": "stream",
     "text": [
      "Sending command : {'HB': 0, 'IO': 1, 'WO': 0, 'DM': 'D', 'CMD': [5, -9]}\n",
      "Data sent successfully\n"
     ]
    },
    {
     "name": "stderr",
     "output_type": "stream",
     "text": [
      "Too many measurments in the input buffer: 518/500. Clearing buffer...\n"
     ]
    },
    {
     "name": "stdout",
     "output_type": "stream",
     "text": [
      "Sending command : {'HB': 0, 'IO': 1, 'WO': 0, 'DM': 'D', 'CMD': [5, -9]}\n",
      "Data sent successfully\n"
     ]
    },
    {
     "name": "stderr",
     "output_type": "stream",
     "text": [
      "Too many measurments in the input buffer: 508/500. Clearing buffer...\n"
     ]
    },
    {
     "name": "stdout",
     "output_type": "stream",
     "text": [
      "Sending command : {'HB': 0, 'IO': 1, 'WO': 0, 'DM': 'D', 'CMD': [5, -9]}\n",
      "Data sent successfully\n",
      "Sending command : {'HB': 0, 'IO': 1, 'WO': 0, 'DM': 'D', 'CMD': [5, -9]}\n",
      "Data sent successfully\n"
     ]
    },
    {
     "name": "stderr",
     "output_type": "stream",
     "text": [
      "Too many measurments in the input buffer: 562/500. Clearing buffer...\n"
     ]
    },
    {
     "name": "stdout",
     "output_type": "stream",
     "text": [
      "Sending command : {'HB': 0, 'IO': 1, 'WO': 0, 'DM': 'D', 'CMD': [5, -9]}\n",
      "Data sent successfully\n"
     ]
    },
    {
     "name": "stderr",
     "output_type": "stream",
     "text": [
      "Too many measurments in the input buffer: 516/500. Clearing buffer...\n"
     ]
    },
    {
     "name": "stdout",
     "output_type": "stream",
     "text": [
      "Sending command : {'HB': 0, 'IO': 1, 'WO': 0, 'DM': 'D', 'CMD': [5, -9]}\n",
      "Data sent successfully\n"
     ]
    },
    {
     "name": "stderr",
     "output_type": "stream",
     "text": [
      "Too many measurments in the input buffer: 569/500. Clearing buffer...\n"
     ]
    },
    {
     "name": "stdout",
     "output_type": "stream",
     "text": [
      "Sending command : {'HB': 0, 'IO': 1, 'WO': 0, 'DM': 'D', 'CMD': [5, -9]}\n",
      "Data sent successfully\n"
     ]
    },
    {
     "name": "stderr",
     "output_type": "stream",
     "text": [
      "Too many measurments in the input buffer: 577/500. Clearing buffer...\n"
     ]
    },
    {
     "name": "stdout",
     "output_type": "stream",
     "text": [
      "Sending command : {'HB': 0, 'IO': 1, 'WO': 0, 'DM': 'D', 'CMD': [5, -9]}\n",
      "Data sent successfully\n",
      "Sending command : {'HB': 0, 'IO': 1, 'WO': 0, 'DM': 'D', 'CMD': [5, -9]}\n",
      "Data sent successfully\n"
     ]
    },
    {
     "name": "stderr",
     "output_type": "stream",
     "text": [
      "Too many measurments in the input buffer: 521/500. Clearing buffer...\n"
     ]
    },
    {
     "name": "stdout",
     "output_type": "stream",
     "text": [
      "Sending command : {'HB': 0, 'IO': 1, 'WO': 0, 'DM': 'D', 'CMD': [5, -9]}\n",
      "Data sent successfully\n"
     ]
    },
    {
     "name": "stderr",
     "output_type": "stream",
     "text": [
      "Too many measurments in the input buffer: 507/500. Clearing buffer...\n"
     ]
    },
    {
     "name": "stdout",
     "output_type": "stream",
     "text": [
      "Sending command : {'HB': 0, 'IO': 1, 'WO': 0, 'DM': 'D', 'CMD': [5, -9]}\n",
      "Data sent successfully\n",
      "Sending command : {'HB': 0, 'IO': 1, 'WO': 0, 'DM': 'D', 'CMD': [5, -9]}\n",
      "Data sent successfully\n"
     ]
    },
    {
     "name": "stderr",
     "output_type": "stream",
     "text": [
      "Too many measurments in the input buffer: 562/500. Clearing buffer...\n"
     ]
    },
    {
     "name": "stdout",
     "output_type": "stream",
     "text": [
      "Sending command : {'HB': 0, 'IO': 1, 'WO': 0, 'DM': 'D', 'CMD': [5, -9]}\n",
      "Data sent successfully\n"
     ]
    },
    {
     "name": "stderr",
     "output_type": "stream",
     "text": [
      "Too many measurments in the input buffer: 542/500. Clearing buffer...\n"
     ]
    },
    {
     "name": "stdout",
     "output_type": "stream",
     "text": [
      "Sending command : {'HB': 0, 'IO': 1, 'WO': 0, 'DM': 'D', 'CMD': [5, -9]}\n",
      "Data sent successfully\n"
     ]
    },
    {
     "name": "stderr",
     "output_type": "stream",
     "text": [
      "Too many measurments in the input buffer: 510/500. Clearing buffer...\n"
     ]
    },
    {
     "name": "stdout",
     "output_type": "stream",
     "text": [
      "Sending command : {'HB': 0, 'IO': 1, 'WO': 0, 'DM': 'D', 'CMD': [5, -9]}\n",
      "Data sent successfully\n",
      "Sending command : {'HB': 0, 'IO': 1, 'WO': 0, 'DM': 'D', 'CMD': [5, -9]}\n",
      "Data sent successfully\n"
     ]
    },
    {
     "name": "stderr",
     "output_type": "stream",
     "text": [
      "Too many measurments in the input buffer: 550/500. Clearing buffer...\n"
     ]
    },
    {
     "name": "stdout",
     "output_type": "stream",
     "text": [
      "Sending command : {'HB': 0, 'IO': 1, 'WO': 0, 'DM': 'D', 'CMD': [5, -9]}\n",
      "Data sent successfully\n"
     ]
    },
    {
     "name": "stderr",
     "output_type": "stream",
     "text": [
      "Too many measurments in the input buffer: 522/500. Clearing buffer...\n"
     ]
    },
    {
     "name": "stdout",
     "output_type": "stream",
     "text": [
      "Sending command : {'HB': 0, 'IO': 1, 'WO': 0, 'DM': 'D', 'CMD': [5, -9]}\n",
      "Data sent successfully\n"
     ]
    },
    {
     "name": "stderr",
     "output_type": "stream",
     "text": [
      "Too many measurments in the input buffer: 520/500. Clearing buffer...\n"
     ]
    },
    {
     "name": "stdout",
     "output_type": "stream",
     "text": [
      "Sending command : {'HB': 0, 'IO': 1, 'WO': 0, 'DM': 'D', 'CMD': [5, -9]}\n",
      "Data sent successfully\n"
     ]
    },
    {
     "name": "stderr",
     "output_type": "stream",
     "text": [
      "Too many measurments in the input buffer: 567/500. Clearing buffer...\n"
     ]
    },
    {
     "name": "stdout",
     "output_type": "stream",
     "text": [
      "Sending command : {'HB': 0, 'IO': 1, 'WO': 0, 'DM': 'D', 'CMD': [5, -9]}\n",
      "Data sent successfully\n"
     ]
    },
    {
     "name": "stderr",
     "output_type": "stream",
     "text": [
      "Too many measurments in the input buffer: 514/500. Clearing buffer...\n"
     ]
    },
    {
     "name": "stdout",
     "output_type": "stream",
     "text": [
      "Sending command : {'HB': 0, 'IO': 1, 'WO': 0, 'DM': 'D', 'CMD': [5, -9]}\n",
      "Data sent successfully\n",
      "Sending command : {'HB': 0, 'IO': 1, 'WO': 0, 'DM': 'D', 'CMD': [5, -9]}\n",
      "Data sent successfully\n"
     ]
    },
    {
     "name": "stderr",
     "output_type": "stream",
     "text": [
      "Too many measurments in the input buffer: 524/500. Clearing buffer...\n"
     ]
    },
    {
     "name": "stdout",
     "output_type": "stream",
     "text": [
      "Sending command : {'HB': 0, 'IO': 1, 'WO': 0, 'DM': 'D', 'CMD': [5, -9]}\n",
      "Data sent successfully\n"
     ]
    },
    {
     "name": "stderr",
     "output_type": "stream",
     "text": [
      "Too many measurments in the input buffer: 554/500. Clearing buffer...\n"
     ]
    },
    {
     "name": "stdout",
     "output_type": "stream",
     "text": [
      "Sending command : {'HB': 0, 'IO': 1, 'WO': 0, 'DM': 'S', 'CMD': [-5, -26]}\n",
      "Data sent successfully\n"
     ]
    },
    {
     "name": "stderr",
     "output_type": "stream",
     "text": [
      "Too many measurments in the input buffer: 505/500. Clearing buffer...\n"
     ]
    },
    {
     "name": "stdout",
     "output_type": "stream",
     "text": [
      "Sending command : {'HB': 0, 'IO': 1, 'WO': 0, 'DM': 'D', 'CMD': [5, -9]}\n",
      "Data sent successfully\n"
     ]
    },
    {
     "name": "stderr",
     "output_type": "stream",
     "text": [
      "Too many measurments in the input buffer: 549/500. Clearing buffer...\n"
     ]
    },
    {
     "name": "stdout",
     "output_type": "stream",
     "text": [
      "Sending command : {'HB': 0, 'IO': 1, 'WO': 0, 'DM': 'D', 'CMD': [5, -9]}\n",
      "Data sent successfully\n",
      "Sending command : {'HB': 0, 'IO': 1, 'WO': 0, 'DM': 'D', 'CMD': [5, -9]}\n",
      "Data sent successfully\n",
      "Sending command : {'HB': 0, 'IO': 1, 'WO': 0, 'DM': 'D', 'CMD': [5, -9]}\n",
      "Data sent successfully\n"
     ]
    },
    {
     "name": "stderr",
     "output_type": "stream",
     "text": [
      "Too many measurments in the input buffer: 544/500. Clearing buffer...\n"
     ]
    },
    {
     "name": "stdout",
     "output_type": "stream",
     "text": [
      "Sending command : {'HB': 0, 'IO': 1, 'WO': 0, 'DM': 'D', 'CMD': [5, -9]}\n",
      "Data sent successfully\n"
     ]
    },
    {
     "name": "stderr",
     "output_type": "stream",
     "text": [
      "Too many measurments in the input buffer: 578/500. Clearing buffer...\n"
     ]
    },
    {
     "name": "stdout",
     "output_type": "stream",
     "text": [
      "Sending command : {'HB': 0, 'IO': 1, 'WO': 0, 'DM': 'D', 'CMD': [5, -9]}\n",
      "Data sent successfully\n"
     ]
    },
    {
     "name": "stderr",
     "output_type": "stream",
     "text": [
      "Too many measurments in the input buffer: 515/500. Clearing buffer...\n"
     ]
    },
    {
     "name": "stdout",
     "output_type": "stream",
     "text": [
      "Sending command : {'HB': 0, 'IO': 1, 'WO': 0, 'DM': 'D', 'CMD': [5, -9]}\n",
      "Data sent successfully\n"
     ]
    },
    {
     "name": "stderr",
     "output_type": "stream",
     "text": [
      "Too many measurments in the input buffer: 527/500. Clearing buffer...\n"
     ]
    },
    {
     "name": "stdout",
     "output_type": "stream",
     "text": [
      "Sending command : {'HB': 0, 'IO': 1, 'WO': 0, 'DM': 'D', 'CMD': [5, -9]}\n",
      "Data sent successfully\n"
     ]
    },
    {
     "name": "stderr",
     "output_type": "stream",
     "text": [
      "Too many measurments in the input buffer: 506/500. Clearing buffer...\n"
     ]
    },
    {
     "name": "stdout",
     "output_type": "stream",
     "text": [
      "Sending command : {'HB': 0, 'IO': 1, 'WO': 0, 'DM': 'D', 'CMD': [5, -9]}\n",
      "Data sent successfully\n",
      "Sending command : {'HB': 0, 'IO': 1, 'WO': 0, 'DM': 'D', 'CMD': [5, -9]}\n",
      "Data sent successfully\n",
      "Sending command : {'HB': 0, 'IO': 1, 'WO': 0, 'DM': 'D', 'CMD': [5, -9]}\n",
      "Data sent successfully\n"
     ]
    },
    {
     "name": "stderr",
     "output_type": "stream",
     "text": [
      "Too many measurments in the input buffer: 500/500. Clearing buffer...\n"
     ]
    },
    {
     "name": "stdout",
     "output_type": "stream",
     "text": [
      "Sending command : {'HB': 0, 'IO': 1, 'WO': 0, 'DM': 'D', 'CMD': [5, -9]}\n",
      "Data sent successfully\n",
      "Sending command : {'HB': 0, 'IO': 1, 'WO': 0, 'DM': 'D', 'CMD': [5, -9]}\n",
      "Data sent successfully\n"
     ]
    },
    {
     "name": "stderr",
     "output_type": "stream",
     "text": [
      "Too many measurments in the input buffer: 508/500. Clearing buffer...\n"
     ]
    },
    {
     "name": "stdout",
     "output_type": "stream",
     "text": [
      "Sending command : {'HB': 0, 'IO': 1, 'WO': 0, 'DM': 'D', 'CMD': [5, -9]}\n",
      "Data sent successfully\n"
     ]
    },
    {
     "name": "stderr",
     "output_type": "stream",
     "text": [
      "Too many measurments in the input buffer: 538/500. Clearing buffer...\n"
     ]
    },
    {
     "name": "stdout",
     "output_type": "stream",
     "text": [
      "Sending command : {'HB': 0, 'IO': 1, 'WO': 0, 'DM': 'S', 'CMD': [-5, -26]}\n",
      "Data sent successfully\n"
     ]
    },
    {
     "name": "stderr",
     "output_type": "stream",
     "text": [
      "Too many measurments in the input buffer: 519/500. Clearing buffer...\n"
     ]
    },
    {
     "name": "stdout",
     "output_type": "stream",
     "text": [
      "Sending command : {'HB': 0, 'IO': 1, 'WO': 0, 'DM': 'S', 'CMD': [-5, -45]}\n",
      "Data sent successfully\n",
      "Sending command : {'HB': 0, 'IO': 1, 'WO': 0, 'DM': 'S', 'CMD': [-5, -26]}\n",
      "Data sent successfully\n"
     ]
    },
    {
     "name": "stderr",
     "output_type": "stream",
     "text": [
      "Too many measurments in the input buffer: 523/500. Clearing buffer...\n"
     ]
    },
    {
     "name": "stdout",
     "output_type": "stream",
     "text": [
      "Sending command : {'HB': 0, 'IO': 1, 'WO': 0, 'DM': 'S', 'CMD': [-5, -26]}\n",
      "Data sent successfully\n"
     ]
    },
    {
     "name": "stderr",
     "output_type": "stream",
     "text": [
      "Too many measurments in the input buffer: 501/500. Clearing buffer...\n"
     ]
    },
    {
     "name": "stdout",
     "output_type": "stream",
     "text": [
      "Sending command : {'HB': 0, 'IO': 1, 'WO': 0, 'DM': 'D', 'CMD': [5, -9]}\n",
      "Data sent successfully\n",
      "Sending command : {'HB': 0, 'IO': 1, 'WO': 0, 'DM': 'D', 'CMD': [5, -9]}\n",
      "Data sent successfully\n"
     ]
    },
    {
     "name": "stderr",
     "output_type": "stream",
     "text": [
      "Too many measurments in the input buffer: 566/500. Clearing buffer...\n"
     ]
    },
    {
     "name": "stdout",
     "output_type": "stream",
     "text": [
      "Sending command : {'HB': 0, 'IO': 1, 'WO': 0, 'DM': 'D', 'CMD': [5, -9]}\n",
      "Data sent successfully\n",
      "Sending command : {'HB': 0, 'IO': 1, 'WO': 0, 'DM': 'D', 'CMD': [5, -9]}\n",
      "Data sent successfully\n"
     ]
    },
    {
     "name": "stderr",
     "output_type": "stream",
     "text": [
      "Too many measurments in the input buffer: 547/500. Clearing buffer...\n"
     ]
    },
    {
     "name": "stdout",
     "output_type": "stream",
     "text": [
      "Sending command : {'HB': 0, 'IO': 1, 'WO': 0, 'DM': 'D', 'CMD': [5, -9]}\n",
      "Data sent successfully\n"
     ]
    },
    {
     "name": "stderr",
     "output_type": "stream",
     "text": [
      "Too many measurments in the input buffer: 549/500. Clearing buffer...\n"
     ]
    },
    {
     "name": "stdout",
     "output_type": "stream",
     "text": [
      "Sending command : {'HB': 0, 'IO': 1, 'WO': 0, 'DM': 'D', 'CMD': [5, -9]}\n",
      "Data sent successfully\n"
     ]
    },
    {
     "name": "stderr",
     "output_type": "stream",
     "text": [
      "Too many measurments in the input buffer: 544/500. Clearing buffer...\n"
     ]
    },
    {
     "name": "stdout",
     "output_type": "stream",
     "text": [
      "Sending command : {'HB': 0, 'IO': 1, 'WO': 0, 'DM': 'D', 'CMD': [5, -9]}\n",
      "Data sent successfully\n",
      "Sending command : {'HB': 0, 'IO': 1, 'WO': 0, 'DM': 'D', 'CMD': [5, -9]}\n",
      "Data sent successfully\n"
     ]
    },
    {
     "name": "stderr",
     "output_type": "stream",
     "text": [
      "Too many measurments in the input buffer: 529/500. Clearing buffer...\n"
     ]
    },
    {
     "name": "stdout",
     "output_type": "stream",
     "text": [
      "Sending command : {'HB': 0, 'IO': 1, 'WO': 0, 'DM': 'D', 'CMD': [5, -9]}\n",
      "Data sent successfully\n",
      "Sending command : {'HB': 0, 'IO': 1, 'WO': 0, 'DM': 'D', 'CMD': [5, -9]}\n",
      "Data sent successfully\n"
     ]
    },
    {
     "name": "stderr",
     "output_type": "stream",
     "text": [
      "Too many measurments in the input buffer: 577/500. Clearing buffer...\n"
     ]
    },
    {
     "name": "stdout",
     "output_type": "stream",
     "text": [
      "Sending command : {'HB': 0, 'IO': 1, 'WO': 0, 'DM': 'D', 'CMD': [5, -9]}\n",
      "Data sent successfully\n"
     ]
    },
    {
     "name": "stderr",
     "output_type": "stream",
     "text": [
      "Too many measurments in the input buffer: 541/500. Clearing buffer...\n"
     ]
    },
    {
     "name": "stdout",
     "output_type": "stream",
     "text": [
      "Sending command : {'HB': 0, 'IO': 1, 'WO': 0, 'DM': 'D', 'CMD': [5, -9]}\n",
      "Data sent successfully\n",
      "Sending command : {'HB': 0, 'IO': 1, 'WO': 0, 'DM': 'S', 'CMD': [-5, -45]}\n",
      "Data sent successfully\n"
     ]
    },
    {
     "name": "stderr",
     "output_type": "stream",
     "text": [
      "Too many measurments in the input buffer: 509/500. Clearing buffer...\n"
     ]
    },
    {
     "name": "stdout",
     "output_type": "stream",
     "text": [
      "Sending command : {'HB': 0, 'IO': 1, 'WO': 0, 'DM': 'S', 'CMD': [-5, -45]}\n",
      "Data sent successfully\n"
     ]
    },
    {
     "name": "stderr",
     "output_type": "stream",
     "text": [
      "Too many measurments in the input buffer: 575/500. Clearing buffer...\n"
     ]
    },
    {
     "name": "stdout",
     "output_type": "stream",
     "text": [
      "Sending command : {'HB': 0, 'IO': 1, 'WO': 0, 'DM': 'S', 'CMD': [-5, -45]}\n",
      "Data sent successfully\n"
     ]
    },
    {
     "name": "stderr",
     "output_type": "stream",
     "text": [
      "Too many measurments in the input buffer: 521/500. Clearing buffer...\n"
     ]
    },
    {
     "name": "stdout",
     "output_type": "stream",
     "text": [
      "Sending command : {'HB': 0, 'IO': 1, 'WO': 0, 'DM': 'S', 'CMD': [-5, -45]}\n",
      "Data sent successfully\n"
     ]
    },
    {
     "name": "stderr",
     "output_type": "stream",
     "text": [
      "Too many measurments in the input buffer: 545/500. Clearing buffer...\n"
     ]
    },
    {
     "name": "stdout",
     "output_type": "stream",
     "text": [
      "Sending command : {'HB': 0, 'IO': 1, 'WO': 0, 'DM': 'S', 'CMD': [-5, -26]}\n",
      "Data sent successfully\n"
     ]
    },
    {
     "name": "stderr",
     "output_type": "stream",
     "text": [
      "Too many measurments in the input buffer: 571/500. Clearing buffer...\n"
     ]
    },
    {
     "name": "stdout",
     "output_type": "stream",
     "text": [
      "Sending command : {'HB': 0, 'IO': 1, 'WO': 0, 'DM': 'D', 'CMD': [5, 9]}\n",
      "Data sent successfully\n",
      "Sending command : {'HB': 0, 'IO': 1, 'WO': 0, 'DM': 'D', 'CMD': [5, 9]}\n",
      "Data sent successfully\n"
     ]
    },
    {
     "name": "stderr",
     "output_type": "stream",
     "text": [
      "Too many measurments in the input buffer: 579/500. Clearing buffer...\n"
     ]
    },
    {
     "name": "stdout",
     "output_type": "stream",
     "text": [
      "Sending command : {'HB': 0, 'IO': 1, 'WO': 0, 'DM': 'D', 'CMD': [5, -9]}\n",
      "Data sent successfully\n"
     ]
    },
    {
     "name": "stderr",
     "output_type": "stream",
     "text": [
      "Too many measurments in the input buffer: 567/500. Clearing buffer...\n"
     ]
    },
    {
     "name": "stdout",
     "output_type": "stream",
     "text": [
      "Sending command : {'HB': 0, 'IO': 1, 'WO': 0, 'DM': 'S', 'CMD': [5, 26]}\n",
      "Data sent successfully\n"
     ]
    },
    {
     "name": "stderr",
     "output_type": "stream",
     "text": [
      "Too many measurments in the input buffer: 539/500. Clearing buffer...\n"
     ]
    },
    {
     "name": "stdout",
     "output_type": "stream",
     "text": [
      "Sending command : {'HB': 0, 'IO': 1, 'WO': 0, 'DM': 'D', 'CMD': [5, 9]}\n",
      "Data sent successfully\n"
     ]
    },
    {
     "name": "stderr",
     "output_type": "stream",
     "text": [
      "Too many measurments in the input buffer: 537/500. Clearing buffer...\n"
     ]
    },
    {
     "name": "stdout",
     "output_type": "stream",
     "text": [
      "Sending command : {'HB': 0, 'IO': 1, 'WO': 0, 'DM': 'S', 'CMD': [5, 26]}\n",
      "Data sent successfully\n"
     ]
    },
    {
     "name": "stderr",
     "output_type": "stream",
     "text": [
      "Too many measurments in the input buffer: 554/500. Clearing buffer...\n"
     ]
    },
    {
     "name": "stdout",
     "output_type": "stream",
     "text": [
      "Sending command : {'HB': 0, 'IO': 1, 'WO': 0, 'DM': 'D', 'CMD': [5, 9]}\n",
      "Data sent successfully\n"
     ]
    },
    {
     "name": "stderr",
     "output_type": "stream",
     "text": [
      "Too many measurments in the input buffer: 526/500. Clearing buffer...\n"
     ]
    },
    {
     "name": "stdout",
     "output_type": "stream",
     "text": [
      "Sending command : {'HB': 0, 'IO': 1, 'WO': 0, 'DM': 'S', 'CMD': [-5, -26]}\n",
      "Data sent successfully\n",
      "Sending command : {'HB': 0, 'IO': 1, 'WO': 0, 'DM': 'S', 'CMD': [-5, -26]}\n",
      "Data sent successfully\n"
     ]
    },
    {
     "name": "stderr",
     "output_type": "stream",
     "text": [
      "Too many measurments in the input buffer: 558/500. Clearing buffer...\n"
     ]
    },
    {
     "name": "stdout",
     "output_type": "stream",
     "text": [
      "Sending command : {'HB': 0, 'IO': 1, 'WO': 0, 'DM': 'S', 'CMD': [-5, -45]}\n",
      "Data sent successfully\n"
     ]
    },
    {
     "name": "stderr",
     "output_type": "stream",
     "text": [
      "Too many measurments in the input buffer: 549/500. Clearing buffer...\n"
     ]
    },
    {
     "name": "stdout",
     "output_type": "stream",
     "text": [
      "Sending command : {'HB': 0, 'IO': 1, 'WO': 0, 'DM': 'D', 'CMD': [5, -9]}\n",
      "Data sent successfully\n"
     ]
    },
    {
     "name": "stderr",
     "output_type": "stream",
     "text": [
      "Too many measurments in the input buffer: 547/500. Clearing buffer...\n"
     ]
    },
    {
     "name": "stdout",
     "output_type": "stream",
     "text": [
      "Sending command : {'HB': 0, 'IO': 1, 'WO': 0, 'DM': 'D', 'CMD': [5, -9]}\n",
      "Data sent successfully\n"
     ]
    },
    {
     "name": "stderr",
     "output_type": "stream",
     "text": [
      "Too many measurments in the input buffer: 502/500. Clearing buffer...\n"
     ]
    },
    {
     "name": "stdout",
     "output_type": "stream",
     "text": [
      "Sending command : {'HB': 0, 'IO': 1, 'WO': 0, 'DM': 'S', 'CMD': [-5, -45]}\n",
      "Data sent successfully\n"
     ]
    },
    {
     "name": "stderr",
     "output_type": "stream",
     "text": [
      "Too many measurments in the input buffer: 516/500. Clearing buffer...\n"
     ]
    },
    {
     "name": "stdout",
     "output_type": "stream",
     "text": [
      "Sending command : {'HB': 0, 'IO': 1, 'WO': 0, 'DM': 'S', 'CMD': [5, 44]}\n",
      "Data sent successfully\n"
     ]
    },
    {
     "name": "stderr",
     "output_type": "stream",
     "text": [
      "Too many measurments in the input buffer: 571/500. Clearing buffer...\n"
     ]
    },
    {
     "name": "stdout",
     "output_type": "stream",
     "text": [
      "Sending command : {'HB': 0, 'IO': 1, 'WO': 0, 'DM': 'S', 'CMD': [-5, -26]}\n",
      "Data sent successfully\n"
     ]
    },
    {
     "name": "stderr",
     "output_type": "stream",
     "text": [
      "Too many measurments in the input buffer: 582/500. Clearing buffer...\n"
     ]
    },
    {
     "name": "stdout",
     "output_type": "stream",
     "text": [
      "Sending command : {'HB': 0, 'IO': 1, 'WO': 0, 'DM': 'D', 'CMD': [5, -9]}\n",
      "Data sent successfully\n"
     ]
    },
    {
     "name": "stderr",
     "output_type": "stream",
     "text": [
      "Too many measurments in the input buffer: 558/500. Clearing buffer...\n"
     ]
    },
    {
     "name": "stdout",
     "output_type": "stream",
     "text": [
      "Sending command : {'HB': 0, 'IO': 1, 'WO': 0, 'DM': 'D', 'CMD': [5, -9]}\n",
      "Data sent successfully\n"
     ]
    },
    {
     "name": "stderr",
     "output_type": "stream",
     "text": [
      "Too many measurments in the input buffer: 523/500. Clearing buffer...\n"
     ]
    },
    {
     "name": "stdout",
     "output_type": "stream",
     "text": [
      "Sending command : {'HB': 0, 'IO': 1, 'WO': 0, 'DM': 'S', 'CMD': [-5, -26]}\n",
      "Data sent successfully\n"
     ]
    },
    {
     "name": "stderr",
     "output_type": "stream",
     "text": [
      "Too many measurments in the input buffer: 501/500. Clearing buffer...\n"
     ]
    },
    {
     "name": "stdout",
     "output_type": "stream",
     "text": [
      "Sending command : {'HB': 0, 'IO': 1, 'WO': 0, 'DM': 'D', 'CMD': [5, -9]}\n",
      "Data sent successfully\n"
     ]
    },
    {
     "name": "stderr",
     "output_type": "stream",
     "text": [
      "Too many measurments in the input buffer: 500/500. Clearing buffer...\n"
     ]
    },
    {
     "name": "stdout",
     "output_type": "stream",
     "text": [
      "Sending command : {'HB': 0, 'IO': 1, 'WO': 0, 'DM': 'S', 'CMD': [-5, -26]}\n",
      "Data sent successfully\n",
      "Sending command : {'HB': 0, 'IO': 1, 'WO': 0, 'DM': 'S', 'CMD': [-5, -26]}\n",
      "Data sent successfully\n"
     ]
    },
    {
     "name": "stderr",
     "output_type": "stream",
     "text": [
      "Too many measurments in the input buffer: 522/500. Clearing buffer...\n",
      "Too many measurments in the input buffer: 583/500. Clearing buffer...\n"
     ]
    },
    {
     "name": "stdout",
     "output_type": "stream",
     "text": [
      "Sending command : {'HB': 0, 'IO': 1, 'WO': 0, 'DM': 'S', 'CMD': [-5, -26]}\n",
      "Data sent successfully\n",
      "Sending command : {'HB': 0, 'IO': 1, 'WO': 0, 'DM': 'S', 'CMD': [-5, -45]}\n",
      "Data sent successfully\n"
     ]
    },
    {
     "name": "stderr",
     "output_type": "stream",
     "text": [
      "Too many measurments in the input buffer: 580/500. Clearing buffer...\n"
     ]
    },
    {
     "name": "stdout",
     "output_type": "stream",
     "text": [
      "Sending command : {'HB': 0, 'IO': 1, 'WO': 0, 'DM': 'S', 'CMD': [-5, -26]}\n",
      "Data sent successfully\n",
      "Sending command : {'HB': 0, 'IO': 1, 'WO': 0, 'DM': 'S', 'CMD': [-5, -26]}\n",
      "Data sent successfully\n"
     ]
    },
    {
     "name": "stderr",
     "output_type": "stream",
     "text": [
      "Too many measurments in the input buffer: 572/500. Clearing buffer...\n"
     ]
    },
    {
     "name": "stdout",
     "output_type": "stream",
     "text": [
      "Sending command : {'HB': 0, 'IO': 1, 'WO': 0, 'DM': 'S', 'CMD': [-5, -26]}\n",
      "Data sent successfully\n"
     ]
    },
    {
     "name": "stderr",
     "output_type": "stream",
     "text": [
      "Too many measurments in the input buffer: 524/500. Clearing buffer...\n"
     ]
    },
    {
     "name": "stdout",
     "output_type": "stream",
     "text": [
      "Sending command : {'HB': 0, 'IO': 1, 'WO': 0, 'DM': 'D', 'CMD': [5, 9]}\n",
      "Data sent successfully\n"
     ]
    },
    {
     "name": "stderr",
     "output_type": "stream",
     "text": [
      "Too many measurments in the input buffer: 509/500. Clearing buffer...\n"
     ]
    },
    {
     "name": "stdout",
     "output_type": "stream",
     "text": [
      "Sending command : {'HB': 0, 'IO': 1, 'WO': 0, 'DM': 'D', 'CMD': [5, -9]}\n",
      "Data sent successfully\n"
     ]
    },
    {
     "name": "stderr",
     "output_type": "stream",
     "text": [
      "Too many measurments in the input buffer: 546/500. Clearing buffer...\n"
     ]
    },
    {
     "name": "stdout",
     "output_type": "stream",
     "text": [
      "Sending command : {'HB': 0, 'IO': 1, 'WO': 0, 'DM': 'S', 'CMD': [-5, -26]}\n",
      "Data sent successfully\n"
     ]
    },
    {
     "name": "stderr",
     "output_type": "stream",
     "text": [
      "Too many measurments in the input buffer: 526/500. Clearing buffer...\n"
     ]
    },
    {
     "name": "stdout",
     "output_type": "stream",
     "text": [
      "Sending command : {'HB': 0, 'IO': 1, 'WO': 0, 'DM': 'S', 'CMD': [-5, -26]}\n",
      "Data sent successfully\n"
     ]
    },
    {
     "name": "stderr",
     "output_type": "stream",
     "text": [
      "Too many measurments in the input buffer: 529/500. Clearing buffer...\n"
     ]
    },
    {
     "name": "stdout",
     "output_type": "stream",
     "text": [
      "Sending command : {'HB': 0, 'IO': 1, 'WO': 0, 'DM': 'D', 'CMD': [5, -9]}\n",
      "Data sent successfully\n"
     ]
    },
    {
     "name": "stderr",
     "output_type": "stream",
     "text": [
      "Too many measurments in the input buffer: 516/500. Clearing buffer...\n"
     ]
    },
    {
     "name": "stdout",
     "output_type": "stream",
     "text": [
      "Sending command : {'HB': 0, 'IO': 1, 'WO': 0, 'DM': 'S', 'CMD': [-5, -26]}\n",
      "Data sent successfully\n",
      "Sending command : {'HB': 0, 'IO': 1, 'WO': 0, 'DM': 'S', 'CMD': [-5, -26]}\n",
      "Data sent successfully\n"
     ]
    },
    {
     "name": "stderr",
     "output_type": "stream",
     "text": [
      "Too many measurments in the input buffer: 513/500. Clearing buffer...\n"
     ]
    },
    {
     "name": "stdout",
     "output_type": "stream",
     "text": [
      "Sending command : {'HB': 0, 'IO': 1, 'WO': 0, 'DM': 'S', 'CMD': [-5, -26]}\n",
      "Data sent successfully\n",
      "Sending command : {'HB': 0, 'IO': 1, 'WO': 0, 'DM': 'S', 'CMD': [-5, -26]}\n",
      "Data sent successfully\n"
     ]
    },
    {
     "name": "stderr",
     "output_type": "stream",
     "text": [
      "Too many measurments in the input buffer: 523/500. Clearing buffer...\n"
     ]
    },
    {
     "name": "stdout",
     "output_type": "stream",
     "text": [
      "Sending command : {'HB': 0, 'IO': 1, 'WO': 0, 'DM': 'S', 'CMD': [-5, -26]}\n",
      "Data sent successfully\n"
     ]
    },
    {
     "name": "stderr",
     "output_type": "stream",
     "text": [
      "Too many measurments in the input buffer: 561/500. Clearing buffer...\n"
     ]
    },
    {
     "name": "stdout",
     "output_type": "stream",
     "text": [
      "Sending command : {'HB': 0, 'IO': 1, 'WO': 0, 'DM': 'S', 'CMD': [-5, -26]}\n",
      "Data sent successfully\n"
     ]
    },
    {
     "name": "stderr",
     "output_type": "stream",
     "text": [
      "Too many measurments in the input buffer: 578/500. Clearing buffer...\n"
     ]
    },
    {
     "name": "stdout",
     "output_type": "stream",
     "text": [
      "Sending command : {'HB': 0, 'IO': 1, 'WO': 0, 'DM': 'S', 'CMD': [-5, -26]}\n",
      "Data sent successfully\n"
     ]
    },
    {
     "name": "stderr",
     "output_type": "stream",
     "text": [
      "Too many measurments in the input buffer: 519/500. Clearing buffer...\n"
     ]
    },
    {
     "name": "stdout",
     "output_type": "stream",
     "text": [
      "Sending command : {'HB': 0, 'IO': 1, 'WO': 0, 'DM': 'D', 'CMD': [5, -9]}\n",
      "Data sent successfully\n"
     ]
    },
    {
     "name": "stderr",
     "output_type": "stream",
     "text": [
      "Too many measurments in the input buffer: 540/500. Clearing buffer...\n"
     ]
    },
    {
     "name": "stdout",
     "output_type": "stream",
     "text": [
      "Sending command : {'HB': 0, 'IO': 1, 'WO': 0, 'DM': 'D', 'CMD': [5, 9]}\n",
      "Data sent successfully\n"
     ]
    },
    {
     "name": "stderr",
     "output_type": "stream",
     "text": [
      "Too many measurments in the input buffer: 516/500. Clearing buffer...\n"
     ]
    },
    {
     "name": "stdout",
     "output_type": "stream",
     "text": [
      "Sending command : {'HB': 0, 'IO': 1, 'WO': 0, 'DM': 'D', 'CMD': [5, -9]}\n",
      "Data sent successfully\n"
     ]
    },
    {
     "name": "stderr",
     "output_type": "stream",
     "text": [
      "Too many measurments in the input buffer: 513/500. Clearing buffer...\n"
     ]
    },
    {
     "name": "stdout",
     "output_type": "stream",
     "text": [
      "Sending command : {'HB': 0, 'IO': 1, 'WO': 0, 'DM': 'D', 'CMD': [5, -9]}\n",
      "Data sent successfully\n",
      "Sending command : {'HB': 0, 'IO': 1, 'WO': 0, 'DM': 'D', 'CMD': [5, -9]}\n",
      "Data sent successfully\n"
     ]
    },
    {
     "name": "stderr",
     "output_type": "stream",
     "text": [
      "Too many measurments in the input buffer: 535/500. Clearing buffer...\n"
     ]
    },
    {
     "name": "stdout",
     "output_type": "stream",
     "text": [
      "Sending command : {'HB': 0, 'IO': 1, 'WO': 0, 'DM': 'D', 'CMD': [5, -9]}\n",
      "Data sent successfully\n"
     ]
    },
    {
     "name": "stderr",
     "output_type": "stream",
     "text": [
      "Too many measurments in the input buffer: 528/500. Clearing buffer...\n"
     ]
    },
    {
     "name": "stdout",
     "output_type": "stream",
     "text": [
      "Sending command : {'HB': 0, 'IO': 1, 'WO': 0, 'DM': 'D', 'CMD': [5, -9]}\n",
      "Data sent successfully\n"
     ]
    },
    {
     "name": "stderr",
     "output_type": "stream",
     "text": [
      "Too many measurments in the input buffer: 528/500. Clearing buffer...\n"
     ]
    },
    {
     "name": "stdout",
     "output_type": "stream",
     "text": [
      "Sending command : {'HB': 0, 'IO': 1, 'WO': 0, 'DM': 'S', 'CMD': [-5, -26]}\n",
      "Data sent successfully\n",
      "Sending command : {'HB': 0, 'IO': 1, 'WO': 0, 'DM': 'D', 'CMD': [5, -9]}\n",
      "Data sent successfully\n"
     ]
    },
    {
     "name": "stderr",
     "output_type": "stream",
     "text": [
      "Too many measurments in the input buffer: 527/500. Clearing buffer...\n"
     ]
    },
    {
     "name": "stdout",
     "output_type": "stream",
     "text": [
      "Sending command : {'HB': 0, 'IO': 1, 'WO': 0, 'DM': 'D', 'CMD': [5, -9]}\n",
      "Data sent successfully\n",
      "Sending command : {'HB': 0, 'IO': 1, 'WO': 0, 'DM': 'D', 'CMD': [5, 9]}\n",
      "Data sent successfully\n"
     ]
    },
    {
     "name": "stderr",
     "output_type": "stream",
     "text": [
      "Too many measurments in the input buffer: 509/500. Clearing buffer...\n"
     ]
    },
    {
     "name": "stdout",
     "output_type": "stream",
     "text": [
      "Sending command : {'HB': 0, 'IO': 1, 'WO': 0, 'DM': 'D', 'CMD': [5, 9]}\n",
      "Data sent successfully\n",
      "Sending command : {'HB': 0, 'IO': 1, 'WO': 0, 'DM': 'D', 'CMD': [5, -9]}\n",
      "Data sent successfully\n"
     ]
    },
    {
     "name": "stderr",
     "output_type": "stream",
     "text": [
      "Too many measurments in the input buffer: 559/500. Clearing buffer...\n"
     ]
    },
    {
     "name": "stdout",
     "output_type": "stream",
     "text": [
      "Sending command : {'HB': 0, 'IO': 1, 'WO': 0, 'DM': 'D', 'CMD': [5, -9]}\n",
      "Data sent successfully\n"
     ]
    },
    {
     "name": "stderr",
     "output_type": "stream",
     "text": [
      "Too many measurments in the input buffer: 536/500. Clearing buffer...\n"
     ]
    },
    {
     "name": "stdout",
     "output_type": "stream",
     "text": [
      "Sending command : {'HB': 0, 'IO': 1, 'WO': 0, 'DM': 'D', 'CMD': [5, -9]}\n",
      "Data sent successfully\n"
     ]
    },
    {
     "name": "stderr",
     "output_type": "stream",
     "text": [
      "Too many measurments in the input buffer: 535/500. Clearing buffer...\n"
     ]
    },
    {
     "name": "stdout",
     "output_type": "stream",
     "text": [
      "Sending command : {'HB': 0, 'IO': 1, 'WO': 0, 'DM': 'D', 'CMD': [5, -9]}\n",
      "Data sent successfully\n"
     ]
    },
    {
     "name": "stderr",
     "output_type": "stream",
     "text": [
      "Too many measurments in the input buffer: 502/500. Clearing buffer...\n"
     ]
    },
    {
     "name": "stdout",
     "output_type": "stream",
     "text": [
      "Sending command : {'HB': 0, 'IO': 1, 'WO': 0, 'DM': 'D', 'CMD': [5, 9]}\n",
      "Data sent successfully\n",
      "Sending command : {'HB': 0, 'IO': 1, 'WO': 0, 'DM': 'D', 'CMD': [5, -9]}\n",
      "Data sent successfully\n"
     ]
    },
    {
     "name": "stderr",
     "output_type": "stream",
     "text": [
      "Too many measurments in the input buffer: 522/500. Clearing buffer...\n"
     ]
    },
    {
     "name": "stdout",
     "output_type": "stream",
     "text": [
      "Sending command : {'HB': 0, 'IO': 1, 'WO': 0, 'DM': 'S', 'CMD': [-5, -26]}\n",
      "Data sent successfully\n",
      "Sending command : {'HB': 0, 'IO': 1, 'WO': 0, 'DM': 'S', 'CMD': [-5, -26]}\n",
      "Data sent successfully\n"
     ]
    },
    {
     "name": "stderr",
     "output_type": "stream",
     "text": [
      "Too many measurments in the input buffer: 577/500. Clearing buffer...\n"
     ]
    },
    {
     "name": "stdout",
     "output_type": "stream",
     "text": [
      "Sending command : {'HB': 0, 'IO': 1, 'WO': 0, 'DM': 'D', 'CMD': [5, -9]}\n",
      "Data sent successfully\n"
     ]
    },
    {
     "name": "stderr",
     "output_type": "stream",
     "text": [
      "Too many measurments in the input buffer: 579/500. Clearing buffer...\n"
     ]
    },
    {
     "name": "stdout",
     "output_type": "stream",
     "text": [
      "Sending command : {'HB': 0, 'IO': 1, 'WO': 0, 'DM': 'D', 'CMD': [5, -9]}\n",
      "Data sent successfully\n",
      "Sending command : {'HB': 0, 'IO': 1, 'WO': 0, 'DM': 'S', 'CMD': [-5, -26]}\n",
      "Data sent successfully\n"
     ]
    },
    {
     "name": "stderr",
     "output_type": "stream",
     "text": [
      "Too many measurments in the input buffer: 548/500. Clearing buffer...\n"
     ]
    },
    {
     "name": "stdout",
     "output_type": "stream",
     "text": [
      "Sending command : {'HB': 0, 'IO': 1, 'WO': 0, 'DM': 'S', 'CMD': [-5, -26]}\n",
      "Data sent successfully\n",
      "Sending command : {'HB': 0, 'IO': 1, 'WO': 0, 'DM': 'S', 'CMD': [-5, -26]}\n",
      "Data sent successfully\n"
     ]
    },
    {
     "name": "stderr",
     "output_type": "stream",
     "text": [
      "Too many measurments in the input buffer: 553/500. Clearing buffer...\n"
     ]
    },
    {
     "name": "stdout",
     "output_type": "stream",
     "text": [
      "Sending command : {'HB': 0, 'IO': 1, 'WO': 0, 'DM': 'S', 'CMD': [-5, -26]}\n",
      "Data sent successfully\n",
      "Sending command : {'HB': 0, 'IO': 1, 'WO': 0, 'DM': 'S', 'CMD': [-5, -26]}\n",
      "Data sent successfully\n"
     ]
    },
    {
     "name": "stderr",
     "output_type": "stream",
     "text": [
      "Too many measurments in the input buffer: 520/500. Clearing buffer...\n"
     ]
    },
    {
     "name": "stdout",
     "output_type": "stream",
     "text": [
      "Sending command : {'HB': 0, 'IO': 1, 'WO': 0, 'DM': 'D', 'CMD': [5, -9]}\n",
      "Data sent successfully\n"
     ]
    },
    {
     "name": "stderr",
     "output_type": "stream",
     "text": [
      "Too many measurments in the input buffer: 546/500. Clearing buffer...\n"
     ]
    },
    {
     "name": "stdout",
     "output_type": "stream",
     "text": [
      "Sending command : {'HB': 0, 'IO': 1, 'WO': 0, 'DM': 'D', 'CMD': [5, -9]}\n",
      "Data sent successfully\n",
      "Sending command : {'HB': 0, 'IO': 1, 'WO': 0, 'DM': 'D', 'CMD': [5, -9]}\n",
      "Data sent successfully\n"
     ]
    },
    {
     "name": "stderr",
     "output_type": "stream",
     "text": [
      "Too many measurments in the input buffer: 503/500. Clearing buffer...\n"
     ]
    },
    {
     "name": "stdout",
     "output_type": "stream",
     "text": [
      "Sending command : {'HB': 0, 'IO': 1, 'WO': 0, 'DM': 'D', 'CMD': [5, -9]}\n",
      "Data sent successfully\n"
     ]
    },
    {
     "name": "stderr",
     "output_type": "stream",
     "text": [
      "Too many measurments in the input buffer: 571/500. Clearing buffer...\n"
     ]
    },
    {
     "name": "stdout",
     "output_type": "stream",
     "text": [
      "Sending command : {'HB': 0, 'IO': 1, 'WO': 0, 'DM': 'D', 'CMD': [5, -9]}\n",
      "Data sent successfully\n"
     ]
    },
    {
     "name": "stderr",
     "output_type": "stream",
     "text": [
      "Too many measurments in the input buffer: 519/500. Clearing buffer...\n"
     ]
    },
    {
     "name": "stdout",
     "output_type": "stream",
     "text": [
      "Sending command : {'HB': 0, 'IO': 1, 'WO': 0, 'DM': 'S', 'CMD': [-5, -26]}\n",
      "Data sent successfully\n"
     ]
    },
    {
     "name": "stderr",
     "output_type": "stream",
     "text": [
      "Too many measurments in the input buffer: 539/500. Clearing buffer...\n"
     ]
    },
    {
     "name": "stdout",
     "output_type": "stream",
     "text": [
      "Sending command : {'HB': 0, 'IO': 1, 'WO': 0, 'DM': 'S', 'CMD': [-5, -26]}\n",
      "Data sent successfully\n",
      "Sending command : {'HB': 0, 'IO': 1, 'WO': 0, 'DM': 'D', 'CMD': [5, -9]}\n",
      "Data sent successfully\n"
     ]
    },
    {
     "name": "stderr",
     "output_type": "stream",
     "text": [
      "Too many measurments in the input buffer: 579/500. Clearing buffer...\n"
     ]
    },
    {
     "name": "stdout",
     "output_type": "stream",
     "text": [
      "Sending command : {'HB': 0, 'IO': 1, 'WO': 0, 'DM': 'D', 'CMD': [5, 9]}\n",
      "Data sent successfully\n",
      "Sending command : {'HB': 0, 'IO': 1, 'WO': 0, 'DM': 'D', 'CMD': [5, 9]}\n",
      "Data sent successfully\n"
     ]
    },
    {
     "name": "stderr",
     "output_type": "stream",
     "text": [
      "Too many measurments in the input buffer: 532/500. Clearing buffer...\n"
     ]
    },
    {
     "name": "stdout",
     "output_type": "stream",
     "text": [
      "Sending command : {'HB': 0, 'IO': 1, 'WO': 0, 'DM': 'D', 'CMD': [5, -9]}\n",
      "Data sent successfully\n"
     ]
    },
    {
     "name": "stderr",
     "output_type": "stream",
     "text": [
      "Too many measurments in the input buffer: 563/500. Clearing buffer...\n"
     ]
    },
    {
     "name": "stdout",
     "output_type": "stream",
     "text": [
      "Sending command : {'HB': 0, 'IO': 1, 'WO': 0, 'DM': 'D', 'CMD': [5, -9]}\n",
      "Data sent successfully\n"
     ]
    },
    {
     "name": "stderr",
     "output_type": "stream",
     "text": [
      "Too many measurments in the input buffer: 587/500. Clearing buffer...\n"
     ]
    },
    {
     "name": "stdout",
     "output_type": "stream",
     "text": [
      "Sending command : {'HB': 0, 'IO': 1, 'WO': 0, 'DM': 'D', 'CMD': [5, -9]}\n",
      "Data sent successfully\n",
      "Sending command : {'HB': 0, 'IO': 1, 'WO': 0, 'DM': 'D', 'CMD': [5, -9]}\n",
      "Data sent successfully\n",
      "Sending command : {'HB': 0, 'IO': 1, 'WO': 0, 'DM': 'D', 'CMD': [5, -9]}\n",
      "Data sent successfully\n"
     ]
    },
    {
     "name": "stderr",
     "output_type": "stream",
     "text": [
      "Too many measurments in the input buffer: 515/500. Clearing buffer...\n"
     ]
    },
    {
     "name": "stdout",
     "output_type": "stream",
     "text": [
      "Sending command : {'HB': 0, 'IO': 1, 'WO': 0, 'DM': 'D', 'CMD': [5, 9]}\n",
      "Data sent successfully\n"
     ]
    },
    {
     "name": "stderr",
     "output_type": "stream",
     "text": [
      "Too many measurments in the input buffer: 510/500. Clearing buffer...\n"
     ]
    },
    {
     "name": "stdout",
     "output_type": "stream",
     "text": [
      "Sending command : {'HB': 0, 'IO': 1, 'WO': 0, 'DM': 'S', 'CMD': [-5, -26]}\n",
      "Data sent successfully\n",
      "Sending command : {'HB': 0, 'IO': 1, 'WO': 0, 'DM': 'S', 'CMD': [-5, -26]}\n",
      "Data sent successfully\n",
      "Sending command : {'HB': 0, 'IO': 1, 'WO': 0, 'DM': 'D', 'CMD': [5, -9]}\n",
      "Data sent successfully\n",
      "Data sent successfully\n"
     ]
    },
    {
     "name": "stderr",
     "output_type": "stream",
     "text": [
      "Too many measurments in the input buffer: 529/500. Clearing buffer...\n",
      "Too many measurments in the input buffer: 510/500. Clearing buffer...\n",
      "Too many measurments in the input buffer: 573/500. Clearing buffer...\n",
      "Too many measurments in the input buffer: 546/500. Clearing buffer...\n",
      "Too many measurments in the input buffer: 505/500. Clearing buffer...\n",
      "Too many measurments in the input buffer: 681/500. Clearing buffer...\n",
      "Too many measurments in the input buffer: 543/500. Clearing buffer...\n",
      "Too many measurments in the input buffer: 568/500. Clearing buffer...\n",
      "Too many measurments in the input buffer: 550/500. Clearing buffer...\n",
      "Too many measurments in the input buffer: 586/500. Clearing buffer...\n",
      "Too many measurments in the input buffer: 573/500. Clearing buffer...\n",
      "Too many measurments in the input buffer: 540/500. Clearing buffer...\n",
      "Too many measurments in the input buffer: 519/500. Clearing buffer...\n",
      "Too many measurments in the input buffer: 509/500. Clearing buffer...\n",
      "Too many measurments in the input buffer: 509/500. Clearing buffer...\n",
      "Too many measurments in the input buffer: 509/500. Clearing buffer...\n",
      "Too many measurments in the input buffer: 538/500. Clearing buffer...\n",
      "Too many measurments in the input buffer: 502/500. Clearing buffer...\n",
      "Too many measurments in the input buffer: 503/500. Clearing buffer...\n",
      "Too many measurments in the input buffer: 555/500. Clearing buffer...\n",
      "Too many measurments in the input buffer: 520/500. Clearing buffer...\n",
      "Too many measurments in the input buffer: 522/500. Clearing buffer...\n",
      "Too many measurments in the input buffer: 511/500. Clearing buffer...\n",
      "Too many measurments in the input buffer: 521/500. Clearing buffer...\n",
      "Too many measurments in the input buffer: 504/500. Clearing buffer...\n",
      "Too many measurments in the input buffer: 521/500. Clearing buffer...\n",
      "Too many measurments in the input buffer: 511/500. Clearing buffer...\n",
      "Too many measurments in the input buffer: 547/500. Clearing buffer...\n",
      "Too many measurments in the input buffer: 509/500. Clearing buffer...\n",
      "Too many measurments in the input buffer: 532/500. Clearing buffer...\n",
      "Too many measurments in the input buffer: 557/500. Clearing buffer...\n",
      "Too many measurments in the input buffer: 521/500. Clearing buffer...\n",
      "Too many measurments in the input buffer: 566/500. Clearing buffer...\n",
      "Too many measurments in the input buffer: 580/500. Clearing buffer...\n",
      "Too many measurments in the input buffer: 577/500. Clearing buffer...\n",
      "Too many measurments in the input buffer: 541/500. Clearing buffer...\n",
      "Too many measurments in the input buffer: 515/500. Clearing buffer...\n",
      "Too many measurments in the input buffer: 555/500. Clearing buffer...\n",
      "Too many measurments in the input buffer: 518/500. Clearing buffer...\n",
      "Too many measurments in the input buffer: 566/500. Clearing buffer...\n",
      "Too many measurments in the input buffer: 562/500. Clearing buffer...\n",
      "Too many measurments in the input buffer: 523/500. Clearing buffer...\n",
      "Too many measurments in the input buffer: 543/500. Clearing buffer...\n",
      "Too many measurments in the input buffer: 512/500. Clearing buffer...\n",
      "Too many measurments in the input buffer: 502/500. Clearing buffer...\n",
      "Too many measurments in the input buffer: 514/500. Clearing buffer...\n",
      "Too many measurments in the input buffer: 532/500. Clearing buffer...\n",
      "Too many measurments in the input buffer: 563/500. Clearing buffer...\n",
      "Too many measurments in the input buffer: 553/500. Clearing buffer...\n",
      "Too many measurments in the input buffer: 532/500. Clearing buffer...\n",
      "Too many measurments in the input buffer: 570/500. Clearing buffer...\n",
      "Too many measurments in the input buffer: 537/500. Clearing buffer...\n",
      "Too many measurments in the input buffer: 510/500. Clearing buffer...\n",
      "Too many measurments in the input buffer: 578/500. Clearing buffer...\n",
      "Too many measurments in the input buffer: 562/500. Clearing buffer...\n",
      "Too many measurments in the input buffer: 544/500. Clearing buffer...\n",
      "Too many measurments in the input buffer: 539/500. Clearing buffer...\n",
      "Too many measurments in the input buffer: 501/500. Clearing buffer...\n",
      "Too many measurments in the input buffer: 582/500. Clearing buffer...\n",
      "Too many measurments in the input buffer: 514/500. Clearing buffer...\n",
      "Too many measurments in the input buffer: 533/500. Clearing buffer...\n",
      "Too many measurments in the input buffer: 576/500. Clearing buffer...\n",
      "Too many measurments in the input buffer: 550/500. Clearing buffer...\n",
      "Too many measurments in the input buffer: 512/500. Clearing buffer...\n",
      "Too many measurments in the input buffer: 506/500. Clearing buffer...\n",
      "Too many measurments in the input buffer: 526/500. Clearing buffer...\n",
      "Too many measurments in the input buffer: 585/500. Clearing buffer...\n",
      "Too many measurments in the input buffer: 548/500. Clearing buffer...\n",
      "Too many measurments in the input buffer: 552/500. Clearing buffer...\n",
      "Too many measurments in the input buffer: 561/500. Clearing buffer...\n",
      "Too many measurments in the input buffer: 562/500. Clearing buffer...\n",
      "Too many measurments in the input buffer: 538/500. Clearing buffer...\n",
      "Too many measurments in the input buffer: 555/500. Clearing buffer...\n",
      "Too many measurments in the input buffer: 537/500. Clearing buffer...\n",
      "Too many measurments in the input buffer: 512/500. Clearing buffer...\n",
      "Too many measurments in the input buffer: 516/500. Clearing buffer...\n",
      "Too many measurments in the input buffer: 544/500. Clearing buffer...\n",
      "Too many measurments in the input buffer: 554/500. Clearing buffer...\n",
      "Too many measurments in the input buffer: 530/500. Clearing buffer...\n",
      "Too many measurments in the input buffer: 564/500. Clearing buffer...\n",
      "Too many measurments in the input buffer: 531/500. Clearing buffer...\n",
      "Too many measurments in the input buffer: 548/500. Clearing buffer...\n",
      "Too many measurments in the input buffer: 513/500. Clearing buffer...\n",
      "Too many measurments in the input buffer: 501/500. Clearing buffer...\n",
      "Too many measurments in the input buffer: 522/500. Clearing buffer...\n",
      "Too many measurments in the input buffer: 549/500. Clearing buffer...\n",
      "Too many measurments in the input buffer: 539/500. Clearing buffer...\n",
      "Too many measurments in the input buffer: 519/500. Clearing buffer...\n",
      "Too many measurments in the input buffer: 501/500. Clearing buffer...\n",
      "Too many measurments in the input buffer: 542/500. Clearing buffer...\n",
      "Too many measurments in the input buffer: 512/500. Clearing buffer...\n",
      "Too many measurments in the input buffer: 515/500. Clearing buffer...\n",
      "Too many measurments in the input buffer: 515/500. Clearing buffer...\n",
      "Too many measurments in the input buffer: 563/500. Clearing buffer...\n",
      "Too many measurments in the input buffer: 542/500. Clearing buffer...\n",
      "Too many measurments in the input buffer: 513/500. Clearing buffer...\n",
      "Too many measurments in the input buffer: 545/500. Clearing buffer...\n",
      "Too many measurments in the input buffer: 511/500. Clearing buffer...\n",
      "Too many measurments in the input buffer: 548/500. Clearing buffer...\n",
      "Too many measurments in the input buffer: 575/500. Clearing buffer...\n",
      "Too many measurments in the input buffer: 585/500. Clearing buffer...\n",
      "Too many measurments in the input buffer: 582/500. Clearing buffer...\n",
      "Too many measurments in the input buffer: 572/500. Clearing buffer...\n",
      "Too many measurments in the input buffer: 571/500. Clearing buffer...\n",
      "Too many measurments in the input buffer: 511/500. Clearing buffer...\n",
      "Too many measurments in the input buffer: 535/500. Clearing buffer...\n",
      "Too many measurments in the input buffer: 544/500. Clearing buffer...\n",
      "Too many measurments in the input buffer: 523/500. Clearing buffer...\n",
      "Too many measurments in the input buffer: 527/500. Clearing buffer...\n",
      "Too many measurments in the input buffer: 554/500. Clearing buffer...\n",
      "Too many measurments in the input buffer: 550/500. Clearing buffer...\n",
      "Too many measurments in the input buffer: 523/500. Clearing buffer...\n",
      "Too many measurments in the input buffer: 541/500. Clearing buffer...\n",
      "Too many measurments in the input buffer: 515/500. Clearing buffer...\n",
      "Too many measurments in the input buffer: 512/500. Clearing buffer...\n",
      "Too many measurments in the input buffer: 581/500. Clearing buffer...\n",
      "Too many measurments in the input buffer: 573/500. Clearing buffer...\n",
      "Too many measurments in the input buffer: 549/500. Clearing buffer...\n",
      "Too many measurments in the input buffer: 548/500. Clearing buffer...\n",
      "Too many measurments in the input buffer: 517/500. Clearing buffer...\n",
      "Too many measurments in the input buffer: 570/500. Clearing buffer...\n",
      "Too many measurments in the input buffer: 537/500. Clearing buffer...\n",
      "Too many measurments in the input buffer: 517/500. Clearing buffer...\n",
      "Too many measurments in the input buffer: 549/500. Clearing buffer...\n",
      "Too many measurments in the input buffer: 510/500. Clearing buffer...\n",
      "Too many measurments in the input buffer: 558/500. Clearing buffer...\n",
      "Too many measurments in the input buffer: 561/500. Clearing buffer...\n",
      "Too many measurments in the input buffer: 585/500. Clearing buffer...\n"
     ]
    },
    {
     "name": "stdout",
     "output_type": "stream",
     "text": [
      "called stop_path_finder_service\n",
      "\n",
      "Called stop_worldview_service\n",
      "Called stop_lidar_service\n",
      "waiting for obstacle thread to join\n",
      "waiting for lidar thread to join\n",
      "Stopping Lidar Service\n",
      "Starting Worldview Service\n",
      "Stopping Pathfinder Service\n",
      "called start_path_finder_service\n",
      "Starting Pathfinder Service\n",
      "Called start_worldview_service\n",
      "Starting Worldview Service\n",
      "Called start_lidar_service\n",
      "Starting Lidar Service\n",
      "\n",
      "started Lidar Scanning Thread\n"
     ]
    },
    {
     "name": "stderr",
     "output_type": "stream",
     "text": [
      "Too many measurments in the input buffer: 519/500. Clearing buffer...\n",
      "Too many measurments in the input buffer: 538/500. Clearing buffer...\n",
      "Too many measurments in the input buffer: 555/500. Clearing buffer...\n",
      "Too many measurments in the input buffer: 505/500. Clearing buffer...\n",
      "Too many measurments in the input buffer: 581/500. Clearing buffer...\n",
      "Too many measurments in the input buffer: 525/500. Clearing buffer...\n",
      "Too many measurments in the input buffer: 520/500. Clearing buffer...\n",
      "Too many measurments in the input buffer: 535/500. Clearing buffer...\n",
      "Too many measurments in the input buffer: 504/500. Clearing buffer...\n",
      "Too many measurments in the input buffer: 504/500. Clearing buffer...\n",
      "Too many measurments in the input buffer: 522/500. Clearing buffer...\n",
      "Too many measurments in the input buffer: 572/500. Clearing buffer...\n",
      "Too many measurments in the input buffer: 505/500. Clearing buffer...\n",
      "Too many measurments in the input buffer: 533/500. Clearing buffer...\n",
      "Too many measurments in the input buffer: 545/500. Clearing buffer...\n",
      "Too many measurments in the input buffer: 542/500. Clearing buffer...\n",
      "Too many measurments in the input buffer: 502/500. Clearing buffer...\n",
      "Too many measurments in the input buffer: 508/500. Clearing buffer...\n",
      "Too many measurments in the input buffer: 534/500. Clearing buffer...\n",
      "Too many measurments in the input buffer: 528/500. Clearing buffer...\n",
      "Too many measurments in the input buffer: 509/500. Clearing buffer...\n",
      "Too many measurments in the input buffer: 550/500. Clearing buffer...\n",
      "Too many measurments in the input buffer: 523/500. Clearing buffer...\n",
      "Too many measurments in the input buffer: 566/500. Clearing buffer...\n",
      "Too many measurments in the input buffer: 569/500. Clearing buffer...\n",
      "Too many measurments in the input buffer: 506/500. Clearing buffer...\n",
      "Too many measurments in the input buffer: 512/500. Clearing buffer...\n",
      "Too many measurments in the input buffer: 507/500. Clearing buffer...\n",
      "Too many measurments in the input buffer: 505/500. Clearing buffer...\n",
      "Too many measurments in the input buffer: 529/500. Clearing buffer...\n",
      "Too many measurments in the input buffer: 523/500. Clearing buffer...\n",
      "Too many measurments in the input buffer: 514/500. Clearing buffer...\n",
      "Too many measurments in the input buffer: 540/500. Clearing buffer...\n",
      "Too many measurments in the input buffer: 548/500. Clearing buffer...\n",
      "Too many measurments in the input buffer: 580/500. Clearing buffer...\n",
      "Too many measurments in the input buffer: 504/500. Clearing buffer...\n",
      "Too many measurments in the input buffer: 504/500. Clearing buffer...\n",
      "Too many measurments in the input buffer: 525/500. Clearing buffer...\n",
      "Too many measurments in the input buffer: 501/500. Clearing buffer...\n",
      "Too many measurments in the input buffer: 539/500. Clearing buffer...\n",
      "Too many measurments in the input buffer: 546/500. Clearing buffer...\n",
      "Too many measurments in the input buffer: 534/500. Clearing buffer...\n",
      "Too many measurments in the input buffer: 526/500. Clearing buffer...\n",
      "Too many measurments in the input buffer: 527/500. Clearing buffer...\n",
      "Too many measurments in the input buffer: 556/500. Clearing buffer...\n",
      "Too many measurments in the input buffer: 527/500. Clearing buffer...\n",
      "Too many measurments in the input buffer: 520/500. Clearing buffer...\n",
      "Too many measurments in the input buffer: 544/500. Clearing buffer...\n",
      "Too many measurments in the input buffer: 531/500. Clearing buffer...\n",
      "Too many measurments in the input buffer: 554/500. Clearing buffer...\n",
      "Too many measurments in the input buffer: 533/500. Clearing buffer...\n",
      "Too many measurments in the input buffer: 533/500. Clearing buffer...\n",
      "Too many measurments in the input buffer: 508/500. Clearing buffer...\n",
      "Too many measurments in the input buffer: 512/500. Clearing buffer...\n",
      "Too many measurments in the input buffer: 535/500. Clearing buffer...\n",
      "Too many measurments in the input buffer: 531/500. Clearing buffer...\n",
      "Too many measurments in the input buffer: 539/500. Clearing buffer...\n",
      "Too many measurments in the input buffer: 502/500. Clearing buffer...\n",
      "Too many measurments in the input buffer: 585/500. Clearing buffer...\n",
      "Too many measurments in the input buffer: 511/500. Clearing buffer...\n",
      "Too many measurments in the input buffer: 531/500. Clearing buffer...\n",
      "Too many measurments in the input buffer: 552/500. Clearing buffer...\n",
      "Too many measurments in the input buffer: 559/500. Clearing buffer...\n",
      "Too many measurments in the input buffer: 512/500. Clearing buffer...\n",
      "Too many measurments in the input buffer: 521/500. Clearing buffer...\n",
      "Too many measurments in the input buffer: 531/500. Clearing buffer...\n",
      "Too many measurments in the input buffer: 546/500. Clearing buffer...\n",
      "Too many measurments in the input buffer: 559/500. Clearing buffer...\n",
      "Too many measurments in the input buffer: 545/500. Clearing buffer...\n",
      "Too many measurments in the input buffer: 536/500. Clearing buffer...\n",
      "Too many measurments in the input buffer: 525/500. Clearing buffer...\n",
      "Too many measurments in the input buffer: 538/500. Clearing buffer...\n",
      "Too many measurments in the input buffer: 543/500. Clearing buffer...\n",
      "Too many measurments in the input buffer: 507/500. Clearing buffer...\n",
      "Too many measurments in the input buffer: 503/500. Clearing buffer...\n",
      "Too many measurments in the input buffer: 527/500. Clearing buffer...\n",
      "Too many measurments in the input buffer: 570/500. Clearing buffer...\n",
      "Too many measurments in the input buffer: 504/500. Clearing buffer...\n",
      "Too many measurments in the input buffer: 501/500. Clearing buffer...\n",
      "Too many measurments in the input buffer: 527/500. Clearing buffer...\n",
      "Too many measurments in the input buffer: 562/500. Clearing buffer...\n",
      "Too many measurments in the input buffer: 537/500. Clearing buffer...\n",
      "Too many measurments in the input buffer: 517/500. Clearing buffer...\n",
      "Too many measurments in the input buffer: 555/500. Clearing buffer...\n",
      "Too many measurments in the input buffer: 503/500. Clearing buffer...\n",
      "Too many measurments in the input buffer: 505/500. Clearing buffer...\n",
      "Too many measurments in the input buffer: 504/500. Clearing buffer...\n",
      "Too many measurments in the input buffer: 544/500. Clearing buffer...\n",
      "Too many measurments in the input buffer: 570/500. Clearing buffer...\n",
      "Too many measurments in the input buffer: 570/500. Clearing buffer...\n",
      "Too many measurments in the input buffer: 571/500. Clearing buffer...\n",
      "Too many measurments in the input buffer: 529/500. Clearing buffer...\n",
      "Too many measurments in the input buffer: 573/500. Clearing buffer...\n",
      "Too many measurments in the input buffer: 567/500. Clearing buffer...\n",
      "Too many measurments in the input buffer: 570/500. Clearing buffer...\n",
      "Too many measurments in the input buffer: 560/500. Clearing buffer...\n",
      "Too many measurments in the input buffer: 556/500. Clearing buffer...\n",
      "Too many measurments in the input buffer: 563/500. Clearing buffer...\n",
      "Too many measurments in the input buffer: 527/500. Clearing buffer...\n",
      "Too many measurments in the input buffer: 540/500. Clearing buffer...\n",
      "Too many measurments in the input buffer: 541/500. Clearing buffer...\n",
      "Too many measurments in the input buffer: 502/500. Clearing buffer...\n",
      "Too many measurments in the input buffer: 513/500. Clearing buffer...\n",
      "Too many measurments in the input buffer: 529/500. Clearing buffer...\n",
      "Too many measurments in the input buffer: 544/500. Clearing buffer...\n",
      "Too many measurments in the input buffer: 504/500. Clearing buffer...\n",
      "Too many measurments in the input buffer: 536/500. Clearing buffer...\n",
      "Too many measurments in the input buffer: 557/500. Clearing buffer...\n",
      "Too many measurments in the input buffer: 567/500. Clearing buffer...\n",
      "Too many measurments in the input buffer: 519/500. Clearing buffer...\n",
      "Too many measurments in the input buffer: 502/500. Clearing buffer...\n",
      "Too many measurments in the input buffer: 589/500. Clearing buffer...\n",
      "Too many measurments in the input buffer: 553/500. Clearing buffer...\n",
      "Too many measurments in the input buffer: 515/500. Clearing buffer...\n",
      "Too many measurments in the input buffer: 581/500. Clearing buffer...\n"
     ]
    },
    {
     "name": "stdout",
     "output_type": "stream",
     "text": [
      "called stop_path_finder_service\n",
      "\n",
      "Called stop_worldview_service\n",
      "Called stop_lidar_service\n",
      "waiting for obstacle thread to join\n",
      "waiting for lidar thread to join\n",
      "Stopping Lidar Service\n",
      "Starting Worldview Service\n",
      "Stopping Pathfinder Service\n",
      "called start_path_finder_service\n",
      "Starting Pathfinder Service\n",
      "Called start_worldview_service\n",
      "Starting Worldview Service\n",
      "Called start_lidar_service\n",
      "Starting Lidar Service\n",
      "\n",
      "started Lidar Scanning Thread\n"
     ]
    },
    {
     "name": "stderr",
     "output_type": "stream",
     "text": [
      "Too many measurments in the input buffer: 582/500. Clearing buffer...\n",
      "Too many measurments in the input buffer: 566/500. Clearing buffer...\n",
      "Too many measurments in the input buffer: 507/500. Clearing buffer...\n",
      "Too many measurments in the input buffer: 515/500. Clearing buffer...\n",
      "Too many measurments in the input buffer: 502/500. Clearing buffer...\n",
      "Too many measurments in the input buffer: 511/500. Clearing buffer...\n",
      "Too many measurments in the input buffer: 506/500. Clearing buffer...\n",
      "Too many measurments in the input buffer: 586/500. Clearing buffer...\n",
      "Too many measurments in the input buffer: 505/500. Clearing buffer...\n",
      "Too many measurments in the input buffer: 545/500. Clearing buffer...\n",
      "Too many measurments in the input buffer: 544/500. Clearing buffer...\n",
      "Too many measurments in the input buffer: 562/500. Clearing buffer...\n",
      "Too many measurments in the input buffer: 510/500. Clearing buffer...\n",
      "Too many measurments in the input buffer: 560/500. Clearing buffer...\n",
      "Too many measurments in the input buffer: 548/500. Clearing buffer...\n",
      "Too many measurments in the input buffer: 511/500. Clearing buffer...\n",
      "Too many measurments in the input buffer: 501/500. Clearing buffer...\n",
      "Too many measurments in the input buffer: 501/500. Clearing buffer...\n",
      "Too many measurments in the input buffer: 578/500. Clearing buffer...\n",
      "Too many measurments in the input buffer: 584/500. Clearing buffer...\n",
      "Too many measurments in the input buffer: 508/500. Clearing buffer...\n",
      "Too many measurments in the input buffer: 538/500. Clearing buffer...\n",
      "Too many measurments in the input buffer: 500/500. Clearing buffer...\n",
      "Too many measurments in the input buffer: 510/500. Clearing buffer...\n",
      "Too many measurments in the input buffer: 582/500. Clearing buffer...\n",
      "Too many measurments in the input buffer: 503/500. Clearing buffer...\n",
      "Too many measurments in the input buffer: 506/500. Clearing buffer...\n",
      "Too many measurments in the input buffer: 558/500. Clearing buffer...\n",
      "Too many measurments in the input buffer: 508/500. Clearing buffer...\n",
      "Too many measurments in the input buffer: 517/500. Clearing buffer...\n",
      "Too many measurments in the input buffer: 578/500. Clearing buffer...\n",
      "Too many measurments in the input buffer: 506/500. Clearing buffer...\n",
      "Too many measurments in the input buffer: 524/500. Clearing buffer...\n",
      "Too many measurments in the input buffer: 547/500. Clearing buffer...\n",
      "Too many measurments in the input buffer: 584/500. Clearing buffer...\n",
      "Too many measurments in the input buffer: 546/500. Clearing buffer...\n",
      "Too many measurments in the input buffer: 509/500. Clearing buffer...\n",
      "Too many measurments in the input buffer: 590/500. Clearing buffer...\n",
      "Too many measurments in the input buffer: 516/500. Clearing buffer...\n",
      "Too many measurments in the input buffer: 563/500. Clearing buffer...\n",
      "Too many measurments in the input buffer: 547/500. Clearing buffer...\n",
      "Too many measurments in the input buffer: 565/500. Clearing buffer...\n",
      "Too many measurments in the input buffer: 506/500. Clearing buffer...\n",
      "Too many measurments in the input buffer: 536/500. Clearing buffer...\n",
      "Too many measurments in the input buffer: 544/500. Clearing buffer...\n",
      "Too many measurments in the input buffer: 513/500. Clearing buffer...\n",
      "Too many measurments in the input buffer: 543/500. Clearing buffer...\n",
      "Too many measurments in the input buffer: 545/500. Clearing buffer...\n",
      "Too many measurments in the input buffer: 505/500. Clearing buffer...\n",
      "Too many measurments in the input buffer: 524/500. Clearing buffer...\n",
      "Too many measurments in the input buffer: 503/500. Clearing buffer...\n"
     ]
    },
    {
     "name": "stdout",
     "output_type": "stream",
     "text": [
      "Sending command : {'HB': 0, 'IO': 1, 'WO': 0, 'DM': 'S', 'CMD': [-5, -45]}\n",
      "Data sent successfully\n"
     ]
    },
    {
     "name": "stderr",
     "output_type": "stream",
     "text": [
      "Too many measurments in the input buffer: 524/500. Clearing buffer...\n"
     ]
    },
    {
     "name": "stdout",
     "output_type": "stream",
     "text": [
      "Sending command : {'HB': 0, 'IO': 1, 'WO': 0, 'DM': 'S', 'CMD': [-5, -45]}\n",
      "Data sent successfully\n"
     ]
    },
    {
     "name": "stderr",
     "output_type": "stream",
     "text": [
      "Too many measurments in the input buffer: 513/500. Clearing buffer...\n"
     ]
    },
    {
     "name": "stdout",
     "output_type": "stream",
     "text": [
      "Sending command : {'HB': 0, 'IO': 1, 'WO': 0, 'DM': 'D', 'CMD': [5, -9]}\n",
      "Data sent successfully\n"
     ]
    },
    {
     "name": "stderr",
     "output_type": "stream",
     "text": [
      "Too many measurments in the input buffer: 581/500. Clearing buffer...\n",
      "Too many measurments in the input buffer: 531/500. Clearing buffer...\n"
     ]
    },
    {
     "name": "stdout",
     "output_type": "stream",
     "text": [
      "Sending command : {'HB': 0, 'IO': 1, 'WO': 0, 'DM': 'D', 'CMD': [5, -9]}\n",
      "Data sent successfully\n"
     ]
    },
    {
     "name": "stderr",
     "output_type": "stream",
     "text": [
      "Too many measurments in the input buffer: 511/500. Clearing buffer...\n"
     ]
    },
    {
     "name": "stdout",
     "output_type": "stream",
     "text": [
      "Sending command : {'HB': 0, 'IO': 1, 'WO': 0, 'DM': 'D', 'CMD': [5, -9]}\n",
      "Data sent successfully\n",
      "Sending command : {'HB': 0, 'IO': 1, 'WO': 0, 'DM': 'D', 'CMD': [5, -9]}\n",
      "Data sent successfully\n"
     ]
    },
    {
     "name": "stderr",
     "output_type": "stream",
     "text": [
      "Too many measurments in the input buffer: 572/500. Clearing buffer...\n"
     ]
    },
    {
     "name": "stdout",
     "output_type": "stream",
     "text": [
      "Sending command : {'HB': 0, 'IO': 1, 'WO': 0, 'DM': 'D', 'CMD': [5, -9]}\n",
      "Data sent successfully\n",
      "Sending command : {'HB': 0, 'IO': 1, 'WO': 0, 'DM': 'D', 'CMD': [5, -9]}\n",
      "Data sent successfully\n"
     ]
    },
    {
     "name": "stderr",
     "output_type": "stream",
     "text": [
      "Too many measurments in the input buffer: 502/500. Clearing buffer...\n"
     ]
    },
    {
     "name": "stdout",
     "output_type": "stream",
     "text": [
      "Sending command : {'HB': 0, 'IO': 1, 'WO': 0, 'DM': 'D', 'CMD': [5, -9]}\n",
      "Data sent successfully\n"
     ]
    },
    {
     "name": "stderr",
     "output_type": "stream",
     "text": [
      "Too many measurments in the input buffer: 519/500. Clearing buffer...\n"
     ]
    },
    {
     "name": "stdout",
     "output_type": "stream",
     "text": [
      "Sending command : {'HB': 0, 'IO': 1, 'WO': 0, 'DM': 'S', 'CMD': [-5, -26]}\n",
      "Data sent successfully\n"
     ]
    },
    {
     "name": "stderr",
     "output_type": "stream",
     "text": [
      "Too many measurments in the input buffer: 539/500. Clearing buffer...\n"
     ]
    },
    {
     "name": "stdout",
     "output_type": "stream",
     "text": [
      "Sending command : {'HB': 0, 'IO': 1, 'WO': 0, 'DM': 'S', 'CMD': [-5, -45]}\n",
      "Data sent successfully\n"
     ]
    },
    {
     "name": "stderr",
     "output_type": "stream",
     "text": [
      "Too many measurments in the input buffer: 528/500. Clearing buffer...\n"
     ]
    },
    {
     "name": "stdout",
     "output_type": "stream",
     "text": [
      "Sending command : {'HB': 0, 'IO': 1, 'WO': 0, 'DM': 'S', 'CMD': [-5, -45]}\n",
      "Data sent successfully\n"
     ]
    },
    {
     "name": "stderr",
     "output_type": "stream",
     "text": [
      "Too many measurments in the input buffer: 590/500. Clearing buffer...\n"
     ]
    },
    {
     "name": "stdout",
     "output_type": "stream",
     "text": [
      "Sending command : {'HB': 0, 'IO': 1, 'WO': 0, 'DM': 'S', 'CMD': [-5, -45]}\n",
      "Data sent successfully\n",
      "Sending command : {'HB': 0, 'IO': 1, 'WO': 0, 'DM': 'S', 'CMD': [-5, -45]}\n",
      "Data sent successfully\n"
     ]
    },
    {
     "name": "stderr",
     "output_type": "stream",
     "text": [
      "Too many measurments in the input buffer: 582/500. Clearing buffer...\n"
     ]
    },
    {
     "name": "stdout",
     "output_type": "stream",
     "text": [
      "Sending command : {'HB': 0, 'IO': 1, 'WO': 0, 'DM': 'S', 'CMD': [5, 44]}\n",
      "Data sent successfully\n"
     ]
    },
    {
     "name": "stderr",
     "output_type": "stream",
     "text": [
      "Too many measurments in the input buffer: 593/500. Clearing buffer...\n"
     ]
    },
    {
     "name": "stdout",
     "output_type": "stream",
     "text": [
      "Sending command : {'HB': 0, 'IO': 1, 'WO': 0, 'DM': 'S', 'CMD': [5, 44]}\n",
      "Data sent successfully\n"
     ]
    },
    {
     "name": "stderr",
     "output_type": "stream",
     "text": [
      "Too many measurments in the input buffer: 502/500. Clearing buffer...\n"
     ]
    },
    {
     "name": "stdout",
     "output_type": "stream",
     "text": [
      "Sending command : {'HB': 0, 'IO': 1, 'WO': 0, 'DM': 'S', 'CMD': [5, 44]}\n",
      "Data sent successfully\n"
     ]
    },
    {
     "name": "stderr",
     "output_type": "stream",
     "text": [
      "Too many measurments in the input buffer: 565/500. Clearing buffer...\n"
     ]
    },
    {
     "name": "stdout",
     "output_type": "stream",
     "text": [
      "Sending command : {'HB': 0, 'IO': 1, 'WO': 0, 'DM': 'S', 'CMD': [5, 44]}\n",
      "Data sent successfully\n",
      "Sending command : {'HB': 0, 'IO': 1, 'WO': 0, 'DM': 'S', 'CMD': [5, 44]}\n",
      "Data sent successfully\n"
     ]
    },
    {
     "name": "stderr",
     "output_type": "stream",
     "text": [
      "Too many measurments in the input buffer: 501/500. Clearing buffer...\n"
     ]
    },
    {
     "name": "stdout",
     "output_type": "stream",
     "text": [
      "Sending command : {'HB': 0, 'IO': 1, 'WO': 0, 'DM': 'S', 'CMD': [5, 44]}\n",
      "Data sent successfully\n"
     ]
    },
    {
     "name": "stderr",
     "output_type": "stream",
     "text": [
      "Too many measurments in the input buffer: 505/500. Clearing buffer...\n"
     ]
    },
    {
     "name": "stdout",
     "output_type": "stream",
     "text": [
      "Sending command : {'HB': 0, 'IO': 1, 'WO': 0, 'DM': 'S', 'CMD': [5, 44]}\n",
      "Data sent successfully\n"
     ]
    },
    {
     "name": "stderr",
     "output_type": "stream",
     "text": [
      "Too many measurments in the input buffer: 513/500. Clearing buffer...\n"
     ]
    },
    {
     "name": "stdout",
     "output_type": "stream",
     "text": [
      "Sending command : {'HB': 0, 'IO': 1, 'WO': 0, 'DM': 'S', 'CMD': [5, 44]}\n",
      "Data sent successfully\n"
     ]
    },
    {
     "name": "stderr",
     "output_type": "stream",
     "text": [
      "Too many measurments in the input buffer: 517/500. Clearing buffer...\n"
     ]
    },
    {
     "name": "stdout",
     "output_type": "stream",
     "text": [
      "Sending command : {'HB': 0, 'IO': 1, 'WO': 0, 'DM': 'S', 'CMD': [5, 44]}\n",
      "Data sent successfully\n"
     ]
    },
    {
     "name": "stderr",
     "output_type": "stream",
     "text": [
      "Too many measurments in the input buffer: 532/500. Clearing buffer...\n"
     ]
    },
    {
     "name": "stdout",
     "output_type": "stream",
     "text": [
      "Sending command : {'HB': 0, 'IO': 1, 'WO': 0, 'DM': 'S', 'CMD': [5, 44]}\n",
      "Data sent successfully\n"
     ]
    },
    {
     "name": "stderr",
     "output_type": "stream",
     "text": [
      "Too many measurments in the input buffer: 509/500. Clearing buffer...\n"
     ]
    },
    {
     "name": "stdout",
     "output_type": "stream",
     "text": [
      "Sending command : {'HB': 0, 'IO': 1, 'WO': 0, 'DM': 'S', 'CMD': [5, 44]}\n",
      "Data sent successfully\n",
      "Sending command : {'HB': 0, 'IO': 1, 'WO': 0, 'DM': 'S', 'CMD': [5, 44]}\n",
      "Data sent successfully\n"
     ]
    },
    {
     "name": "stderr",
     "output_type": "stream",
     "text": [
      "Too many measurments in the input buffer: 589/500. Clearing buffer...\n"
     ]
    },
    {
     "name": "stdout",
     "output_type": "stream",
     "text": [
      "Sending command : {'HB': 0, 'IO': 1, 'WO': 0, 'DM': 'D', 'CMD': [5, 9]}\n",
      "Data sent successfully\n"
     ]
    },
    {
     "name": "stderr",
     "output_type": "stream",
     "text": [
      "Too many measurments in the input buffer: 505/500. Clearing buffer...\n"
     ]
    },
    {
     "name": "stdout",
     "output_type": "stream",
     "text": [
      "Sending command : {'HB': 0, 'IO': 1, 'WO': 0, 'DM': 'S', 'CMD': [5, 26]}\n",
      "Data sent successfully\n"
     ]
    },
    {
     "name": "stderr",
     "output_type": "stream",
     "text": [
      "Too many measurments in the input buffer: 564/500. Clearing buffer...\n"
     ]
    },
    {
     "name": "stdout",
     "output_type": "stream",
     "text": [
      "Sending command : {'HB': 0, 'IO': 1, 'WO': 0, 'DM': 'D', 'CMD': [5, 9]}\n",
      "Data sent successfully\n",
      "Sending command : {'HB': 0, 'IO': 1, 'WO': 0, 'DM': 'S', 'CMD': [-5, -45]}\n",
      "Data sent successfully\n"
     ]
    },
    {
     "name": "stderr",
     "output_type": "stream",
     "text": [
      "Too many measurments in the input buffer: 549/500. Clearing buffer...\n"
     ]
    },
    {
     "name": "stdout",
     "output_type": "stream",
     "text": [
      "Sending command : {'HB': 0, 'IO': 1, 'WO': 0, 'DM': 'S', 'CMD': [5, 26]}\n",
      "Data sent successfully\n"
     ]
    },
    {
     "name": "stderr",
     "output_type": "stream",
     "text": [
      "Too many measurments in the input buffer: 578/500. Clearing buffer...\n"
     ]
    },
    {
     "name": "stdout",
     "output_type": "stream",
     "text": [
      "Sending command : {'HB': 0, 'IO': 1, 'WO': 0, 'DM': 'D', 'CMD': [5, 9]}\n",
      "Data sent successfully\n"
     ]
    },
    {
     "name": "stderr",
     "output_type": "stream",
     "text": [
      "Too many measurments in the input buffer: 564/500. Clearing buffer...\n"
     ]
    },
    {
     "name": "stdout",
     "output_type": "stream",
     "text": [
      "Sending command : {'HB': 0, 'IO': 1, 'WO': 0, 'DM': 'D', 'CMD': [5, 9]}\n",
      "Data sent successfully\n"
     ]
    },
    {
     "name": "stderr",
     "output_type": "stream",
     "text": [
      "Too many measurments in the input buffer: 512/500. Clearing buffer...\n"
     ]
    },
    {
     "name": "stdout",
     "output_type": "stream",
     "text": [
      "Sending command : {'HB': 0, 'IO': 1, 'WO': 0, 'DM': 'D', 'CMD': [5, 9]}\n",
      "Data sent successfully\n"
     ]
    },
    {
     "name": "stderr",
     "output_type": "stream",
     "text": [
      "Too many measurments in the input buffer: 540/500. Clearing buffer...\n"
     ]
    },
    {
     "name": "stdout",
     "output_type": "stream",
     "text": [
      "Sending command : {'HB': 0, 'IO': 1, 'WO': 0, 'DM': 'D', 'CMD': [5, 9]}\n",
      "Data sent successfully\n"
     ]
    },
    {
     "name": "stderr",
     "output_type": "stream",
     "text": [
      "Too many measurments in the input buffer: 530/500. Clearing buffer...\n"
     ]
    },
    {
     "name": "stdout",
     "output_type": "stream",
     "text": [
      "Sending command : {'HB': 0, 'IO': 1, 'WO': 0, 'DM': 'S', 'CMD': [-5, -26]}\n",
      "Data sent successfully\n"
     ]
    },
    {
     "name": "stderr",
     "output_type": "stream",
     "text": [
      "Too many measurments in the input buffer: 576/500. Clearing buffer...\n"
     ]
    },
    {
     "name": "stdout",
     "output_type": "stream",
     "text": [
      "Sending command : {'HB': 0, 'IO': 1, 'WO': 0, 'DM': 'S', 'CMD': [-5, -45]}\n",
      "Data sent successfully\n",
      "Sending command : {'HB': 0, 'IO': 1, 'WO': 0, 'DM': 'S', 'CMD': [-5, -45]}\n",
      "Data sent successfully\n"
     ]
    },
    {
     "name": "stderr",
     "output_type": "stream",
     "text": [
      "Too many measurments in the input buffer: 542/500. Clearing buffer...\n",
      "Too many measurments in the input buffer: 539/500. Clearing buffer...\n"
     ]
    },
    {
     "name": "stdout",
     "output_type": "stream",
     "text": [
      "Sending command : {'HB': 0, 'IO': 1, 'WO': 0, 'DM': 'S', 'CMD': [-5, -45]}\n",
      "Data sent successfully\n"
     ]
    },
    {
     "name": "stderr",
     "output_type": "stream",
     "text": [
      "Too many measurments in the input buffer: 524/500. Clearing buffer...\n"
     ]
    },
    {
     "name": "stdout",
     "output_type": "stream",
     "text": [
      "Sending command : {'HB': 0, 'IO': 1, 'WO': 0, 'DM': 'S', 'CMD': [-5, -45]}\n",
      "Data sent successfully\n",
      "Sending command : {'HB': 0, 'IO': 1, 'WO': 0, 'DM': 'D', 'CMD': [5, 9]}\n",
      "Data sent successfully\n"
     ]
    },
    {
     "name": "stderr",
     "output_type": "stream",
     "text": [
      "Too many measurments in the input buffer: 511/500. Clearing buffer...\n"
     ]
    },
    {
     "name": "stdout",
     "output_type": "stream",
     "text": [
      "Sending command : {'HB': 0, 'IO': 1, 'WO': 0, 'DM': 'D', 'CMD': [5, 9]}\n",
      "Data sent successfully\n",
      "Sending command : {'HB': 0, 'IO': 1, 'WO': 0, 'DM': 'D', 'CMD': [5, 9]}\n",
      "Data sent successfully\n"
     ]
    },
    {
     "name": "stderr",
     "output_type": "stream",
     "text": [
      "Too many measurments in the input buffer: 574/500. Clearing buffer...\n",
      "Too many measurments in the input buffer: 551/500. Clearing buffer...\n"
     ]
    },
    {
     "name": "stdout",
     "output_type": "stream",
     "text": [
      "Sending command : {'HB': 0, 'IO': 1, 'WO': 0, 'DM': 'D', 'CMD': [5, 9]}\n",
      "Data sent successfully\n"
     ]
    },
    {
     "name": "stderr",
     "output_type": "stream",
     "text": [
      "Too many measurments in the input buffer: 526/500. Clearing buffer...\n"
     ]
    },
    {
     "name": "stdout",
     "output_type": "stream",
     "text": [
      "Sending command : {'HB': 0, 'IO': 1, 'WO': 0, 'DM': 'D', 'CMD': [5, 9]}\n",
      "Data sent successfully\n"
     ]
    },
    {
     "name": "stderr",
     "output_type": "stream",
     "text": [
      "Too many measurments in the input buffer: 575/500. Clearing buffer...\n"
     ]
    },
    {
     "name": "stdout",
     "output_type": "stream",
     "text": [
      "Sending command : {'HB': 0, 'IO': 1, 'WO': 0, 'DM': 'S', 'CMD': [-5, -26]}\n",
      "Data sent successfully\n"
     ]
    },
    {
     "name": "stderr",
     "output_type": "stream",
     "text": [
      "Too many measurments in the input buffer: 560/500. Clearing buffer...\n"
     ]
    },
    {
     "name": "stdout",
     "output_type": "stream",
     "text": [
      "Sending command : {'HB': 0, 'IO': 1, 'WO': 0, 'DM': 'S', 'CMD': [-5, -45]}\n",
      "Data sent successfully\n",
      "Sending command : {'HB': 0, 'IO': 1, 'WO': 0, 'DM': 'D', 'CMD': [5, -9]}\n",
      "Data sent successfully\n",
      "Sending command : {'HB': 0, 'IO': 1, 'WO': 0, 'DM': 'S', 'CMD': [-5, -45]}\n",
      "Data sent successfully\n"
     ]
    },
    {
     "name": "stderr",
     "output_type": "stream",
     "text": [
      "Too many measurments in the input buffer: 511/500. Clearing buffer...\n"
     ]
    },
    {
     "name": "stdout",
     "output_type": "stream",
     "text": [
      "Sending command : {'HB': 0, 'IO': 1, 'WO': 0, 'DM': 'S', 'CMD': [-5, -45]}\n",
      "Data sent successfully\n"
     ]
    },
    {
     "name": "stderr",
     "output_type": "stream",
     "text": [
      "Too many measurments in the input buffer: 536/500. Clearing buffer...\n"
     ]
    },
    {
     "name": "stdout",
     "output_type": "stream",
     "text": [
      "Sending command : {'HB': 0, 'IO': 1, 'WO': 0, 'DM': 'D', 'CMD': [5, -9]}\n",
      "Data sent successfully\n"
     ]
    },
    {
     "name": "stderr",
     "output_type": "stream",
     "text": [
      "Too many measurments in the input buffer: 559/500. Clearing buffer...\n"
     ]
    },
    {
     "name": "stdout",
     "output_type": "stream",
     "text": [
      "Sending command : {'HB': 0, 'IO': 1, 'WO': 0, 'DM': 'D', 'CMD': [5, -9]}\n",
      "Data sent successfully\n"
     ]
    },
    {
     "name": "stderr",
     "output_type": "stream",
     "text": [
      "Too many measurments in the input buffer: 501/500. Clearing buffer...\n"
     ]
    },
    {
     "name": "stdout",
     "output_type": "stream",
     "text": [
      "Sending command : {'HB': 0, 'IO': 1, 'WO': 0, 'DM': 'S', 'CMD': [-5, -26]}\n",
      "Data sent successfully\n"
     ]
    },
    {
     "name": "stderr",
     "output_type": "stream",
     "text": [
      "Too many measurments in the input buffer: 511/500. Clearing buffer...\n"
     ]
    },
    {
     "name": "stdout",
     "output_type": "stream",
     "text": [
      "Sending command : {'HB': 0, 'IO': 1, 'WO': 0, 'DM': 'S', 'CMD': [-5, -45]}\n",
      "Data sent successfully\n",
      "Sending command : {'HB': 0, 'IO': 1, 'WO': 0, 'DM': 'S', 'CMD': [-5, -45]}\n",
      "Data sent successfully\n"
     ]
    },
    {
     "name": "stderr",
     "output_type": "stream",
     "text": [
      "Too many measurments in the input buffer: 541/500. Clearing buffer...\n"
     ]
    },
    {
     "name": "stdout",
     "output_type": "stream",
     "text": [
      "Sending command : {'HB': 0, 'IO': 1, 'WO': 0, 'DM': 'D', 'CMD': [5, -9]}\n",
      "Data sent successfully\n"
     ]
    },
    {
     "name": "stderr",
     "output_type": "stream",
     "text": [
      "Too many measurments in the input buffer: 511/500. Clearing buffer...\n"
     ]
    },
    {
     "name": "stdout",
     "output_type": "stream",
     "text": [
      "Sending command : {'HB': 0, 'IO': 1, 'WO': 0, 'DM': 'S', 'CMD': [-5, -45]}\n",
      "Data sent successfully\n",
      "Sending command : {'HB': 0, 'IO': 1, 'WO': 0, 'DM': 'D', 'CMD': [5, 9]}\n",
      "Data sent successfully\n"
     ]
    },
    {
     "name": "stderr",
     "output_type": "stream",
     "text": [
      "Too many measurments in the input buffer: 581/500. Clearing buffer...\n"
     ]
    },
    {
     "name": "stdout",
     "output_type": "stream",
     "text": [
      "Sending command : {'HB': 0, 'IO': 1, 'WO': 0, 'DM': 'S', 'CMD': [5, 26]}\n",
      "Data sent successfully\n"
     ]
    },
    {
     "name": "stderr",
     "output_type": "stream",
     "text": [
      "Too many measurments in the input buffer: 550/500. Clearing buffer...\n"
     ]
    },
    {
     "name": "stdout",
     "output_type": "stream",
     "text": [
      "Sending command : {'HB': 0, 'IO': 1, 'WO': 0, 'DM': 'D', 'CMD': [5, 9]}\n",
      "Data sent successfully\n"
     ]
    },
    {
     "name": "stderr",
     "output_type": "stream",
     "text": [
      "Too many measurments in the input buffer: 551/500. Clearing buffer...\n"
     ]
    },
    {
     "name": "stdout",
     "output_type": "stream",
     "text": [
      "Sending command : {'HB': 0, 'IO': 1, 'WO': 0, 'DM': 'D', 'CMD': [5, 9]}\n",
      "Data sent successfully\n"
     ]
    },
    {
     "name": "stderr",
     "output_type": "stream",
     "text": [
      "Too many measurments in the input buffer: 537/500. Clearing buffer...\n"
     ]
    },
    {
     "name": "stdout",
     "output_type": "stream",
     "text": [
      "Sending command : {'HB': 0, 'IO': 1, 'WO': 0, 'DM': 'S', 'CMD': [5, 26]}\n",
      "Data sent successfully\n",
      "Sending command : {'HB': 0, 'IO': 1, 'WO': 0, 'DM': 'S', 'CMD': [-5, -26]}\n",
      "Data sent successfully\n"
     ]
    },
    {
     "name": "stderr",
     "output_type": "stream",
     "text": [
      "Too many measurments in the input buffer: 577/500. Clearing buffer...\n"
     ]
    },
    {
     "name": "stdout",
     "output_type": "stream",
     "text": [
      "Sending command : {'HB': 0, 'IO': 1, 'WO': 0, 'DM': 'D', 'CMD': [5, 9]}\n",
      "Data sent successfully\n"
     ]
    },
    {
     "name": "stderr",
     "output_type": "stream",
     "text": [
      "Too many measurments in the input buffer: 523/500. Clearing buffer...\n"
     ]
    },
    {
     "name": "stdout",
     "output_type": "stream",
     "text": [
      "Sending command : {'HB': 0, 'IO': 1, 'WO': 0, 'DM': 'D', 'CMD': [5, 9]}\n",
      "Data sent successfully\n"
     ]
    },
    {
     "name": "stderr",
     "output_type": "stream",
     "text": [
      "Too many measurments in the input buffer: 570/500. Clearing buffer...\n"
     ]
    },
    {
     "name": "stdout",
     "output_type": "stream",
     "text": [
      "Sending command : {'HB': 0, 'IO': 1, 'WO': 0, 'DM': 'D', 'CMD': [5, -9]}\n",
      "Data sent successfully\n"
     ]
    },
    {
     "name": "stderr",
     "output_type": "stream",
     "text": [
      "Too many measurments in the input buffer: 512/500. Clearing buffer...\n"
     ]
    },
    {
     "name": "stdout",
     "output_type": "stream",
     "text": [
      "Sending command : {'HB': 0, 'IO': 1, 'WO': 0, 'DM': 'S', 'CMD': [-5, -45]}\n",
      "Data sent successfully\n"
     ]
    },
    {
     "name": "stderr",
     "output_type": "stream",
     "text": [
      "Too many measurments in the input buffer: 539/500. Clearing buffer...\n"
     ]
    },
    {
     "name": "stdout",
     "output_type": "stream",
     "text": [
      "Sending command : {'HB': 0, 'IO': 1, 'WO': 0, 'DM': 'S', 'CMD': [-5, -26]}\n",
      "Data sent successfully\n"
     ]
    },
    {
     "name": "stderr",
     "output_type": "stream",
     "text": [
      "Too many measurments in the input buffer: 507/500. Clearing buffer...\n"
     ]
    },
    {
     "name": "stdout",
     "output_type": "stream",
     "text": [
      "Sending command : {'HB': 0, 'IO': 1, 'WO': 0, 'DM': 'S', 'CMD': [-5, -45]}\n",
      "Data sent successfully\n"
     ]
    },
    {
     "name": "stderr",
     "output_type": "stream",
     "text": [
      "Too many measurments in the input buffer: 583/500. Clearing buffer...\n"
     ]
    },
    {
     "name": "stdout",
     "output_type": "stream",
     "text": [
      "Sending command : {'HB': 0, 'IO': 1, 'WO': 0, 'DM': 'S', 'CMD': [-5, -45]}\n",
      "Data sent successfully\n"
     ]
    },
    {
     "name": "stderr",
     "output_type": "stream",
     "text": [
      "Too many measurments in the input buffer: 522/500. Clearing buffer...\n"
     ]
    },
    {
     "name": "stdout",
     "output_type": "stream",
     "text": [
      "Sending command : {'HB': 0, 'IO': 1, 'WO': 0, 'DM': 'S', 'CMD': [-5, -45]}\n",
      "Data sent successfully\n",
      "Sending command : {'HB': 0, 'IO': 1, 'WO': 0, 'DM': 'S', 'CMD': [-5, -26]}\n",
      "Data sent successfully\n"
     ]
    },
    {
     "name": "stderr",
     "output_type": "stream",
     "text": [
      "Too many measurments in the input buffer: 528/500. Clearing buffer...\n",
      "Too many measurments in the input buffer: 530/500. Clearing buffer...\n"
     ]
    },
    {
     "name": "stdout",
     "output_type": "stream",
     "text": [
      "Sending command : {'HB': 0, 'IO': 1, 'WO': 0, 'DM': 'S', 'CMD': [-5, -45]}\n",
      "Data sent successfully\n"
     ]
    },
    {
     "name": "stderr",
     "output_type": "stream",
     "text": [
      "Too many measurments in the input buffer: 512/500. Clearing buffer...\n"
     ]
    },
    {
     "name": "stdout",
     "output_type": "stream",
     "text": [
      "Sending command : {'HB': 0, 'IO': 1, 'WO': 0, 'DM': 'S', 'CMD': [5, 44]}\n",
      "Data sent successfully\n",
      "Sending command : {'HB': 0, 'IO': 1, 'WO': 0, 'DM': 'D', 'CMD': [5, 9]}\n",
      "Data sent successfully\n"
     ]
    },
    {
     "name": "stderr",
     "output_type": "stream",
     "text": [
      "Too many measurments in the input buffer: 519/500. Clearing buffer...\n"
     ]
    },
    {
     "name": "stdout",
     "output_type": "stream",
     "text": [
      "Sending command : {'HB': 0, 'IO': 1, 'WO': 0, 'DM': 'D', 'CMD': [5, 9]}\n",
      "Data sent successfully\n"
     ]
    },
    {
     "name": "stderr",
     "output_type": "stream",
     "text": [
      "Too many measurments in the input buffer: 518/500. Clearing buffer...\n"
     ]
    },
    {
     "name": "stdout",
     "output_type": "stream",
     "text": [
      "Sending command : {'HB': 0, 'IO': 1, 'WO': 0, 'DM': 'D', 'CMD': [5, 9]}\n",
      "Data sent successfully\n"
     ]
    },
    {
     "name": "stderr",
     "output_type": "stream",
     "text": [
      "Too many measurments in the input buffer: 575/500. Clearing buffer...\n"
     ]
    },
    {
     "name": "stdout",
     "output_type": "stream",
     "text": [
      "Sending command : {'HB': 0, 'IO': 1, 'WO': 0, 'DM': 'D', 'CMD': [5, 9]}\n",
      "Data sent successfully\n",
      "Sending command : {'HB': 0, 'IO': 1, 'WO': 0, 'DM': 'D', 'CMD': [5, 9]}\n",
      "Data sent successfully\n",
      "Sending command : {'HB': 0, 'IO': 1, 'WO': 0, 'DM': 'D', 'CMD': [5, 9]}\n",
      "Data sent successfully\n"
     ]
    },
    {
     "name": "stderr",
     "output_type": "stream",
     "text": [
      "Too many measurments in the input buffer: 568/500. Clearing buffer...\n"
     ]
    },
    {
     "name": "stdout",
     "output_type": "stream",
     "text": [
      "Sending command : {'HB': 0, 'IO': 1, 'WO': 0, 'DM': 'D', 'CMD': [5, 9]}\n",
      "Data sent successfully\n",
      "Sending command : {'HB': 0, 'IO': 1, 'WO': 0, 'DM': 'D', 'CMD': [5, 9]}\n",
      "Data sent successfully\n"
     ]
    },
    {
     "name": "stderr",
     "output_type": "stream",
     "text": [
      "Too many measurments in the input buffer: 573/500. Clearing buffer...\n"
     ]
    },
    {
     "name": "stdout",
     "output_type": "stream",
     "text": [
      "Sending command : {'HB': 0, 'IO': 1, 'WO': 0, 'DM': 'S', 'CMD': [5, 26]}\n",
      "Data sent successfully\n",
      "Sending command : {'HB': 0, 'IO': 1, 'WO': 0, 'DM': 'S', 'CMD': [-5, -26]}\n",
      "Data sent successfully\n"
     ]
    },
    {
     "name": "stderr",
     "output_type": "stream",
     "text": [
      "Too many measurments in the input buffer: 542/500. Clearing buffer...\n"
     ]
    },
    {
     "name": "stdout",
     "output_type": "stream",
     "text": [
      "Sending command : {'HB': 0, 'IO': 1, 'WO': 0, 'DM': 'S', 'CMD': [-5, -45]}\n",
      "Data sent successfully\n"
     ]
    },
    {
     "name": "stderr",
     "output_type": "stream",
     "text": [
      "Too many measurments in the input buffer: 511/500. Clearing buffer...\n"
     ]
    },
    {
     "name": "stdout",
     "output_type": "stream",
     "text": [
      "Sending command : {'HB': 0, 'IO': 1, 'WO': 0, 'DM': 'S', 'CMD': [-5, -45]}\n",
      "Data sent successfully\n",
      "Sending command : {'HB': 0, 'IO': 1, 'WO': 0, 'DM': 'S', 'CMD': [-5, -45]}\n",
      "Data sent successfully\n",
      "Sending command : {'HB': 0, 'IO': 1, 'WO': 0, 'DM': 'S', 'CMD': [-5, -45]}\n",
      "Data sent successfully\n"
     ]
    },
    {
     "name": "stderr",
     "output_type": "stream",
     "text": [
      "Too many measurments in the input buffer: 542/500. Clearing buffer...\n"
     ]
    },
    {
     "name": "stdout",
     "output_type": "stream",
     "text": [
      "Sending command : {'HB': 0, 'IO': 1, 'WO': 0, 'DM': 'S', 'CMD': [-5, -45]}\n",
      "Data sent successfully\n",
      "Sending command : {'HB': 0, 'IO': 1, 'WO': 0, 'DM': 'D', 'CMD': [5, 9]}\n",
      "Data sent successfully\n"
     ]
    },
    {
     "name": "stderr",
     "output_type": "stream",
     "text": [
      "Too many measurments in the input buffer: 550/500. Clearing buffer...\n"
     ]
    },
    {
     "name": "stdout",
     "output_type": "stream",
     "text": [
      "Sending command : {'HB': 0, 'IO': 1, 'WO': 0, 'DM': 'D', 'CMD': [5, 9]}\n",
      "Data sent successfully\n"
     ]
    },
    {
     "name": "stderr",
     "output_type": "stream",
     "text": [
      "Too many measurments in the input buffer: 563/500. Clearing buffer...\n"
     ]
    },
    {
     "name": "stdout",
     "output_type": "stream",
     "text": [
      "Sending command : {'HB': 0, 'IO': 1, 'WO': 0, 'DM': 'D', 'CMD': [5, 9]}\n",
      "Data sent successfully\n"
     ]
    },
    {
     "name": "stderr",
     "output_type": "stream",
     "text": [
      "Too many measurments in the input buffer: 515/500. Clearing buffer...\n"
     ]
    },
    {
     "name": "stdout",
     "output_type": "stream",
     "text": [
      "Sending command : {'HB': 0, 'IO': 1, 'WO': 0, 'DM': 'D', 'CMD': [5, 9]}\n",
      "Data sent successfully\n"
     ]
    },
    {
     "name": "stderr",
     "output_type": "stream",
     "text": [
      "Too many measurments in the input buffer: 528/500. Clearing buffer...\n"
     ]
    },
    {
     "name": "stdout",
     "output_type": "stream",
     "text": [
      "Sending command : {'HB': 0, 'IO': 1, 'WO': 0, 'DM': 'S', 'CMD': [5, 44]}\n",
      "Data sent successfully\n"
     ]
    },
    {
     "name": "stderr",
     "output_type": "stream",
     "text": [
      "Too many measurments in the input buffer: 503/500. Clearing buffer...\n"
     ]
    },
    {
     "name": "stdout",
     "output_type": "stream",
     "text": [
      "Sending command : {'HB': 0, 'IO': 1, 'WO': 0, 'DM': 'S', 'CMD': [5, 26]}\n",
      "Data sent successfully\n"
     ]
    },
    {
     "name": "stderr",
     "output_type": "stream",
     "text": [
      "Too many measurments in the input buffer: 540/500. Clearing buffer...\n"
     ]
    },
    {
     "name": "stdout",
     "output_type": "stream",
     "text": [
      "Sending command : {'HB': 0, 'IO': 1, 'WO': 0, 'DM': 'S', 'CMD': [5, 44]}\n",
      "Data sent successfully\n",
      "Sending command : {'HB': 0, 'IO': 1, 'WO': 0, 'DM': 'D', 'CMD': [5, 9]}\n",
      "Data sent successfully\n"
     ]
    },
    {
     "name": "stderr",
     "output_type": "stream",
     "text": [
      "Too many measurments in the input buffer: 530/500. Clearing buffer...\n"
     ]
    },
    {
     "name": "stdout",
     "output_type": "stream",
     "text": [
      "Sending command : {'HB': 0, 'IO': 1, 'WO': 0, 'DM': 'D', 'CMD': [5, 9]}\n",
      "Data sent successfully\n"
     ]
    },
    {
     "name": "stderr",
     "output_type": "stream",
     "text": [
      "Too many measurments in the input buffer: 574/500. Clearing buffer...\n"
     ]
    },
    {
     "name": "stdout",
     "output_type": "stream",
     "text": [
      "Sending command : {'HB': 0, 'IO': 1, 'WO': 0, 'DM': 'D', 'CMD': [5, 9]}\n",
      "Data sent successfully\n",
      "Sending command : {'HB': 0, 'IO': 1, 'WO': 0, 'DM': 'D', 'CMD': [5, 9]}\n",
      "Data sent successfully\n"
     ]
    },
    {
     "name": "stderr",
     "output_type": "stream",
     "text": [
      "Too many measurments in the input buffer: 503/500. Clearing buffer...\n"
     ]
    },
    {
     "name": "stdout",
     "output_type": "stream",
     "text": [
      "Sending command : {'HB': 0, 'IO': 1, 'WO': 0, 'DM': 'S', 'CMD': [-5, -26]}\n",
      "Data sent successfully\n"
     ]
    },
    {
     "name": "stderr",
     "output_type": "stream",
     "text": [
      "Too many measurments in the input buffer: 534/500. Clearing buffer...\n"
     ]
    },
    {
     "name": "stdout",
     "output_type": "stream",
     "text": [
      "Sending command : {'HB': 0, 'IO': 1, 'WO': 0, 'DM': 'S', 'CMD': [-5, -45]}\n",
      "Data sent successfully\n"
     ]
    },
    {
     "name": "stderr",
     "output_type": "stream",
     "text": [
      "Too many measurments in the input buffer: 507/500. Clearing buffer...\n"
     ]
    },
    {
     "name": "stdout",
     "output_type": "stream",
     "text": [
      "Sending command : {'HB': 0, 'IO': 1, 'WO': 0, 'DM': 'D', 'CMD': [5, 9]}\n",
      "Data sent successfully\n"
     ]
    },
    {
     "name": "stderr",
     "output_type": "stream",
     "text": [
      "Too many measurments in the input buffer: 534/500. Clearing buffer...\n"
     ]
    },
    {
     "name": "stdout",
     "output_type": "stream",
     "text": [
      "Sending command : {'HB': 0, 'IO': 1, 'WO': 0, 'DM': 'D', 'CMD': [5, -9]}\n",
      "Data sent successfully\n",
      "Sending command : {'HB': 0, 'IO': 1, 'WO': 0, 'DM': 'S', 'CMD': [-5, -45]}\n",
      "Data sent successfully\n"
     ]
    },
    {
     "name": "stderr",
     "output_type": "stream",
     "text": [
      "Too many measurments in the input buffer: 503/500. Clearing buffer...\n"
     ]
    },
    {
     "name": "stdout",
     "output_type": "stream",
     "text": [
      "Sending command : {'HB': 0, 'IO': 1, 'WO': 0, 'DM': 'S', 'CMD': [-5, -45]}\n",
      "Data sent successfully\n",
      "Sending command : {'HB': 0, 'IO': 1, 'WO': 0, 'DM': 'S', 'CMD': [-5, -45]}\n",
      "Data sent successfully\n"
     ]
    },
    {
     "name": "stderr",
     "output_type": "stream",
     "text": [
      "Too many measurments in the input buffer: 529/500. Clearing buffer...\n"
     ]
    },
    {
     "name": "stdout",
     "output_type": "stream",
     "text": [
      "Sending command : {'HB': 0, 'IO': 1, 'WO': 0, 'DM': 'S', 'CMD': [-5, -45]}\n",
      "Data sent successfully\n"
     ]
    },
    {
     "name": "stderr",
     "output_type": "stream",
     "text": [
      "Too many measurments in the input buffer: 511/500. Clearing buffer...\n"
     ]
    },
    {
     "name": "stdout",
     "output_type": "stream",
     "text": [
      "Sending command : {'HB': 0, 'IO': 1, 'WO': 0, 'DM': 'S', 'CMD': [-5, -45]}\n",
      "Data sent successfully\n"
     ]
    },
    {
     "name": "stderr",
     "output_type": "stream",
     "text": [
      "Too many measurments in the input buffer: 582/500. Clearing buffer...\n"
     ]
    },
    {
     "name": "stdout",
     "output_type": "stream",
     "text": [
      "Sending command : {'HB': 0, 'IO': 1, 'WO': 0, 'DM': 'S', 'CMD': [5, 44]}\n",
      "Data sent successfully\n"
     ]
    },
    {
     "name": "stderr",
     "output_type": "stream",
     "text": [
      "Too many measurments in the input buffer: 535/500. Clearing buffer...\n"
     ]
    },
    {
     "name": "stdout",
     "output_type": "stream",
     "text": [
      "Sending command : {'HB': 0, 'IO': 1, 'WO': 0, 'DM': 'D', 'CMD': [5, 9]}\n",
      "Data sent successfully\n"
     ]
    },
    {
     "name": "stderr",
     "output_type": "stream",
     "text": [
      "Too many measurments in the input buffer: 579/500. Clearing buffer...\n"
     ]
    },
    {
     "name": "stdout",
     "output_type": "stream",
     "text": [
      "Sending command : {'HB': 0, 'IO': 1, 'WO': 0, 'DM': 'D', 'CMD': [5, 9]}\n",
      "Data sent successfully\n",
      "Sending command : {'HB': 0, 'IO': 1, 'WO': 0, 'DM': 'S', 'CMD': [5, 44]}\n",
      "Data sent successfully\n"
     ]
    },
    {
     "name": "stderr",
     "output_type": "stream",
     "text": [
      "Too many measurments in the input buffer: 518/500. Clearing buffer...\n"
     ]
    },
    {
     "name": "stdout",
     "output_type": "stream",
     "text": [
      "Sending command : {'HB': 0, 'IO': 1, 'WO': 0, 'DM': 'D', 'CMD': [5, 9]}\n",
      "Data sent successfully\n"
     ]
    },
    {
     "name": "stderr",
     "output_type": "stream",
     "text": [
      "Too many measurments in the input buffer: 512/500. Clearing buffer...\n"
     ]
    },
    {
     "name": "stdout",
     "output_type": "stream",
     "text": [
      "Sending command : {'HB': 0, 'IO': 1, 'WO': 0, 'DM': 'S', 'CMD': [-5, -45]}\n",
      "Data sent successfully\n"
     ]
    },
    {
     "name": "stderr",
     "output_type": "stream",
     "text": [
      "Too many measurments in the input buffer: 505/500. Clearing buffer...\n"
     ]
    },
    {
     "name": "stdout",
     "output_type": "stream",
     "text": [
      "Sending command : {'HB': 0, 'IO': 1, 'WO': 0, 'DM': 'S', 'CMD': [-5, -45]}\n",
      "Data sent successfully\n",
      "Sending command : {'HB': 0, 'IO': 1, 'WO': 0, 'DM': 'S', 'CMD': [-5, -45]}\n",
      "Data sent successfully\n"
     ]
    },
    {
     "name": "stderr",
     "output_type": "stream",
     "text": [
      "Too many measurments in the input buffer: 511/500. Clearing buffer...\n"
     ]
    },
    {
     "name": "stdout",
     "output_type": "stream",
     "text": [
      "Sending command : {'HB': 0, 'IO': 1, 'WO': 0, 'DM': 'D', 'CMD': [5, 9]}\n",
      "Data sent successfully\n"
     ]
    },
    {
     "name": "stderr",
     "output_type": "stream",
     "text": [
      "Too many measurments in the input buffer: 513/500. Clearing buffer...\n"
     ]
    },
    {
     "name": "stdout",
     "output_type": "stream",
     "text": [
      "Sending command : {'HB': 0, 'IO': 1, 'WO': 0, 'DM': 'S', 'CMD': [-5, -45]}\n",
      "Data sent successfully\n"
     ]
    },
    {
     "name": "stderr",
     "output_type": "stream",
     "text": [
      "Too many measurments in the input buffer: 532/500. Clearing buffer...\n"
     ]
    },
    {
     "name": "stdout",
     "output_type": "stream",
     "text": [
      "Sending command : {'HB': 0, 'IO': 1, 'WO': 0, 'DM': 'S', 'CMD': [-5, -45]}\n",
      "Data sent successfully\n"
     ]
    },
    {
     "name": "stderr",
     "output_type": "stream",
     "text": [
      "Too many measurments in the input buffer: 515/500. Clearing buffer...\n"
     ]
    },
    {
     "name": "stdout",
     "output_type": "stream",
     "text": [
      "Sending command : {'HB': 0, 'IO': 1, 'WO': 0, 'DM': 'D', 'CMD': [5, 9]}\n",
      "Data sent successfully\n"
     ]
    },
    {
     "name": "stderr",
     "output_type": "stream",
     "text": [
      "Too many measurments in the input buffer: 506/500. Clearing buffer...\n"
     ]
    },
    {
     "name": "stdout",
     "output_type": "stream",
     "text": [
      "Sending command : {'HB': 0, 'IO': 1, 'WO': 0, 'DM': 'S', 'CMD': [-5, -45]}\n",
      "Data sent successfully\n",
      "Sending command : {'HB': 0, 'IO': 1, 'WO': 0, 'DM': 'S', 'CMD': [-5, -45]}\n",
      "Data sent successfully\n"
     ]
    },
    {
     "name": "stderr",
     "output_type": "stream",
     "text": [
      "Too many measurments in the input buffer: 500/500. Clearing buffer...\n"
     ]
    },
    {
     "name": "stdout",
     "output_type": "stream",
     "text": [
      "Sending command : {'HB': 0, 'IO': 1, 'WO': 0, 'DM': 'D', 'CMD': [5, 9]}\n",
      "Data sent successfully\n"
     ]
    },
    {
     "name": "stderr",
     "output_type": "stream",
     "text": [
      "Too many measurments in the input buffer: 516/500. Clearing buffer...\n"
     ]
    },
    {
     "name": "stdout",
     "output_type": "stream",
     "text": [
      "Sending command : {'HB': 0, 'IO': 1, 'WO': 0, 'DM': 'S', 'CMD': [-5, -45]}\n",
      "Data sent successfully\n"
     ]
    },
    {
     "name": "stderr",
     "output_type": "stream",
     "text": [
      "Too many measurments in the input buffer: 573/500. Clearing buffer...\n"
     ]
    },
    {
     "name": "stdout",
     "output_type": "stream",
     "text": [
      "Sending command : {'HB': 0, 'IO': 1, 'WO': 0, 'DM': 'S', 'CMD': [-5, -45]}\n",
      "Data sent successfully\n"
     ]
    },
    {
     "name": "stderr",
     "output_type": "stream",
     "text": [
      "Too many measurments in the input buffer: 529/500. Clearing buffer...\n"
     ]
    },
    {
     "name": "stdout",
     "output_type": "stream",
     "text": [
      "Sending command : {'HB': 0, 'IO': 1, 'WO': 0, 'DM': 'S', 'CMD': [-5, -45]}\n",
      "Data sent successfully\n"
     ]
    },
    {
     "name": "stderr",
     "output_type": "stream",
     "text": [
      "Too many measurments in the input buffer: 525/500. Clearing buffer...\n"
     ]
    },
    {
     "name": "stdout",
     "output_type": "stream",
     "text": [
      "Sending command : {'HB': 0, 'IO': 1, 'WO': 0, 'DM': 'S', 'CMD': [-5, -45]}\n",
      "Data sent successfully\n"
     ]
    },
    {
     "name": "stderr",
     "output_type": "stream",
     "text": [
      "Too many measurments in the input buffer: 506/500. Clearing buffer...\n"
     ]
    },
    {
     "name": "stdout",
     "output_type": "stream",
     "text": [
      "Sending command : {'HB': 0, 'IO': 1, 'WO': 0, 'DM': 'D', 'CMD': [5, 9]}\n",
      "Data sent successfully\n"
     ]
    },
    {
     "name": "stderr",
     "output_type": "stream",
     "text": [
      "Too many measurments in the input buffer: 577/500. Clearing buffer...\n"
     ]
    },
    {
     "name": "stdout",
     "output_type": "stream",
     "text": [
      "Sending command : {'HB': 0, 'IO': 1, 'WO': 0, 'DM': 'D', 'CMD': [5, 9]}\n",
      "Data sent successfully\n"
     ]
    },
    {
     "name": "stderr",
     "output_type": "stream",
     "text": [
      "Too many measurments in the input buffer: 546/500. Clearing buffer...\n"
     ]
    },
    {
     "name": "stdout",
     "output_type": "stream",
     "text": [
      "Sending command : {'HB': 0, 'IO': 1, 'WO': 0, 'DM': 'D', 'CMD': [5, 9]}\n",
      "Data sent successfully\n"
     ]
    },
    {
     "name": "stderr",
     "output_type": "stream",
     "text": [
      "Too many measurments in the input buffer: 537/500. Clearing buffer...\n"
     ]
    },
    {
     "name": "stdout",
     "output_type": "stream",
     "text": [
      "Sending command : {'HB': 0, 'IO': 1, 'WO': 0, 'DM': 'D', 'CMD': [5, 9]}\n",
      "Data sent successfully\n"
     ]
    },
    {
     "name": "stderr",
     "output_type": "stream",
     "text": [
      "Too many measurments in the input buffer: 580/500. Clearing buffer...\n"
     ]
    },
    {
     "name": "stdout",
     "output_type": "stream",
     "text": [
      "Sending command : {'HB': 0, 'IO': 1, 'WO': 0, 'DM': 'D', 'CMD': [5, 9]}\n",
      "Data sent successfully\n"
     ]
    },
    {
     "name": "stderr",
     "output_type": "stream",
     "text": [
      "Too many measurments in the input buffer: 529/500. Clearing buffer...\n"
     ]
    },
    {
     "name": "stdout",
     "output_type": "stream",
     "text": [
      "Sending command : {'HB': 0, 'IO': 1, 'WO': 0, 'DM': 'S', 'CMD': [-5, -45]}\n",
      "Data sent successfully\n"
     ]
    },
    {
     "name": "stderr",
     "output_type": "stream",
     "text": [
      "Too many measurments in the input buffer: 516/500. Clearing buffer...\n"
     ]
    },
    {
     "name": "stdout",
     "output_type": "stream",
     "text": [
      "Sending command : {'HB': 0, 'IO': 1, 'WO': 0, 'DM': 'S', 'CMD': [-5, -45]}\n",
      "Data sent successfully\n",
      "Sending command : {'HB': 0, 'IO': 1, 'WO': 0, 'DM': 'S', 'CMD': [-5, -45]}\n",
      "Data sent successfully\n"
     ]
    },
    {
     "name": "stderr",
     "output_type": "stream",
     "text": [
      "Too many measurments in the input buffer: 522/500. Clearing buffer...\n"
     ]
    },
    {
     "name": "stdout",
     "output_type": "stream",
     "text": [
      "Sending command : {'HB': 0, 'IO': 1, 'WO': 0, 'DM': 'S', 'CMD': [-5, -26]}\n",
      "Data sent successfully\n"
     ]
    },
    {
     "name": "stderr",
     "output_type": "stream",
     "text": [
      "Too many measurments in the input buffer: 527/500. Clearing buffer...\n"
     ]
    },
    {
     "name": "stdout",
     "output_type": "stream",
     "text": [
      "Sending command : {'HB': 0, 'IO': 1, 'WO': 0, 'DM': 'S', 'CMD': [-5, -45]}\n",
      "Data sent successfully\n"
     ]
    },
    {
     "name": "stderr",
     "output_type": "stream",
     "text": [
      "Too many measurments in the input buffer: 509/500. Clearing buffer...\n"
     ]
    },
    {
     "name": "stdout",
     "output_type": "stream",
     "text": [
      "Sending command : {'HB': 0, 'IO': 1, 'WO': 0, 'DM': 'S', 'CMD': [-5, -45]}\n",
      "Data sent successfully\n",
      "Sending command : {'HB': 0, 'IO': 1, 'WO': 0, 'DM': 'D', 'CMD': [5, 9]}\n",
      "Data sent successfully\n"
     ]
    },
    {
     "name": "stderr",
     "output_type": "stream",
     "text": [
      "Too many measurments in the input buffer: 574/500. Clearing buffer...\n"
     ]
    },
    {
     "name": "stdout",
     "output_type": "stream",
     "text": [
      "Sending command : {'HB': 0, 'IO': 1, 'WO': 0, 'DM': 'D', 'CMD': [5, 9]}\n",
      "Data sent successfully\n",
      "Sending command : {'HB': 0, 'IO': 1, 'WO': 0, 'DM': 'D', 'CMD': [5, 9]}\n",
      "Data sent successfully\n"
     ]
    },
    {
     "name": "stderr",
     "output_type": "stream",
     "text": [
      "Too many measurments in the input buffer: 515/500. Clearing buffer...\n"
     ]
    },
    {
     "name": "stdout",
     "output_type": "stream",
     "text": [
      "Sending command : {'HB': 0, 'IO': 1, 'WO': 0, 'DM': 'D', 'CMD': [5, 9]}\n",
      "Data sent successfully\n"
     ]
    },
    {
     "name": "stderr",
     "output_type": "stream",
     "text": [
      "Too many measurments in the input buffer: 524/500. Clearing buffer...\n"
     ]
    },
    {
     "name": "stdout",
     "output_type": "stream",
     "text": [
      "Sending command : {'HB': 0, 'IO': 1, 'WO': 0, 'DM': 'D', 'CMD': [5, 9]}\n",
      "Data sent successfully\n"
     ]
    },
    {
     "name": "stderr",
     "output_type": "stream",
     "text": [
      "Too many measurments in the input buffer: 536/500. Clearing buffer...\n"
     ]
    },
    {
     "name": "stdout",
     "output_type": "stream",
     "text": [
      "Sending command : {'HB': 0, 'IO': 1, 'WO': 0, 'DM': 'S', 'CMD': [-5, -45]}\n",
      "Data sent successfully\n",
      "Sending command : {'HB': 0, 'IO': 1, 'WO': 0, 'DM': 'S', 'CMD': [-5, -45]}\n",
      "Data sent successfully\n"
     ]
    },
    {
     "name": "stderr",
     "output_type": "stream",
     "text": [
      "Too many measurments in the input buffer: 571/500. Clearing buffer...\n"
     ]
    },
    {
     "name": "stdout",
     "output_type": "stream",
     "text": [
      "Sending command : {'HB': 0, 'IO': 1, 'WO': 0, 'DM': 'S', 'CMD': [-5, -45]}\n",
      "Data sent successfully\n"
     ]
    },
    {
     "name": "stderr",
     "output_type": "stream",
     "text": [
      "Too many measurments in the input buffer: 533/500. Clearing buffer...\n"
     ]
    },
    {
     "name": "stdout",
     "output_type": "stream",
     "text": [
      "Sending command : {'HB': 0, 'IO': 1, 'WO': 0, 'DM': 'S', 'CMD': [-5, -45]}\n",
      "Data sent successfully\n"
     ]
    },
    {
     "name": "stderr",
     "output_type": "stream",
     "text": [
      "Too many measurments in the input buffer: 522/500. Clearing buffer...\n"
     ]
    },
    {
     "name": "stdout",
     "output_type": "stream",
     "text": [
      "Sending command : {'HB': 0, 'IO': 1, 'WO': 0, 'DM': 'S', 'CMD': [-5, -45]}\n",
      "Data sent successfully\n"
     ]
    },
    {
     "name": "stderr",
     "output_type": "stream",
     "text": [
      "Too many measurments in the input buffer: 539/500. Clearing buffer...\n"
     ]
    },
    {
     "name": "stdout",
     "output_type": "stream",
     "text": [
      "Sending command : {'HB': 0, 'IO': 1, 'WO': 0, 'DM': 'S', 'CMD': [-5, -45]}\n",
      "Data sent successfully\n",
      "Sending command : {'HB': 0, 'IO': 1, 'WO': 0, 'DM': 'S', 'CMD': [-5, -45]}\n",
      "Data sent successfully\n"
     ]
    },
    {
     "name": "stderr",
     "output_type": "stream",
     "text": [
      "Too many measurments in the input buffer: 554/500. Clearing buffer...\n"
     ]
    },
    {
     "name": "stdout",
     "output_type": "stream",
     "text": [
      "Sending command : {'HB': 0, 'IO': 1, 'WO': 0, 'DM': 'D', 'CMD': [5, 9]}\n",
      "Data sent successfully\n",
      "Sending command : {'HB': 0, 'IO': 1, 'WO': 0, 'DM': 'D', 'CMD': [5, 9]}\n",
      "Data sent successfully\n"
     ]
    },
    {
     "name": "stderr",
     "output_type": "stream",
     "text": [
      "Too many measurments in the input buffer: 502/500. Clearing buffer...\n"
     ]
    },
    {
     "name": "stdout",
     "output_type": "stream",
     "text": [
      "Sending command : {'HB': 0, 'IO': 1, 'WO': 0, 'DM': 'S', 'CMD': [5, 44]}\n",
      "Data sent successfully\n"
     ]
    },
    {
     "name": "stderr",
     "output_type": "stream",
     "text": [
      "Too many measurments in the input buffer: 573/500. Clearing buffer...\n"
     ]
    },
    {
     "name": "stdout",
     "output_type": "stream",
     "text": [
      "Sending command : {'HB': 0, 'IO': 1, 'WO': 0, 'DM': 'S', 'CMD': [5, 44]}\n",
      "Data sent successfully\n",
      "Sending command : {'HB': 0, 'IO': 1, 'WO': 0, 'DM': 'S', 'CMD': [5, 44]}\n",
      "Data sent successfully\n"
     ]
    },
    {
     "name": "stderr",
     "output_type": "stream",
     "text": [
      "Too many measurments in the input buffer: 568/500. Clearing buffer...\n"
     ]
    },
    {
     "name": "stdout",
     "output_type": "stream",
     "text": [
      "Sending command : {'HB': 0, 'IO': 1, 'WO': 0, 'DM': 'D', 'CMD': [5, 9]}\n",
      "Data sent successfully\n"
     ]
    },
    {
     "name": "stderr",
     "output_type": "stream",
     "text": [
      "Too many measurments in the input buffer: 543/500. Clearing buffer...\n"
     ]
    },
    {
     "name": "stdout",
     "output_type": "stream",
     "text": [
      "Sending command : {'HB': 0, 'IO': 1, 'WO': 0, 'DM': 'D', 'CMD': [5, 9]}\n",
      "Data sent successfully\n",
      "Sending command : {'HB': 0, 'IO': 1, 'WO': 0, 'DM': 'D', 'CMD': [5, 9]}\n",
      "Data sent successfully\n"
     ]
    },
    {
     "name": "stderr",
     "output_type": "stream",
     "text": [
      "Too many measurments in the input buffer: 508/500. Clearing buffer...\n"
     ]
    },
    {
     "name": "stdout",
     "output_type": "stream",
     "text": [
      "Sending command : {'HB': 0, 'IO': 1, 'WO': 0, 'DM': 'D', 'CMD': [5, 9]}\n",
      "Data sent successfully\n"
     ]
    },
    {
     "name": "stderr",
     "output_type": "stream",
     "text": [
      "Too many measurments in the input buffer: 530/500. Clearing buffer...\n"
     ]
    },
    {
     "name": "stdout",
     "output_type": "stream",
     "text": [
      "Sending command : {'HB': 0, 'IO': 1, 'WO': 0, 'DM': 'S', 'CMD': [-5, -45]}\n",
      "Data sent successfully\n"
     ]
    },
    {
     "name": "stderr",
     "output_type": "stream",
     "text": [
      "Too many measurments in the input buffer: 566/500. Clearing buffer...\n"
     ]
    },
    {
     "name": "stdout",
     "output_type": "stream",
     "text": [
      "Sending command : {'HB': 0, 'IO': 1, 'WO': 0, 'DM': 'S', 'CMD': [-5, -45]}\n",
      "Data sent successfully\n",
      "Sending command : {'HB': 0, 'IO': 1, 'WO': 0, 'DM': 'S', 'CMD': [-5, -45]}\n",
      "Data sent successfully\n"
     ]
    },
    {
     "name": "stderr",
     "output_type": "stream",
     "text": [
      "Too many measurments in the input buffer: 529/500. Clearing buffer...\n"
     ]
    },
    {
     "name": "stdout",
     "output_type": "stream",
     "text": [
      "Sending command : {'HB': 0, 'IO': 1, 'WO': 0, 'DM': 'S', 'CMD': [-5, -45]}\n",
      "Data sent successfully\n"
     ]
    },
    {
     "name": "stderr",
     "output_type": "stream",
     "text": [
      "Too many measurments in the input buffer: 540/500. Clearing buffer...\n"
     ]
    },
    {
     "name": "stdout",
     "output_type": "stream",
     "text": [
      "Sending command : {'HB': 0, 'IO': 1, 'WO': 0, 'DM': 'S', 'CMD': [-5, -45]}\n",
      "Data sent successfully\n"
     ]
    },
    {
     "name": "stderr",
     "output_type": "stream",
     "text": [
      "Too many measurments in the input buffer: 542/500. Clearing buffer...\n"
     ]
    },
    {
     "name": "stdout",
     "output_type": "stream",
     "text": [
      "Sending command : {'HB': 0, 'IO': 1, 'WO': 0, 'DM': 'S', 'CMD': [-5, -45]}\n",
      "Data sent successfully\n"
     ]
    },
    {
     "name": "stderr",
     "output_type": "stream",
     "text": [
      "Too many measurments in the input buffer: 565/500. Clearing buffer...\n"
     ]
    },
    {
     "name": "stdout",
     "output_type": "stream",
     "text": [
      "Sending command : {'HB': 0, 'IO': 1, 'WO': 0, 'DM': 'D', 'CMD': [5, 9]}\n",
      "Data sent successfully\n",
      "Sending command : {'HB': 0, 'IO': 1, 'WO': 0, 'DM': 'D', 'CMD': [5, 9]}\n",
      "Data sent successfully\n"
     ]
    },
    {
     "name": "stderr",
     "output_type": "stream",
     "text": [
      "Too many measurments in the input buffer: 522/500. Clearing buffer...\n"
     ]
    },
    {
     "name": "stdout",
     "output_type": "stream",
     "text": [
      "Sending command : {'HB': 0, 'IO': 1, 'WO': 0, 'DM': 'S', 'CMD': [5, 26]}\n",
      "Data sent successfully\n"
     ]
    },
    {
     "name": "stderr",
     "output_type": "stream",
     "text": [
      "Too many measurments in the input buffer: 524/500. Clearing buffer...\n"
     ]
    },
    {
     "name": "stdout",
     "output_type": "stream",
     "text": [
      "Sending command : {'HB': 0, 'IO': 1, 'WO': 0, 'DM': 'D', 'CMD': [5, 9]}\n",
      "Data sent successfully\n"
     ]
    },
    {
     "name": "stderr",
     "output_type": "stream",
     "text": [
      "Too many measurments in the input buffer: 528/500. Clearing buffer...\n"
     ]
    },
    {
     "name": "stdout",
     "output_type": "stream",
     "text": [
      "Sending command : {'HB': 0, 'IO': 1, 'WO': 0, 'DM': 'S', 'CMD': [-5, -45]}\n",
      "Data sent successfully\n"
     ]
    },
    {
     "name": "stderr",
     "output_type": "stream",
     "text": [
      "Too many measurments in the input buffer: 522/500. Clearing buffer...\n"
     ]
    },
    {
     "name": "stdout",
     "output_type": "stream",
     "text": [
      "Sending command : {'HB': 0, 'IO': 1, 'WO': 0, 'DM': 'S', 'CMD': [-5, -45]}\n",
      "Data sent successfully\n",
      "Sending command : {'HB': 0, 'IO': 1, 'WO': 0, 'DM': 'S', 'CMD': [-5, -26]}\n",
      "Data sent successfully\n"
     ]
    },
    {
     "name": "stderr",
     "output_type": "stream",
     "text": [
      "Too many measurments in the input buffer: 521/500. Clearing buffer...\n"
     ]
    },
    {
     "name": "stdout",
     "output_type": "stream",
     "text": [
      "Sending command : {'HB': 0, 'IO': 1, 'WO': 0, 'DM': 'S', 'CMD': [-5, -45]}\n",
      "Data sent successfully\n"
     ]
    },
    {
     "name": "stderr",
     "output_type": "stream",
     "text": [
      "Too many measurments in the input buffer: 587/500. Clearing buffer...\n"
     ]
    },
    {
     "name": "stdout",
     "output_type": "stream",
     "text": [
      "Sending command : {'HB': 0, 'IO': 1, 'WO': 0, 'DM': 'S', 'CMD': [-5, -26]}\n",
      "Data sent successfully\n",
      "Sending command : {'HB': 0, 'IO': 1, 'WO': 0, 'DM': 'S', 'CMD': [-5, -45]}\n",
      "Data sent successfully\n"
     ]
    },
    {
     "name": "stderr",
     "output_type": "stream",
     "text": [
      "Too many measurments in the input buffer: 511/500. Clearing buffer...\n"
     ]
    },
    {
     "name": "stdout",
     "output_type": "stream",
     "text": [
      "Sending command : {'HB': 0, 'IO': 1, 'WO': 0, 'DM': 'S', 'CMD': [-5, -45]}\n",
      "Data sent successfully\n"
     ]
    },
    {
     "name": "stderr",
     "output_type": "stream",
     "text": [
      "Too many measurments in the input buffer: 590/500. Clearing buffer...\n"
     ]
    },
    {
     "name": "stdout",
     "output_type": "stream",
     "text": [
      "Sending command : {'HB': 0, 'IO': 1, 'WO': 0, 'DM': 'D', 'CMD': [5, 9]}\n",
      "Data sent successfully\n"
     ]
    },
    {
     "name": "stderr",
     "output_type": "stream",
     "text": [
      "Too many measurments in the input buffer: 565/500. Clearing buffer...\n"
     ]
    },
    {
     "name": "stdout",
     "output_type": "stream",
     "text": [
      "Sending command : {'HB': 0, 'IO': 1, 'WO': 0, 'DM': 'S', 'CMD': [5, 44]}\n",
      "Data sent successfully\n",
      "Sending command : {'HB': 0, 'IO': 1, 'WO': 0, 'DM': 'S', 'CMD': [-5, -45]}\n",
      "Data sent successfully\n"
     ]
    },
    {
     "name": "stderr",
     "output_type": "stream",
     "text": [
      "Too many measurments in the input buffer: 501/500. Clearing buffer...\n"
     ]
    },
    {
     "name": "stdout",
     "output_type": "stream",
     "text": [
      "Sending command : {'HB': 0, 'IO': 1, 'WO': 0, 'DM': 'S', 'CMD': [5, 44]}\n",
      "Data sent successfully\n",
      "Sending command : {'HB': 0, 'IO': 1, 'WO': 0, 'DM': 'S', 'CMD': [5, 26]}\n",
      "Data sent successfully\n"
     ]
    },
    {
     "name": "stderr",
     "output_type": "stream",
     "text": [
      "Too many measurments in the input buffer: 543/500. Clearing buffer...\n"
     ]
    },
    {
     "name": "stdout",
     "output_type": "stream",
     "text": [
      "Sending command : {'HB': 0, 'IO': 1, 'WO': 0, 'DM': 'S', 'CMD': [5, 26]}\n",
      "Data sent successfully\n"
     ]
    },
    {
     "name": "stderr",
     "output_type": "stream",
     "text": [
      "Too many measurments in the input buffer: 566/500. Clearing buffer...\n"
     ]
    },
    {
     "name": "stdout",
     "output_type": "stream",
     "text": [
      "Sending command : {'HB': 0, 'IO': 1, 'WO': 0, 'DM': 'D', 'CMD': [5, 9]}\n",
      "Data sent successfully\n",
      "Sending command : {'HB': 0, 'IO': 1, 'WO': 0, 'DM': 'S', 'CMD': [5, 26]}\n",
      "Data sent successfully\n",
      "Sending command : {'HB': 0, 'IO': 1, 'WO': 0, 'DM': 'D', 'CMD': [5, 9]}\n",
      "Data sent successfully\n"
     ]
    },
    {
     "name": "stderr",
     "output_type": "stream",
     "text": [
      "Too many measurments in the input buffer: 525/500. Clearing buffer...\n"
     ]
    },
    {
     "name": "stdout",
     "output_type": "stream",
     "text": [
      "Sending command : {'HB': 0, 'IO': 1, 'WO': 0, 'DM': 'S', 'CMD': [-5, -45]}\n",
      "Data sent successfully\n"
     ]
    },
    {
     "name": "stderr",
     "output_type": "stream",
     "text": [
      "Too many measurments in the input buffer: 540/500. Clearing buffer...\n"
     ]
    },
    {
     "name": "stdout",
     "output_type": "stream",
     "text": [
      "Sending command : {'HB': 0, 'IO': 1, 'WO': 0, 'DM': 'S', 'CMD': [-5, -45]}\n",
      "Data sent successfully\n"
     ]
    },
    {
     "name": "stderr",
     "output_type": "stream",
     "text": [
      "Too many measurments in the input buffer: 508/500. Clearing buffer...\n"
     ]
    },
    {
     "name": "stdout",
     "output_type": "stream",
     "text": [
      "Sending command : {'HB': 0, 'IO': 1, 'WO': 0, 'DM': 'S', 'CMD': [-5, -45]}\n",
      "Data sent successfully\n"
     ]
    },
    {
     "name": "stderr",
     "output_type": "stream",
     "text": [
      "Too many measurments in the input buffer: 507/500. Clearing buffer...\n"
     ]
    },
    {
     "name": "stdout",
     "output_type": "stream",
     "text": [
      "Sending command : {'HB': 0, 'IO': 1, 'WO': 0, 'DM': 'S', 'CMD': [-5, -45]}\n",
      "Data sent successfully\n",
      "Sending command : {'HB': 0, 'IO': 1, 'WO': 0, 'DM': 'S', 'CMD': [-5, -26]}\n",
      "Data sent successfully\n"
     ]
    },
    {
     "name": "stderr",
     "output_type": "stream",
     "text": [
      "Too many measurments in the input buffer: 505/500. Clearing buffer...\n"
     ]
    },
    {
     "name": "stdout",
     "output_type": "stream",
     "text": [
      "Sending command : {'HB': 0, 'IO': 1, 'WO': 0, 'DM': 'S', 'CMD': [-5, -45]}\n",
      "Data sent successfully\n"
     ]
    },
    {
     "name": "stderr",
     "output_type": "stream",
     "text": [
      "Too many measurments in the input buffer: 537/500. Clearing buffer...\n"
     ]
    },
    {
     "name": "stdout",
     "output_type": "stream",
     "text": [
      "Sending command : {'HB': 0, 'IO': 1, 'WO': 0, 'DM': 'S', 'CMD': [-5, -45]}\n",
      "Data sent successfully\n"
     ]
    },
    {
     "name": "stderr",
     "output_type": "stream",
     "text": [
      "Too many measurments in the input buffer: 586/500. Clearing buffer...\n"
     ]
    },
    {
     "name": "stdout",
     "output_type": "stream",
     "text": [
      "Sending command : {'HB': 0, 'IO': 1, 'WO': 0, 'DM': 'S', 'CMD': [-5, -26]}\n",
      "Data sent successfully\n"
     ]
    },
    {
     "name": "stderr",
     "output_type": "stream",
     "text": [
      "Too many measurments in the input buffer: 565/500. Clearing buffer...\n"
     ]
    },
    {
     "name": "stdout",
     "output_type": "stream",
     "text": [
      "Sending command : {'HB': 0, 'IO': 1, 'WO': 0, 'DM': 'S', 'CMD': [5, 26]}\n",
      "Data sent successfully\n",
      "Sending command : {'HB': 0, 'IO': 1, 'WO': 0, 'DM': 'S', 'CMD': [5, 44]}\n",
      "Data sent successfully\n"
     ]
    },
    {
     "name": "stderr",
     "output_type": "stream",
     "text": [
      "Too many measurments in the input buffer: 523/500. Clearing buffer...\n"
     ]
    },
    {
     "name": "stdout",
     "output_type": "stream",
     "text": [
      "Sending command : {'HB': 0, 'IO': 1, 'WO': 0, 'DM': 'S', 'CMD': [5, 44]}\n",
      "Data sent successfully\n"
     ]
    },
    {
     "name": "stderr",
     "output_type": "stream",
     "text": [
      "Too many measurments in the input buffer: 521/500. Clearing buffer...\n"
     ]
    },
    {
     "name": "stdout",
     "output_type": "stream",
     "text": [
      "Sending command : {'HB': 0, 'IO': 1, 'WO': 0, 'DM': 'S', 'CMD': [5, 44]}\n",
      "Data sent successfully\n"
     ]
    },
    {
     "name": "stderr",
     "output_type": "stream",
     "text": [
      "Too many measurments in the input buffer: 536/500. Clearing buffer...\n"
     ]
    },
    {
     "name": "stdout",
     "output_type": "stream",
     "text": [
      "Sending command : {'HB': 0, 'IO': 1, 'WO': 0, 'DM': 'S', 'CMD': [5, 44]}\n",
      "Data sent successfully\n"
     ]
    },
    {
     "name": "stderr",
     "output_type": "stream",
     "text": [
      "Too many measurments in the input buffer: 544/500. Clearing buffer...\n"
     ]
    },
    {
     "name": "stdout",
     "output_type": "stream",
     "text": [
      "Sending command : {'HB': 0, 'IO': 1, 'WO': 0, 'DM': 'S', 'CMD': [5, 44]}\n",
      "Data sent successfully\n"
     ]
    },
    {
     "name": "stderr",
     "output_type": "stream",
     "text": [
      "Too many measurments in the input buffer: 578/500. Clearing buffer...\n"
     ]
    },
    {
     "name": "stdout",
     "output_type": "stream",
     "text": [
      "Sending command : {'HB': 0, 'IO': 1, 'WO': 0, 'DM': 'S', 'CMD': [5, 44]}\n",
      "Data sent successfully\n"
     ]
    },
    {
     "name": "stderr",
     "output_type": "stream",
     "text": [
      "Too many measurments in the input buffer: 533/500. Clearing buffer...\n"
     ]
    },
    {
     "name": "stdout",
     "output_type": "stream",
     "text": [
      "Sending command : {'HB': 0, 'IO': 1, 'WO': 0, 'DM': 'S', 'CMD': [5, 44]}\n",
      "Data sent successfully\n"
     ]
    },
    {
     "name": "stderr",
     "output_type": "stream",
     "text": [
      "Too many measurments in the input buffer: 510/500. Clearing buffer...\n"
     ]
    },
    {
     "name": "stdout",
     "output_type": "stream",
     "text": [
      "Sending command : {'HB': 0, 'IO': 1, 'WO': 0, 'DM': 'S', 'CMD': [5, 26]}\n",
      "Data sent successfully\n"
     ]
    },
    {
     "name": "stderr",
     "output_type": "stream",
     "text": [
      "Too many measurments in the input buffer: 512/500. Clearing buffer...\n"
     ]
    },
    {
     "name": "stdout",
     "output_type": "stream",
     "text": [
      "Sending command : {'HB': 0, 'IO': 1, 'WO': 0, 'DM': 'D', 'CMD': [5, 9]}\n",
      "Data sent successfully\n"
     ]
    },
    {
     "name": "stderr",
     "output_type": "stream",
     "text": [
      "Too many measurments in the input buffer: 511/500. Clearing buffer...\n"
     ]
    },
    {
     "name": "stdout",
     "output_type": "stream",
     "text": [
      "Sending command : {'HB': 0, 'IO': 1, 'WO': 0, 'DM': 'D', 'CMD': [5, 9]}\n",
      "Data sent successfully\n"
     ]
    },
    {
     "name": "stderr",
     "output_type": "stream",
     "text": [
      "Too many measurments in the input buffer: 502/500. Clearing buffer...\n"
     ]
    },
    {
     "name": "stdout",
     "output_type": "stream",
     "text": [
      "Sending command : {'HB': 0, 'IO': 1, 'WO': 0, 'DM': 'S', 'CMD': [-5, -45]}\n",
      "Data sent successfully\n"
     ]
    },
    {
     "name": "stderr",
     "output_type": "stream",
     "text": [
      "Too many measurments in the input buffer: 554/500. Clearing buffer...\n"
     ]
    },
    {
     "name": "stdout",
     "output_type": "stream",
     "text": [
      "Sending command : {'HB': 0, 'IO': 1, 'WO': 0, 'DM': 'S', 'CMD': [-5, -45]}\n",
      "Data sent successfully\n"
     ]
    },
    {
     "name": "stderr",
     "output_type": "stream",
     "text": [
      "Too many measurments in the input buffer: 539/500. Clearing buffer...\n"
     ]
    },
    {
     "name": "stdout",
     "output_type": "stream",
     "text": [
      "Sending command : {'HB': 0, 'IO': 1, 'WO': 0, 'DM': 'S', 'CMD': [-5, -45]}\n",
      "Data sent successfully\n"
     ]
    },
    {
     "name": "stderr",
     "output_type": "stream",
     "text": [
      "Too many measurments in the input buffer: 515/500. Clearing buffer...\n"
     ]
    },
    {
     "name": "stdout",
     "output_type": "stream",
     "text": [
      "Sending command : {'HB': 0, 'IO': 1, 'WO': 0, 'DM': 'S', 'CMD': [-5, -45]}\n",
      "Data sent successfully\n",
      "Sending command : {'HB': 0, 'IO': 1, 'WO': 0, 'DM': 'S', 'CMD': [-5, -45]}\n",
      "Data sent successfully\n"
     ]
    },
    {
     "name": "stderr",
     "output_type": "stream",
     "text": [
      "Too many measurments in the input buffer: 545/500. Clearing buffer...\n"
     ]
    },
    {
     "name": "stdout",
     "output_type": "stream",
     "text": [
      "Sending command : {'HB': 0, 'IO': 1, 'WO': 0, 'DM': 'S', 'CMD': [-5, -45]}\n",
      "Data sent successfully\n"
     ]
    },
    {
     "name": "stderr",
     "output_type": "stream",
     "text": [
      "Too many measurments in the input buffer: 510/500. Clearing buffer...\n"
     ]
    },
    {
     "name": "stdout",
     "output_type": "stream",
     "text": [
      "Sending command : {'HB': 0, 'IO': 1, 'WO': 0, 'DM': 'S', 'CMD': [5, 26]}\n",
      "Data sent successfully\n",
      "Sending command : {'HB': 0, 'IO': 1, 'WO': 0, 'DM': 'D', 'CMD': [5, 9]}\n",
      "Data sent successfully\n"
     ]
    },
    {
     "name": "stderr",
     "output_type": "stream",
     "text": [
      "Too many measurments in the input buffer: 510/500. Clearing buffer...\n"
     ]
    },
    {
     "name": "stdout",
     "output_type": "stream",
     "text": [
      "Sending command : {'HB': 0, 'IO': 1, 'WO': 0, 'DM': 'S', 'CMD': [5, 26]}\n",
      "Data sent successfully\n"
     ]
    },
    {
     "name": "stderr",
     "output_type": "stream",
     "text": [
      "Too many measurments in the input buffer: 510/500. Clearing buffer...\n"
     ]
    },
    {
     "name": "stdout",
     "output_type": "stream",
     "text": [
      "Sending command : {'HB': 0, 'IO': 1, 'WO': 0, 'DM': 'S', 'CMD': [5, 26]}\n",
      "Data sent successfully\n",
      "Sending command : {'HB': 0, 'IO': 1, 'WO': 0, 'DM': 'S', 'CMD': [5, 26]}\n",
      "Data sent successfully\n"
     ]
    },
    {
     "name": "stderr",
     "output_type": "stream",
     "text": [
      "Too many measurments in the input buffer: 578/500. Clearing buffer...\n"
     ]
    },
    {
     "name": "stdout",
     "output_type": "stream",
     "text": [
      "Sending command : {'HB': 0, 'IO': 1, 'WO': 0, 'DM': 'D', 'CMD': [5, 9]}\n",
      "Data sent successfully\n"
     ]
    },
    {
     "name": "stderr",
     "output_type": "stream",
     "text": [
      "Too many measurments in the input buffer: 564/500. Clearing buffer...\n"
     ]
    },
    {
     "name": "stdout",
     "output_type": "stream",
     "text": [
      "Sending command : {'HB': 0, 'IO': 1, 'WO': 0, 'DM': 'S', 'CMD': [-5, -45]}\n",
      "Data sent successfully\n"
     ]
    },
    {
     "name": "stderr",
     "output_type": "stream",
     "text": [
      "Too many measurments in the input buffer: 564/500. Clearing buffer...\n"
     ]
    },
    {
     "name": "stdout",
     "output_type": "stream",
     "text": [
      "Sending command : {'HB': 0, 'IO': 1, 'WO': 0, 'DM': 'S', 'CMD': [-5, -45]}\n",
      "Data sent successfully\n"
     ]
    },
    {
     "name": "stderr",
     "output_type": "stream",
     "text": [
      "Too many measurments in the input buffer: 503/500. Clearing buffer...\n"
     ]
    },
    {
     "name": "stdout",
     "output_type": "stream",
     "text": [
      "Sending command : {'HB': 0, 'IO': 1, 'WO': 0, 'DM': 'S', 'CMD': [-5, -45]}\n",
      "Data sent successfully\n"
     ]
    },
    {
     "name": "stderr",
     "output_type": "stream",
     "text": [
      "Too many measurments in the input buffer: 544/500. Clearing buffer...\n"
     ]
    },
    {
     "name": "stdout",
     "output_type": "stream",
     "text": [
      "Sending command : {'HB': 0, 'IO': 1, 'WO': 0, 'DM': 'S', 'CMD': [5, 26]}\n",
      "Data sent successfully\n"
     ]
    },
    {
     "name": "stderr",
     "output_type": "stream",
     "text": [
      "Too many measurments in the input buffer: 590/500. Clearing buffer...\n"
     ]
    },
    {
     "name": "stdout",
     "output_type": "stream",
     "text": [
      "Sending command : {'HB': 0, 'IO': 1, 'WO': 0, 'DM': 'S', 'CMD': [-5, -45]}\n",
      "Data sent successfully\n",
      "Sending command : {'HB': 0, 'IO': 1, 'WO': 0, 'DM': 'S', 'CMD': [-5, -45]}\n",
      "Data sent successfully\n"
     ]
    },
    {
     "name": "stderr",
     "output_type": "stream",
     "text": [
      "Too many measurments in the input buffer: 513/500. Clearing buffer...\n"
     ]
    },
    {
     "name": "stdout",
     "output_type": "stream",
     "text": [
      "Sending command : {'HB': 0, 'IO': 1, 'WO': 0, 'DM': 'S', 'CMD': [-5, -45]}\n",
      "Data sent successfully\n",
      "Sending command : {'HB': 0, 'IO': 1, 'WO': 0, 'DM': 'S', 'CMD': [-5, -45]}\n",
      "Data sent successfully\n"
     ]
    },
    {
     "name": "stderr",
     "output_type": "stream",
     "text": [
      "Too many measurments in the input buffer: 534/500. Clearing buffer...\n"
     ]
    },
    {
     "name": "stdout",
     "output_type": "stream",
     "text": [
      "Sending command : {'HB': 0, 'IO': 1, 'WO': 0, 'DM': 'S', 'CMD': [-5, -45]}\n",
      "Data sent successfully\n",
      "Sending command : {'HB': 0, 'IO': 1, 'WO': 0, 'DM': 'S', 'CMD': [-5, -45]}\n",
      "Data sent successfully\n"
     ]
    },
    {
     "name": "stderr",
     "output_type": "stream",
     "text": [
      "Too many measurments in the input buffer: 534/500. Clearing buffer...\n"
     ]
    },
    {
     "name": "stdout",
     "output_type": "stream",
     "text": [
      "Sending command : {'HB': 0, 'IO': 1, 'WO': 0, 'DM': 'S', 'CMD': [5, 26]}\n",
      "Data sent successfully\n",
      "Sending command : {'HB': 0, 'IO': 1, 'WO': 0, 'DM': 'S', 'CMD': [5, 44]}\n",
      "Data sent successfully\n"
     ]
    },
    {
     "name": "stderr",
     "output_type": "stream",
     "text": [
      "Too many measurments in the input buffer: 559/500. Clearing buffer...\n"
     ]
    },
    {
     "name": "stdout",
     "output_type": "stream",
     "text": [
      "Sending command : {'HB': 0, 'IO': 1, 'WO': 0, 'DM': 'S', 'CMD': [5, 44]}\n",
      "Data sent successfully\n"
     ]
    },
    {
     "name": "stderr",
     "output_type": "stream",
     "text": [
      "Too many measurments in the input buffer: 533/500. Clearing buffer...\n"
     ]
    },
    {
     "name": "stdout",
     "output_type": "stream",
     "text": [
      "Sending command : {'HB': 0, 'IO': 1, 'WO': 0, 'DM': 'S', 'CMD': [5, 44]}\n",
      "Data sent successfully\n"
     ]
    },
    {
     "name": "stderr",
     "output_type": "stream",
     "text": [
      "Too many measurments in the input buffer: 578/500. Clearing buffer...\n"
     ]
    },
    {
     "name": "stdout",
     "output_type": "stream",
     "text": [
      "Sending command : {'HB': 0, 'IO': 1, 'WO': 0, 'DM': 'S', 'CMD': [-5, -45]}\n",
      "Data sent successfully\n"
     ]
    },
    {
     "name": "stderr",
     "output_type": "stream",
     "text": [
      "Too many measurments in the input buffer: 584/500. Clearing buffer...\n"
     ]
    },
    {
     "name": "stdout",
     "output_type": "stream",
     "text": [
      "Sending command : {'HB': 0, 'IO': 1, 'WO': 0, 'DM': 'S', 'CMD': [-5, -45]}\n",
      "Data sent successfully\n",
      "Sending command : {'HB': 0, 'IO': 1, 'WO': 0, 'DM': 'S', 'CMD': [-5, -26]}\n",
      "Data sent successfully\n"
     ]
    },
    {
     "name": "stderr",
     "output_type": "stream",
     "text": [
      "Too many measurments in the input buffer: 531/500. Clearing buffer...\n"
     ]
    },
    {
     "name": "stdout",
     "output_type": "stream",
     "text": [
      "Sending command : {'HB': 0, 'IO': 1, 'WO': 0, 'DM': 'S', 'CMD': [-5, -26]}\n",
      "Data sent successfully\n",
      "Sending command : {'HB': 0, 'IO': 1, 'WO': 0, 'DM': 'S', 'CMD': [-5, -45]}\n",
      "Data sent successfully\n"
     ]
    },
    {
     "name": "stderr",
     "output_type": "stream",
     "text": [
      "Too many measurments in the input buffer: 511/500. Clearing buffer...\n"
     ]
    },
    {
     "name": "stdout",
     "output_type": "stream",
     "text": [
      "Sending command : {'HB': 0, 'IO': 1, 'WO': 0, 'DM': 'S', 'CMD': [-5, -45]}\n",
      "Data sent successfully\n"
     ]
    },
    {
     "name": "stderr",
     "output_type": "stream",
     "text": [
      "Too many measurments in the input buffer: 542/500. Clearing buffer...\n"
     ]
    },
    {
     "name": "stdout",
     "output_type": "stream",
     "text": [
      "Sending command : {'HB': 0, 'IO': 1, 'WO': 0, 'DM': 'S', 'CMD': [5, 26]}\n",
      "Data sent successfully\n"
     ]
    },
    {
     "name": "stderr",
     "output_type": "stream",
     "text": [
      "Too many measurments in the input buffer: 527/500. Clearing buffer...\n"
     ]
    },
    {
     "name": "stdout",
     "output_type": "stream",
     "text": [
      "Sending command : {'HB': 0, 'IO': 1, 'WO': 0, 'DM': 'S', 'CMD': [-5, -45]}\n",
      "Data sent successfully\n"
     ]
    },
    {
     "name": "stderr",
     "output_type": "stream",
     "text": [
      "Too many measurments in the input buffer: 555/500. Clearing buffer...\n"
     ]
    },
    {
     "name": "stdout",
     "output_type": "stream",
     "text": [
      "Sending command : {'HB': 0, 'IO': 1, 'WO': 0, 'DM': 'S', 'CMD': [-5, -45]}\n",
      "Data sent successfully\n"
     ]
    },
    {
     "name": "stderr",
     "output_type": "stream",
     "text": [
      "Too many measurments in the input buffer: 568/500. Clearing buffer...\n"
     ]
    },
    {
     "name": "stdout",
     "output_type": "stream",
     "text": [
      "Sending command : {'HB': 0, 'IO': 1, 'WO': 0, 'DM': 'S', 'CMD': [5, 44]}\n",
      "Data sent successfully\n",
      "Sending command : {'HB': 0, 'IO': 1, 'WO': 0, 'DM': 'S', 'CMD': [5, 26]}\n",
      "Data sent successfully\n",
      "Sending command : {'HB': 0, 'IO': 1, 'WO': 0, 'DM': 'S', 'CMD': [5, 44]}\n",
      "Data sent successfully\n"
     ]
    },
    {
     "name": "stderr",
     "output_type": "stream",
     "text": [
      "Too many measurments in the input buffer: 518/500. Clearing buffer...\n"
     ]
    },
    {
     "name": "stdout",
     "output_type": "stream",
     "text": [
      "Sending command : {'HB': 0, 'IO': 1, 'WO': 0, 'DM': 'S', 'CMD': [5, 44]}\n",
      "Data sent successfully\n"
     ]
    },
    {
     "name": "stderr",
     "output_type": "stream",
     "text": [
      "Too many measurments in the input buffer: 509/500. Clearing buffer...\n"
     ]
    },
    {
     "name": "stdout",
     "output_type": "stream",
     "text": [
      "Sending command : {'HB': 0, 'IO': 1, 'WO': 0, 'DM': 'S', 'CMD': [5, 26]}\n",
      "Data sent successfully\n",
      "Sending command : {'HB': 0, 'IO': 1, 'WO': 0, 'DM': 'S', 'CMD': [5, 26]}\n",
      "Data sent successfully\n"
     ]
    },
    {
     "name": "stderr",
     "output_type": "stream",
     "text": [
      "Too many measurments in the input buffer: 550/500. Clearing buffer...\n"
     ]
    },
    {
     "name": "stdout",
     "output_type": "stream",
     "text": [
      "Sending command : {'HB': 0, 'IO': 1, 'WO': 0, 'DM': 'D', 'CMD': [5, 9]}\n",
      "Data sent successfully\n"
     ]
    },
    {
     "name": "stderr",
     "output_type": "stream",
     "text": [
      "Too many measurments in the input buffer: 504/500. Clearing buffer...\n"
     ]
    },
    {
     "name": "stdout",
     "output_type": "stream",
     "text": [
      "Sending command : {'HB': 0, 'IO': 1, 'WO': 0, 'DM': 'S', 'CMD': [-5, -45]}\n",
      "Data sent successfully\n"
     ]
    },
    {
     "name": "stderr",
     "output_type": "stream",
     "text": [
      "Too many measurments in the input buffer: 529/500. Clearing buffer...\n"
     ]
    },
    {
     "name": "stdout",
     "output_type": "stream",
     "text": [
      "Sending command : {'HB': 0, 'IO': 1, 'WO': 0, 'DM': 'S', 'CMD': [-5, -45]}\n",
      "Data sent successfully\n"
     ]
    },
    {
     "name": "stderr",
     "output_type": "stream",
     "text": [
      "Too many measurments in the input buffer: 567/500. Clearing buffer...\n"
     ]
    },
    {
     "name": "stdout",
     "output_type": "stream",
     "text": [
      "Sending command : {'HB': 0, 'IO': 1, 'WO': 0, 'DM': 'S', 'CMD': [-5, -45]}\n",
      "Data sent successfully\n",
      "Sending command : {'HB': 0, 'IO': 1, 'WO': 0, 'DM': 'S', 'CMD': [5, 26]}\n",
      "Data sent successfully\n"
     ]
    },
    {
     "name": "stderr",
     "output_type": "stream",
     "text": [
      "Too many measurments in the input buffer: 506/500. Clearing buffer...\n"
     ]
    },
    {
     "name": "stdout",
     "output_type": "stream",
     "text": [
      "Sending command : {'HB': 0, 'IO': 1, 'WO': 0, 'DM': 'S', 'CMD': [-5, -26]}\n",
      "Data sent successfully\n"
     ]
    },
    {
     "name": "stderr",
     "output_type": "stream",
     "text": [
      "Too many measurments in the input buffer: 542/500. Clearing buffer...\n"
     ]
    },
    {
     "name": "stdout",
     "output_type": "stream",
     "text": [
      "Sending command : {'HB': 0, 'IO': 1, 'WO': 0, 'DM': 'S', 'CMD': [-5, -45]}\n",
      "Data sent successfully\n"
     ]
    },
    {
     "name": "stderr",
     "output_type": "stream",
     "text": [
      "Too many measurments in the input buffer: 502/500. Clearing buffer...\n"
     ]
    },
    {
     "name": "stdout",
     "output_type": "stream",
     "text": [
      "Sending command : {'HB': 0, 'IO': 1, 'WO': 0, 'DM': 'S', 'CMD': [-5, -45]}\n",
      "Data sent successfully\n",
      "Sending command : {'HB': 0, 'IO': 1, 'WO': 0, 'DM': 'S', 'CMD': [-5, -45]}\n",
      "Data sent successfully\n"
     ]
    },
    {
     "name": "stderr",
     "output_type": "stream",
     "text": [
      "Too many measurments in the input buffer: 586/500. Clearing buffer...\n"
     ]
    },
    {
     "name": "stdout",
     "output_type": "stream",
     "text": [
      "Sending command : {'HB': 0, 'IO': 1, 'WO': 0, 'DM': 'S', 'CMD': [5, 26]}\n",
      "Data sent successfully\n"
     ]
    },
    {
     "name": "stderr",
     "output_type": "stream",
     "text": [
      "Too many measurments in the input buffer: 553/500. Clearing buffer...\n"
     ]
    },
    {
     "name": "stdout",
     "output_type": "stream",
     "text": [
      "Sending command : {'HB': 0, 'IO': 1, 'WO': 0, 'DM': 'S', 'CMD': [5, 44]}\n",
      "Data sent successfully\n"
     ]
    },
    {
     "name": "stderr",
     "output_type": "stream",
     "text": [
      "Too many measurments in the input buffer: 553/500. Clearing buffer...\n"
     ]
    },
    {
     "name": "stdout",
     "output_type": "stream",
     "text": [
      "Sending command : {'HB': 0, 'IO': 1, 'WO': 0, 'DM': 'S', 'CMD': [5, 44]}\n",
      "Data sent successfully\n"
     ]
    },
    {
     "name": "stderr",
     "output_type": "stream",
     "text": [
      "Too many measurments in the input buffer: 521/500. Clearing buffer...\n"
     ]
    },
    {
     "name": "stdout",
     "output_type": "stream",
     "text": [
      "Sending command : {'HB': 0, 'IO': 1, 'WO': 0, 'DM': 'S', 'CMD': [-5, -45]}\n",
      "Data sent successfully\n"
     ]
    },
    {
     "name": "stderr",
     "output_type": "stream",
     "text": [
      "Too many measurments in the input buffer: 556/500. Clearing buffer...\n"
     ]
    },
    {
     "name": "stdout",
     "output_type": "stream",
     "text": [
      "Sending command : {'HB': 0, 'IO': 1, 'WO': 0, 'DM': 'S', 'CMD': [5, 44]}\n",
      "Data sent successfully\n"
     ]
    },
    {
     "name": "stderr",
     "output_type": "stream",
     "text": [
      "Too many measurments in the input buffer: 545/500. Clearing buffer...\n"
     ]
    },
    {
     "name": "stdout",
     "output_type": "stream",
     "text": [
      "Sending command : {'HB': 0, 'IO': 1, 'WO': 0, 'DM': 'S', 'CMD': [5, 26]}\n",
      "Data sent successfully\n",
      "Sending command : {'HB': 0, 'IO': 1, 'WO': 0, 'DM': 'S', 'CMD': [5, 26]}\n",
      "Data sent successfully\n"
     ]
    },
    {
     "name": "stderr",
     "output_type": "stream",
     "text": [
      "Too many measurments in the input buffer: 522/500. Clearing buffer...\n"
     ]
    },
    {
     "name": "stdout",
     "output_type": "stream",
     "text": [
      "Sending command : {'HB': 0, 'IO': 1, 'WO': 0, 'DM': 'S', 'CMD': [5, 26]}\n",
      "Data sent successfully\n"
     ]
    },
    {
     "name": "stderr",
     "output_type": "stream",
     "text": [
      "Too many measurments in the input buffer: 543/500. Clearing buffer...\n"
     ]
    },
    {
     "name": "stdout",
     "output_type": "stream",
     "text": [
      "Sending command : {'HB': 0, 'IO': 1, 'WO': 0, 'DM': 'S', 'CMD': [-5, -45]}\n",
      "Data sent successfully\n"
     ]
    },
    {
     "name": "stderr",
     "output_type": "stream",
     "text": [
      "Too many measurments in the input buffer: 565/500. Clearing buffer...\n"
     ]
    },
    {
     "name": "stdout",
     "output_type": "stream",
     "text": [
      "Sending command : {'HB': 0, 'IO': 1, 'WO': 0, 'DM': 'S', 'CMD': [5, 44]}\n",
      "Data sent successfully\n"
     ]
    },
    {
     "name": "stderr",
     "output_type": "stream",
     "text": [
      "Too many measurments in the input buffer: 536/500. Clearing buffer...\n"
     ]
    },
    {
     "name": "stdout",
     "output_type": "stream",
     "text": [
      "Sending command : {'HB': 0, 'IO': 1, 'WO': 0, 'DM': 'S', 'CMD': [-5, -45]}\n",
      "Data sent successfully\n",
      "Sending command : {'HB': 0, 'IO': 1, 'WO': 0, 'DM': 'S', 'CMD': [-5, -45]}\n",
      "Data sent successfully\n"
     ]
    },
    {
     "name": "stderr",
     "output_type": "stream",
     "text": [
      "Too many measurments in the input buffer: 544/500. Clearing buffer...\n"
     ]
    },
    {
     "name": "stdout",
     "output_type": "stream",
     "text": [
      "Sending command : {'HB': 0, 'IO': 1, 'WO': 0, 'DM': 'S', 'CMD': [5, 26]}\n",
      "Data sent successfully\n"
     ]
    },
    {
     "name": "stderr",
     "output_type": "stream",
     "text": [
      "Too many measurments in the input buffer: 564/500. Clearing buffer...\n"
     ]
    },
    {
     "name": "stdout",
     "output_type": "stream",
     "text": [
      "Sending command : {'HB': 0, 'IO': 1, 'WO': 0, 'DM': 'S', 'CMD': [5, 26]}\n",
      "Data sent successfully\n"
     ]
    },
    {
     "name": "stderr",
     "output_type": "stream",
     "text": [
      "Too many measurments in the input buffer: 502/500. Clearing buffer...\n"
     ]
    },
    {
     "name": "stdout",
     "output_type": "stream",
     "text": [
      "Sending command : {'HB': 0, 'IO': 1, 'WO': 0, 'DM': 'S', 'CMD': [5, 26]}\n",
      "Data sent successfully\n"
     ]
    },
    {
     "name": "stderr",
     "output_type": "stream",
     "text": [
      "Too many measurments in the input buffer: 527/500. Clearing buffer...\n"
     ]
    },
    {
     "name": "stdout",
     "output_type": "stream",
     "text": [
      "Sending command : {'HB': 0, 'IO': 1, 'WO': 0, 'DM': 'S', 'CMD': [5, 44]}\n",
      "Data sent successfully\n",
      "Sending command : {'HB': 0, 'IO': 1, 'WO': 0, 'DM': 'S', 'CMD': [5, 26]}\n",
      "Data sent successfully\n"
     ]
    },
    {
     "name": "stderr",
     "output_type": "stream",
     "text": [
      "Too many measurments in the input buffer: 510/500. Clearing buffer...\n"
     ]
    },
    {
     "name": "stdout",
     "output_type": "stream",
     "text": [
      "Sending command : {'HB': 0, 'IO': 1, 'WO': 0, 'DM': 'S', 'CMD': [5, 26]}\n",
      "Data sent successfully\n"
     ]
    },
    {
     "name": "stderr",
     "output_type": "stream",
     "text": [
      "Too many measurments in the input buffer: 505/500. Clearing buffer...\n"
     ]
    },
    {
     "name": "stdout",
     "output_type": "stream",
     "text": [
      "Sending command : {'HB': 0, 'IO': 1, 'WO': 0, 'DM': 'S', 'CMD': [5, 26]}\n",
      "Data sent successfully\n",
      "Sending command : {'HB': 0, 'IO': 1, 'WO': 0, 'DM': 'D', 'CMD': [5, 9]}\n",
      "Data sent successfully\n"
     ]
    },
    {
     "name": "stderr",
     "output_type": "stream",
     "text": [
      "Too many measurments in the input buffer: 563/500. Clearing buffer...\n"
     ]
    },
    {
     "name": "stdout",
     "output_type": "stream",
     "text": [
      "Sending command : {'HB': 0, 'IO': 1, 'WO': 0, 'DM': 'D', 'CMD': [5, 9]}\n",
      "Data sent successfully\n"
     ]
    },
    {
     "name": "stderr",
     "output_type": "stream",
     "text": [
      "Too many measurments in the input buffer: 511/500. Clearing buffer...\n"
     ]
    },
    {
     "name": "stdout",
     "output_type": "stream",
     "text": [
      "Sending command : {'HB': 0, 'IO': 1, 'WO': 0, 'DM': 'S', 'CMD': [5, 26]}\n",
      "Data sent successfully\n"
     ]
    },
    {
     "name": "stderr",
     "output_type": "stream",
     "text": [
      "Too many measurments in the input buffer: 572/500. Clearing buffer...\n"
     ]
    },
    {
     "name": "stdout",
     "output_type": "stream",
     "text": [
      "Sending command : {'HB': 0, 'IO': 1, 'WO': 0, 'DM': 'D', 'CMD': [5, 9]}\n",
      "Data sent successfully\n",
      "Sending command : {'HB': 0, 'IO': 1, 'WO': 0, 'DM': 'S', 'CMD': [5, 44]}\n",
      "Data sent successfully\n",
      "Sending command : {'HB': 0, 'IO': 1, 'WO': 0, 'DM': 'S', 'CMD': [5, 44]}\n",
      "Data sent successfully\n"
     ]
    },
    {
     "name": "stderr",
     "output_type": "stream",
     "text": [
      "Too many measurments in the input buffer: 531/500. Clearing buffer...\n"
     ]
    },
    {
     "name": "stdout",
     "output_type": "stream",
     "text": [
      "Sending command : {'HB': 0, 'IO': 1, 'WO': 0, 'DM': 'S', 'CMD': [5, 44]}\n",
      "Data sent successfully\n",
      "Sending command : {'HB': 0, 'IO': 1, 'WO': 0, 'DM': 'S', 'CMD': [5, 44]}\n",
      "Data sent successfully\n"
     ]
    },
    {
     "name": "stderr",
     "output_type": "stream",
     "text": [
      "Too many measurments in the input buffer: 531/500. Clearing buffer...\n"
     ]
    },
    {
     "name": "stdout",
     "output_type": "stream",
     "text": [
      "Sending command : {'HB': 0, 'IO': 1, 'WO': 0, 'DM': 'S', 'CMD': [5, 44]}\n",
      "Data sent successfully\n",
      "Sending command : {'HB': 0, 'IO': 1, 'WO': 0, 'DM': 'S', 'CMD': [5, 44]}\n",
      "Data sent successfully\n"
     ]
    },
    {
     "name": "stderr",
     "output_type": "stream",
     "text": [
      "Too many measurments in the input buffer: 567/500. Clearing buffer...\n"
     ]
    },
    {
     "name": "stdout",
     "output_type": "stream",
     "text": [
      "Sending command : {'HB': 0, 'IO': 1, 'WO': 0, 'DM': 'S', 'CMD': [5, 44]}\n",
      "Data sent successfully\n"
     ]
    },
    {
     "name": "stderr",
     "output_type": "stream",
     "text": [
      "Too many measurments in the input buffer: 586/500. Clearing buffer...\n",
      "Too many measurments in the input buffer: 508/500. Clearing buffer...\n"
     ]
    },
    {
     "name": "stdout",
     "output_type": "stream",
     "text": [
      "Sending command : {'HB': 0, 'IO': 1, 'WO': 0, 'DM': 'S', 'CMD': [5, 44]}\n",
      "Data sent successfully\n",
      "Sending command : {'HB': 0, 'IO': 1, 'WO': 0, 'DM': 'S', 'CMD': [5, 44]}\n",
      "Data sent successfully\n"
     ]
    },
    {
     "name": "stderr",
     "output_type": "stream",
     "text": [
      "Too many measurments in the input buffer: 531/500. Clearing buffer...\n"
     ]
    },
    {
     "name": "stdout",
     "output_type": "stream",
     "text": [
      "Sending command : {'HB': 0, 'IO': 1, 'WO': 0, 'DM': 'S', 'CMD': [5, 44]}\n",
      "Data sent successfully\n"
     ]
    },
    {
     "name": "stderr",
     "output_type": "stream",
     "text": [
      "Too many measurments in the input buffer: 552/500. Clearing buffer...\n"
     ]
    },
    {
     "name": "stdout",
     "output_type": "stream",
     "text": [
      "Sending command : {'HB': 0, 'IO': 1, 'WO': 0, 'DM': 'S', 'CMD': [5, 44]}\n",
      "Data sent successfully\n"
     ]
    },
    {
     "name": "stderr",
     "output_type": "stream",
     "text": [
      "Too many measurments in the input buffer: 513/500. Clearing buffer...\n"
     ]
    },
    {
     "name": "stdout",
     "output_type": "stream",
     "text": [
      "Sending command : {'HB': 0, 'IO': 1, 'WO': 0, 'DM': 'S', 'CMD': [5, 44]}\n",
      "Data sent successfully\n"
     ]
    },
    {
     "name": "stderr",
     "output_type": "stream",
     "text": [
      "Too many measurments in the input buffer: 549/500. Clearing buffer...\n"
     ]
    },
    {
     "name": "stdout",
     "output_type": "stream",
     "text": [
      "Sending command : {'HB': 0, 'IO': 1, 'WO': 0, 'DM': 'S', 'CMD': [5, 44]}\n",
      "Data sent successfully\n"
     ]
    },
    {
     "name": "stderr",
     "output_type": "stream",
     "text": [
      "Too many measurments in the input buffer: 562/500. Clearing buffer...\n"
     ]
    },
    {
     "name": "stdout",
     "output_type": "stream",
     "text": [
      "Sending command : {'HB': 0, 'IO': 1, 'WO': 0, 'DM': 'S', 'CMD': [5, 44]}\n",
      "Data sent successfully\n",
      "Sending command : {'HB': 0, 'IO': 1, 'WO': 0, 'DM': 'S', 'CMD': [5, 44]}\n",
      "Data sent successfully\n"
     ]
    },
    {
     "name": "stderr",
     "output_type": "stream",
     "text": [
      "Too many measurments in the input buffer: 540/500. Clearing buffer...\n"
     ]
    },
    {
     "name": "stdout",
     "output_type": "stream",
     "text": [
      "Sending command : {'HB': 0, 'IO': 1, 'WO': 0, 'DM': 'S', 'CMD': [5, 44]}\n",
      "Data sent successfully\n"
     ]
    },
    {
     "name": "stderr",
     "output_type": "stream",
     "text": [
      "Too many measurments in the input buffer: 519/500. Clearing buffer...\n"
     ]
    },
    {
     "name": "stdout",
     "output_type": "stream",
     "text": [
      "Sending command : {'HB': 0, 'IO': 1, 'WO': 0, 'DM': 'S', 'CMD': [5, 44]}\n",
      "Data sent successfully\n",
      "Sending command : {'HB': 0, 'IO': 1, 'WO': 0, 'DM': 'S', 'CMD': [5, 44]}\n",
      "Data sent successfully\n"
     ]
    },
    {
     "name": "stderr",
     "output_type": "stream",
     "text": [
      "Too many measurments in the input buffer: 583/500. Clearing buffer...\n"
     ]
    },
    {
     "name": "stdout",
     "output_type": "stream",
     "text": [
      "Sending command : {'HB': 0, 'IO': 1, 'WO': 0, 'DM': 'S', 'CMD': [5, 44]}\n",
      "Data sent successfully\n"
     ]
    },
    {
     "name": "stderr",
     "output_type": "stream",
     "text": [
      "Too many measurments in the input buffer: 502/500. Clearing buffer...\n"
     ]
    },
    {
     "name": "stdout",
     "output_type": "stream",
     "text": [
      "Sending command : {'HB': 0, 'IO': 1, 'WO': 0, 'DM': 'S', 'CMD': [5, 44]}\n",
      "Data sent successfully\n",
      "Sending command : {'HB': 0, 'IO': 1, 'WO': 0, 'DM': 'S', 'CMD': [5, 44]}\n",
      "Data sent successfully\n",
      "Sending command : {'HB': 0, 'IO': 1, 'WO': 0, 'DM': 'S', 'CMD': [5, 26]}\n",
      "Data sent successfully\n"
     ]
    },
    {
     "name": "stderr",
     "output_type": "stream",
     "text": [
      "Too many measurments in the input buffer: 554/500. Clearing buffer...\n"
     ]
    },
    {
     "name": "stdout",
     "output_type": "stream",
     "text": [
      "Sending command : {'HB': 0, 'IO': 1, 'WO': 0, 'DM': 'S', 'CMD': [5, 26]}\n",
      "Data sent successfully\n"
     ]
    },
    {
     "name": "stderr",
     "output_type": "stream",
     "text": [
      "Too many measurments in the input buffer: 518/500. Clearing buffer...\n"
     ]
    },
    {
     "name": "stdout",
     "output_type": "stream",
     "text": [
      "Sending command : {'HB': 0, 'IO': 1, 'WO': 0, 'DM': 'S', 'CMD': [5, 26]}\n",
      "Data sent successfully\n"
     ]
    },
    {
     "name": "stderr",
     "output_type": "stream",
     "text": [
      "Too many measurments in the input buffer: 508/500. Clearing buffer...\n"
     ]
    },
    {
     "name": "stdout",
     "output_type": "stream",
     "text": [
      "Sending command : {'HB': 0, 'IO': 1, 'WO': 0, 'DM': 'D', 'CMD': [5, 9]}\n",
      "Data sent successfully\n",
      "Sending command : {'HB': 0, 'IO': 1, 'WO': 0, 'DM': 'D', 'CMD': [5, 9]}\n",
      "Data sent successfully\n"
     ]
    },
    {
     "name": "stderr",
     "output_type": "stream",
     "text": [
      "Too many measurments in the input buffer: 528/500. Clearing buffer...\n"
     ]
    },
    {
     "name": "stdout",
     "output_type": "stream",
     "text": [
      "Sending command : {'HB': 0, 'IO': 1, 'WO': 0, 'DM': 'S', 'CMD': [5, 26]}\n",
      "Data sent successfully\n"
     ]
    },
    {
     "name": "stderr",
     "output_type": "stream",
     "text": [
      "Too many measurments in the input buffer: 548/500. Clearing buffer...\n"
     ]
    },
    {
     "name": "stdout",
     "output_type": "stream",
     "text": [
      "Sending command : {'HB': 0, 'IO': 1, 'WO': 0, 'DM': 'D', 'CMD': [5, 9]}\n",
      "Data sent successfully\n",
      "Sending command : {'HB': 0, 'IO': 1, 'WO': 0, 'DM': 'S', 'CMD': [-5, -26]}\n",
      "Data sent successfully\n",
      "Sending command : {'HB': 0, 'IO': 1, 'WO': 0, 'DM': 'D', 'CMD': [5, -9]}\n",
      "Data sent successfully\n"
     ]
    },
    {
     "name": "stderr",
     "output_type": "stream",
     "text": [
      "Too many measurments in the input buffer: 544/500. Clearing buffer...\n"
     ]
    },
    {
     "name": "stdout",
     "output_type": "stream",
     "text": [
      "Sending command : {'HB': 0, 'IO': 1, 'WO': 0, 'DM': 'D', 'CMD': [5, -9]}\n",
      "Data sent successfully\n"
     ]
    },
    {
     "name": "stderr",
     "output_type": "stream",
     "text": [
      "Too many measurments in the input buffer: 502/500. Clearing buffer...\n"
     ]
    },
    {
     "name": "stdout",
     "output_type": "stream",
     "text": [
      "Sending command : {'HB': 0, 'IO': 1, 'WO': 0, 'DM': 'D', 'CMD': [5, -9]}\n",
      "Data sent successfully\n",
      "Sending command : {'HB': 0, 'IO': 1, 'WO': 0, 'DM': 'D', 'CMD': [5, -9]}\n",
      "Data sent successfully\n"
     ]
    },
    {
     "name": "stderr",
     "output_type": "stream",
     "text": [
      "Too many measurments in the input buffer: 549/500. Clearing buffer...\n"
     ]
    },
    {
     "name": "stdout",
     "output_type": "stream",
     "text": [
      "Sending command : {'HB': 0, 'IO': 1, 'WO': 0, 'DM': 'D', 'CMD': [5, -9]}\n",
      "Data sent successfully\n"
     ]
    },
    {
     "name": "stderr",
     "output_type": "stream",
     "text": [
      "Too many measurments in the input buffer: 526/500. Clearing buffer...\n"
     ]
    },
    {
     "name": "stdout",
     "output_type": "stream",
     "text": [
      "Sending command : {'HB': 0, 'IO': 1, 'WO': 0, 'DM': 'D', 'CMD': [5, -9]}\n",
      "Data sent successfully\n"
     ]
    },
    {
     "name": "stderr",
     "output_type": "stream",
     "text": [
      "Too many measurments in the input buffer: 578/500. Clearing buffer...\n"
     ]
    },
    {
     "name": "stdout",
     "output_type": "stream",
     "text": [
      "Sending command : {'HB': 0, 'IO': 1, 'WO': 0, 'DM': 'S', 'CMD': [-5, -26]}\n",
      "Data sent successfully\n"
     ]
    },
    {
     "name": "stderr",
     "output_type": "stream",
     "text": [
      "Too many measurments in the input buffer: 549/500. Clearing buffer...\n"
     ]
    },
    {
     "name": "stdout",
     "output_type": "stream",
     "text": [
      "Sending command : {'HB': 0, 'IO': 1, 'WO': 0, 'DM': 'S', 'CMD': [-5, -45]}\n",
      "Data sent successfully\n"
     ]
    },
    {
     "name": "stderr",
     "output_type": "stream",
     "text": [
      "Too many measurments in the input buffer: 509/500. Clearing buffer...\n"
     ]
    },
    {
     "name": "stdout",
     "output_type": "stream",
     "text": [
      "Sending command : {'HB': 0, 'IO': 1, 'WO': 0, 'DM': 'D', 'CMD': [5, -9]}\n",
      "Data sent successfully\n",
      "Sending command : {'HB': 0, 'IO': 1, 'WO': 0, 'DM': 'D', 'CMD': [5, -9]}\n",
      "Data sent successfully\n",
      "Sending command : {'HB': 0, 'IO': 1, 'WO': 0, 'DM': 'D', 'CMD': [5, -9]}\n",
      "Data sent successfully\n"
     ]
    },
    {
     "name": "stderr",
     "output_type": "stream",
     "text": [
      "Too many measurments in the input buffer: 519/500. Clearing buffer...\n"
     ]
    },
    {
     "name": "stdout",
     "output_type": "stream",
     "text": [
      "Sending command : {'HB': 0, 'IO': 1, 'WO': 0, 'DM': 'S', 'CMD': [-5, -26]}\n",
      "Data sent successfully\n"
     ]
    },
    {
     "name": "stderr",
     "output_type": "stream",
     "text": [
      "Too many measurments in the input buffer: 501/500. Clearing buffer...\n"
     ]
    },
    {
     "name": "stdout",
     "output_type": "stream",
     "text": [
      "Sending command : {'HB': 0, 'IO': 1, 'WO': 0, 'DM': 'S', 'CMD': [5, 44]}\n",
      "Data sent successfully\n",
      "Sending command : {'HB': 0, 'IO': 1, 'WO': 0, 'DM': 'S', 'CMD': [5, 44]}\n",
      "Data sent successfully\n"
     ]
    },
    {
     "name": "stderr",
     "output_type": "stream",
     "text": [
      "Too many measurments in the input buffer: 514/500. Clearing buffer...\n"
     ]
    },
    {
     "name": "stdout",
     "output_type": "stream",
     "text": [
      "Sending command : {'HB': 0, 'IO': 1, 'WO': 0, 'DM': 'S', 'CMD': [5, 44]}\n",
      "Data sent successfully\n"
     ]
    },
    {
     "name": "stderr",
     "output_type": "stream",
     "text": [
      "Too many measurments in the input buffer: 556/500. Clearing buffer...\n"
     ]
    },
    {
     "name": "stdout",
     "output_type": "stream",
     "text": [
      "Sending command : {'HB': 0, 'IO': 1, 'WO': 0, 'DM': 'S', 'CMD': [5, 44]}\n",
      "Data sent successfully\n",
      "Sending command : {'HB': 0, 'IO': 1, 'WO': 0, 'DM': 'S', 'CMD': [5, 44]}\n",
      "Data sent successfully\n"
     ]
    },
    {
     "name": "stderr",
     "output_type": "stream",
     "text": [
      "Too many measurments in the input buffer: 534/500. Clearing buffer...\n"
     ]
    },
    {
     "name": "stdout",
     "output_type": "stream",
     "text": [
      "Sending command : {'HB': 0, 'IO': 1, 'WO': 0, 'DM': 'S', 'CMD': [5, 44]}\n",
      "Data sent successfully\n"
     ]
    },
    {
     "name": "stderr",
     "output_type": "stream",
     "text": [
      "Too many measurments in the input buffer: 565/500. Clearing buffer...\n"
     ]
    },
    {
     "name": "stdout",
     "output_type": "stream",
     "text": [
      "Sending command : {'HB': 0, 'IO': 1, 'WO': 0, 'DM': 'S', 'CMD': [5, 44]}\n",
      "Data sent successfully\n"
     ]
    },
    {
     "name": "stderr",
     "output_type": "stream",
     "text": [
      "Too many measurments in the input buffer: 503/500. Clearing buffer...\n"
     ]
    },
    {
     "name": "stdout",
     "output_type": "stream",
     "text": [
      "Sending command : {'HB': 0, 'IO': 1, 'WO': 0, 'DM': 'S', 'CMD': [5, 44]}\n",
      "Data sent successfully\n"
     ]
    },
    {
     "name": "stderr",
     "output_type": "stream",
     "text": [
      "Too many measurments in the input buffer: 544/500. Clearing buffer...\n"
     ]
    },
    {
     "name": "stdout",
     "output_type": "stream",
     "text": [
      "Sending command : {'HB': 0, 'IO': 1, 'WO': 0, 'DM': 'S', 'CMD': [-5, -26]}\n",
      "Data sent successfully\n",
      "Sending command : {'HB': 0, 'IO': 1, 'WO': 0, 'DM': 'S', 'CMD': [-5, -45]}\n",
      "Data sent successfully\n"
     ]
    },
    {
     "name": "stderr",
     "output_type": "stream",
     "text": [
      "Too many measurments in the input buffer: 513/500. Clearing buffer...\n"
     ]
    },
    {
     "name": "stdout",
     "output_type": "stream",
     "text": [
      "Sending command : {'HB': 0, 'IO': 1, 'WO': 0, 'DM': 'S', 'CMD': [-5, -45]}\n",
      "Data sent successfully\n"
     ]
    },
    {
     "name": "stderr",
     "output_type": "stream",
     "text": [
      "Too many measurments in the input buffer: 511/500. Clearing buffer...\n"
     ]
    },
    {
     "name": "stdout",
     "output_type": "stream",
     "text": [
      "Sending command : {'HB': 0, 'IO': 1, 'WO': 0, 'DM': 'S', 'CMD': [-5, -26]}\n",
      "Data sent successfully\n",
      "Sending command : {'HB': 0, 'IO': 1, 'WO': 0, 'DM': 'S', 'CMD': [-5, -26]}\n",
      "Data sent successfully\n"
     ]
    },
    {
     "name": "stderr",
     "output_type": "stream",
     "text": [
      "Too many measurments in the input buffer: 584/500. Clearing buffer...\n"
     ]
    },
    {
     "name": "stdout",
     "output_type": "stream",
     "text": [
      "Sending command : {'HB': 0, 'IO': 1, 'WO': 0, 'DM': 'S', 'CMD': [5, 44]}\n",
      "Data sent successfully\n",
      "Sending command : {'HB': 0, 'IO': 1, 'WO': 0, 'DM': 'S', 'CMD': [5, 44]}\n",
      "Data sent successfully\n"
     ]
    },
    {
     "name": "stderr",
     "output_type": "stream",
     "text": [
      "Too many measurments in the input buffer: 525/500. Clearing buffer...\n"
     ]
    },
    {
     "name": "stdout",
     "output_type": "stream",
     "text": [
      "Sending command : {'HB': 0, 'IO': 1, 'WO': 0, 'DM': 'S', 'CMD': [5, 44]}\n",
      "Data sent successfully\n",
      "Sending command : {'HB': 0, 'IO': 1, 'WO': 0, 'DM': 'S', 'CMD': [5, 44]}\n",
      "Data sent successfully\n"
     ]
    },
    {
     "name": "stderr",
     "output_type": "stream",
     "text": [
      "Too many measurments in the input buffer: 579/500. Clearing buffer...\n"
     ]
    },
    {
     "name": "stdout",
     "output_type": "stream",
     "text": [
      "Sending command : {'HB': 0, 'IO': 1, 'WO': 0, 'DM': 'S', 'CMD': [5, 44]}\n",
      "Data sent successfully\n",
      "Sending command : {'HB': 0, 'IO': 1, 'WO': 0, 'DM': 'S', 'CMD': [5, 44]}\n",
      "Data sent successfully\n"
     ]
    },
    {
     "name": "stderr",
     "output_type": "stream",
     "text": [
      "Too many measurments in the input buffer: 565/500. Clearing buffer...\n"
     ]
    },
    {
     "name": "stdout",
     "output_type": "stream",
     "text": [
      "Sending command : {'HB': 0, 'IO': 1, 'WO': 0, 'DM': 'S', 'CMD': [5, 44]}\n",
      "Data sent successfully\n",
      "Sending command : {'HB': 0, 'IO': 1, 'WO': 0, 'DM': 'S', 'CMD': [5, 44]}\n",
      "Data sent successfully\n"
     ]
    },
    {
     "name": "stderr",
     "output_type": "stream",
     "text": [
      "Too many measurments in the input buffer: 559/500. Clearing buffer...\n"
     ]
    },
    {
     "name": "stdout",
     "output_type": "stream",
     "text": [
      "Sending command : {'HB': 0, 'IO': 1, 'WO': 0, 'DM': 'S', 'CMD': [5, 44]}\n",
      "Data sent successfully\n",
      "Sending command : {'HB': 0, 'IO': 1, 'WO': 0, 'DM': 'S', 'CMD': [-5, -26]}\n",
      "Data sent successfully\n"
     ]
    },
    {
     "name": "stderr",
     "output_type": "stream",
     "text": [
      "Too many measurments in the input buffer: 508/500. Clearing buffer...\n"
     ]
    },
    {
     "name": "stdout",
     "output_type": "stream",
     "text": [
      "Sending command : {'HB': 0, 'IO': 1, 'WO': 0, 'DM': 'S', 'CMD': [-5, -26]}\n",
      "Data sent successfully\n",
      "Sending command : {'HB': 0, 'IO': 1, 'WO': 0, 'DM': 'S', 'CMD': [-5, -45]}\n",
      "Data sent successfully\n"
     ]
    },
    {
     "name": "stderr",
     "output_type": "stream",
     "text": [
      "Too many measurments in the input buffer: 507/500. Clearing buffer...\n"
     ]
    },
    {
     "name": "stdout",
     "output_type": "stream",
     "text": [
      "Sending command : {'HB': 0, 'IO': 1, 'WO': 0, 'DM': 'S', 'CMD': [-5, -45]}\n",
      "Data sent successfully\n",
      "Sending command : {'HB': 0, 'IO': 1, 'WO': 0, 'DM': 'S', 'CMD': [5, 44]}\n",
      "Data sent successfully\n"
     ]
    },
    {
     "name": "stderr",
     "output_type": "stream",
     "text": [
      "Too many measurments in the input buffer: 512/500. Clearing buffer...\n"
     ]
    },
    {
     "name": "stdout",
     "output_type": "stream",
     "text": [
      "Sending command : {'HB': 0, 'IO': 1, 'WO': 0, 'DM': 'S', 'CMD': [5, 44]}\n",
      "Data sent successfully\n"
     ]
    },
    {
     "name": "stderr",
     "output_type": "stream",
     "text": [
      "Too many measurments in the input buffer: 578/500. Clearing buffer...\n"
     ]
    },
    {
     "name": "stdout",
     "output_type": "stream",
     "text": [
      "Sending command : {'HB': 0, 'IO': 1, 'WO': 0, 'DM': 'S', 'CMD': [5, 44]}\n",
      "Data sent successfully\n",
      "Sending command : {'HB': 0, 'IO': 1, 'WO': 0, 'DM': 'S', 'CMD': [5, 44]}\n",
      "Data sent successfully\n"
     ]
    },
    {
     "name": "stderr",
     "output_type": "stream",
     "text": [
      "Too many measurments in the input buffer: 568/500. Clearing buffer...\n"
     ]
    },
    {
     "name": "stdout",
     "output_type": "stream",
     "text": [
      "Sending command : {'HB': 0, 'IO': 1, 'WO': 0, 'DM': 'S', 'CMD': [5, 44]}\n",
      "Data sent successfully\n",
      "Sending command : {'HB': 0, 'IO': 1, 'WO': 0, 'DM': 'S', 'CMD': [5, 44]}\n",
      "Data sent successfully\n",
      "Sending command : {'HB': 0, 'IO': 1, 'WO': 0, 'DM': 'S', 'CMD': [5, 44]}\n",
      "Data sent successfully\n"
     ]
    },
    {
     "name": "stderr",
     "output_type": "stream",
     "text": [
      "Too many measurments in the input buffer: 530/500. Clearing buffer...\n"
     ]
    },
    {
     "name": "stdout",
     "output_type": "stream",
     "text": [
      "Sending command : {'HB': 0, 'IO': 1, 'WO': 0, 'DM': 'S', 'CMD': [-5, -26]}\n",
      "Data sent successfully\n"
     ]
    },
    {
     "name": "stderr",
     "output_type": "stream",
     "text": [
      "Too many measurments in the input buffer: 516/500. Clearing buffer...\n"
     ]
    },
    {
     "name": "stdout",
     "output_type": "stream",
     "text": [
      "Sending command : {'HB': 0, 'IO': 1, 'WO': 0, 'DM': 'S', 'CMD': [-5, -45]}\n",
      "Data sent successfully\n",
      "Sending command : {'HB': 0, 'IO': 1, 'WO': 0, 'DM': 'S', 'CMD': [-5, -45]}\n",
      "Data sent successfully\n"
     ]
    },
    {
     "name": "stderr",
     "output_type": "stream",
     "text": [
      "Too many measurments in the input buffer: 503/500. Clearing buffer...\n"
     ]
    },
    {
     "name": "stdout",
     "output_type": "stream",
     "text": [
      "Sending command : {'HB': 0, 'IO': 1, 'WO': 0, 'DM': 'S', 'CMD': [-5, -45]}\n",
      "Data sent successfully\n",
      "Sending command : {'HB': 0, 'IO': 1, 'WO': 0, 'DM': 'S', 'CMD': [-5, -45]}\n",
      "Data sent successfully\n"
     ]
    },
    {
     "name": "stderr",
     "output_type": "stream",
     "text": [
      "Too many measurments in the input buffer: 551/500. Clearing buffer...\n"
     ]
    },
    {
     "name": "stdout",
     "output_type": "stream",
     "text": [
      "Sending command : {'HB': 0, 'IO': 1, 'WO': 0, 'DM': 'S', 'CMD': [-5, -45]}\n",
      "Data sent successfully\n"
     ]
    },
    {
     "name": "stderr",
     "output_type": "stream",
     "text": [
      "Too many measurments in the input buffer: 526/500. Clearing buffer...\n"
     ]
    },
    {
     "name": "stdout",
     "output_type": "stream",
     "text": [
      "Sending command : {'HB': 0, 'IO': 1, 'WO': 0, 'DM': 'S', 'CMD': [-5, -45]}\n",
      "Data sent successfully\n",
      "Sending command : {'HB': 0, 'IO': 1, 'WO': 0, 'DM': 'S', 'CMD': [-5, -45]}\n",
      "Data sent successfully\n"
     ]
    },
    {
     "name": "stderr",
     "output_type": "stream",
     "text": [
      "Too many measurments in the input buffer: 527/500. Clearing buffer...\n"
     ]
    },
    {
     "name": "stdout",
     "output_type": "stream",
     "text": [
      "Sending command : {'HB': 0, 'IO': 1, 'WO': 0, 'DM': 'S', 'CMD': [5, 44]}\n",
      "Data sent successfully\n"
     ]
    },
    {
     "name": "stderr",
     "output_type": "stream",
     "text": [
      "Too many measurments in the input buffer: 528/500. Clearing buffer...\n"
     ]
    },
    {
     "name": "stdout",
     "output_type": "stream",
     "text": [
      "Sending command : {'HB': 0, 'IO': 1, 'WO': 0, 'DM': 'S', 'CMD': [5, 44]}\n",
      "Data sent successfully\n",
      "Sending command : {'HB': 0, 'IO': 1, 'WO': 0, 'DM': 'S', 'CMD': [5, 44]}\n",
      "Data sent successfully\n",
      "Sending command : {'HB': 0, 'IO': 1, 'WO': 0, 'DM': 'S', 'CMD': [5, 44]}\n",
      "Data sent successfully\n",
      "Sending command : {'HB': 0, 'IO': 1, 'WO': 0, 'DM': 'S', 'CMD': [5, 44]}\n",
      "Data sent successfully\n"
     ]
    },
    {
     "name": "stderr",
     "output_type": "stream",
     "text": [
      "Too many measurments in the input buffer: 544/500. Clearing buffer...\n"
     ]
    },
    {
     "name": "stdout",
     "output_type": "stream",
     "text": [
      "Sending command : {'HB': 0, 'IO': 1, 'WO': 0, 'DM': 'S', 'CMD': [5, 44]}\n",
      "Data sent successfully\n",
      "Sending command : {'HB': 0, 'IO': 1, 'WO': 0, 'DM': 'S', 'CMD': [5, 44]}\n",
      "Data sent successfully\n"
     ]
    },
    {
     "name": "stderr",
     "output_type": "stream",
     "text": [
      "Too many measurments in the input buffer: 515/500. Clearing buffer...\n"
     ]
    },
    {
     "name": "stdout",
     "output_type": "stream",
     "text": [
      "Sending command : {'HB': 0, 'IO': 1, 'WO': 0, 'DM': 'S', 'CMD': [-5, -45]}\n",
      "Data sent successfully\n"
     ]
    },
    {
     "name": "stderr",
     "output_type": "stream",
     "text": [
      "Too many measurments in the input buffer: 502/500. Clearing buffer...\n"
     ]
    },
    {
     "name": "stdout",
     "output_type": "stream",
     "text": [
      "Sending command : {'HB': 0, 'IO': 1, 'WO': 0, 'DM': 'S', 'CMD': [-5, -45]}\n",
      "Data sent successfully\n",
      "Sending command : {'HB': 0, 'IO': 1, 'WO': 0, 'DM': 'S', 'CMD': [-5, -45]}\n",
      "Data sent successfully\n",
      "Sending command : {'HB': 0, 'IO': 1, 'WO': 0, 'DM': 'S', 'CMD': [-5, -45]}\n",
      "Data sent successfully\n"
     ]
    },
    {
     "name": "stderr",
     "output_type": "stream",
     "text": [
      "Too many measurments in the input buffer: 541/500. Clearing buffer...\n"
     ]
    },
    {
     "name": "stdout",
     "output_type": "stream",
     "text": [
      "Sending command : {'HB': 0, 'IO': 1, 'WO': 0, 'DM': 'S', 'CMD': [5, 44]}\n",
      "Data sent successfully\n",
      "Sending command : {'HB': 0, 'IO': 1, 'WO': 0, 'DM': 'S', 'CMD': [-5, -45]}\n",
      "Data sent successfully\n"
     ]
    },
    {
     "name": "stderr",
     "output_type": "stream",
     "text": [
      "Too many measurments in the input buffer: 537/500. Clearing buffer...\n"
     ]
    },
    {
     "name": "stdout",
     "output_type": "stream",
     "text": [
      "Sending command : {'HB': 0, 'IO': 1, 'WO': 0, 'DM': 'S', 'CMD': [-5, -26]}\n",
      "Data sent successfully\n",
      "Sending command : {'HB': 0, 'IO': 1, 'WO': 0, 'DM': 'S', 'CMD': [5, 44]}\n",
      "Data sent successfully\n",
      "Sending command : {'HB': 0, 'IO': 1, 'WO': 0, 'DM': 'S', 'CMD': [5, 44]}\n",
      "Data sent successfully\n"
     ]
    },
    {
     "name": "stderr",
     "output_type": "stream",
     "text": [
      "Too many measurments in the input buffer: 584/500. Clearing buffer...\n"
     ]
    },
    {
     "name": "stdout",
     "output_type": "stream",
     "text": [
      "Sending command : {'HB': 0, 'IO': 1, 'WO': 0, 'DM': 'S', 'CMD': [5, 44]}\n",
      "Data sent successfully\n",
      "Sending command : {'HB': 0, 'IO': 1, 'WO': 0, 'DM': 'S', 'CMD': [5, 44]}\n",
      "Data sent successfully\n"
     ]
    },
    {
     "name": "stderr",
     "output_type": "stream",
     "text": [
      "Too many measurments in the input buffer: 512/500. Clearing buffer...\n"
     ]
    },
    {
     "name": "stdout",
     "output_type": "stream",
     "text": [
      "Sending command : {'HB': 0, 'IO': 1, 'WO': 0, 'DM': 'S', 'CMD': [5, 44]}\n",
      "Data sent successfully\n",
      "Sending command : {'HB': 0, 'IO': 1, 'WO': 0, 'DM': 'S', 'CMD': [5, 44]}\n",
      "Data sent successfully\n"
     ]
    },
    {
     "name": "stderr",
     "output_type": "stream",
     "text": [
      "Too many measurments in the input buffer: 555/500. Clearing buffer...\n"
     ]
    },
    {
     "name": "stdout",
     "output_type": "stream",
     "text": [
      "Sending command : {'HB': 0, 'IO': 1, 'WO': 0, 'DM': 'S', 'CMD': [5, 44]}\n",
      "Data sent successfully\n",
      "Sending command : {'HB': 0, 'IO': 1, 'WO': 0, 'DM': 'S', 'CMD': [5, 44]}\n",
      "Data sent successfully\n",
      "Sending command : {'HB': 0, 'IO': 1, 'WO': 0, 'DM': 'S', 'CMD': [5, 44]}\n",
      "Data sent successfully\n"
     ]
    },
    {
     "name": "stderr",
     "output_type": "stream",
     "text": [
      "Too many measurments in the input buffer: 569/500. Clearing buffer...\n"
     ]
    },
    {
     "name": "stdout",
     "output_type": "stream",
     "text": [
      "Sending command : {'HB': 0, 'IO': 1, 'WO': 0, 'DM': 'S', 'CMD': [-5, -26]}\n",
      "Data sent successfully\n"
     ]
    },
    {
     "name": "stderr",
     "output_type": "stream",
     "text": [
      "Too many measurments in the input buffer: 516/500. Clearing buffer...\n"
     ]
    },
    {
     "name": "stdout",
     "output_type": "stream",
     "text": [
      "Sending command : {'HB': 0, 'IO': 1, 'WO': 0, 'DM': 'S', 'CMD': [-5, -45]}\n",
      "Data sent successfully\n",
      "Sending command : {'HB': 0, 'IO': 1, 'WO': 0, 'DM': 'S', 'CMD': [-5, -26]}\n",
      "Data sent successfully\n"
     ]
    },
    {
     "name": "stderr",
     "output_type": "stream",
     "text": [
      "Too many measurments in the input buffer: 520/500. Clearing buffer...\n"
     ]
    },
    {
     "name": "stdout",
     "output_type": "stream",
     "text": [
      "Sending command : {'HB': 0, 'IO': 1, 'WO': 0, 'DM': 'S', 'CMD': [-5, -45]}\n",
      "Data sent successfully\n"
     ]
    },
    {
     "name": "stderr",
     "output_type": "stream",
     "text": [
      "Too many measurments in the input buffer: 516/500. Clearing buffer...\n"
     ]
    },
    {
     "name": "stdout",
     "output_type": "stream",
     "text": [
      "Sending command : {'HB': 0, 'IO': 1, 'WO': 0, 'DM': 'S', 'CMD': [-5, -26]}\n",
      "Data sent successfully\n"
     ]
    },
    {
     "name": "stderr",
     "output_type": "stream",
     "text": [
      "Too many measurments in the input buffer: 562/500. Clearing buffer...\n"
     ]
    },
    {
     "name": "stdout",
     "output_type": "stream",
     "text": [
      "Sending command : {'HB': 0, 'IO': 1, 'WO': 0, 'DM': 'S', 'CMD': [5, 44]}\n",
      "Data sent successfully\n",
      "Sending command : {'HB': 0, 'IO': 1, 'WO': 0, 'DM': 'S', 'CMD': [-5, -45]}\n",
      "Data sent successfully\n"
     ]
    },
    {
     "name": "stderr",
     "output_type": "stream",
     "text": [
      "Too many measurments in the input buffer: 560/500. Clearing buffer...\n"
     ]
    },
    {
     "name": "stdout",
     "output_type": "stream",
     "text": [
      "Sending command : {'HB': 0, 'IO': 1, 'WO': 0, 'DM': 'S', 'CMD': [-5, -26]}\n",
      "Data sent successfully\n"
     ]
    },
    {
     "name": "stderr",
     "output_type": "stream",
     "text": [
      "Too many measurments in the input buffer: 506/500. Clearing buffer...\n"
     ]
    },
    {
     "name": "stdout",
     "output_type": "stream",
     "text": [
      "Sending command : {'HB': 0, 'IO': 1, 'WO': 0, 'DM': 'S', 'CMD': [5, 44]}\n",
      "Data sent successfully\n",
      "Sending command : {'HB': 0, 'IO': 1, 'WO': 0, 'DM': 'S', 'CMD': [5, 44]}\n",
      "Data sent successfully\n"
     ]
    },
    {
     "name": "stderr",
     "output_type": "stream",
     "text": [
      "Too many measurments in the input buffer: 577/500. Clearing buffer...\n"
     ]
    },
    {
     "name": "stdout",
     "output_type": "stream",
     "text": [
      "Sending command : {'HB': 0, 'IO': 1, 'WO': 0, 'DM': 'S', 'CMD': [5, 44]}\n",
      "Data sent successfully\n"
     ]
    },
    {
     "name": "stderr",
     "output_type": "stream",
     "text": [
      "Too many measurments in the input buffer: 501/500. Clearing buffer...\n"
     ]
    },
    {
     "name": "stdout",
     "output_type": "stream",
     "text": [
      "Sending command : {'HB': 0, 'IO': 1, 'WO': 0, 'DM': 'S', 'CMD': [5, 44]}\n",
      "Data sent successfully\n"
     ]
    },
    {
     "name": "stderr",
     "output_type": "stream",
     "text": [
      "Too many measurments in the input buffer: 508/500. Clearing buffer...\n"
     ]
    },
    {
     "name": "stdout",
     "output_type": "stream",
     "text": [
      "Sending command : {'HB': 0, 'IO': 1, 'WO': 0, 'DM': 'S', 'CMD': [5, 44]}\n",
      "Data sent successfully\n"
     ]
    },
    {
     "name": "stderr",
     "output_type": "stream",
     "text": [
      "Too many measurments in the input buffer: 519/500. Clearing buffer...\n"
     ]
    },
    {
     "name": "stdout",
     "output_type": "stream",
     "text": [
      "Sending command : {'HB': 0, 'IO': 1, 'WO': 0, 'DM': 'S', 'CMD': [5, 44]}\n",
      "Data sent successfully\n",
      "Sending command : {'HB': 0, 'IO': 1, 'WO': 0, 'DM': 'S', 'CMD': [5, 44]}\n",
      "Data sent successfully\n"
     ]
    },
    {
     "name": "stderr",
     "output_type": "stream",
     "text": [
      "Too many measurments in the input buffer: 577/500. Clearing buffer...\n"
     ]
    },
    {
     "name": "stdout",
     "output_type": "stream",
     "text": [
      "Sending command : {'HB': 0, 'IO': 1, 'WO': 0, 'DM': 'S', 'CMD': [-5, -26]}\n",
      "Data sent successfully\n"
     ]
    },
    {
     "name": "stderr",
     "output_type": "stream",
     "text": [
      "Too many measurments in the input buffer: 510/500. Clearing buffer...\n"
     ]
    },
    {
     "name": "stdout",
     "output_type": "stream",
     "text": [
      "Sending command : {'HB': 0, 'IO': 1, 'WO': 0, 'DM': 'S', 'CMD': [-5, -45]}\n",
      "Data sent successfully\n"
     ]
    },
    {
     "name": "stderr",
     "output_type": "stream",
     "text": [
      "Too many measurments in the input buffer: 502/500. Clearing buffer...\n"
     ]
    },
    {
     "name": "stdout",
     "output_type": "stream",
     "text": [
      "Sending command : {'HB': 0, 'IO': 1, 'WO': 0, 'DM': 'S', 'CMD': [-5, -45]}\n",
      "Data sent successfully\n",
      "Sending command : {'HB': 0, 'IO': 1, 'WO': 0, 'DM': 'S', 'CMD': [-5, -45]}\n",
      "Data sent successfully\n"
     ]
    },
    {
     "name": "stderr",
     "output_type": "stream",
     "text": [
      "Too many measurments in the input buffer: 521/500. Clearing buffer...\n"
     ]
    },
    {
     "name": "stdout",
     "output_type": "stream",
     "text": [
      "Sending command : {'HB': 0, 'IO': 1, 'WO': 0, 'DM': 'S', 'CMD': [-5, -45]}\n",
      "Data sent successfully\n"
     ]
    },
    {
     "name": "stderr",
     "output_type": "stream",
     "text": [
      "Too many measurments in the input buffer: 500/500. Clearing buffer...\n"
     ]
    },
    {
     "name": "stdout",
     "output_type": "stream",
     "text": [
      "Sending command : {'HB': 0, 'IO': 1, 'WO': 0, 'DM': 'S', 'CMD': [5, 44]}\n",
      "Data sent successfully\n",
      "Sending command : {'HB': 0, 'IO': 1, 'WO': 0, 'DM': 'S', 'CMD': [-5, -26]}\n",
      "Data sent successfully\n"
     ]
    },
    {
     "name": "stderr",
     "output_type": "stream",
     "text": [
      "Too many measurments in the input buffer: 507/500. Clearing buffer...\n"
     ]
    },
    {
     "name": "stdout",
     "output_type": "stream",
     "text": [
      "Sending command : {'HB': 0, 'IO': 1, 'WO': 0, 'DM': 'S', 'CMD': [5, 44]}\n",
      "Data sent successfully\n"
     ]
    },
    {
     "name": "stderr",
     "output_type": "stream",
     "text": [
      "Too many measurments in the input buffer: 528/500. Clearing buffer...\n"
     ]
    },
    {
     "name": "stdout",
     "output_type": "stream",
     "text": [
      "Sending command : {'HB': 0, 'IO': 1, 'WO': 0, 'DM': 'S', 'CMD': [5, 44]}\n",
      "Data sent successfully\n",
      "Sending command : {'HB': 0, 'IO': 1, 'WO': 0, 'DM': 'S', 'CMD': [5, 44]}\n",
      "Data sent successfully\n"
     ]
    },
    {
     "name": "stderr",
     "output_type": "stream",
     "text": [
      "Too many measurments in the input buffer: 546/500. Clearing buffer...\n"
     ]
    },
    {
     "name": "stdout",
     "output_type": "stream",
     "text": [
      "Sending command : {'HB': 0, 'IO': 1, 'WO': 0, 'DM': 'S', 'CMD': [5, 44]}\n",
      "Data sent successfully\n"
     ]
    },
    {
     "name": "stderr",
     "output_type": "stream",
     "text": [
      "Too many measurments in the input buffer: 574/500. Clearing buffer...\n"
     ]
    },
    {
     "name": "stdout",
     "output_type": "stream",
     "text": [
      "Sending command : {'HB': 0, 'IO': 1, 'WO': 0, 'DM': 'S', 'CMD': [5, 44]}\n",
      "Data sent successfully\n"
     ]
    },
    {
     "name": "stderr",
     "output_type": "stream",
     "text": [
      "Too many measurments in the input buffer: 512/500. Clearing buffer...\n"
     ]
    },
    {
     "name": "stdout",
     "output_type": "stream",
     "text": [
      "Sending command : {'HB': 0, 'IO': 1, 'WO': 0, 'DM': 'S', 'CMD': [5, 44]}\n",
      "Data sent successfully\n"
     ]
    },
    {
     "name": "stderr",
     "output_type": "stream",
     "text": [
      "Too many measurments in the input buffer: 507/500. Clearing buffer...\n"
     ]
    },
    {
     "name": "stdout",
     "output_type": "stream",
     "text": [
      "Sending command : {'HB': 0, 'IO': 1, 'WO': 0, 'DM': 'S', 'CMD': [-5, -45]}\n",
      "Data sent successfully\n",
      "Sending command : {'HB': 0, 'IO': 1, 'WO': 0, 'DM': 'S', 'CMD': [5, 44]}\n",
      "Data sent successfully\n"
     ]
    },
    {
     "name": "stderr",
     "output_type": "stream",
     "text": [
      "Too many measurments in the input buffer: 543/500. Clearing buffer...\n"
     ]
    },
    {
     "name": "stdout",
     "output_type": "stream",
     "text": [
      "Sending command : {'HB': 0, 'IO': 1, 'WO': 0, 'DM': 'S', 'CMD': [-5, -45]}\n",
      "Data sent successfully\n"
     ]
    },
    {
     "name": "stderr",
     "output_type": "stream",
     "text": [
      "Too many measurments in the input buffer: 536/500. Clearing buffer...\n"
     ]
    },
    {
     "name": "stdout",
     "output_type": "stream",
     "text": [
      "Sending command : {'HB': 0, 'IO': 1, 'WO': 0, 'DM': 'D', 'CMD': [5, 9]}\n",
      "Data sent successfully\n",
      "Sending command : {'HB': 0, 'IO': 1, 'WO': 0, 'DM': 'S', 'CMD': [-5, -45]}\n",
      "Data sent successfully\n"
     ]
    },
    {
     "name": "stderr",
     "output_type": "stream",
     "text": [
      "Too many measurments in the input buffer: 525/500. Clearing buffer...\n"
     ]
    },
    {
     "name": "stdout",
     "output_type": "stream",
     "text": [
      "Sending command : {'HB': 0, 'IO': 1, 'WO': 0, 'DM': 'S', 'CMD': [-5, -45]}\n",
      "Data sent successfully\n"
     ]
    },
    {
     "name": "stderr",
     "output_type": "stream",
     "text": [
      "Too many measurments in the input buffer: 555/500. Clearing buffer...\n"
     ]
    },
    {
     "name": "stdout",
     "output_type": "stream",
     "text": [
      "Sending command : {'HB': 0, 'IO': 1, 'WO': 0, 'DM': 'S', 'CMD': [-5, -45]}\n",
      "Data sent successfully\n",
      "Sending command : {'HB': 0, 'IO': 1, 'WO': 0, 'DM': 'S', 'CMD': [-5, -45]}\n",
      "Data sent successfully\n"
     ]
    },
    {
     "name": "stderr",
     "output_type": "stream",
     "text": [
      "Too many measurments in the input buffer: 504/500. Clearing buffer...\n"
     ]
    },
    {
     "name": "stdout",
     "output_type": "stream",
     "text": [
      "Sending command : {'HB': 0, 'IO': 1, 'WO': 0, 'DM': 'S', 'CMD': [-5, -26]}\n",
      "Data sent successfully\n"
     ]
    },
    {
     "name": "stderr",
     "output_type": "stream",
     "text": [
      "Too many measurments in the input buffer: 570/500. Clearing buffer...\n"
     ]
    },
    {
     "name": "stdout",
     "output_type": "stream",
     "text": [
      "Sending command : {'HB': 0, 'IO': 1, 'WO': 0, 'DM': 'S', 'CMD': [5, 44]}\n",
      "Data sent successfully\n"
     ]
    },
    {
     "name": "stderr",
     "output_type": "stream",
     "text": [
      "Too many measurments in the input buffer: 544/500. Clearing buffer...\n"
     ]
    },
    {
     "name": "stdout",
     "output_type": "stream",
     "text": [
      "Sending command : {'HB': 0, 'IO': 1, 'WO': 0, 'DM': 'S', 'CMD': [5, 44]}\n",
      "Data sent successfully\n",
      "Sending command : {'HB': 0, 'IO': 1, 'WO': 0, 'DM': 'S', 'CMD': [5, 44]}\n",
      "Data sent successfully\n"
     ]
    },
    {
     "name": "stderr",
     "output_type": "stream",
     "text": [
      "Too many measurments in the input buffer: 523/500. Clearing buffer...\n"
     ]
    },
    {
     "name": "stdout",
     "output_type": "stream",
     "text": [
      "Sending command : {'HB': 0, 'IO': 1, 'WO': 0, 'DM': 'S', 'CMD': [5, 44]}\n",
      "Data sent successfully\n"
     ]
    },
    {
     "name": "stderr",
     "output_type": "stream",
     "text": [
      "Too many measurments in the input buffer: 586/500. Clearing buffer...\n"
     ]
    },
    {
     "name": "stdout",
     "output_type": "stream",
     "text": [
      "Sending command : {'HB': 0, 'IO': 1, 'WO': 0, 'DM': 'S', 'CMD': [5, 44]}\n",
      "Data sent successfully\n"
     ]
    },
    {
     "name": "stderr",
     "output_type": "stream",
     "text": [
      "Too many measurments in the input buffer: 517/500. Clearing buffer...\n"
     ]
    },
    {
     "name": "stdout",
     "output_type": "stream",
     "text": [
      "Sending command : {'HB': 0, 'IO': 1, 'WO': 0, 'DM': 'S', 'CMD': [5, 44]}\n",
      "Data sent successfully\n",
      "Sending command : {'HB': 0, 'IO': 1, 'WO': 0, 'DM': 'S', 'CMD': [5, 44]}\n",
      "Data sent successfully\n"
     ]
    },
    {
     "name": "stderr",
     "output_type": "stream",
     "text": [
      "Too many measurments in the input buffer: 520/500. Clearing buffer...\n"
     ]
    },
    {
     "name": "stdout",
     "output_type": "stream",
     "text": [
      "Sending command : {'HB': 0, 'IO': 1, 'WO': 0, 'DM': 'S', 'CMD': [-5, -26]}\n",
      "Data sent successfully\n"
     ]
    },
    {
     "name": "stderr",
     "output_type": "stream",
     "text": [
      "Too many measurments in the input buffer: 523/500. Clearing buffer...\n"
     ]
    },
    {
     "name": "stdout",
     "output_type": "stream",
     "text": [
      "Sending command : {'HB': 0, 'IO': 1, 'WO': 0, 'DM': 'S', 'CMD': [-5, -26]}\n",
      "Data sent successfully\n",
      "Sending command : {'HB': 0, 'IO': 1, 'WO': 0, 'DM': 'S', 'CMD': [5, 44]}\n",
      "Data sent successfully\n"
     ]
    },
    {
     "name": "stderr",
     "output_type": "stream",
     "text": [
      "Too many measurments in the input buffer: 543/500. Clearing buffer...\n"
     ]
    },
    {
     "name": "stdout",
     "output_type": "stream",
     "text": [
      "Sending command : {'HB': 0, 'IO': 1, 'WO': 0, 'DM': 'S', 'CMD': [-5, -45]}\n",
      "Data sent successfully\n",
      "Sending command : {'HB': 0, 'IO': 1, 'WO': 0, 'DM': 'S', 'CMD': [-5, -45]}\n",
      "Data sent successfully\n"
     ]
    },
    {
     "name": "stderr",
     "output_type": "stream",
     "text": [
      "Too many measurments in the input buffer: 517/500. Clearing buffer...\n"
     ]
    },
    {
     "name": "stdout",
     "output_type": "stream",
     "text": [
      "Sending command : {'HB': 0, 'IO': 1, 'WO': 0, 'DM': 'S', 'CMD': [-5, -26]}\n",
      "Data sent successfully\n"
     ]
    },
    {
     "name": "stderr",
     "output_type": "stream",
     "text": [
      "Too many measurments in the input buffer: 581/500. Clearing buffer...\n"
     ]
    },
    {
     "name": "stdout",
     "output_type": "stream",
     "text": [
      "Sending command : {'HB': 0, 'IO': 1, 'WO': 0, 'DM': 'S', 'CMD': [5, 44]}\n",
      "Data sent successfully\n",
      "Sending command : {'HB': 0, 'IO': 1, 'WO': 0, 'DM': 'S', 'CMD': [5, 44]}\n",
      "Data sent successfully\n"
     ]
    },
    {
     "name": "stderr",
     "output_type": "stream",
     "text": [
      "Too many measurments in the input buffer: 519/500. Clearing buffer...\n"
     ]
    },
    {
     "name": "stdout",
     "output_type": "stream",
     "text": [
      "Sending command : {'HB': 0, 'IO': 1, 'WO': 0, 'DM': 'S', 'CMD': [5, 44]}\n",
      "Data sent successfully\n",
      "Sending command : {'HB': 0, 'IO': 1, 'WO': 0, 'DM': 'S', 'CMD': [5, 44]}\n",
      "Data sent successfully\n"
     ]
    },
    {
     "name": "stderr",
     "output_type": "stream",
     "text": [
      "Too many measurments in the input buffer: 580/500. Clearing buffer...\n"
     ]
    },
    {
     "name": "stdout",
     "output_type": "stream",
     "text": [
      "Sending command : {'HB': 0, 'IO': 1, 'WO': 0, 'DM': 'S', 'CMD': [5, 44]}\n",
      "Data sent successfully\n"
     ]
    },
    {
     "name": "stderr",
     "output_type": "stream",
     "text": [
      "Too many measurments in the input buffer: 580/500. Clearing buffer...\n"
     ]
    },
    {
     "name": "stdout",
     "output_type": "stream",
     "text": [
      "Sending command : {'HB': 0, 'IO': 1, 'WO': 0, 'DM': 'S', 'CMD': [-5, -45]}\n",
      "Data sent successfully\n",
      "Sending command : {'HB': 0, 'IO': 1, 'WO': 0, 'DM': 'S', 'CMD': [-5, -26]}\n",
      "Data sent successfully\n"
     ]
    },
    {
     "name": "stderr",
     "output_type": "stream",
     "text": [
      "Too many measurments in the input buffer: 507/500. Clearing buffer...\n"
     ]
    },
    {
     "name": "stdout",
     "output_type": "stream",
     "text": [
      "Sending command : {'HB': 0, 'IO': 1, 'WO': 0, 'DM': 'S', 'CMD': [-5, -45]}\n",
      "Data sent successfully\n"
     ]
    },
    {
     "name": "stderr",
     "output_type": "stream",
     "text": [
      "Too many measurments in the input buffer: 539/500. Clearing buffer...\n"
     ]
    },
    {
     "name": "stdout",
     "output_type": "stream",
     "text": [
      "Sending command : {'HB': 0, 'IO': 1, 'WO': 0, 'DM': 'S', 'CMD': [-5, -26]}\n",
      "Data sent successfully\n",
      "Sending command : {'HB': 0, 'IO': 1, 'WO': 0, 'DM': 'S', 'CMD': [-5, -45]}\n",
      "Data sent successfully\n"
     ]
    },
    {
     "name": "stderr",
     "output_type": "stream",
     "text": [
      "Too many measurments in the input buffer: 524/500. Clearing buffer...\n"
     ]
    },
    {
     "name": "stdout",
     "output_type": "stream",
     "text": [
      "Sending command : {'HB': 0, 'IO': 1, 'WO': 0, 'DM': 'S', 'CMD': [5, 44]}\n",
      "Data sent successfully\n"
     ]
    },
    {
     "name": "stderr",
     "output_type": "stream",
     "text": [
      "Too many measurments in the input buffer: 576/500. Clearing buffer...\n"
     ]
    },
    {
     "name": "stdout",
     "output_type": "stream",
     "text": [
      "Sending command : {'HB': 0, 'IO': 1, 'WO': 0, 'DM': 'S', 'CMD': [5, 44]}\n",
      "Data sent successfully\n",
      "Sending command : {'HB': 0, 'IO': 1, 'WO': 0, 'DM': 'S', 'CMD': [5, 44]}\n",
      "Data sent successfully\n",
      "Sending command : {'HB': 0, 'IO': 1, 'WO': 0, 'DM': 'S', 'CMD': [5, 44]}\n",
      "Data sent successfully\n"
     ]
    },
    {
     "name": "stderr",
     "output_type": "stream",
     "text": [
      "Too many measurments in the input buffer: 516/500. Clearing buffer...\n"
     ]
    },
    {
     "name": "stdout",
     "output_type": "stream",
     "text": [
      "Sending command : {'HB': 0, 'IO': 1, 'WO': 0, 'DM': 'S', 'CMD': [5, 44]}\n",
      "Data sent successfully\n",
      "Sending command : {'HB': 0, 'IO': 1, 'WO': 0, 'DM': 'S', 'CMD': [5, 44]}\n",
      "Data sent successfully\n",
      "Sending command : {'HB': 0, 'IO': 1, 'WO': 0, 'DM': 'S', 'CMD': [5, 44]}\n",
      "Data sent successfully\n"
     ]
    },
    {
     "name": "stderr",
     "output_type": "stream",
     "text": [
      "Too many measurments in the input buffer: 555/500. Clearing buffer...\n"
     ]
    },
    {
     "name": "stdout",
     "output_type": "stream",
     "text": [
      "Sending command : {'HB': 0, 'IO': 1, 'WO': 0, 'DM': 'S', 'CMD': [5, 44]}\n",
      "Data sent successfully\n"
     ]
    },
    {
     "name": "stderr",
     "output_type": "stream",
     "text": [
      "Too many measurments in the input buffer: 508/500. Clearing buffer...\n"
     ]
    },
    {
     "name": "stdout",
     "output_type": "stream",
     "text": [
      "Sending command : {'HB': 0, 'IO': 1, 'WO': 0, 'DM': 'S', 'CMD': [-5, -26]}\n",
      "Data sent successfully\n"
     ]
    },
    {
     "name": "stderr",
     "output_type": "stream",
     "text": [
      "Too many measurments in the input buffer: 530/500. Clearing buffer...\n"
     ]
    },
    {
     "name": "stdout",
     "output_type": "stream",
     "text": [
      "Sending command : {'HB': 0, 'IO': 1, 'WO': 0, 'DM': 'S', 'CMD': [-5, -45]}\n",
      "Data sent successfully\n",
      "Sending command : {'HB': 0, 'IO': 1, 'WO': 0, 'DM': 'S', 'CMD': [-5, -45]}\n",
      "Data sent successfully\n",
      "Sending command : {'HB': 0, 'IO': 1, 'WO': 0, 'DM': 'S', 'CMD': [-5, -45]}\n",
      "Data sent successfully\n"
     ]
    },
    {
     "name": "stderr",
     "output_type": "stream",
     "text": [
      "Too many measurments in the input buffer: 505/500. Clearing buffer...\n"
     ]
    },
    {
     "name": "stdout",
     "output_type": "stream",
     "text": [
      "Sending command : {'HB': 0, 'IO': 1, 'WO': 0, 'DM': 'S', 'CMD': [5, 44]}\n",
      "Data sent successfully\n"
     ]
    },
    {
     "name": "stderr",
     "output_type": "stream",
     "text": [
      "Too many measurments in the input buffer: 528/500. Clearing buffer...\n"
     ]
    },
    {
     "name": "stdout",
     "output_type": "stream",
     "text": [
      "Sending command : {'HB': 0, 'IO': 1, 'WO': 0, 'DM': 'S', 'CMD': [-5, -45]}\n",
      "Data sent successfully\n"
     ]
    },
    {
     "name": "stderr",
     "output_type": "stream",
     "text": [
      "Too many measurments in the input buffer: 556/500. Clearing buffer...\n"
     ]
    },
    {
     "name": "stdout",
     "output_type": "stream",
     "text": [
      "Sending command : {'HB': 0, 'IO': 1, 'WO': 0, 'DM': 'S', 'CMD': [-5, -26]}\n",
      "Data sent successfully\n",
      "Sending command : {'HB': 0, 'IO': 1, 'WO': 0, 'DM': 'S', 'CMD': [5, 44]}\n",
      "Data sent successfully\n"
     ]
    },
    {
     "name": "stderr",
     "output_type": "stream",
     "text": [
      "Too many measurments in the input buffer: 576/500. Clearing buffer...\n"
     ]
    },
    {
     "name": "stdout",
     "output_type": "stream",
     "text": [
      "Sending command : {'HB': 0, 'IO': 1, 'WO': 0, 'DM': 'S', 'CMD': [-5, -26]}\n",
      "Data sent successfully\n"
     ]
    },
    {
     "name": "stderr",
     "output_type": "stream",
     "text": [
      "Too many measurments in the input buffer: 527/500. Clearing buffer...\n"
     ]
    },
    {
     "name": "stdout",
     "output_type": "stream",
     "text": [
      "Sending command : {'HB': 0, 'IO': 1, 'WO': 0, 'DM': 'S', 'CMD': [5, 44]}\n",
      "Data sent successfully\n"
     ]
    },
    {
     "name": "stderr",
     "output_type": "stream",
     "text": [
      "Too many measurments in the input buffer: 552/500. Clearing buffer...\n"
     ]
    },
    {
     "name": "stdout",
     "output_type": "stream",
     "text": [
      "Sending command : {'HB': 0, 'IO': 1, 'WO': 0, 'DM': 'S', 'CMD': [5, 44]}\n",
      "Data sent successfully\n",
      "Sending command : {'HB': 0, 'IO': 1, 'WO': 0, 'DM': 'S', 'CMD': [5, 44]}\n",
      "Data sent successfully\n"
     ]
    },
    {
     "name": "stderr",
     "output_type": "stream",
     "text": [
      "Too many measurments in the input buffer: 540/500. Clearing buffer...\n"
     ]
    },
    {
     "name": "stdout",
     "output_type": "stream",
     "text": [
      "Sending command : {'HB': 0, 'IO': 1, 'WO': 0, 'DM': 'S', 'CMD': [5, 44]}\n",
      "Data sent successfully\n",
      "Sending command : {'HB': 0, 'IO': 1, 'WO': 0, 'DM': 'S', 'CMD': [-5, -26]}\n",
      "Data sent successfully\n"
     ]
    },
    {
     "name": "stderr",
     "output_type": "stream",
     "text": [
      "Too many measurments in the input buffer: 530/500. Clearing buffer...\n"
     ]
    },
    {
     "name": "stdout",
     "output_type": "stream",
     "text": [
      "Sending command : {'HB': 0, 'IO': 1, 'WO': 0, 'DM': 'S', 'CMD': [5, 44]}\n",
      "Data sent successfully\n",
      "Sending command : {'HB': 0, 'IO': 1, 'WO': 0, 'DM': 'S', 'CMD': [5, 44]}\n",
      "Data sent successfully\n"
     ]
    },
    {
     "name": "stderr",
     "output_type": "stream",
     "text": [
      "Too many measurments in the input buffer: 513/500. Clearing buffer...\n"
     ]
    },
    {
     "name": "stdout",
     "output_type": "stream",
     "text": [
      "Sending command : {'HB': 0, 'IO': 1, 'WO': 0, 'DM': 'S', 'CMD': [-5, -45]}\n",
      "Data sent successfully\n",
      "Sending command : {'HB': 0, 'IO': 1, 'WO': 0, 'DM': 'S', 'CMD': [-5, -26]}\n",
      "Data sent successfully\n"
     ]
    },
    {
     "name": "stderr",
     "output_type": "stream",
     "text": [
      "Too many measurments in the input buffer: 587/500. Clearing buffer...\n"
     ]
    },
    {
     "name": "stdout",
     "output_type": "stream",
     "text": [
      "Sending command : {'HB': 0, 'IO': 1, 'WO': 0, 'DM': 'S', 'CMD': [-5, -45]}\n",
      "Data sent successfully\n"
     ]
    },
    {
     "name": "stderr",
     "output_type": "stream",
     "text": [
      "Too many measurments in the input buffer: 528/500. Clearing buffer...\n"
     ]
    },
    {
     "name": "stdout",
     "output_type": "stream",
     "text": [
      "Sending command : {'HB': 0, 'IO': 1, 'WO': 0, 'DM': 'S', 'CMD': [-5, -45]}\n",
      "Data sent successfully\n",
      "Sending command : {'HB': 0, 'IO': 1, 'WO': 0, 'DM': 'S', 'CMD': [-5, -45]}\n",
      "Data sent successfully\n",
      "Sending command : {'HB': 0, 'IO': 1, 'WO': 0, 'DM': 'S', 'CMD': [-5, -45]}\n",
      "Data sent successfully\n"
     ]
    },
    {
     "name": "stderr",
     "output_type": "stream",
     "text": [
      "Too many measurments in the input buffer: 506/500. Clearing buffer...\n"
     ]
    },
    {
     "name": "stdout",
     "output_type": "stream",
     "text": [
      "Sending command : {'HB': 0, 'IO': 1, 'WO': 0, 'DM': 'S', 'CMD': [-5, -45]}\n",
      "Data sent successfully\n"
     ]
    },
    {
     "name": "stderr",
     "output_type": "stream",
     "text": [
      "Too many measurments in the input buffer: 501/500. Clearing buffer...\n"
     ]
    },
    {
     "name": "stdout",
     "output_type": "stream",
     "text": [
      "Sending command : {'HB': 0, 'IO': 1, 'WO': 0, 'DM': 'S', 'CMD': [-5, -26]}\n",
      "Data sent successfully\n",
      "Sending command : {'HB': 0, 'IO': 1, 'WO': 0, 'DM': 'S', 'CMD': [5, 44]}\n",
      "Data sent successfully\n"
     ]
    },
    {
     "name": "stderr",
     "output_type": "stream",
     "text": [
      "Too many measurments in the input buffer: 543/500. Clearing buffer...\n"
     ]
    },
    {
     "name": "stdout",
     "output_type": "stream",
     "text": [
      "Sending command : {'HB': 0, 'IO': 1, 'WO': 0, 'DM': 'S', 'CMD': [5, 44]}\n",
      "Data sent successfully\n",
      "Sending command : {'HB': 0, 'IO': 1, 'WO': 0, 'DM': 'S', 'CMD': [5, 44]}\n",
      "Data sent successfully\n"
     ]
    },
    {
     "name": "stderr",
     "output_type": "stream",
     "text": [
      "Too many measurments in the input buffer: 551/500. Clearing buffer...\n"
     ]
    },
    {
     "name": "stdout",
     "output_type": "stream",
     "text": [
      "Sending command : {'HB': 0, 'IO': 1, 'WO': 0, 'DM': 'S', 'CMD': [5, 44]}\n",
      "Data sent successfully\n"
     ]
    },
    {
     "name": "stderr",
     "output_type": "stream",
     "text": [
      "Too many measurments in the input buffer: 553/500. Clearing buffer...\n"
     ]
    },
    {
     "name": "stdout",
     "output_type": "stream",
     "text": [
      "Sending command : {'HB': 0, 'IO': 1, 'WO': 0, 'DM': 'S', 'CMD': [5, 44]}\n",
      "Data sent successfully\n"
     ]
    },
    {
     "name": "stderr",
     "output_type": "stream",
     "text": [
      "Too many measurments in the input buffer: 573/500. Clearing buffer...\n"
     ]
    },
    {
     "name": "stdout",
     "output_type": "stream",
     "text": [
      "Sending command : {'HB': 0, 'IO': 1, 'WO': 0, 'DM': 'S', 'CMD': [5, 44]}\n",
      "Data sent successfully\n"
     ]
    },
    {
     "name": "stderr",
     "output_type": "stream",
     "text": [
      "Too many measurments in the input buffer: 562/500. Clearing buffer...\n"
     ]
    },
    {
     "name": "stdout",
     "output_type": "stream",
     "text": [
      "Sending command : {'HB': 0, 'IO': 1, 'WO': 0, 'DM': 'S', 'CMD': [-5, -45]}\n",
      "Data sent successfully\n"
     ]
    },
    {
     "name": "stderr",
     "output_type": "stream",
     "text": [
      "Too many measurments in the input buffer: 516/500. Clearing buffer...\n"
     ]
    },
    {
     "name": "stdout",
     "output_type": "stream",
     "text": [
      "Sending command : {'HB': 0, 'IO': 1, 'WO': 0, 'DM': 'S', 'CMD': [-5, -45]}\n",
      "Data sent successfully\n"
     ]
    },
    {
     "name": "stderr",
     "output_type": "stream",
     "text": [
      "Too many measurments in the input buffer: 566/500. Clearing buffer...\n"
     ]
    },
    {
     "name": "stdout",
     "output_type": "stream",
     "text": [
      "Sending command : {'HB': 0, 'IO': 1, 'WO': 0, 'DM': 'S', 'CMD': [-5, -45]}\n",
      "Data sent successfully\n",
      "Sending command : {'HB': 0, 'IO': 1, 'WO': 0, 'DM': 'S', 'CMD': [-5, -45]}\n",
      "Data sent successfully\n"
     ]
    },
    {
     "name": "stderr",
     "output_type": "stream",
     "text": [
      "Too many measurments in the input buffer: 506/500. Clearing buffer...\n"
     ]
    },
    {
     "name": "stdout",
     "output_type": "stream",
     "text": [
      "Sending command : {'HB': 0, 'IO': 1, 'WO': 0, 'DM': 'S', 'CMD': [-5, -45]}\n",
      "Data sent successfully\n"
     ]
    },
    {
     "name": "stderr",
     "output_type": "stream",
     "text": [
      "Too many measurments in the input buffer: 517/500. Clearing buffer...\n"
     ]
    },
    {
     "name": "stdout",
     "output_type": "stream",
     "text": [
      "Sending command : {'HB': 0, 'IO': 1, 'WO': 0, 'DM': 'S', 'CMD': [-5, -45]}\n",
      "Data sent successfully\n",
      "Sending command : {'HB': 0, 'IO': 1, 'WO': 0, 'DM': 'S', 'CMD': [0, -90]}\n",
      "Data sent successfully\n"
     ]
    },
    {
     "name": "stderr",
     "output_type": "stream",
     "text": [
      "Too many measurments in the input buffer: 506/500. Clearing buffer...\n"
     ]
    },
    {
     "name": "stdout",
     "output_type": "stream",
     "text": [
      "Sending command : {'HB': 0, 'IO': 1, 'WO': 0, 'DM': 'S', 'CMD': [0, -90]}\n",
      "Data sent successfully\n"
     ]
    },
    {
     "name": "stderr",
     "output_type": "stream",
     "text": [
      "Too many measurments in the input buffer: 527/500. Clearing buffer...\n"
     ]
    },
    {
     "name": "stdout",
     "output_type": "stream",
     "text": [
      "Sending command : {'HB': 0, 'IO': 1, 'WO': 0, 'DM': 'S', 'CMD': [0, -90]}\n",
      "Data sent successfully\n",
      "Sending command : {'HB': 0, 'IO': 1, 'WO': 0, 'DM': 'S', 'CMD': [0, -90]}\n",
      "Data sent successfully\n"
     ]
    },
    {
     "name": "stderr",
     "output_type": "stream",
     "text": [
      "Too many measurments in the input buffer: 555/500. Clearing buffer...\n"
     ]
    },
    {
     "name": "stdout",
     "output_type": "stream",
     "text": [
      "Sending command : {'HB': 0, 'IO': 1, 'WO': 0, 'DM': 'S', 'CMD': [0, -90]}\n",
      "Data sent successfully\n"
     ]
    },
    {
     "name": "stderr",
     "output_type": "stream",
     "text": [
      "Too many measurments in the input buffer: 545/500. Clearing buffer...\n"
     ]
    },
    {
     "name": "stdout",
     "output_type": "stream",
     "text": [
      "Sending command : {'HB': 0, 'IO': 1, 'WO': 0, 'DM': 'S', 'CMD': [0, -90]}\n",
      "Data sent successfully\n"
     ]
    },
    {
     "name": "stderr",
     "output_type": "stream",
     "text": [
      "Too many measurments in the input buffer: 568/500. Clearing buffer...\n"
     ]
    },
    {
     "name": "stdout",
     "output_type": "stream",
     "text": [
      "Sending command : {'HB': 0, 'IO': 1, 'WO': 0, 'DM': 'S', 'CMD': [0, -90]}\n",
      "Data sent successfully\n"
     ]
    },
    {
     "name": "stderr",
     "output_type": "stream",
     "text": [
      "Too many measurments in the input buffer: 545/500. Clearing buffer...\n"
     ]
    },
    {
     "name": "stdout",
     "output_type": "stream",
     "text": [
      "Sending command : {'HB': 0, 'IO': 1, 'WO': 0, 'DM': 'S', 'CMD': [0, -90]}\n",
      "Data sent successfully\n",
      "Sending command : {'HB': 0, 'IO': 1, 'WO': 0, 'DM': 'S', 'CMD': [0, 44]}\n",
      "Data sent successfully\n"
     ]
    },
    {
     "name": "stderr",
     "output_type": "stream",
     "text": [
      "Too many measurments in the input buffer: 549/500. Clearing buffer...\n"
     ]
    },
    {
     "name": "stdout",
     "output_type": "stream",
     "text": [
      "Sending command : {'HB': 0, 'IO': 1, 'WO': 0, 'DM': 'S', 'CMD': [0, 44]}\n",
      "Data sent successfully\n"
     ]
    },
    {
     "name": "stderr",
     "output_type": "stream",
     "text": [
      "Too many measurments in the input buffer: 539/500. Clearing buffer...\n"
     ]
    },
    {
     "name": "stdout",
     "output_type": "stream",
     "text": [
      "Sending command : {'HB': 0, 'IO': 1, 'WO': 0, 'DM': 'S', 'CMD': [0, 44]}\n",
      "Data sent successfully\n"
     ]
    },
    {
     "name": "stderr",
     "output_type": "stream",
     "text": [
      "Too many measurments in the input buffer: 578/500. Clearing buffer...\n"
     ]
    },
    {
     "name": "stdout",
     "output_type": "stream",
     "text": [
      "Sending command : {'HB': 0, 'IO': 1, 'WO': 0, 'DM': 'S', 'CMD': [0, -90]}\n",
      "Data sent successfully\n"
     ]
    },
    {
     "name": "stderr",
     "output_type": "stream",
     "text": [
      "Too many measurments in the input buffer: 554/500. Clearing buffer...\n"
     ]
    },
    {
     "name": "stdout",
     "output_type": "stream",
     "text": [
      "Sending command : {'HB': 0, 'IO': 1, 'WO': 0, 'DM': 'S', 'CMD': [0, -90]}\n",
      "Data sent successfully\n"
     ]
    },
    {
     "name": "stderr",
     "output_type": "stream",
     "text": [
      "Too many measurments in the input buffer: 547/500. Clearing buffer...\n"
     ]
    },
    {
     "name": "stdout",
     "output_type": "stream",
     "text": [
      "Sending command : {'HB': 0, 'IO': 1, 'WO': 0, 'DM': 'S', 'CMD': [0, -90]}\n",
      "Data sent successfully\n"
     ]
    },
    {
     "name": "stderr",
     "output_type": "stream",
     "text": [
      "Too many measurments in the input buffer: 573/500. Clearing buffer...\n"
     ]
    },
    {
     "name": "stdout",
     "output_type": "stream",
     "text": [
      "Sending command : {'HB': 0, 'IO': 1, 'WO': 0, 'DM': 'S', 'CMD': [0, -45]}\n",
      "Data sent successfully\n"
     ]
    },
    {
     "name": "stderr",
     "output_type": "stream",
     "text": [
      "Too many measurments in the input buffer: 509/500. Clearing buffer...\n"
     ]
    },
    {
     "name": "stdout",
     "output_type": "stream",
     "text": [
      "Sending command : {'HB': 0, 'IO': 1, 'WO': 0, 'DM': 'S', 'CMD': [0, -90]}\n",
      "Data sent successfully\n",
      "Sending command : {'HB': 0, 'IO': 1, 'WO': 0, 'DM': 'S', 'CMD': [0, -90]}\n",
      "Data sent successfully\n"
     ]
    },
    {
     "name": "stderr",
     "output_type": "stream",
     "text": [
      "Too many measurments in the input buffer: 516/500. Clearing buffer...\n"
     ]
    },
    {
     "name": "stdout",
     "output_type": "stream",
     "text": [
      "Sending command : {'HB': 0, 'IO': 1, 'WO': 0, 'DM': 'S', 'CMD': [0, -90]}\n",
      "Data sent successfully\n"
     ]
    },
    {
     "name": "stderr",
     "output_type": "stream",
     "text": [
      "Too many measurments in the input buffer: 573/500. Clearing buffer...\n"
     ]
    },
    {
     "name": "stdout",
     "output_type": "stream",
     "text": [
      "Sending command : {'HB': 0, 'IO': 1, 'WO': 0, 'DM': 'D', 'CMD': [0, 9]}\n",
      "Data sent successfully\n"
     ]
    },
    {
     "name": "stderr",
     "output_type": "stream",
     "text": [
      "Too many measurments in the input buffer: 567/500. Clearing buffer...\n"
     ]
    },
    {
     "name": "stdout",
     "output_type": "stream",
     "text": [
      "Sending command : {'HB': 0, 'IO': 1, 'WO': 0, 'DM': 'S', 'CMD': [0, -90]}\n",
      "Data sent successfully\n",
      "Sending command : {'HB': 0, 'IO': 1, 'WO': 0, 'DM': 'S', 'CMD': [0, -90]}\n",
      "Data sent successfully\n"
     ]
    },
    {
     "name": "stderr",
     "output_type": "stream",
     "text": [
      "Too many measurments in the input buffer: 562/500. Clearing buffer...\n"
     ]
    },
    {
     "name": "stdout",
     "output_type": "stream",
     "text": [
      "Sending command : {'HB': 0, 'IO': 1, 'WO': 0, 'DM': 'S', 'CMD': [0, -90]}\n",
      "Data sent successfully\n"
     ]
    },
    {
     "name": "stderr",
     "output_type": "stream",
     "text": [
      "Too many measurments in the input buffer: 515/500. Clearing buffer...\n"
     ]
    },
    {
     "name": "stdout",
     "output_type": "stream",
     "text": [
      "Sending command : {'HB': 0, 'IO': 1, 'WO': 0, 'DM': 'S', 'CMD': [0, -90]}\n",
      "Data sent successfully\n"
     ]
    },
    {
     "name": "stderr",
     "output_type": "stream",
     "text": [
      "Too many measurments in the input buffer: 523/500. Clearing buffer...\n"
     ]
    },
    {
     "name": "stdout",
     "output_type": "stream",
     "text": [
      "Sending command : {'HB': 0, 'IO': 1, 'WO': 0, 'DM': 'S', 'CMD': [0, -26]}\n",
      "Data sent successfully\n",
      "Sending command : {'HB': 0, 'IO': 1, 'WO': 0, 'DM': 'S', 'CMD': [0, -90]}\n",
      "Data sent successfully\n",
      "Sending command : {'HB': 0, 'IO': 1, 'WO': 0, 'DM': 'S', 'CMD': [0, -90]}\n",
      "Data sent successfully\n",
      "Sending command : {'HB': 0, 'IO': 1, 'WO': 0, 'DM': 'S', 'CMD': [0, -90]}\n",
      "Data sent successfully\n"
     ]
    },
    {
     "name": "stderr",
     "output_type": "stream",
     "text": [
      "Too many measurments in the input buffer: 513/500. Clearing buffer...\n"
     ]
    },
    {
     "name": "stdout",
     "output_type": "stream",
     "text": [
      "Sending command : {'HB': 0, 'IO': 1, 'WO': 0, 'DM': 'S', 'CMD': [0, -90]}\n",
      "Data sent successfully\n"
     ]
    },
    {
     "name": "stderr",
     "output_type": "stream",
     "text": [
      "Too many measurments in the input buffer: 533/500. Clearing buffer...\n"
     ]
    },
    {
     "name": "stdout",
     "output_type": "stream",
     "text": [
      "Sending command : {'HB': 0, 'IO': 1, 'WO': 0, 'DM': 'S', 'CMD': [0, -90]}\n",
      "Data sent successfully\n",
      "Sending command : {'HB': 0, 'IO': 1, 'WO': 0, 'DM': 'S', 'CMD': [0, -90]}\n",
      "Data sent successfully\n"
     ]
    },
    {
     "name": "stderr",
     "output_type": "stream",
     "text": [
      "Too many measurments in the input buffer: 540/500. Clearing buffer...\n"
     ]
    },
    {
     "name": "stdout",
     "output_type": "stream",
     "text": [
      "Sending command : {'HB': 0, 'IO': 1, 'WO': 0, 'DM': 'S', 'CMD': [0, -90]}\n",
      "Data sent successfully\n"
     ]
    },
    {
     "name": "stderr",
     "output_type": "stream",
     "text": [
      "Too many measurments in the input buffer: 549/500. Clearing buffer...\n"
     ]
    },
    {
     "name": "stdout",
     "output_type": "stream",
     "text": [
      "Sending command : {'HB': 0, 'IO': 1, 'WO': 0, 'DM': 'S', 'CMD': [0, -90]}\n",
      "Data sent successfully\n",
      "Sending command : {'HB': 0, 'IO': 1, 'WO': 0, 'DM': 'S', 'CMD': [0, -90]}\n",
      "Data sent successfully\n"
     ]
    },
    {
     "name": "stderr",
     "output_type": "stream",
     "text": [
      "Too many measurments in the input buffer: 515/500. Clearing buffer...\n"
     ]
    },
    {
     "name": "stdout",
     "output_type": "stream",
     "text": [
      "Sending command : {'HB': 0, 'IO': 1, 'WO': 0, 'DM': 'S', 'CMD': [0, -90]}\n",
      "Data sent successfully\n"
     ]
    },
    {
     "name": "stderr",
     "output_type": "stream",
     "text": [
      "Too many measurments in the input buffer: 544/500. Clearing buffer...\n"
     ]
    },
    {
     "name": "stdout",
     "output_type": "stream",
     "text": [
      "Sending command : {'HB': 0, 'IO': 1, 'WO': 0, 'DM': 'S', 'CMD': [0, -90]}\n",
      "Data sent successfully\n"
     ]
    },
    {
     "name": "stderr",
     "output_type": "stream",
     "text": [
      "Too many measurments in the input buffer: 580/500. Clearing buffer...\n"
     ]
    },
    {
     "name": "stdout",
     "output_type": "stream",
     "text": [
      "Sending command : {'HB': 0, 'IO': 1, 'WO': 0, 'DM': 'S', 'CMD': [0, -90]}\n",
      "Data sent successfully\n",
      "Sending command : {'HB': 0, 'IO': 1, 'WO': 0, 'DM': 'S', 'CMD': [0, -90]}\n",
      "Data sent successfully\n"
     ]
    },
    {
     "name": "stderr",
     "output_type": "stream",
     "text": [
      "Too many measurments in the input buffer: 508/500. Clearing buffer...\n"
     ]
    },
    {
     "name": "stdout",
     "output_type": "stream",
     "text": [
      "Sending command : {'HB': 0, 'IO': 1, 'WO': 0, 'DM': 'S', 'CMD': [0, -90]}\n",
      "Data sent successfully\n",
      "Sending command : {'HB': 0, 'IO': 1, 'WO': 0, 'DM': 'S', 'CMD': [0, -90]}\n",
      "Data sent successfully\n"
     ]
    },
    {
     "name": "stderr",
     "output_type": "stream",
     "text": [
      "Too many measurments in the input buffer: 525/500. Clearing buffer...\n"
     ]
    },
    {
     "name": "stdout",
     "output_type": "stream",
     "text": [
      "Sending command : {'HB': 0, 'IO': 1, 'WO': 0, 'DM': 'S', 'CMD': [0, -90]}\n",
      "Data sent successfully\n",
      "Sending command : {'HB': 0, 'IO': 1, 'WO': 0, 'DM': 'S', 'CMD': [0, -90]}\n",
      "Data sent successfully\n"
     ]
    },
    {
     "name": "stderr",
     "output_type": "stream",
     "text": [
      "Too many measurments in the input buffer: 501/500. Clearing buffer...\n"
     ]
    },
    {
     "name": "stdout",
     "output_type": "stream",
     "text": [
      "Sending command : {'HB': 0, 'IO': 1, 'WO': 0, 'DM': 'S', 'CMD': [0, -90]}\n",
      "Data sent successfully\n",
      "Sending command : {'HB': 0, 'IO': 1, 'WO': 0, 'DM': 'S', 'CMD': [0, -90]}\n",
      "Data sent successfully\n"
     ]
    },
    {
     "name": "stderr",
     "output_type": "stream",
     "text": [
      "Too many measurments in the input buffer: 510/500. Clearing buffer...\n"
     ]
    },
    {
     "name": "stdout",
     "output_type": "stream",
     "text": [
      "Sending command : {'HB': 0, 'IO': 1, 'WO': 0, 'DM': 'S', 'CMD': [0, -90]}\n",
      "Data sent successfully\n"
     ]
    },
    {
     "name": "stderr",
     "output_type": "stream",
     "text": [
      "Too many measurments in the input buffer: 509/500. Clearing buffer...\n"
     ]
    },
    {
     "name": "stdout",
     "output_type": "stream",
     "text": [
      "Sending command : {'HB': 0, 'IO': 1, 'WO': 0, 'DM': 'S', 'CMD': [0, -90]}\n",
      "Data sent successfully\n"
     ]
    },
    {
     "name": "stderr",
     "output_type": "stream",
     "text": [
      "Too many measurments in the input buffer: 587/500. Clearing buffer...\n"
     ]
    },
    {
     "name": "stdout",
     "output_type": "stream",
     "text": [
      "Sending command : {'HB': 0, 'IO': 1, 'WO': 0, 'DM': 'S', 'CMD': [0, -90]}\n",
      "Data sent successfully\n",
      "Sending command : {'HB': 0, 'IO': 1, 'WO': 0, 'DM': 'S', 'CMD': [0, -90]}\n",
      "Data sent successfully\n"
     ]
    },
    {
     "name": "stderr",
     "output_type": "stream",
     "text": [
      "Too many measurments in the input buffer: 501/500. Clearing buffer...\n"
     ]
    },
    {
     "name": "stdout",
     "output_type": "stream",
     "text": [
      "Sending command : {'HB': 0, 'IO': 1, 'WO': 0, 'DM': 'S', 'CMD': [0, -90]}\n",
      "Data sent successfully\n",
      "Sending command : {'HB': 0, 'IO': 1, 'WO': 0, 'DM': 'S', 'CMD': [0, -90]}\n",
      "Data sent successfully\n"
     ]
    },
    {
     "name": "stderr",
     "output_type": "stream",
     "text": [
      "Too many measurments in the input buffer: 513/500. Clearing buffer...\n"
     ]
    },
    {
     "name": "stdout",
     "output_type": "stream",
     "text": [
      "Sending command : {'HB': 0, 'IO': 1, 'WO': 0, 'DM': 'S', 'CMD': [0, -90]}\n",
      "Data sent successfully\n",
      "Sending command : {'HB': 0, 'IO': 1, 'WO': 0, 'DM': 'S', 'CMD': [0, -90]}\n",
      "Data sent successfully\n",
      "Sending command : {'HB': 0, 'IO': 1, 'WO': 0, 'DM': 'S', 'CMD': [0, -90]}\n",
      "Data sent successfully\n"
     ]
    },
    {
     "name": "stderr",
     "output_type": "stream",
     "text": [
      "Too many measurments in the input buffer: 583/500. Clearing buffer...\n"
     ]
    },
    {
     "name": "stdout",
     "output_type": "stream",
     "text": [
      "Sending command : {'HB': 0, 'IO': 1, 'WO': 0, 'DM': 'S', 'CMD': [0, -90]}\n",
      "Data sent successfully\n",
      "Sending command : {'HB': 0, 'IO': 1, 'WO': 0, 'DM': 'S', 'CMD': [0, -90]}\n",
      "Data sent successfully\n",
      "Sending command : {'HB': 0, 'IO': 1, 'WO': 0, 'DM': 'S', 'CMD': [0, -90]}\n",
      "Data sent successfully\n"
     ]
    },
    {
     "name": "stderr",
     "output_type": "stream",
     "text": [
      "Too many measurments in the input buffer: 547/500. Clearing buffer...\n"
     ]
    },
    {
     "name": "stdout",
     "output_type": "stream",
     "text": [
      "Sending command : {'HB': 0, 'IO': 1, 'WO': 0, 'DM': 'S', 'CMD': [0, 44]}\n",
      "Data sent successfully\n"
     ]
    },
    {
     "name": "stderr",
     "output_type": "stream",
     "text": [
      "Too many measurments in the input buffer: 575/500. Clearing buffer...\n"
     ]
    },
    {
     "name": "stdout",
     "output_type": "stream",
     "text": [
      "Sending command : {'HB': 0, 'IO': 1, 'WO': 0, 'DM': 'S', 'CMD': [0, 44]}\n",
      "Data sent successfully\n",
      "Sending command : {'HB': 0, 'IO': 1, 'WO': 0, 'DM': 'S', 'CMD': [0, 44]}\n",
      "Data sent successfully\n"
     ]
    },
    {
     "name": "stderr",
     "output_type": "stream",
     "text": [
      "Too many measurments in the input buffer: 519/500. Clearing buffer...\n"
     ]
    },
    {
     "name": "stdout",
     "output_type": "stream",
     "text": [
      "Sending command : {'HB': 0, 'IO': 1, 'WO': 0, 'DM': 'S', 'CMD': [0, 44]}\n",
      "Data sent successfully\n"
     ]
    },
    {
     "name": "stderr",
     "output_type": "stream",
     "text": [
      "Too many measurments in the input buffer: 565/500. Clearing buffer...\n"
     ]
    },
    {
     "name": "stdout",
     "output_type": "stream",
     "text": [
      "Sending command : {'HB': 0, 'IO': 1, 'WO': 0, 'DM': 'S', 'CMD': [0, -90]}\n",
      "Data sent successfully\n"
     ]
    },
    {
     "name": "stderr",
     "output_type": "stream",
     "text": [
      "Too many measurments in the input buffer: 516/500. Clearing buffer...\n"
     ]
    },
    {
     "name": "stdout",
     "output_type": "stream",
     "text": [
      "Sending command : {'HB': 0, 'IO': 1, 'WO': 0, 'DM': 'S', 'CMD': [0, -90]}\n",
      "Data sent successfully\n"
     ]
    },
    {
     "name": "stderr",
     "output_type": "stream",
     "text": [
      "Too many measurments in the input buffer: 533/500. Clearing buffer...\n"
     ]
    },
    {
     "name": "stdout",
     "output_type": "stream",
     "text": [
      "Sending command : {'HB': 0, 'IO': 1, 'WO': 0, 'DM': 'S', 'CMD': [0, 44]}\n",
      "Data sent successfully\n",
      "Sending command : {'HB': 0, 'IO': 1, 'WO': 0, 'DM': 'S', 'CMD': [0, 44]}\n",
      "Data sent successfully\n"
     ]
    },
    {
     "name": "stderr",
     "output_type": "stream",
     "text": [
      "Too many measurments in the input buffer: 507/500. Clearing buffer...\n"
     ]
    },
    {
     "name": "stdout",
     "output_type": "stream",
     "text": [
      "Sending command : {'HB': 0, 'IO': 1, 'WO': 0, 'DM': 'S', 'CMD': [0, 44]}\n",
      "Data sent successfully\n"
     ]
    },
    {
     "name": "stderr",
     "output_type": "stream",
     "text": [
      "Too many measurments in the input buffer: 500/500. Clearing buffer...\n"
     ]
    },
    {
     "name": "stdout",
     "output_type": "stream",
     "text": [
      "Sending command : {'HB': 0, 'IO': 1, 'WO': 0, 'DM': 'S', 'CMD': [0, 44]}\n",
      "Data sent successfully\n",
      "Sending command : {'HB': 0, 'IO': 1, 'WO': 0, 'DM': 'S', 'CMD': [0, 44]}\n",
      "Data sent successfully\n"
     ]
    },
    {
     "name": "stderr",
     "output_type": "stream",
     "text": [
      "Too many measurments in the input buffer: 575/500. Clearing buffer...\n"
     ]
    },
    {
     "name": "stdout",
     "output_type": "stream",
     "text": [
      "Sending command : {'HB': 0, 'IO': 1, 'WO': 0, 'DM': 'S', 'CMD': [0, 44]}\n",
      "Data sent successfully\n"
     ]
    },
    {
     "name": "stderr",
     "output_type": "stream",
     "text": [
      "Too many measurments in the input buffer: 558/500. Clearing buffer...\n"
     ]
    },
    {
     "name": "stdout",
     "output_type": "stream",
     "text": [
      "Sending command : {'HB': 0, 'IO': 1, 'WO': 0, 'DM': 'S', 'CMD': [0, 44]}\n",
      "Data sent successfully\n",
      "Sending command : {'HB': 0, 'IO': 1, 'WO': 0, 'DM': 'S', 'CMD': [0, 44]}\n",
      "Data sent successfully\n"
     ]
    },
    {
     "name": "stderr",
     "output_type": "stream",
     "text": [
      "Too many measurments in the input buffer: 521/500. Clearing buffer...\n"
     ]
    },
    {
     "name": "stdout",
     "output_type": "stream",
     "text": [
      "Sending command : {'HB': 0, 'IO': 1, 'WO': 0, 'DM': 'S', 'CMD': [0, 44]}\n",
      "Data sent successfully\n"
     ]
    },
    {
     "name": "stderr",
     "output_type": "stream",
     "text": [
      "Too many measurments in the input buffer: 545/500. Clearing buffer...\n"
     ]
    },
    {
     "name": "stdout",
     "output_type": "stream",
     "text": [
      "Sending command : {'HB': 0, 'IO': 1, 'WO': 0, 'DM': 'S', 'CMD': [0, 44]}\n",
      "Data sent successfully\n"
     ]
    },
    {
     "name": "stderr",
     "output_type": "stream",
     "text": [
      "Too many measurments in the input buffer: 527/500. Clearing buffer...\n"
     ]
    },
    {
     "name": "stdout",
     "output_type": "stream",
     "text": [
      "Sending command : {'HB': 0, 'IO': 1, 'WO': 0, 'DM': 'S', 'CMD': [0, 44]}\n",
      "Data sent successfully\n"
     ]
    },
    {
     "name": "stderr",
     "output_type": "stream",
     "text": [
      "Too many measurments in the input buffer: 570/500. Clearing buffer...\n"
     ]
    },
    {
     "name": "stdout",
     "output_type": "stream",
     "text": [
      "Sending command : {'HB': 0, 'IO': 1, 'WO': 0, 'DM': 'S', 'CMD': [0, 44]}\n",
      "Data sent successfully\n"
     ]
    },
    {
     "name": "stderr",
     "output_type": "stream",
     "text": [
      "Too many measurments in the input buffer: 526/500. Clearing buffer...\n"
     ]
    },
    {
     "name": "stdout",
     "output_type": "stream",
     "text": [
      "Sending command : {'HB': 0, 'IO': 1, 'WO': 0, 'DM': 'S', 'CMD': [0, 44]}\n",
      "Data sent successfully\n",
      "Sending command : {'HB': 0, 'IO': 1, 'WO': 0, 'DM': 'S', 'CMD': [0, 44]}\n",
      "Data sent successfully\n"
     ]
    },
    {
     "name": "stderr",
     "output_type": "stream",
     "text": [
      "Too many measurments in the input buffer: 500/500. Clearing buffer...\n"
     ]
    },
    {
     "name": "stdout",
     "output_type": "stream",
     "text": [
      "Sending command : {'HB': 0, 'IO': 1, 'WO': 0, 'DM': 'S', 'CMD': [0, 44]}\n",
      "Data sent successfully\n"
     ]
    },
    {
     "name": "stderr",
     "output_type": "stream",
     "text": [
      "Too many measurments in the input buffer: 518/500. Clearing buffer...\n"
     ]
    },
    {
     "name": "stdout",
     "output_type": "stream",
     "text": [
      "Sending command : {'HB': 0, 'IO': 1, 'WO': 0, 'DM': 'S', 'CMD': [0, -90]}\n",
      "Data sent successfully\n"
     ]
    },
    {
     "name": "stderr",
     "output_type": "stream",
     "text": [
      "Too many measurments in the input buffer: 548/500. Clearing buffer...\n"
     ]
    },
    {
     "name": "stdout",
     "output_type": "stream",
     "text": [
      "Sending command : {'HB': 0, 'IO': 1, 'WO': 0, 'DM': 'S', 'CMD': [0, -90]}\n",
      "Data sent successfully\n",
      "Sending command : {'HB': 0, 'IO': 1, 'WO': 0, 'DM': 'S', 'CMD': [0, -90]}\n",
      "Data sent successfully\n"
     ]
    },
    {
     "name": "stderr",
     "output_type": "stream",
     "text": [
      "Too many measurments in the input buffer: 521/500. Clearing buffer...\n",
      "Too many measurments in the input buffer: 581/500. Clearing buffer...\n"
     ]
    },
    {
     "name": "stdout",
     "output_type": "stream",
     "text": [
      "Sending command : {'HB': 0, 'IO': 1, 'WO': 0, 'DM': 'S', 'CMD': [0, -90]}\n",
      "Data sent successfully\n",
      "Sending command : {'HB': 0, 'IO': 1, 'WO': 0, 'DM': 'S', 'CMD': [0, -90]}\n",
      "Data sent successfully\n"
     ]
    },
    {
     "name": "stderr",
     "output_type": "stream",
     "text": [
      "Too many measurments in the input buffer: 528/500. Clearing buffer...\n"
     ]
    },
    {
     "name": "stdout",
     "output_type": "stream",
     "text": [
      "Sending command : {'HB': 0, 'IO': 1, 'WO': 0, 'DM': 'S', 'CMD': [0, -90]}\n",
      "Data sent successfully\n"
     ]
    },
    {
     "name": "stderr",
     "output_type": "stream",
     "text": [
      "Too many measurments in the input buffer: 546/500. Clearing buffer...\n"
     ]
    },
    {
     "name": "stdout",
     "output_type": "stream",
     "text": [
      "Sending command : {'HB': 0, 'IO': 1, 'WO': 0, 'DM': 'S', 'CMD': [0, -90]}\n",
      "Data sent successfully\n"
     ]
    },
    {
     "name": "stderr",
     "output_type": "stream",
     "text": [
      "Too many measurments in the input buffer: 525/500. Clearing buffer...\n"
     ]
    },
    {
     "name": "stdout",
     "output_type": "stream",
     "text": [
      "Sending command : {'HB': 0, 'IO': 1, 'WO': 0, 'DM': 'S', 'CMD': [0, -90]}\n",
      "Data sent successfully\n",
      "Sending command : {'HB': 0, 'IO': 1, 'WO': 0, 'DM': 'S', 'CMD': [0, -90]}\n",
      "Data sent successfully\n"
     ]
    },
    {
     "name": "stderr",
     "output_type": "stream",
     "text": [
      "Too many measurments in the input buffer: 514/500. Clearing buffer...\n"
     ]
    },
    {
     "name": "stdout",
     "output_type": "stream",
     "text": [
      "Sending command : {'HB': 0, 'IO': 1, 'WO': 0, 'DM': 'S', 'CMD': [0, -90]}\n",
      "Data sent successfully\n",
      "Sending command : {'HB': 0, 'IO': 1, 'WO': 0, 'DM': 'S', 'CMD': [0, -90]}\n",
      "Data sent successfully\n"
     ]
    },
    {
     "name": "stderr",
     "output_type": "stream",
     "text": [
      "Too many measurments in the input buffer: 545/500. Clearing buffer...\n"
     ]
    },
    {
     "name": "stdout",
     "output_type": "stream",
     "text": [
      "Sending command : {'HB': 0, 'IO': 1, 'WO': 0, 'DM': 'S', 'CMD': [0, -45]}\n",
      "Data sent successfully\n"
     ]
    },
    {
     "name": "stderr",
     "output_type": "stream",
     "text": [
      "Too many measurments in the input buffer: 523/500. Clearing buffer...\n"
     ]
    },
    {
     "name": "stdout",
     "output_type": "stream",
     "text": [
      "Sending command : {'HB': 0, 'IO': 1, 'WO': 0, 'DM': 'S', 'CMD': [0, -45]}\n",
      "Data sent successfully\n"
     ]
    },
    {
     "name": "stderr",
     "output_type": "stream",
     "text": [
      "Too many measurments in the input buffer: 541/500. Clearing buffer...\n"
     ]
    },
    {
     "name": "stdout",
     "output_type": "stream",
     "text": [
      "Sending command : {'HB': 0, 'IO': 1, 'WO': 0, 'DM': 'S', 'CMD': [0, -45]}\n",
      "Data sent successfully\n"
     ]
    },
    {
     "name": "stderr",
     "output_type": "stream",
     "text": [
      "Too many measurments in the input buffer: 546/500. Clearing buffer...\n"
     ]
    },
    {
     "name": "stdout",
     "output_type": "stream",
     "text": [
      "Sending command : {'HB': 0, 'IO': 1, 'WO': 0, 'DM': 'D', 'CMD': [0, -9]}\n",
      "Data sent successfully\n",
      "Sending command : {'HB': 0, 'IO': 1, 'WO': 0, 'DM': 'S', 'CMD': [0, -90]}\n",
      "Data sent successfully\n"
     ]
    },
    {
     "name": "stderr",
     "output_type": "stream",
     "text": [
      "Too many measurments in the input buffer: 519/500. Clearing buffer...\n"
     ]
    },
    {
     "name": "stdout",
     "output_type": "stream",
     "text": [
      "Sending command : {'HB': 0, 'IO': 1, 'WO': 0, 'DM': 'S', 'CMD': [0, -90]}\n",
      "Data sent successfully\n"
     ]
    },
    {
     "name": "stderr",
     "output_type": "stream",
     "text": [
      "Too many measurments in the input buffer: 505/500. Clearing buffer...\n"
     ]
    },
    {
     "name": "stdout",
     "output_type": "stream",
     "text": [
      "Sending command : {'HB': 0, 'IO': 1, 'WO': 0, 'DM': 'S', 'CMD': [0, -26]}\n",
      "Data sent successfully\n"
     ]
    },
    {
     "name": "stderr",
     "output_type": "stream",
     "text": [
      "Too many measurments in the input buffer: 509/500. Clearing buffer...\n"
     ]
    },
    {
     "name": "stdout",
     "output_type": "stream",
     "text": [
      "Sending command : {'HB': 0, 'IO': 1, 'WO': 0, 'DM': 'S', 'CMD': [0, -26]}\n",
      "Data sent successfully\n",
      "Sending command : {'HB': 0, 'IO': 1, 'WO': 0, 'DM': 'S', 'CMD': [0, -45]}\n",
      "Data sent successfully\n",
      "Sending command : {'HB': 0, 'IO': 1, 'WO': 0, 'DM': 'S', 'CMD': [0, -45]}\n",
      "Data sent successfully\n"
     ]
    },
    {
     "name": "stderr",
     "output_type": "stream",
     "text": [
      "Too many measurments in the input buffer: 507/500. Clearing buffer...\n"
     ]
    },
    {
     "name": "stdout",
     "output_type": "stream",
     "text": [
      "Sending command : {'HB': 0, 'IO': 1, 'WO': 0, 'DM': 'S', 'CMD': [0, -26]}\n",
      "Data sent successfully\n",
      "Sending command : {'HB': 0, 'IO': 1, 'WO': 0, 'DM': 'S', 'CMD': [0, -45]}\n",
      "Data sent successfully\n"
     ]
    },
    {
     "name": "stderr",
     "output_type": "stream",
     "text": [
      "Too many measurments in the input buffer: 568/500. Clearing buffer...\n"
     ]
    },
    {
     "name": "stdout",
     "output_type": "stream",
     "text": [
      "Sending command : {'HB': 0, 'IO': 1, 'WO': 0, 'DM': 'D', 'CMD': [0, -9]}\n",
      "Data sent successfully\n"
     ]
    },
    {
     "name": "stderr",
     "output_type": "stream",
     "text": [
      "Too many measurments in the input buffer: 552/500. Clearing buffer...\n"
     ]
    },
    {
     "name": "stdout",
     "output_type": "stream",
     "text": [
      "Sending command : {'HB': 0, 'IO': 1, 'WO': 0, 'DM': 'S', 'CMD': [0, -26]}\n",
      "Data sent successfully\n"
     ]
    },
    {
     "name": "stderr",
     "output_type": "stream",
     "text": [
      "Too many measurments in the input buffer: 565/500. Clearing buffer...\n"
     ]
    },
    {
     "name": "stdout",
     "output_type": "stream",
     "text": [
      "Sending command : {'HB': 0, 'IO': 1, 'WO': 0, 'DM': 'S', 'CMD': [0, -26]}\n",
      "Data sent successfully\n",
      "Sending command : {'HB': 0, 'IO': 1, 'WO': 0, 'DM': 'S', 'CMD': [0, -45]}\n",
      "Data sent successfully\n"
     ]
    },
    {
     "name": "stderr",
     "output_type": "stream",
     "text": [
      "Too many measurments in the input buffer: 529/500. Clearing buffer...\n"
     ]
    },
    {
     "name": "stdout",
     "output_type": "stream",
     "text": [
      "Sending command : {'HB': 0, 'IO': 1, 'WO': 0, 'DM': 'S', 'CMD': [0, -45]}\n",
      "Data sent successfully\n",
      "Sending command : {'HB': 0, 'IO': 1, 'WO': 0, 'DM': 'S', 'CMD': [0, -45]}\n",
      "Data sent successfully\n"
     ]
    },
    {
     "name": "stderr",
     "output_type": "stream",
     "text": [
      "Too many measurments in the input buffer: 531/500. Clearing buffer...\n"
     ]
    },
    {
     "name": "stdout",
     "output_type": "stream",
     "text": [
      "Sending command : {'HB': 0, 'IO': 1, 'WO': 0, 'DM': 'S', 'CMD': [0, -45]}\n",
      "Data sent successfully\n",
      "Sending command : {'HB': 0, 'IO': 1, 'WO': 0, 'DM': 'S', 'CMD': [0, -45]}\n",
      "Data sent successfully\n"
     ]
    },
    {
     "name": "stderr",
     "output_type": "stream",
     "text": [
      "Too many measurments in the input buffer: 503/500. Clearing buffer...\n"
     ]
    },
    {
     "name": "stdout",
     "output_type": "stream",
     "text": [
      "Sending command : {'HB': 0, 'IO': 1, 'WO': 0, 'DM': 'S', 'CMD': [0, -45]}\n",
      "Data sent successfully\n"
     ]
    },
    {
     "name": "stderr",
     "output_type": "stream",
     "text": [
      "Too many measurments in the input buffer: 504/500. Clearing buffer...\n"
     ]
    },
    {
     "name": "stdout",
     "output_type": "stream",
     "text": [
      "Sending command : {'HB': 0, 'IO': 1, 'WO': 0, 'DM': 'S', 'CMD': [0, -45]}\n",
      "Data sent successfully\n"
     ]
    },
    {
     "name": "stderr",
     "output_type": "stream",
     "text": [
      "Too many measurments in the input buffer: 530/500. Clearing buffer...\n"
     ]
    },
    {
     "name": "stdout",
     "output_type": "stream",
     "text": [
      "Sending command : {'HB': 0, 'IO': 1, 'WO': 0, 'DM': 'S', 'CMD': [0, -45]}\n",
      "Data sent successfully\n"
     ]
    },
    {
     "name": "stderr",
     "output_type": "stream",
     "text": [
      "Too many measurments in the input buffer: 512/500. Clearing buffer...\n"
     ]
    },
    {
     "name": "stdout",
     "output_type": "stream",
     "text": [
      "Sending command : {'HB': 0, 'IO': 1, 'WO': 0, 'DM': 'S', 'CMD': [0, -45]}\n",
      "Data sent successfully\n",
      "Sending command : {'HB': 0, 'IO': 1, 'WO': 0, 'DM': 'S', 'CMD': [0, -45]}\n",
      "Data sent successfully\n",
      "Sending command : {'HB': 0, 'IO': 1, 'WO': 0, 'DM': 'S', 'CMD': [0, -26]}\n",
      "Data sent successfully\n"
     ]
    },
    {
     "name": "stderr",
     "output_type": "stream",
     "text": [
      "Too many measurments in the input buffer: 533/500. Clearing buffer...\n"
     ]
    },
    {
     "name": "stdout",
     "output_type": "stream",
     "text": [
      "Sending command : {'HB': 0, 'IO': 1, 'WO': 0, 'DM': 'S', 'CMD': [0, -26]}\n",
      "Data sent successfully\n"
     ]
    },
    {
     "name": "stderr",
     "output_type": "stream",
     "text": [
      "Too many measurments in the input buffer: 520/500. Clearing buffer...\n"
     ]
    },
    {
     "name": "stdout",
     "output_type": "stream",
     "text": [
      "Sending command : {'HB': 0, 'IO': 1, 'WO': 0, 'DM': 'D', 'CMD': [0, 9]}\n",
      "Data sent successfully\n",
      "Sending command : {'HB': 0, 'IO': 1, 'WO': 0, 'DM': 'S', 'CMD': [0, -45]}\n",
      "Data sent successfully\n"
     ]
    },
    {
     "name": "stderr",
     "output_type": "stream",
     "text": [
      "Too many measurments in the input buffer: 552/500. Clearing buffer...\n"
     ]
    },
    {
     "name": "stdout",
     "output_type": "stream",
     "text": [
      "Sending command : {'HB': 0, 'IO': 1, 'WO': 0, 'DM': 'D', 'CMD': [0, 9]}\n",
      "Data sent successfully\n",
      "Sending command : {'HB': 0, 'IO': 1, 'WO': 0, 'DM': 'S', 'CMD': [0, -26]}\n",
      "Data sent successfully\n"
     ]
    },
    {
     "name": "stderr",
     "output_type": "stream",
     "text": [
      "Too many measurments in the input buffer: 525/500. Clearing buffer...\n"
     ]
    },
    {
     "name": "stdout",
     "output_type": "stream",
     "text": [
      "Sending command : {'HB': 0, 'IO': 1, 'WO': 0, 'DM': 'D', 'CMD': [0, 9]}\n",
      "Data sent successfully\n"
     ]
    },
    {
     "name": "stderr",
     "output_type": "stream",
     "text": [
      "Too many measurments in the input buffer: 525/500. Clearing buffer...\n"
     ]
    },
    {
     "name": "stdout",
     "output_type": "stream",
     "text": [
      "Sending command : {'HB': 0, 'IO': 1, 'WO': 0, 'DM': 'D', 'CMD': [0, -9]}\n",
      "Data sent successfully\n",
      "Sending command : {'HB': 0, 'IO': 1, 'WO': 0, 'DM': 'D', 'CMD': [0, 9]}\n",
      "Data sent successfully\n"
     ]
    },
    {
     "name": "stderr",
     "output_type": "stream",
     "text": [
      "Too many measurments in the input buffer: 512/500. Clearing buffer...\n"
     ]
    },
    {
     "name": "stdout",
     "output_type": "stream",
     "text": [
      "Sending command : {'HB': 0, 'IO': 1, 'WO': 0, 'DM': 'S', 'CMD': [0, -26]}\n",
      "Data sent successfully\n",
      "Sending command : {'HB': 0, 'IO': 1, 'WO': 0, 'DM': 'S', 'CMD': [0, -26]}\n",
      "Data sent successfully\n"
     ]
    },
    {
     "name": "stderr",
     "output_type": "stream",
     "text": [
      "Too many measurments in the input buffer: 527/500. Clearing buffer...\n"
     ]
    },
    {
     "name": "stdout",
     "output_type": "stream",
     "text": [
      "Sending command : {'HB': 0, 'IO': 1, 'WO': 0, 'DM': 'S', 'CMD': [0, -45]}\n",
      "Data sent successfully\n"
     ]
    },
    {
     "name": "stderr",
     "output_type": "stream",
     "text": [
      "Too many measurments in the input buffer: 510/500. Clearing buffer...\n"
     ]
    },
    {
     "name": "stdout",
     "output_type": "stream",
     "text": [
      "Sending command : {'HB': 0, 'IO': 1, 'WO': 0, 'DM': 'S', 'CMD': [0, -45]}\n",
      "Data sent successfully\n",
      "Sending command : {'HB': 0, 'IO': 1, 'WO': 0, 'DM': 'S', 'CMD': [0, -45]}\n",
      "Data sent successfully\n"
     ]
    },
    {
     "name": "stderr",
     "output_type": "stream",
     "text": [
      "Too many measurments in the input buffer: 564/500. Clearing buffer...\n"
     ]
    },
    {
     "name": "stdout",
     "output_type": "stream",
     "text": [
      "Sending command : {'HB': 0, 'IO': 1, 'WO': 0, 'DM': 'S', 'CMD': [0, -45]}\n",
      "Data sent successfully\n",
      "Sending command : {'HB': 0, 'IO': 1, 'WO': 0, 'DM': 'S', 'CMD': [0, -26]}\n",
      "Data sent successfully\n"
     ]
    },
    {
     "name": "stderr",
     "output_type": "stream",
     "text": [
      "Too many measurments in the input buffer: 564/500. Clearing buffer...\n"
     ]
    },
    {
     "name": "stdout",
     "output_type": "stream",
     "text": [
      "Sending command : {'HB': 0, 'IO': 1, 'WO': 0, 'DM': 'S', 'CMD': [0, -26]}\n",
      "Data sent successfully\n",
      "Sending command : {'HB': 0, 'IO': 1, 'WO': 0, 'DM': 'S', 'CMD': [0, -45]}\n",
      "Data sent successfully\n"
     ]
    },
    {
     "name": "stderr",
     "output_type": "stream",
     "text": [
      "Too many measurments in the input buffer: 541/500. Clearing buffer...\n"
     ]
    },
    {
     "name": "stdout",
     "output_type": "stream",
     "text": [
      "Sending command : {'HB': 0, 'IO': 1, 'WO': 0, 'DM': 'S', 'CMD': [0, -45]}\n",
      "Data sent successfully\n",
      "Sending command : {'HB': 0, 'IO': 1, 'WO': 0, 'DM': 'S', 'CMD': [0, -45]}\n",
      "Data sent successfully\n"
     ]
    },
    {
     "name": "stderr",
     "output_type": "stream",
     "text": [
      "Too many measurments in the input buffer: 501/500. Clearing buffer...\n"
     ]
    },
    {
     "name": "stdout",
     "output_type": "stream",
     "text": [
      "Sending command : {'HB': 0, 'IO': 1, 'WO': 0, 'DM': 'S', 'CMD': [0, -45]}\n",
      "Data sent successfully\n",
      "Sending command : {'HB': 0, 'IO': 1, 'WO': 0, 'DM': 'S', 'CMD': [0, -45]}\n",
      "Data sent successfully\n",
      "Sending command : {'HB': 0, 'IO': 1, 'WO': 0, 'DM': 'D', 'CMD': [0, -9]}\n",
      "Data sent successfully\n",
      "Sending command : {'HB': 0, 'IO': 1, 'WO': 0, 'DM': 'S', 'CMD': [0, -45]}\n",
      "Data sent successfully\n"
     ]
    },
    {
     "name": "stderr",
     "output_type": "stream",
     "text": [
      "Too many measurments in the input buffer: 507/500. Clearing buffer...\n"
     ]
    },
    {
     "name": "stdout",
     "output_type": "stream",
     "text": [
      "Sending command : {'HB': 0, 'IO': 1, 'WO': 0, 'DM': 'S', 'CMD': [0, -45]}\n",
      "Data sent successfully\n"
     ]
    },
    {
     "name": "stderr",
     "output_type": "stream",
     "text": [
      "Too many measurments in the input buffer: 526/500. Clearing buffer...\n"
     ]
    },
    {
     "name": "stdout",
     "output_type": "stream",
     "text": [
      "Sending command : {'HB': 0, 'IO': 1, 'WO': 0, 'DM': 'S', 'CMD': [0, -45]}\n",
      "Data sent successfully\n",
      "Sending command : {'HB': 0, 'IO': 1, 'WO': 0, 'DM': 'S', 'CMD': [0, -45]}\n",
      "Data sent successfully\n"
     ]
    },
    {
     "name": "stderr",
     "output_type": "stream",
     "text": [
      "Too many measurments in the input buffer: 528/500. Clearing buffer...\n"
     ]
    },
    {
     "name": "stdout",
     "output_type": "stream",
     "text": [
      "Sending command : {'HB': 0, 'IO': 1, 'WO': 0, 'DM': 'S', 'CMD': [0, -45]}\n",
      "Data sent successfully\n"
     ]
    },
    {
     "name": "stderr",
     "output_type": "stream",
     "text": [
      "Too many measurments in the input buffer: 504/500. Clearing buffer...\n"
     ]
    },
    {
     "name": "stdout",
     "output_type": "stream",
     "text": [
      "Sending command : {'HB': 0, 'IO': 1, 'WO': 0, 'DM': 'S', 'CMD': [0, -45]}\n",
      "Data sent successfully\n"
     ]
    },
    {
     "name": "stderr",
     "output_type": "stream",
     "text": [
      "Too many measurments in the input buffer: 513/500. Clearing buffer...\n"
     ]
    },
    {
     "name": "stdout",
     "output_type": "stream",
     "text": [
      "Sending command : {'HB': 0, 'IO': 1, 'WO': 0, 'DM': 'S', 'CMD': [0, -45]}\n",
      "Data sent successfully\n"
     ]
    },
    {
     "name": "stderr",
     "output_type": "stream",
     "text": [
      "Too many measurments in the input buffer: 539/500. Clearing buffer...\n"
     ]
    },
    {
     "name": "stdout",
     "output_type": "stream",
     "text": [
      "Sending command : {'HB': 0, 'IO': 1, 'WO': 0, 'DM': 'S', 'CMD': [0, -45]}\n",
      "Data sent successfully\n",
      "Sending command : {'HB': 0, 'IO': 1, 'WO': 0, 'DM': 'S', 'CMD': [0, -45]}\n",
      "Data sent successfully\n"
     ]
    },
    {
     "name": "stderr",
     "output_type": "stream",
     "text": [
      "Too many measurments in the input buffer: 534/500. Clearing buffer...\n"
     ]
    },
    {
     "name": "stdout",
     "output_type": "stream",
     "text": [
      "Sending command : {'HB': 0, 'IO': 1, 'WO': 0, 'DM': 'S', 'CMD': [0, -45]}\n",
      "Data sent successfully\n",
      "Sending command : {'HB': 0, 'IO': 1, 'WO': 0, 'DM': 'S', 'CMD': [0, -45]}\n",
      "Data sent successfully\n"
     ]
    },
    {
     "name": "stderr",
     "output_type": "stream",
     "text": [
      "Too many measurments in the input buffer: 540/500. Clearing buffer...\n"
     ]
    },
    {
     "name": "stdout",
     "output_type": "stream",
     "text": [
      "Sending command : {'HB': 0, 'IO': 1, 'WO': 0, 'DM': 'S', 'CMD': [0, -45]}\n",
      "Data sent successfully\n"
     ]
    },
    {
     "name": "stderr",
     "output_type": "stream",
     "text": [
      "Too many measurments in the input buffer: 523/500. Clearing buffer...\n"
     ]
    },
    {
     "name": "stdout",
     "output_type": "stream",
     "text": [
      "Sending command : {'HB': 0, 'IO': 1, 'WO': 0, 'DM': 'S', 'CMD': [0, -45]}\n",
      "Data sent successfully\n",
      "Sending command : {'HB': 0, 'IO': 1, 'WO': 0, 'DM': 'S', 'CMD': [0, -45]}\n",
      "Data sent successfully\n"
     ]
    },
    {
     "name": "stderr",
     "output_type": "stream",
     "text": [
      "Too many measurments in the input buffer: 538/500. Clearing buffer...\n"
     ]
    },
    {
     "name": "stdout",
     "output_type": "stream",
     "text": [
      "Sending command : {'HB': 0, 'IO': 1, 'WO': 0, 'DM': 'S', 'CMD': [0, -45]}\n",
      "Data sent successfully\n",
      "Sending command : {'HB': 0, 'IO': 1, 'WO': 0, 'DM': 'S', 'CMD': [0, -45]}\n",
      "Data sent successfully\n"
     ]
    },
    {
     "name": "stderr",
     "output_type": "stream",
     "text": [
      "Too many measurments in the input buffer: 563/500. Clearing buffer...\n"
     ]
    },
    {
     "name": "stdout",
     "output_type": "stream",
     "text": [
      "Data sent successfully\n"
     ]
    },
    {
     "name": "stderr",
     "output_type": "stream",
     "text": [
      "Too many measurments in the input buffer: 555/500. Clearing buffer...\n",
      "Too many measurments in the input buffer: 555/500. Clearing buffer...\n",
      "Too many measurments in the input buffer: 572/500. Clearing buffer...\n",
      "Too many measurments in the input buffer: 521/500. Clearing buffer...\n",
      "Too many measurments in the input buffer: 508/500. Clearing buffer...\n",
      "Too many measurments in the input buffer: 559/500. Clearing buffer...\n",
      "Too many measurments in the input buffer: 555/500. Clearing buffer...\n",
      "Too many measurments in the input buffer: 565/500. Clearing buffer...\n",
      "Too many measurments in the input buffer: 505/500. Clearing buffer...\n"
     ]
    },
    {
     "name": "stdout",
     "output_type": "stream",
     "text": [
      "Sending command : {'HB': 0, 'IO': 1, 'WO': 0, 'DM': 'S', 'CMD': [0, -45]}\n",
      "Data sent successfully\n"
     ]
    },
    {
     "name": "stderr",
     "output_type": "stream",
     "text": [
      "Too many measurments in the input buffer: 530/500. Clearing buffer...\n"
     ]
    },
    {
     "name": "stdout",
     "output_type": "stream",
     "text": [
      "Sending command : {'HB': 0, 'IO': 1, 'WO': 0, 'DM': 'S', 'CMD': [0, -45]}\n",
      "Data sent successfully\n"
     ]
    },
    {
     "name": "stderr",
     "output_type": "stream",
     "text": [
      "Too many measurments in the input buffer: 514/500. Clearing buffer...\n"
     ]
    },
    {
     "name": "stdout",
     "output_type": "stream",
     "text": [
      "Sending command : {'HB': 0, 'IO': 1, 'WO': 0, 'DM': 'D', 'CMD': [0, 9]}\n",
      "Data sent successfully\n"
     ]
    },
    {
     "name": "stderr",
     "output_type": "stream",
     "text": [
      "Too many measurments in the input buffer: 514/500. Clearing buffer...\n"
     ]
    },
    {
     "name": "stdout",
     "output_type": "stream",
     "text": [
      "Sending command : {'HB': 0, 'IO': 1, 'WO': 0, 'DM': 'S', 'CMD': [0, 26]}\n",
      "Data sent successfully\n"
     ]
    },
    {
     "name": "stderr",
     "output_type": "stream",
     "text": [
      "Too many measurments in the input buffer: 507/500. Clearing buffer...\n",
      "Too many measurments in the input buffer: 539/500. Clearing buffer...\n"
     ]
    },
    {
     "name": "stdout",
     "output_type": "stream",
     "text": [
      "Sending command : {'HB': 0, 'IO': 1, 'WO': 0, 'DM': 'D', 'CMD': [0, 9]}\n",
      "Data sent successfully\n",
      "Sending command : {'HB': 0, 'IO': 1, 'WO': 0, 'DM': 'D', 'CMD': [0, 9]}\n",
      "Data sent successfully\n"
     ]
    },
    {
     "name": "stderr",
     "output_type": "stream",
     "text": [
      "Too many measurments in the input buffer: 546/500. Clearing buffer...\n"
     ]
    },
    {
     "name": "stdout",
     "output_type": "stream",
     "text": [
      "Sending command : {'HB': 0, 'IO': 1, 'WO': 0, 'DM': 'D', 'CMD': [0, -9]}\n",
      "Data sent successfully\n",
      "Sending command : {'HB': 0, 'IO': 1, 'WO': 0, 'DM': 'S', 'CMD': [0, 26]}\n",
      "Data sent successfully\n"
     ]
    },
    {
     "name": "stderr",
     "output_type": "stream",
     "text": [
      "Too many measurments in the input buffer: 563/500. Clearing buffer...\n"
     ]
    },
    {
     "name": "stdout",
     "output_type": "stream",
     "text": [
      "Sending command : {'HB': 0, 'IO': 1, 'WO': 0, 'DM': 'D', 'CMD': [0, 9]}\n",
      "Data sent successfully\n"
     ]
    },
    {
     "name": "stderr",
     "output_type": "stream",
     "text": [
      "Too many measurments in the input buffer: 520/500. Clearing buffer...\n"
     ]
    },
    {
     "name": "stdout",
     "output_type": "stream",
     "text": [
      "Sending command : {'HB': 0, 'IO': 1, 'WO': 0, 'DM': 'D', 'CMD': [0, 9]}\n",
      "Data sent successfully\n"
     ]
    },
    {
     "name": "stderr",
     "output_type": "stream",
     "text": [
      "Too many measurments in the input buffer: 510/500. Clearing buffer...\n"
     ]
    },
    {
     "name": "stdout",
     "output_type": "stream",
     "text": [
      "Sending command : {'HB': 0, 'IO': 1, 'WO': 0, 'DM': 'S', 'CMD': [0, 26]}\n",
      "Data sent successfully\n"
     ]
    },
    {
     "name": "stderr",
     "output_type": "stream",
     "text": [
      "Too many measurments in the input buffer: 534/500. Clearing buffer...\n"
     ]
    },
    {
     "name": "stdout",
     "output_type": "stream",
     "text": [
      "Sending command : {'HB': 0, 'IO': 1, 'WO': 0, 'DM': 'S', 'CMD': [0, 26]}\n",
      "Data sent successfully\n"
     ]
    },
    {
     "name": "stderr",
     "output_type": "stream",
     "text": [
      "Too many measurments in the input buffer: 584/500. Clearing buffer...\n"
     ]
    },
    {
     "name": "stdout",
     "output_type": "stream",
     "text": [
      "Sending command : {'HB': 0, 'IO': 1, 'WO': 0, 'DM': 'S', 'CMD': [0, 26]}\n",
      "Data sent successfully\n"
     ]
    },
    {
     "name": "stderr",
     "output_type": "stream",
     "text": [
      "Too many measurments in the input buffer: 536/500. Clearing buffer...\n"
     ]
    },
    {
     "name": "stdout",
     "output_type": "stream",
     "text": [
      "Sending command : {'HB': 0, 'IO': 1, 'WO': 0, 'DM': 'S', 'CMD': [0, 26]}\n",
      "Data sent successfully\n"
     ]
    },
    {
     "name": "stderr",
     "output_type": "stream",
     "text": [
      "Too many measurments in the input buffer: 510/500. Clearing buffer...\n"
     ]
    },
    {
     "name": "stdout",
     "output_type": "stream",
     "text": [
      "Sending command : {'HB': 0, 'IO': 1, 'WO': 0, 'DM': 'S', 'CMD': [0, -45]}\n",
      "Data sent successfully\n"
     ]
    },
    {
     "name": "stderr",
     "output_type": "stream",
     "text": [
      "Too many measurments in the input buffer: 522/500. Clearing buffer...\n"
     ]
    },
    {
     "name": "stdout",
     "output_type": "stream",
     "text": [
      "Sending command : {'HB': 0, 'IO': 1, 'WO': 0, 'DM': 'S', 'CMD': [0, -45]}\n",
      "Data sent successfully\n",
      "Sending command : {'HB': 0, 'IO': 1, 'WO': 0, 'DM': 'D', 'CMD': [0, -9]}\n",
      "Data sent successfully\n"
     ]
    },
    {
     "name": "stderr",
     "output_type": "stream",
     "text": [
      "Too many measurments in the input buffer: 556/500. Clearing buffer...\n"
     ]
    },
    {
     "name": "stdout",
     "output_type": "stream",
     "text": [
      "Sending command : {'HB': 0, 'IO': 1, 'WO': 0, 'DM': 'S', 'CMD': [0, -26]}\n",
      "Data sent successfully\n",
      "Sending command : {'HB': 0, 'IO': 1, 'WO': 0, 'DM': 'D', 'CMD': [0, 9]}\n",
      "Data sent successfully\n"
     ]
    },
    {
     "name": "stderr",
     "output_type": "stream",
     "text": [
      "Too many measurments in the input buffer: 569/500. Clearing buffer...\n"
     ]
    },
    {
     "name": "stdout",
     "output_type": "stream",
     "text": [
      "Sending command : {'HB': 0, 'IO': 1, 'WO': 0, 'DM': 'D', 'CMD': [0, 9]}\n",
      "Data sent successfully\n"
     ]
    },
    {
     "name": "stderr",
     "output_type": "stream",
     "text": [
      "Too many measurments in the input buffer: 534/500. Clearing buffer...\n"
     ]
    },
    {
     "name": "stdout",
     "output_type": "stream",
     "text": [
      "Sending command : {'HB': 0, 'IO': 1, 'WO': 0, 'DM': 'S', 'CMD': [-4, -45]}\n",
      "Data sent successfully\n"
     ]
    },
    {
     "name": "stderr",
     "output_type": "stream",
     "text": [
      "Too many measurments in the input buffer: 506/500. Clearing buffer...\n"
     ]
    },
    {
     "name": "stdout",
     "output_type": "stream",
     "text": [
      "Sending command : {'HB': 0, 'IO': 1, 'WO': 0, 'DM': 'S', 'CMD': [9, 26]}\n",
      "Data sent successfully\n"
     ]
    },
    {
     "name": "stderr",
     "output_type": "stream",
     "text": [
      "Too many measurments in the input buffer: 500/500. Clearing buffer...\n"
     ]
    },
    {
     "name": "stdout",
     "output_type": "stream",
     "text": [
      "Sending command : {'HB': 0, 'IO': 1, 'WO': 0, 'DM': 'D', 'CMD': [7, -9]}\n",
      "Data sent successfully\n"
     ]
    },
    {
     "name": "stderr",
     "output_type": "stream",
     "text": [
      "Too many measurments in the input buffer: 549/500. Clearing buffer...\n"
     ]
    },
    {
     "name": "stdout",
     "output_type": "stream",
     "text": [
      "Sending command : {'HB': 0, 'IO': 1, 'WO': 0, 'DM': 'D', 'CMD': [6, -9]}\n",
      "Data sent successfully\n"
     ]
    },
    {
     "name": "stderr",
     "output_type": "stream",
     "text": [
      "Too many measurments in the input buffer: 528/500. Clearing buffer...\n"
     ]
    },
    {
     "name": "stdout",
     "output_type": "stream",
     "text": [
      "Sending command : {'HB': 0, 'IO': 1, 'WO': 0, 'DM': 'S', 'CMD': [-6, -45]}\n",
      "Data sent successfully\n",
      "Sending command : {'HB': 0, 'IO': 1, 'WO': 0, 'DM': 'S', 'CMD': [-6, -45]}\n",
      "Data sent successfully\n"
     ]
    },
    {
     "name": "stderr",
     "output_type": "stream",
     "text": [
      "Too many measurments in the input buffer: 571/500. Clearing buffer...\n"
     ]
    },
    {
     "name": "stdout",
     "output_type": "stream",
     "text": [
      "Sending command : {'HB': 0, 'IO': 1, 'WO': 0, 'DM': 'S', 'CMD': [-5, -45]}\n",
      "Data sent successfully\n"
     ]
    },
    {
     "name": "stderr",
     "output_type": "stream",
     "text": [
      "Too many measurments in the input buffer: 515/500. Clearing buffer...\n"
     ]
    },
    {
     "name": "stdout",
     "output_type": "stream",
     "text": [
      "Sending command : {'HB': 0, 'IO': 1, 'WO': 0, 'DM': 'S', 'CMD': [-5, -45]}\n",
      "Data sent successfully\n",
      "Sending command : {'HB': 0, 'IO': 1, 'WO': 0, 'DM': 'S', 'CMD': [-5, -45]}\n",
      "Data sent successfully\n"
     ]
    },
    {
     "name": "stderr",
     "output_type": "stream",
     "text": [
      "Too many measurments in the input buffer: 541/500. Clearing buffer...\n"
     ]
    },
    {
     "name": "stdout",
     "output_type": "stream",
     "text": [
      "Sending command : {'HB': 0, 'IO': 1, 'WO': 0, 'DM': 'S', 'CMD': [-5, -45]}\n",
      "Data sent successfully\n"
     ]
    },
    {
     "name": "stderr",
     "output_type": "stream",
     "text": [
      "Too many measurments in the input buffer: 505/500. Clearing buffer...\n"
     ]
    },
    {
     "name": "stdout",
     "output_type": "stream",
     "text": [
      "Sending command : {'HB': 0, 'IO': 1, 'WO': 0, 'DM': 'S', 'CMD': [-5, -45]}\n",
      "Data sent successfully\n"
     ]
    },
    {
     "name": "stderr",
     "output_type": "stream",
     "text": [
      "Too many measurments in the input buffer: 583/500. Clearing buffer...\n"
     ]
    },
    {
     "name": "stdout",
     "output_type": "stream",
     "text": [
      "Sending command : {'HB': 0, 'IO': 1, 'WO': 0, 'DM': 'S', 'CMD': [-5, -45]}\n",
      "Data sent successfully\n"
     ]
    },
    {
     "name": "stderr",
     "output_type": "stream",
     "text": [
      "Too many measurments in the input buffer: 501/500. Clearing buffer...\n"
     ]
    },
    {
     "name": "stdout",
     "output_type": "stream",
     "text": [
      "Sending command : {'HB': 0, 'IO': 1, 'WO': 0, 'DM': 'S', 'CMD': [-5, -45]}\n",
      "Data sent successfully\n",
      "Sending command : {'HB': 0, 'IO': 1, 'WO': 0, 'DM': 'S', 'CMD': [-5, -26]}\n",
      "Data sent successfully\n"
     ]
    },
    {
     "name": "stderr",
     "output_type": "stream",
     "text": [
      "Too many measurments in the input buffer: 503/500. Clearing buffer...\n"
     ]
    },
    {
     "name": "stdout",
     "output_type": "stream",
     "text": [
      "Sending command : {'HB': 0, 'IO': 1, 'WO': 0, 'DM': 'S', 'CMD': [0, -90]}\n",
      "Data sent successfully\n"
     ]
    },
    {
     "name": "stderr",
     "output_type": "stream",
     "text": [
      "Too many measurments in the input buffer: 564/500. Clearing buffer...\n"
     ]
    },
    {
     "name": "stdout",
     "output_type": "stream",
     "text": [
      "Sending command : {'HB': 0, 'IO': 1, 'WO': 0, 'DM': 'D', 'CMD': [0, -9]}\n",
      "Data sent successfully\n",
      "Sending command : {'HB': 0, 'IO': 1, 'WO': 0, 'DM': 'D', 'CMD': [0, -9]}\n",
      "Data sent successfully\n"
     ]
    },
    {
     "name": "stderr",
     "output_type": "stream",
     "text": [
      "Too many measurments in the input buffer: 548/500. Clearing buffer...\n"
     ]
    },
    {
     "name": "stdout",
     "output_type": "stream",
     "text": [
      "Sending command : {'HB': 0, 'IO': 1, 'WO': 0, 'DM': 'S', 'CMD': [0, -90]}\n",
      "Data sent successfully\n",
      "Sending command : {'HB': 0, 'IO': 1, 'WO': 0, 'DM': 'S', 'CMD': [0, -90]}\n",
      "Data sent successfully\n"
     ]
    },
    {
     "name": "stderr",
     "output_type": "stream",
     "text": [
      "Too many measurments in the input buffer: 526/500. Clearing buffer...\n"
     ]
    },
    {
     "name": "stdout",
     "output_type": "stream",
     "text": [
      "Sending command : {'HB': 0, 'IO': 1, 'WO': 0, 'DM': 'S', 'CMD': [0, -90]}\n",
      "Data sent successfully\n"
     ]
    },
    {
     "name": "stderr",
     "output_type": "stream",
     "text": [
      "Too many measurments in the input buffer: 589/500. Clearing buffer...\n"
     ]
    },
    {
     "name": "stdout",
     "output_type": "stream",
     "text": [
      "Sending command : {'HB': 0, 'IO': 1, 'WO': 0, 'DM': 'S', 'CMD': [0, -90]}\n",
      "Data sent successfully\n",
      "Sending command : {'HB': 0, 'IO': 1, 'WO': 0, 'DM': 'S', 'CMD': [0, -90]}\n",
      "Data sent successfully\n"
     ]
    },
    {
     "name": "stderr",
     "output_type": "stream",
     "text": [
      "Too many measurments in the input buffer: 503/500. Clearing buffer...\n"
     ]
    },
    {
     "name": "stdout",
     "output_type": "stream",
     "text": [
      "Sending command : {'HB': 0, 'IO': 1, 'WO': 0, 'DM': 'S', 'CMD': [0, -90]}\n",
      "Data sent successfully\n",
      "Sending command : {'HB': 0, 'IO': 1, 'WO': 0, 'DM': 'D', 'CMD': [0, -9]}\n",
      "Data sent successfully\n"
     ]
    },
    {
     "name": "stderr",
     "output_type": "stream",
     "text": [
      "Too many measurments in the input buffer: 515/500. Clearing buffer...\n"
     ]
    },
    {
     "name": "stdout",
     "output_type": "stream",
     "text": [
      "Sending command : {'HB': 0, 'IO': 1, 'WO': 0, 'DM': 'S', 'CMD': [0, -90]}\n",
      "Data sent successfully\n",
      "Sending command : {'HB': 0, 'IO': 1, 'WO': 0, 'DM': 'S', 'CMD': [0, -90]}\n",
      "Data sent successfully\n"
     ]
    },
    {
     "name": "stderr",
     "output_type": "stream",
     "text": [
      "Too many measurments in the input buffer: 508/500. Clearing buffer...\n"
     ]
    },
    {
     "name": "stdout",
     "output_type": "stream",
     "text": [
      "Sending command : {'HB': 0, 'IO': 1, 'WO': 0, 'DM': 'D', 'CMD': [0, -9]}\n",
      "Data sent successfully\n"
     ]
    },
    {
     "name": "stderr",
     "output_type": "stream",
     "text": [
      "Too many measurments in the input buffer: 500/500. Clearing buffer...\n"
     ]
    },
    {
     "name": "stdout",
     "output_type": "stream",
     "text": [
      "Sending command : {'HB': 0, 'IO': 1, 'WO': 0, 'DM': 'S', 'CMD': [0, -90]}\n",
      "Data sent successfully\n"
     ]
    },
    {
     "name": "stderr",
     "output_type": "stream",
     "text": [
      "Too many measurments in the input buffer: 529/500. Clearing buffer...\n"
     ]
    },
    {
     "name": "stdout",
     "output_type": "stream",
     "text": [
      "Sending command : {'HB': 0, 'IO': 1, 'WO': 0, 'DM': 'S', 'CMD': [0, 26]}\n",
      "Data sent successfully\n",
      "Sending command : {'HB': 0, 'IO': 1, 'WO': 0, 'DM': 'S', 'CMD': [0, -90]}\n",
      "Data sent successfully\n"
     ]
    },
    {
     "name": "stderr",
     "output_type": "stream",
     "text": [
      "Too many measurments in the input buffer: 506/500. Clearing buffer...\n"
     ]
    },
    {
     "name": "stdout",
     "output_type": "stream",
     "text": [
      "Sending command : {'HB': 0, 'IO': 1, 'WO': 0, 'DM': 'D', 'CMD': [0, -9]}\n",
      "Data sent successfully\n"
     ]
    },
    {
     "name": "stderr",
     "output_type": "stream",
     "text": [
      "Too many measurments in the input buffer: 514/500. Clearing buffer...\n"
     ]
    },
    {
     "name": "stdout",
     "output_type": "stream",
     "text": [
      "Sending command : {'HB': 0, 'IO': 1, 'WO': 0, 'DM': 'S', 'CMD': [0, -90]}\n",
      "Data sent successfully\n"
     ]
    },
    {
     "name": "stderr",
     "output_type": "stream",
     "text": [
      "Too many measurments in the input buffer: 550/500. Clearing buffer...\n"
     ]
    },
    {
     "name": "stdout",
     "output_type": "stream",
     "text": [
      "Sending command : {'HB': 0, 'IO': 1, 'WO': 0, 'DM': 'S', 'CMD': [0, -90]}\n",
      "Data sent successfully\n"
     ]
    },
    {
     "name": "stderr",
     "output_type": "stream",
     "text": [
      "Too many measurments in the input buffer: 519/500. Clearing buffer...\n"
     ]
    },
    {
     "name": "stdout",
     "output_type": "stream",
     "text": [
      "Sending command : {'HB': 0, 'IO': 1, 'WO': 0, 'DM': 'D', 'CMD': [0, -9]}\n",
      "Data sent successfully\n",
      "Sending command : {'HB': 0, 'IO': 1, 'WO': 0, 'DM': 'D', 'CMD': [0, 9]}\n",
      "Data sent successfully\n"
     ]
    },
    {
     "name": "stderr",
     "output_type": "stream",
     "text": [
      "Too many measurments in the input buffer: 508/500. Clearing buffer...\n"
     ]
    },
    {
     "name": "stdout",
     "output_type": "stream",
     "text": [
      "Sending command : {'HB': 0, 'IO': 1, 'WO': 0, 'DM': 'D', 'CMD': [0, 9]}\n",
      "Data sent successfully\n"
     ]
    },
    {
     "name": "stderr",
     "output_type": "stream",
     "text": [
      "Too many measurments in the input buffer: 532/500. Clearing buffer...\n"
     ]
    },
    {
     "name": "stdout",
     "output_type": "stream",
     "text": [
      "Sending command : {'HB': 0, 'IO': 1, 'WO': 0, 'DM': 'D', 'CMD': [0, 9]}\n",
      "Data sent successfully\n"
     ]
    },
    {
     "name": "stderr",
     "output_type": "stream",
     "text": [
      "Too many measurments in the input buffer: 530/500. Clearing buffer...\n"
     ]
    },
    {
     "name": "stdout",
     "output_type": "stream",
     "text": [
      "Sending command : {'HB': 0, 'IO': 1, 'WO': 0, 'DM': 'D', 'CMD': [0, -9]}\n",
      "Data sent successfully\n",
      "Sending command : {'HB': 0, 'IO': 1, 'WO': 0, 'DM': 'D', 'CMD': [0, -9]}\n",
      "Data sent successfully\n",
      "Sending command : {'HB': 0, 'IO': 1, 'WO': 0, 'DM': 'D', 'CMD': [0, 9]}\n",
      "Data sent successfully\n"
     ]
    },
    {
     "name": "stderr",
     "output_type": "stream",
     "text": [
      "Too many measurments in the input buffer: 555/500. Clearing buffer...\n"
     ]
    },
    {
     "name": "stdout",
     "output_type": "stream",
     "text": [
      "Sending command : {'HB': 0, 'IO': 1, 'WO': 0, 'DM': 'D', 'CMD': [0, 9]}\n",
      "Data sent successfully\n"
     ]
    },
    {
     "name": "stderr",
     "output_type": "stream",
     "text": [
      "Too many measurments in the input buffer: 563/500. Clearing buffer...\n"
     ]
    },
    {
     "name": "stdout",
     "output_type": "stream",
     "text": [
      "Sending command : {'HB': 0, 'IO': 1, 'WO': 0, 'DM': 'D', 'CMD': [0, -9]}\n",
      "Data sent successfully\n",
      "Sending command : {'HB': 0, 'IO': 1, 'WO': 0, 'DM': 'D', 'CMD': [0, -9]}\n",
      "Data sent successfully\n"
     ]
    },
    {
     "name": "stderr",
     "output_type": "stream",
     "text": [
      "Too many measurments in the input buffer: 549/500. Clearing buffer...\n"
     ]
    },
    {
     "name": "stdout",
     "output_type": "stream",
     "text": [
      "Sending command : {'HB': 0, 'IO': 1, 'WO': 0, 'DM': 'D', 'CMD': [0, 9]}\n",
      "Data sent successfully\n",
      "Sending command : {'HB': 0, 'IO': 1, 'WO': 0, 'DM': 'S', 'CMD': [0, -26]}\n",
      "Data sent successfully\n"
     ]
    },
    {
     "name": "stderr",
     "output_type": "stream",
     "text": [
      "Too many measurments in the input buffer: 522/500. Clearing buffer...\n"
     ]
    },
    {
     "name": "stdout",
     "output_type": "stream",
     "text": [
      "Sending command : {'HB': 0, 'IO': 1, 'WO': 0, 'DM': 'D', 'CMD': [0, 9]}\n",
      "Data sent successfully\n"
     ]
    },
    {
     "name": "stderr",
     "output_type": "stream",
     "text": [
      "Too many measurments in the input buffer: 527/500. Clearing buffer...\n"
     ]
    },
    {
     "name": "stdout",
     "output_type": "stream",
     "text": [
      "Sending command : {'HB': 0, 'IO': 1, 'WO': 0, 'DM': 'D', 'CMD': [0, 9]}\n",
      "Data sent successfully\n",
      "Sending command : {'HB': 0, 'IO': 1, 'WO': 0, 'DM': 'D', 'CMD': [0, 9]}\n",
      "Data sent successfully\n"
     ]
    },
    {
     "name": "stderr",
     "output_type": "stream",
     "text": [
      "Too many measurments in the input buffer: 505/500. Clearing buffer...\n"
     ]
    },
    {
     "name": "stdout",
     "output_type": "stream",
     "text": [
      "Sending command : {'HB': 0, 'IO': 1, 'WO': 0, 'DM': 'D', 'CMD': [0, -9]}\n",
      "Data sent successfully\n"
     ]
    },
    {
     "name": "stderr",
     "output_type": "stream",
     "text": [
      "Too many measurments in the input buffer: 555/500. Clearing buffer...\n"
     ]
    },
    {
     "name": "stdout",
     "output_type": "stream",
     "text": [
      "Sending command : {'HB': 0, 'IO': 1, 'WO': 0, 'DM': 'S', 'CMD': [0, -90]}\n",
      "Data sent successfully\n"
     ]
    },
    {
     "name": "stderr",
     "output_type": "stream",
     "text": [
      "Too many measurments in the input buffer: 531/500. Clearing buffer...\n"
     ]
    },
    {
     "name": "stdout",
     "output_type": "stream",
     "text": [
      "Sending command : {'HB': 0, 'IO': 1, 'WO': 0, 'DM': 'S', 'CMD': [0, -90]}\n",
      "Data sent successfully\n"
     ]
    },
    {
     "name": "stderr",
     "output_type": "stream",
     "text": [
      "Too many measurments in the input buffer: 518/500. Clearing buffer...\n"
     ]
    },
    {
     "name": "stdout",
     "output_type": "stream",
     "text": [
      "Sending command : {'HB': 0, 'IO': 1, 'WO': 0, 'DM': 'S', 'CMD': [0, -90]}\n",
      "Data sent successfully\n",
      "Sending command : {'HB': 0, 'IO': 1, 'WO': 0, 'DM': 'S', 'CMD': [0, -90]}\n",
      "Data sent successfully\n"
     ]
    },
    {
     "name": "stderr",
     "output_type": "stream",
     "text": [
      "Too many measurments in the input buffer: 531/500. Clearing buffer...\n",
      "Too many measurments in the input buffer: 506/500. Clearing buffer...\n"
     ]
    },
    {
     "name": "stdout",
     "output_type": "stream",
     "text": [
      "Sending command : {'HB': 0, 'IO': 1, 'WO': 0, 'DM': 'S', 'CMD': [10, 44]}\n",
      "Data sent successfully\n"
     ]
    },
    {
     "name": "stderr",
     "output_type": "stream",
     "text": [
      "Too many measurments in the input buffer: 502/500. Clearing buffer...\n"
     ]
    },
    {
     "name": "stdout",
     "output_type": "stream",
     "text": [
      "Sending command : {'HB': 0, 'IO': 1, 'WO': 0, 'DM': 'S', 'CMD': [0, -90]}\n",
      "Data sent successfully\n",
      "Sending command : {'HB': 0, 'IO': 1, 'WO': 0, 'DM': 'S', 'CMD': [0, -90]}\n",
      "Data sent successfully\n"
     ]
    },
    {
     "name": "stderr",
     "output_type": "stream",
     "text": [
      "Too many measurments in the input buffer: 501/500. Clearing buffer...\n"
     ]
    },
    {
     "name": "stdout",
     "output_type": "stream",
     "text": [
      "Sending command : {'HB': 0, 'IO': 1, 'WO': 0, 'DM': 'S', 'CMD': [0, -90]}\n",
      "Data sent successfully\n"
     ]
    },
    {
     "name": "stderr",
     "output_type": "stream",
     "text": [
      "Too many measurments in the input buffer: 534/500. Clearing buffer...\n"
     ]
    },
    {
     "name": "stdout",
     "output_type": "stream",
     "text": [
      "Sending command : {'HB': 0, 'IO': 1, 'WO': 0, 'DM': 'S', 'CMD': [0, -90]}\n",
      "Data sent successfully\n",
      "Sending command : {'HB': 0, 'IO': 1, 'WO': 0, 'DM': 'S', 'CMD': [0, -90]}\n",
      "Data sent successfully\n",
      "Sending command : {'HB': 0, 'IO': 1, 'WO': 0, 'DM': 'S', 'CMD': [0, -90]}\n",
      "Data sent successfully\n"
     ]
    },
    {
     "name": "stderr",
     "output_type": "stream",
     "text": [
      "Too many measurments in the input buffer: 574/500. Clearing buffer...\n"
     ]
    },
    {
     "name": "stdout",
     "output_type": "stream",
     "text": [
      "Sending command : {'HB': 0, 'IO': 1, 'WO': 0, 'DM': 'S', 'CMD': [0, -90]}\n",
      "Data sent successfully\n"
     ]
    },
    {
     "name": "stderr",
     "output_type": "stream",
     "text": [
      "Too many measurments in the input buffer: 510/500. Clearing buffer...\n"
     ]
    },
    {
     "name": "stdout",
     "output_type": "stream",
     "text": [
      "Sending command : {'HB': 0, 'IO': 1, 'WO': 0, 'DM': 'S', 'CMD': [0, -90]}\n",
      "Data sent successfully\n",
      "Sending command : {'HB': 0, 'IO': 1, 'WO': 0, 'DM': 'S', 'CMD': [0, -90]}\n",
      "Data sent successfully\n"
     ]
    },
    {
     "name": "stderr",
     "output_type": "stream",
     "text": [
      "Too many measurments in the input buffer: 501/500. Clearing buffer...\n"
     ]
    },
    {
     "name": "stdout",
     "output_type": "stream",
     "text": [
      "Sending command : {'HB': 0, 'IO': 1, 'WO': 0, 'DM': 'S', 'CMD': [0, -90]}\n",
      "Data sent successfully\n",
      "Sending command : {'HB': 0, 'IO': 1, 'WO': 0, 'DM': 'S', 'CMD': [0, -90]}\n",
      "Data sent successfully\n"
     ]
    },
    {
     "name": "stderr",
     "output_type": "stream",
     "text": [
      "Too many measurments in the input buffer: 541/500. Clearing buffer...\n"
     ]
    },
    {
     "name": "stdout",
     "output_type": "stream",
     "text": [
      "Sending command : {'HB': 0, 'IO': 1, 'WO': 0, 'DM': 'S', 'CMD': [0, -90]}\n",
      "Data sent successfully\n"
     ]
    },
    {
     "name": "stderr",
     "output_type": "stream",
     "text": [
      "Too many measurments in the input buffer: 523/500. Clearing buffer...\n"
     ]
    },
    {
     "name": "stdout",
     "output_type": "stream",
     "text": [
      "Sending command : {'HB': 0, 'IO': 1, 'WO': 0, 'DM': 'D', 'CMD': [0, -9]}\n",
      "Data sent successfully\n"
     ]
    },
    {
     "name": "stderr",
     "output_type": "stream",
     "text": [
      "Too many measurments in the input buffer: 515/500. Clearing buffer...\n"
     ]
    },
    {
     "name": "stdout",
     "output_type": "stream",
     "text": [
      "Sending command : {'HB': 0, 'IO': 1, 'WO': 0, 'DM': 'S', 'CMD': [0, -90]}\n",
      "Data sent successfully\n",
      "Sending command : {'HB': 0, 'IO': 1, 'WO': 0, 'DM': 'S', 'CMD': [0, -90]}\n",
      "Data sent successfully\n"
     ]
    },
    {
     "name": "stderr",
     "output_type": "stream",
     "text": [
      "Too many measurments in the input buffer: 560/500. Clearing buffer...\n"
     ]
    },
    {
     "name": "stdout",
     "output_type": "stream",
     "text": [
      "Sending command : {'HB': 0, 'IO': 1, 'WO': 0, 'DM': 'D', 'CMD': [0, -9]}\n",
      "Data sent successfully\n",
      "Sending command : {'HB': 0, 'IO': 1, 'WO': 0, 'DM': 'D', 'CMD': [0, -9]}\n",
      "Data sent successfully\n",
      "Data sent successfully\n"
     ]
    },
    {
     "name": "stderr",
     "output_type": "stream",
     "text": [
      "Too many measurments in the input buffer: 575/500. Clearing buffer...\n",
      "Too many measurments in the input buffer: 549/500. Clearing buffer...\n",
      "Too many measurments in the input buffer: 502/500. Clearing buffer...\n",
      "Too many measurments in the input buffer: 521/500. Clearing buffer...\n",
      "Too many measurments in the input buffer: 532/500. Clearing buffer...\n",
      "Too many measurments in the input buffer: 520/500. Clearing buffer...\n",
      "Too many measurments in the input buffer: 509/500. Clearing buffer...\n",
      "Too many measurments in the input buffer: 524/500. Clearing buffer...\n",
      "Too many measurments in the input buffer: 509/500. Clearing buffer...\n",
      "Too many measurments in the input buffer: 555/500. Clearing buffer...\n",
      "Too many measurments in the input buffer: 522/500. Clearing buffer...\n",
      "Too many measurments in the input buffer: 511/500. Clearing buffer...\n",
      "Too many measurments in the input buffer: 556/500. Clearing buffer...\n",
      "Too many measurments in the input buffer: 511/500. Clearing buffer...\n",
      "Too many measurments in the input buffer: 566/500. Clearing buffer...\n",
      "Too many measurments in the input buffer: 506/500. Clearing buffer...\n",
      "Too many measurments in the input buffer: 529/500. Clearing buffer...\n",
      "Too many measurments in the input buffer: 511/500. Clearing buffer...\n",
      "Too many measurments in the input buffer: 504/500. Clearing buffer...\n",
      "Too many measurments in the input buffer: 502/500. Clearing buffer...\n",
      "Too many measurments in the input buffer: 567/500. Clearing buffer...\n",
      "Too many measurments in the input buffer: 540/500. Clearing buffer...\n",
      "Too many measurments in the input buffer: 589/500. Clearing buffer...\n",
      "Too many measurments in the input buffer: 501/500. Clearing buffer...\n",
      "Too many measurments in the input buffer: 571/500. Clearing buffer...\n",
      "Too many measurments in the input buffer: 504/500. Clearing buffer...\n",
      "Too many measurments in the input buffer: 578/500. Clearing buffer...\n",
      "Too many measurments in the input buffer: 588/500. Clearing buffer...\n",
      "Too many measurments in the input buffer: 514/500. Clearing buffer...\n",
      "Too many measurments in the input buffer: 513/500. Clearing buffer...\n",
      "Too many measurments in the input buffer: 538/500. Clearing buffer...\n",
      "Too many measurments in the input buffer: 513/500. Clearing buffer...\n",
      "Too many measurments in the input buffer: 511/500. Clearing buffer...\n",
      "Too many measurments in the input buffer: 545/500. Clearing buffer...\n",
      "Too many measurments in the input buffer: 517/500. Clearing buffer...\n",
      "Too many measurments in the input buffer: 535/500. Clearing buffer...\n",
      "Too many measurments in the input buffer: 505/500. Clearing buffer...\n",
      "Too many measurments in the input buffer: 504/500. Clearing buffer...\n",
      "Too many measurments in the input buffer: 550/500. Clearing buffer...\n",
      "Too many measurments in the input buffer: 504/500. Clearing buffer...\n",
      "Too many measurments in the input buffer: 504/500. Clearing buffer...\n",
      "Too many measurments in the input buffer: 522/500. Clearing buffer...\n",
      "Too many measurments in the input buffer: 549/500. Clearing buffer...\n",
      "Too many measurments in the input buffer: 506/500. Clearing buffer...\n",
      "Too many measurments in the input buffer: 532/500. Clearing buffer...\n",
      "Too many measurments in the input buffer: 519/500. Clearing buffer...\n",
      "Too many measurments in the input buffer: 530/500. Clearing buffer...\n",
      "Too many measurments in the input buffer: 510/500. Clearing buffer...\n",
      "Too many measurments in the input buffer: 579/500. Clearing buffer...\n",
      "Too many measurments in the input buffer: 553/500. Clearing buffer...\n",
      "Too many measurments in the input buffer: 503/500. Clearing buffer...\n",
      "Too many measurments in the input buffer: 545/500. Clearing buffer...\n",
      "Too many measurments in the input buffer: 527/500. Clearing buffer...\n",
      "Too many measurments in the input buffer: 543/500. Clearing buffer...\n",
      "Too many measurments in the input buffer: 503/500. Clearing buffer...\n",
      "Too many measurments in the input buffer: 512/500. Clearing buffer...\n",
      "Too many measurments in the input buffer: 557/500. Clearing buffer...\n",
      "Too many measurments in the input buffer: 501/500. Clearing buffer...\n",
      "Too many measurments in the input buffer: 524/500. Clearing buffer...\n",
      "Too many measurments in the input buffer: 537/500. Clearing buffer...\n",
      "Too many measurments in the input buffer: 516/500. Clearing buffer...\n",
      "Too many measurments in the input buffer: 512/500. Clearing buffer...\n",
      "Too many measurments in the input buffer: 501/500. Clearing buffer...\n",
      "Too many measurments in the input buffer: 503/500. Clearing buffer...\n",
      "Too many measurments in the input buffer: 587/500. Clearing buffer...\n",
      "Too many measurments in the input buffer: 540/500. Clearing buffer...\n",
      "Too many measurments in the input buffer: 520/500. Clearing buffer...\n",
      "Too many measurments in the input buffer: 552/500. Clearing buffer...\n",
      "Too many measurments in the input buffer: 547/500. Clearing buffer...\n",
      "Too many measurments in the input buffer: 544/500. Clearing buffer...\n",
      "Too many measurments in the input buffer: 551/500. Clearing buffer...\n",
      "Too many measurments in the input buffer: 534/500. Clearing buffer...\n",
      "Too many measurments in the input buffer: 555/500. Clearing buffer...\n",
      "Too many measurments in the input buffer: 518/500. Clearing buffer...\n",
      "Too many measurments in the input buffer: 556/500. Clearing buffer...\n",
      "Too many measurments in the input buffer: 539/500. Clearing buffer...\n",
      "Too many measurments in the input buffer: 538/500. Clearing buffer...\n",
      "Too many measurments in the input buffer: 546/500. Clearing buffer...\n",
      "Too many measurments in the input buffer: 523/500. Clearing buffer...\n",
      "Too many measurments in the input buffer: 513/500. Clearing buffer...\n",
      "Too many measurments in the input buffer: 533/500. Clearing buffer...\n",
      "Too many measurments in the input buffer: 520/500. Clearing buffer...\n",
      "Too many measurments in the input buffer: 519/500. Clearing buffer...\n",
      "Too many measurments in the input buffer: 542/500. Clearing buffer...\n",
      "Too many measurments in the input buffer: 557/500. Clearing buffer...\n",
      "Too many measurments in the input buffer: 562/500. Clearing buffer...\n",
      "Too many measurments in the input buffer: 527/500. Clearing buffer...\n",
      "Too many measurments in the input buffer: 564/500. Clearing buffer...\n",
      "Too many measurments in the input buffer: 566/500. Clearing buffer...\n",
      "Too many measurments in the input buffer: 544/500. Clearing buffer...\n",
      "Too many measurments in the input buffer: 503/500. Clearing buffer...\n",
      "Too many measurments in the input buffer: 501/500. Clearing buffer...\n",
      "Too many measurments in the input buffer: 569/500. Clearing buffer...\n",
      "Too many measurments in the input buffer: 523/500. Clearing buffer...\n",
      "Too many measurments in the input buffer: 515/500. Clearing buffer...\n",
      "Too many measurments in the input buffer: 511/500. Clearing buffer...\n",
      "Too many measurments in the input buffer: 529/500. Clearing buffer...\n",
      "Too many measurments in the input buffer: 524/500. Clearing buffer...\n",
      "Too many measurments in the input buffer: 536/500. Clearing buffer...\n",
      "Too many measurments in the input buffer: 575/500. Clearing buffer...\n",
      "Too many measurments in the input buffer: 567/500. Clearing buffer...\n",
      "Too many measurments in the input buffer: 515/500. Clearing buffer...\n",
      "Too many measurments in the input buffer: 571/500. Clearing buffer...\n",
      "Too many measurments in the input buffer: 564/500. Clearing buffer...\n",
      "Too many measurments in the input buffer: 562/500. Clearing buffer...\n",
      "Too many measurments in the input buffer: 502/500. Clearing buffer...\n",
      "Too many measurments in the input buffer: 514/500. Clearing buffer...\n",
      "Too many measurments in the input buffer: 576/500. Clearing buffer...\n",
      "Too many measurments in the input buffer: 506/500. Clearing buffer...\n",
      "Too many measurments in the input buffer: 528/500. Clearing buffer...\n",
      "Too many measurments in the input buffer: 555/500. Clearing buffer...\n",
      "Too many measurments in the input buffer: 553/500. Clearing buffer...\n",
      "Too many measurments in the input buffer: 516/500. Clearing buffer...\n",
      "Too many measurments in the input buffer: 518/500. Clearing buffer...\n",
      "Too many measurments in the input buffer: 564/500. Clearing buffer...\n",
      "Too many measurments in the input buffer: 508/500. Clearing buffer...\n",
      "Too many measurments in the input buffer: 537/500. Clearing buffer...\n",
      "Too many measurments in the input buffer: 516/500. Clearing buffer...\n",
      "Too many measurments in the input buffer: 575/500. Clearing buffer...\n",
      "Too many measurments in the input buffer: 528/500. Clearing buffer...\n",
      "Too many measurments in the input buffer: 502/500. Clearing buffer...\n",
      "Too many measurments in the input buffer: 536/500. Clearing buffer...\n",
      "Too many measurments in the input buffer: 513/500. Clearing buffer...\n"
     ]
    },
    {
     "name": "stdout",
     "output_type": "stream",
     "text": [
      "called stop_path_finder_service\n",
      "\n",
      "Called stop_worldview_service\n",
      "Called stop_lidar_service\n",
      "waiting for obstacle thread to join\n",
      "waiting for lidar thread to join\n",
      "Stopping Lidar Service\n",
      "Starting Worldview Service\n",
      "Stopping Pathfinder Service\n",
      "called stop_path_finder_service\n",
      "called start_path_finder_service\n",
      "Starting Pathfinder Service\n",
      "Called start_worldview_service\n",
      "Starting Worldview Service\n",
      "Called start_lidar_service\n",
      "Starting Lidar Service\n",
      "called start_path_finder_service\n",
      "Starting Pathfinder Service\n",
      "Called start_worldview_service\n",
      "Starting Worldview Service\n",
      "Called start_lidar_service\n"
     ]
    },
    {
     "name": "stderr",
     "output_type": "stream",
     "text": [
      "Exception in thread Pathfinder service:\n",
      "Traceback (most recent call last):\n",
      "  File \"d:\\Projects\\urc-intelligent-systems-2023\\env\\Lib\\threading.py\", line 1045, in _bootstrap_inner\n",
      "Exception in thread Lidar Service Thread:\n",
      "Traceback (most recent call last):\n",
      "  File \"d:\\Projects\\urc-intelligent-systems-2023\\env\\Lib\\site-packages\\rplidar.py\", line 126, in connect\n",
      "    self.run()\n",
      "  File \"d:\\Projects\\urc-intelligent-systems-2023\\env\\Lib\\threading.py\", line 982, in run\n",
      "    self._serial_port = serial.Serial(\n",
      "                        ^^^^^^^^^^^^^^\n",
      "  File \"d:\\Projects\\urc-intelligent-systems-2023\\env\\Lib\\site-packages\\serial\\serialwin32.py\", line 33, in __init__\n",
      "    self._target(*self._args, **self._kwargs)\n",
      "  File \"d:\\Projects\\urc-intelligent-systems-2023\\unified_frameworks\\pathfinder.py\", line 184, in run_pathfinder\n",
      "    exploration_step(obstacles, get_near_points)\n",
      "  File \"d:\\Projects\\urc-intelligent-systems-2023\\unified_frameworks\\pathfinder.py\", line 46, in inner\n",
      "    res = func(*args, **kwargs)\n",
      "          ^^^^^^^^^^^^^^^^^^^^^\n",
      "  File \"d:\\Projects\\urc-intelligent-systems-2023\\unified_frameworks\\pathfinder.py\", line 150, in exploration_step\n",
      "    cost = _arivalcosts[_cur]+step_cost(_cur, n)+heuristic_cost(n)\n",
      "           ~~~~~~~~~~~~^^^^^^\n",
      "KeyError: (0, 0)\n",
      "    super(Serial, self).__init__(*args, **kwargs)\n",
      "  File \"d:\\Projects\\urc-intelligent-systems-2023\\env\\Lib\\site-packages\\serial\\serialutil.py\", line 244, in __init__\n"
     ]
    },
    {
     "name": "stdout",
     "output_type": "stream",
     "text": [
      "Starting Lidar Service\n"
     ]
    },
    {
     "name": "stderr",
     "output_type": "stream",
     "text": [
      "    self.open()\n",
      "  File \"d:\\Projects\\urc-intelligent-systems-2023\\env\\Lib\\site-packages\\serial\\serialwin32.py\", line 64, in open\n",
      "    raise SerialException(\"could not open port {!r}: {!r}\".format(self.portstr, ctypes.WinError()))\n",
      "serial.serialutil.SerialException: could not open port 'COM10': PermissionError(13, 'Access is denied.', None, 5)\n",
      "\n",
      "During handling of the above exception, another exception occurred:\n",
      "\n",
      "Traceback (most recent call last):\n",
      "  File \"d:\\Projects\\urc-intelligent-systems-2023\\unified_frameworks\\sensor_array\\lidar.py\", line 37, in run_lidar\n",
      "    lidar = RPLidar(PORT_NAME)\n",
      "            ^^^^^^^^^^^^^^^^^^\n",
      "  File \"d:\\Projects\\urc-intelligent-systems-2023\\env\\Lib\\site-packages\\rplidar.py\", line 117, in __init__\n",
      "    self.connect()\n",
      "  File \"d:\\Projects\\urc-intelligent-systems-2023\\env\\Lib\\site-packages\\rplidar.py\", line 131, in connect\n",
      "    raise RPLidarException('Failed to connect to the sensor '\n",
      "rplidar.RPLidarException: Failed to connect to the sensor due to: could not open port 'COM10': PermissionError(13, 'Access is denied.', None, 5)\n",
      "\n",
      "During handling of the above exception, another exception occurred:\n",
      "\n",
      "Traceback (most recent call last):\n",
      "  File \"d:\\Projects\\urc-intelligent-systems-2023\\env\\Lib\\threading.py\", line 1045, in _bootstrap_inner\n",
      "    self.run()\n",
      "  File \"d:\\Projects\\urc-intelligent-systems-2023\\env\\Lib\\threading.py\", line 982, in run\n",
      "    self._target(*self._args, **self._kwargs)\n",
      "  File \"d:\\Projects\\urc-intelligent-systems-2023\\unified_frameworks\\sensor_array\\lidar.py\", line 45, in run_lidar\n",
      "    lidar.disconnect()\n",
      "    ^^^^^^^^^^^^^^^^\n",
      "AttributeError: 'NoneType' object has no attribute 'disconnect'\n"
     ]
    }
   ],
   "source": [
    "def show_visual():\n",
    "    def on_hover_point(point_polar):\n",
    "        pathfinder.set_goal(point_polar) if not point_polar is None else None\n",
    "    fig, update_func = pathfinder_visualizer.run_visualizer(pathfinder, on_hover_point)\n",
    "    anime = anim.FuncAnimation(fig, update_func, 1, interval=50, blit=True)\n",
    "    plt.show()\n",
    "    return anime\n",
    "# show_visual()\n",
    "\n",
    "from ipywidgets import Button, VBox, ToggleButton, IntSlider, HBox, HTML, Layout, Output\n",
    "\n",
    "start_pathfinder = Button(\n",
    "    description=\"Start Pathfinder\",\n",
    "    layout = Layout(width='auto', height='80px', margin='10px'), \n",
    "    style=dict(font_size=\"60px\"),\n",
    "    button_style=\"primary\",\n",
    "    disabled = pathfinder._service.is_running())\n",
    "stop_pathfinder = Button(\n",
    "    description=\"Stop Pathfinder\", \n",
    "    layout= start_pathfinder.layout, \n",
    "    style=start_pathfinder.style,\n",
    "    button_style=\"warning\",\n",
    "    disabled = not pathfinder._service.is_running())\n",
    "run_rover = ToggleButton(\n",
    "    value=False, \n",
    "    description=\"Run Rover\", \n",
    "    layout= Layout(flex='1', height='80px', margin='10px'), \n",
    "    style=dict(font_size=\"60px\"),\n",
    "    button_style=\"success\",\n",
    "    disabled = not pathfinder._service.is_running())\n",
    "visual_button = Button(\n",
    "    description=\"PLT\", \n",
    "    layout = Layout(height='auto', margin='10px'))\n",
    "speed_slide = IntSlider(\n",
    "    value=0, min=0, max=100, \n",
    "    orientation=\"vertical\", \n",
    "    layout=Layout(height=\"auto\"))\n",
    "# text_display = HTML(\n",
    "#     value=\"Some HTML text\", \n",
    "#     # layout= Layout(flex='1', margin=\"10px\", border=\"solid\", padding=\"10px\"))\n",
    "#     layout= )\n",
    "text_output = Output(layout=Layout(flex='1', max_height=\"500px\", min_height=\"100px\"))\n",
    "poll_rover = Button(\n",
    "    description=\"Poll Rover\",\n",
    "    layout = Layout(flex='1')\n",
    ")\n",
    "clear_output = Button(\n",
    "    description=\"Clear Output\"\n",
    ")\n",
    "\n",
    "buttons = VBox([\n",
    "    start_pathfinder,\n",
    "    HBox([run_rover,], layout=Layout(width='auto', padding='0px', margin='0px')),\n",
    "    stop_pathfinder,\n",
    "    ],\n",
    "    layout = Layout(flex='1')\n",
    ")\n",
    "controls = HBox([\n",
    "    speed_slide, buttons, speed_slide\n",
    "])\n",
    "logging = HBox([\n",
    "    HBox([text_output], layout=Layout(border='solid', flex='1', padding='10px')), VBox([poll_rover, clear_output])\n",
    "    ],\n",
    "    layout = Layout(margin='10px')\n",
    ")\n",
    "gui = VBox([\n",
    "    controls,\n",
    "    logging\n",
    "])\n",
    "# buttons"
   ]
  },
  {
   "cell_type": "code",
   "execution_count": 14,
   "metadata": {},
   "outputs": [
    {
     "name": "stderr",
     "output_type": "stream",
     "text": [
      "Too many measurments in the input buffer: 519/500. Clearing buffer...\n",
      "Too many measurments in the input buffer: 520/500. Clearing buffer...\n",
      "Too many measurments in the input buffer: 535/500. Clearing buffer...\n"
     ]
    }
   ],
   "source": [
    "from math import pi\n",
    "from unified_utils import Service\n",
    "\n",
    "rover = WiFi(\"http://192.168.0.211:5000\")\n",
    "def captain_act():\n",
    "    path = pathfinder.get_path()\n",
    "    if len(path) < 2:\n",
    "        rover.send_command(make_command(speed_percent=0))\n",
    "        # speed_slide.value=0\n",
    "        radians=pi/2\n",
    "    else:\n",
    "        nxt = path[1]\n",
    "        radians = (nxt[0]%(2*pi))-pi/2\n",
    "    radians*=-1\n",
    "    degrees = int(radians/(2*pi)*360)\n",
    "    mode = Modes.DRIVE if abs(degrees) < 12 else Modes.SPIN\n",
    "    speed = speed_slide.value\n",
    "    if mode == Modes.SPIN:\n",
    "        speed *= (-1 if degrees < 0 else 1)\n",
    "    # print(mode, speed)\n",
    "    command = make_command(mode, speed_percent=speed, angle_degrees=degrees)\n",
    "    print(f\"Sending command : {command}\")\n",
    "    rover.send_command(command)\n",
    "def captain_stop():\n",
    "    rover.send_command(make_command(speed_percent=0))\n",
    "command_freq = 3\n",
    "def start_captain(is_captain_running):\n",
    "    while is_captain_running():\n",
    "        captain_act()\n",
    "        # print(\"running captain\")\n",
    "        time.sleep(1/command_freq)\n",
    "    # print(\"stopping captain\")\n",
    "    captain_stop()\n",
    "    "
   ]
  },
  {
   "cell_type": "code",
   "execution_count": 15,
   "metadata": {},
   "outputs": [
    {
     "name": "stderr",
     "output_type": "stream",
     "text": [
      "Too many measurments in the input buffer: 503/500. Clearing buffer...\n",
      "Too many measurments in the input buffer: 514/500. Clearing buffer...\n",
      "Too many measurments in the input buffer: 501/500. Clearing buffer...\n",
      "Too many measurments in the input buffer: 508/500. Clearing buffer...\n",
      "Too many measurments in the input buffer: 558/500. Clearing buffer...\n",
      "Too many measurments in the input buffer: 521/500. Clearing buffer...\n",
      "Too many measurments in the input buffer: 565/500. Clearing buffer...\n",
      "Too many measurments in the input buffer: 535/500. Clearing buffer...\n",
      "Too many measurments in the input buffer: 569/500. Clearing buffer...\n",
      "Too many measurments in the input buffer: 512/500. Clearing buffer...\n"
     ]
    }
   ],
   "source": [
    "def update_button_disables(pathfinding):\n",
    "    start_pathfinder.disabled = pathfinding\n",
    "    run_rover.disabled = not pathfinding\n",
    "    stop_pathfinder.disabled = not pathfinding\n",
    "\n",
    "def on_start_pathfinding(b):\n",
    "    importlib.reload(pathfinder)\n",
    "    pathfinder.start_pathfinder_service()\n",
    "    # show_visual()\n",
    "    update_button_disables(True)\n",
    "start_pathfinder.on_click(on_start_pathfinding)\n",
    "def on_stop_pathfinding(b):\n",
    "    pathfinder.stop_pathfinder_service()\n",
    "    update_button_disables(False)\n",
    "stop_pathfinder.on_click(on_stop_pathfinding)\n",
    "\n",
    "# def on_visual_toggle(change):\n",
    "#     show = change['new']\n",
    "#     print(show)\n",
    "#     if show:\n",
    "#         show_visual()\n",
    "#     else:\n",
    "#         plt.close('all')\n",
    "# visual_button.observe(on_visual_toggle, 'value')\n",
    "def on_visual(b):\n",
    "    show_visual()\n",
    "visual_button.on_click(on_visual)\n",
    "\n",
    "captain_service = Service(start_captain, \"Captain Service\")\n",
    "def rover_order_changed(change):\n",
    "    global captain_service\n",
    "    run = change['new']\n",
    "    if run:\n",
    "        captain_service.start_service()\n",
    "        run_rover.button_style='danger'\n",
    "        run_rover.description='Stop Rover'\n",
    "    else:\n",
    "        captain_service.stop_service()\n",
    "        captain_service = Service(start_captain, \"Captain Service\")\n",
    "        run_rover.button_style='success'\n",
    "        run_rover.description='Run Rover'\n",
    "run_rover.observe(rover_order_changed, 'value')\n",
    "\n",
    "clear_output.on_click(lambda i: text_output.clear_output())\n",
    "history = []\n",
    "def on_poll_rover(b):\n",
    "    stat = rover.get_status()\n",
    "    with text_output:\n",
    "        print()\n",
    "        print(f\"at: {datetime.now().strftime('%H:%M:%S')}\")\n",
    "        print(json.dumps({k:stat[k] for k in stat if re.match(\"^current.*\", k)},indent=2))\n",
    "poll_rover.on_click(on_poll_rover)"
   ]
  },
  {
   "cell_type": "code",
   "execution_count": 16,
   "metadata": {},
   "outputs": [
    {
     "name": "stderr",
     "output_type": "stream",
     "text": [
      "Too many measurments in the input buffer: 515/500. Clearing buffer...\n",
      "Too many measurments in the input buffer: 540/500. Clearing buffer...\n",
      "Too many measurments in the input buffer: 516/500. Clearing buffer...\n",
      "Too many measurments in the input buffer: 567/500. Clearing buffer...\n",
      "Too many measurments in the input buffer: 527/500. Clearing buffer...\n",
      "Too many measurments in the input buffer: 517/500. Clearing buffer...\n",
      "Too many measurments in the input buffer: 532/500. Clearing buffer...\n",
      "Too many measurments in the input buffer: 538/500. Clearing buffer...\n",
      "Too many measurments in the input buffer: 518/500. Clearing buffer...\n",
      "Too many measurments in the input buffer: 538/500. Clearing buffer...\n",
      "Too many measurments in the input buffer: 565/500. Clearing buffer...\n"
     ]
    }
   ],
   "source": [
    "# show_visual()"
   ]
  },
  {
   "cell_type": "code",
   "execution_count": 6,
   "metadata": {},
   "outputs": [
    {
     "data": {
      "application/vnd.jupyter.widget-view+json": {
       "model_id": "29d9484c3aeb4b1286110d455ff59389",
       "version_major": 2,
       "version_minor": 0
      },
      "text/plain": [
       "VBox(children=(HBox(children=(IntSlider(value=0, layout=Layout(height='auto'), orientation='vertical'), VBox(c…"
      ]
     },
     "execution_count": 6,
     "metadata": {},
     "output_type": "execute_result"
    }
   ],
   "source": [
    "gui"
   ]
  },
  {
   "cell_type": "code",
   "execution_count": 12,
   "metadata": {},
   "outputs": [
    {
     "name": "stdout",
     "output_type": "stream",
     "text": [
      "Data sent successfully\n"
     ]
    },
    {
     "name": "stderr",
     "output_type": "stream",
     "text": [
      "Too many measurments in the input buffer: 502/500. Clearing buffer...\n"
     ]
    }
   ],
   "source": [
    "rover.send_command(make_command(Modes.SPIN,speed_percent=0))"
   ]
  },
  {
   "cell_type": "markdown",
   "metadata": {},
   "source": [
    "# Archive 1"
   ]
  },
  {
   "cell_type": "code",
   "execution_count": null,
   "metadata": {},
   "outputs": [],
   "source": [
    "from ipywidgets import Button, HBox, ToggleButton, TwoByTwoLayout, Layout, IntSlider\n",
    "# 3 buttons. Start service, stop service, show visualization\n",
    "make_layout = lambda: Layout(width=\"auto\", height=\"auto\")\n",
    "start_button = Button(description=\"Start Pathfinder\", disabled=pathfinder._service.is_running(), button_style='primary', layout=make_layout(), style=dict(font_size=\"60px\"))\n",
    "stop_button = Button(description=\"Stop Pathfinder\", disabled=not pathfinder._service.is_running(), button_style='warning', layout=make_layout(), style=dict(font_size=\"60px\"))\n",
    "show_button = Button(description=\"Show Visualization\", button_style='warning', layout=make_layout())\n",
    "\n",
    "\n",
    "pathfinder_controls = TwoByTwoLayout(\n",
    "    top_left=start_button,\n",
    "    bottom_left=stop_button,\n",
    "    layout = Layout(height=\"300px\")\n",
    "    )\n",
    "pathfinder_controls"
   ]
  },
  {
   "cell_type": "code",
   "execution_count": null,
   "metadata": {},
   "outputs": [],
   "source": [
    "start_button"
   ]
  },
  {
   "cell_type": "code",
   "execution_count": null,
   "metadata": {},
   "outputs": [],
   "source": [
    "rideon_button = ToggleButton(description=\"Start Pathfinder\", disabled=pathfinder._service.is_running(), button_style='primary', layout=make_layout(), style=dict(font_size=\"60px\"))\n",
    "stop_button = Button(description=\"Stop Pathfinder\", disabled=not pathfinder._service.is_running(), button_style='warning', layout=make_layout(), style=dict(font_size=\"60px\"))\n",
    "speed_slide = IntSlider(value=0, min=0, max=100, layout=make_layout())"
   ]
  },
  {
   "cell_type": "code",
   "execution_count": null,
   "metadata": {},
   "outputs": [],
   "source": [
    "def start_pathfinder(*args):\n",
    "    if pathfinder._service.is_running():\n",
    "        print(\"Service is already running\", file=sys.stderr)\n",
    "        return\n",
    "    pathfinder.start_pathfinder_service()\n",
    "    stop_button.disabled=False\n",
    "    start_button.disabled=True\n",
    "start_button.on_click(start_pathfinder)\n",
    "def stop_pathfinder(*args):\n",
    "    pathfinder.stop_pathfinder_service()\n",
    "    importlib.reload(pathfinder)\n",
    "    stop_button.disabled=True\n",
    "    start_button.disabled=False\n",
    "stop_button.on_click(stop_pathfinder)\n",
    "# def show_visual(*args):\n",
    "#     fig, update_func = pathfinder_visualizer.run_visualizer(pathfinder)\n",
    "#     anime = anim.FuncAnimation(fig, update_func, 1, interval=50, blit=True)\n",
    "#     plt.show()\n",
    "#     return anime\n",
    "# show_button.on_click(show_visual)"
   ]
  },
  {
   "cell_type": "code",
   "execution_count": null,
   "metadata": {},
   "outputs": [],
   "source": [
    "def show_visual():\n",
    "    def on_hover_point(point_polar):\n",
    "        pathfinder.set_goal(point_polar) if not point_polar is None else None\n",
    "    fig, update_func = pathfinder_visualizer.run_visualizer(pathfinder, on_hover_point)\n",
    "    anime = anim.FuncAnimation(fig, update_func, 1, interval=50, blit=True)\n",
    "    plt.show()\n",
    "    return anime"
   ]
  },
  {
   "cell_type": "code",
   "execution_count": null,
   "metadata": {},
   "outputs": [],
   "source": [
    "gui"
   ]
  },
  {
   "cell_type": "code",
   "execution_count": null,
   "metadata": {},
   "outputs": [],
   "source": [
    "from ipywidgets import IntSlider\n",
    "speed = 10\n",
    "s = IntSlider(value=speed, min=0, max=25)"
   ]
  },
  {
   "cell_type": "code",
   "execution_count": null,
   "metadata": {},
   "outputs": [],
   "source": [
    "s.value"
   ]
  },
  {
   "cell_type": "code",
   "execution_count": null,
   "metadata": {},
   "outputs": [],
   "source": [
    "s"
   ]
  },
  {
   "cell_type": "code",
   "execution_count": null,
   "metadata": {},
   "outputs": [],
   "source": [
    "from math import pi\n",
    "import time\n",
    "rover = WiFi(\"http://192.168.0.211:5000\")\n",
    "speed = 10\n",
    "def captain_act():\n",
    "    path = pathfinder.get_path()\n",
    "    if len(path) < 2:\n",
    "        return\n",
    "    nxt = path[1]\n",
    "    radians = (nxt[0]%(2*pi))-pi/2\n",
    "    radians*=-1\n",
    "    degrees = int(radians/(2*pi)*360)\n",
    "    mode = Modes.DRIVE if abs(degrees) < 12 else Modes.SPIN\n",
    "    speed = s.value\n",
    "    if mode == Modes.SPIN:\n",
    "        speed *= (-1 if degrees < 0 else 1)\n",
    "    # print(mode, speed)\n",
    "    rover.write_data(make_command(mode, speed_percent=speed, angle_degrees=degrees))\n"
   ]
  },
  {
   "cell_type": "code",
   "execution_count": null,
   "metadata": {},
   "outputs": [],
   "source": [
    "from threading import Thread"
   ]
  },
  {
   "cell_type": "code",
   "execution_count": null,
   "metadata": {},
   "outputs": [],
   "source": [
    "rover.read_data()"
   ]
  },
  {
   "cell_type": "code",
   "execution_count": null,
   "metadata": {},
   "outputs": [],
   "source": [
    "rover.write_data(make_command(Modes.SPIN))"
   ]
  },
  {
   "cell_type": "code",
   "execution_count": null,
   "metadata": {},
   "outputs": [],
   "source": [
    "stop = False"
   ]
  },
  {
   "cell_type": "code",
   "execution_count": null,
   "metadata": {},
   "outputs": [],
   "source": [
    "def f():\n",
    "    global stop\n",
    "    print(\"Staring auto\")\n",
    "    for i in (list(range(100))):\n",
    "        if stop: break\n",
    "        captain_act()\n",
    "        time.sleep(1)\n",
    "        rover.write_data(make_command(speed_percent=0))\n",
    "    print(\"Done auto\")\n",
    "t = Thread(target=f)\n",
    "t.start()"
   ]
  },
  {
   "cell_type": "code",
   "execution_count": null,
   "metadata": {},
   "outputs": [],
   "source": [
    "rover.write_data(make_command(Modes.DRIVE,speed_percent=0))"
   ]
  },
  {
   "cell_type": "code",
   "execution_count": null,
   "metadata": {},
   "outputs": [],
   "source": [
    "rover.read_data()"
   ]
  }
 ],
 "metadata": {
  "kernelspec": {
   "display_name": "Python 3",
   "language": "python",
   "name": "python3"
  },
  "language_info": {
   "codemirror_mode": {
    "name": "ipython",
    "version": 3
   },
   "file_extension": ".py",
   "mimetype": "text/x-python",
   "name": "python",
   "nbconvert_exporter": "python",
   "pygments_lexer": "ipython3",
   "version": "3.11.7"
  }
 },
 "nbformat": 4,
 "nbformat_minor": 2
}
