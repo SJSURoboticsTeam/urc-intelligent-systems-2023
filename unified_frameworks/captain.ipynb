{
 "cells": [
  {
   "cell_type": "code",
   "execution_count": 10,
   "metadata": {},
   "outputs": [],
   "source": [
    "%matplotlib qt\n",
    "import os\n",
    "root = os.path.realpath(os.getcwd()+ os.sep+\"..\")\n",
    "import sys\n",
    "sys.path.append(root)\n",
    "from modules.WiFi import WiFi, Modes, make_command\n",
    "import pathfinder, pathfinder_visualizer\n",
    "import importlib\n",
    "import matplotlib.pyplot as plt\n",
    "import matplotlib.animation as anim"
   ]
  },
  {
   "cell_type": "code",
   "execution_count": null,
   "metadata": {},
   "outputs": [
    {
     "name": "stdout",
     "output_type": "stream",
     "text": [
      "called start_path_finder_service\n",
      "Starting Pathfinder Service\n",
      "Called start_worldview_service\n",
      "Starting Worldview Service\n",
      "Called start_lidar_service\n",
      "Starting Lidar Service\n",
      "\n",
      "started Lidar Scanning Thread\n"
     ]
    },
    {
     "name": "stderr",
     "output_type": "stream",
     "text": [
      "Too many measurments in the input buffer: 546/500. Clearing buffer...\n",
      "Too many measurments in the input buffer: 521/500. Clearing buffer...\n",
      "Too many measurments in the input buffer: 521/500. Clearing buffer...\n",
      "Too many measurments in the input buffer: 572/500. Clearing buffer...\n",
      "Too many measurments in the input buffer: 518/500. Clearing buffer...\n",
      "Too many measurments in the input buffer: 557/500. Clearing buffer...\n",
      "Too many measurments in the input buffer: 520/500. Clearing buffer...\n",
      "Too many measurments in the input buffer: 566/500. Clearing buffer...\n",
      "Too many measurments in the input buffer: 500/500. Clearing buffer...\n",
      "Too many measurments in the input buffer: 570/500. Clearing buffer...\n",
      "Too many measurments in the input buffer: 534/500. Clearing buffer...\n",
      "Too many measurments in the input buffer: 565/500. Clearing buffer...\n",
      "Too many measurments in the input buffer: 537/500. Clearing buffer...\n",
      "Too many measurments in the input buffer: 581/500. Clearing buffer...\n"
     ]
    },
    {
     "name": "stdout",
     "output_type": "stream",
     "text": [
      "called stop_path_finder_service\n",
      "\n",
      "Called stop_worldview_service\n",
      "Called stop_lidar_service\n",
      "waiting for obstacle thread to join\n",
      "waiting for lidar thread to join\n",
      "Stopping Lidar Service\n",
      "Starting Worldview Service\n",
      "Stopping Pathfinder Service\n",
      "Data sent successfullycalled stop_path_finder_service\n",
      "\n"
     ]
    },
    {
     "ename": "RuntimeError",
     "evalue": "cannot join thread before it is started",
     "output_type": "error",
     "traceback": [
      "\u001b[1;31m---------------------------------------------------------------------------\u001b[0m",
      "\u001b[1;31mRuntimeError\u001b[0m                              Traceback (most recent call last)",
      "Cell \u001b[1;32mIn[12], line 10\u001b[0m, in \u001b[0;36mstop_pathfinder\u001b[1;34m(*args)\u001b[0m\n\u001b[0;32m      9\u001b[0m \u001b[38;5;28;01mdef\u001b[39;00m \u001b[38;5;21mstop_pathfinder\u001b[39m(\u001b[38;5;241m*\u001b[39margs):\n\u001b[1;32m---> 10\u001b[0m     \u001b[43mpathfinder\u001b[49m\u001b[38;5;241;43m.\u001b[39;49m\u001b[43mstop_pathfinder_service\u001b[49m\u001b[43m(\u001b[49m\u001b[43m)\u001b[49m\n\u001b[0;32m     11\u001b[0m     importlib\u001b[38;5;241m.\u001b[39mreload(pathfinder)\n\u001b[0;32m     12\u001b[0m     stop_button\u001b[38;5;241m.\u001b[39mdisabled\u001b[38;5;241m=\u001b[39m\u001b[38;5;28;01mTrue\u001b[39;00m\n",
      "File \u001b[1;32md:\\Projects\\urc-intelligent-systems-2023\\unified_frameworks\\pathfinder.py:209\u001b[0m, in \u001b[0;36mstop_pathfinder_service\u001b[1;34m()\u001b[0m\n\u001b[0;32m    207\u001b[0m \u001b[38;5;28;01mif\u001b[39;00m config[\u001b[38;5;124m'\u001b[39m\u001b[38;5;124mverbose_service_events\u001b[39m\u001b[38;5;124m'\u001b[39m]:\n\u001b[0;32m    208\u001b[0m     \u001b[38;5;28mprint\u001b[39m(\u001b[38;5;124m\"\u001b[39m\u001b[38;5;124mcalled stop_path_finder_service\u001b[39m\u001b[38;5;124m\"\u001b[39m)\n\u001b[1;32m--> 209\u001b[0m \u001b[43m_service\u001b[49m\u001b[38;5;241;43m.\u001b[39;49m\u001b[43mstop_service\u001b[49m\u001b[43m(\u001b[49m\u001b[43m)\u001b[49m\n",
      "File \u001b[1;32md:\\Projects\\urc-intelligent-systems-2023\\unified_frameworks\\unified_utils.py:20\u001b[0m, in \u001b[0;36mService.stop_service\u001b[1;34m(self)\u001b[0m\n\u001b[0;32m     18\u001b[0m \u001b[38;5;28;01mdef\u001b[39;00m \u001b[38;5;21mstop_service\u001b[39m(\u001b[38;5;28mself\u001b[39m):\n\u001b[0;32m     19\u001b[0m     \u001b[38;5;28mself\u001b[39m\u001b[38;5;241m.\u001b[39m_running\u001b[38;5;241m=\u001b[39m\u001b[38;5;28;01mFalse\u001b[39;00m\n\u001b[1;32m---> 20\u001b[0m     \u001b[38;5;28;43mself\u001b[39;49m\u001b[38;5;241;43m.\u001b[39;49m\u001b[43m_thread\u001b[49m\u001b[38;5;241;43m.\u001b[39;49m\u001b[43mjoin\u001b[49m\u001b[43m(\u001b[49m\u001b[43m)\u001b[49m\n",
      "File \u001b[1;32md:\\Projects\\urc-intelligent-systems-2023\\env\\Lib\\threading.py:1114\u001b[0m, in \u001b[0;36mThread.join\u001b[1;34m(self, timeout)\u001b[0m\n\u001b[0;32m   1112\u001b[0m     \u001b[38;5;28;01mraise\u001b[39;00m \u001b[38;5;167;01mRuntimeError\u001b[39;00m(\u001b[38;5;124m\"\u001b[39m\u001b[38;5;124mThread.__init__() not called\u001b[39m\u001b[38;5;124m\"\u001b[39m)\n\u001b[0;32m   1113\u001b[0m \u001b[38;5;28;01mif\u001b[39;00m \u001b[38;5;129;01mnot\u001b[39;00m \u001b[38;5;28mself\u001b[39m\u001b[38;5;241m.\u001b[39m_started\u001b[38;5;241m.\u001b[39mis_set():\n\u001b[1;32m-> 1114\u001b[0m     \u001b[38;5;28;01mraise\u001b[39;00m \u001b[38;5;167;01mRuntimeError\u001b[39;00m(\u001b[38;5;124m\"\u001b[39m\u001b[38;5;124mcannot join thread before it is started\u001b[39m\u001b[38;5;124m\"\u001b[39m)\n\u001b[0;32m   1115\u001b[0m \u001b[38;5;28;01mif\u001b[39;00m \u001b[38;5;28mself\u001b[39m \u001b[38;5;129;01mis\u001b[39;00m current_thread():\n\u001b[0;32m   1116\u001b[0m     \u001b[38;5;28;01mraise\u001b[39;00m \u001b[38;5;167;01mRuntimeError\u001b[39;00m(\u001b[38;5;124m\"\u001b[39m\u001b[38;5;124mcannot join current thread\u001b[39m\u001b[38;5;124m\"\u001b[39m)\n",
      "\u001b[1;31mRuntimeError\u001b[0m: cannot join thread before it is started"
     ]
    },
    {
     "name": "stdout",
     "output_type": "stream",
     "text": [
      "Data sent successfully\n",
      "Data sent successfully\n",
      "Data sent successfully\n",
      "Data sent successfully\n",
      "Data sent successfully\n",
      "Data sent successfully\n",
      "Data sent successfully\n",
      "Data sent successfully\n",
      "Data sent successfully\n",
      "Data sent successfully\n",
      "Data sent successfully\n",
      "Data sent successfully\n",
      "Data sent successfully\n",
      "Data sent successfully\n",
      "Data sent successfully\n",
      "Data sent successfully\n",
      "Data sent successfully\n",
      "Data sent successfully\n",
      "Data sent successfully\n",
      "Data sent successfully\n",
      "Data sent successfully\n",
      "Data sent successfully\n",
      "Data sent successfully\n",
      "Data sent successfully\n",
      "Data sent successfully\n",
      "Data sent successfully\n",
      "Data sent successfully\n",
      "Data sent successfully\n",
      "Data sent successfully\n",
      "Data sent successfully\n",
      "Data sent successfully\n",
      "Data sent successfully\n",
      "Data sent successfully\n",
      "Data sent successfully\n",
      "Data sent successfully\n",
      "Data sent successfully\n",
      "Data sent successfully\n",
      "Data sent successfully\n",
      "Data sent successfully\n",
      "Data sent successfully\n",
      "Data sent successfully\n",
      "Data sent successfully\n",
      "Data sent successfully\n",
      "Data sent successfully\n",
      "Data sent successfully\n",
      "Data sent successfully\n",
      "Data sent successfully\n",
      "Data sent successfully\n",
      "Data sent successfully\n",
      "Data sent successfully\n",
      "Data sent successfully\n",
      "Data sent successfully\n",
      "Data sent successfully\n",
      "Data sent successfully\n",
      "Data sent successfully\n",
      "Data sent successfully\n",
      "Data sent successfully\n",
      "Data sent successfully\n",
      "Data sent successfully\n",
      "Done auto\n"
     ]
    }
   ],
   "source": [
    "from ipywidgets import Button, HBox, ToggleButton, TwoByTwoLayout, Layout\n",
    "# 3 buttons. Start service, stop service, show visualization\n",
    "make_layout = lambda: Layout(width=\"auto\", height=\"auto\")\n",
    "start_button = Button(description=\"Start Pathfinder\", disabled=pathfinder._service.is_running(), button_style='primary', layout=make_layout())\n",
    "stop_button = Button(description=\"Stop Pathfinder\", disabled=not pathfinder._service.is_running(), button_style='danger', layout=make_layout())\n",
    "show_button = Button(description=\"Show Visualization\", button_style='warning', layout=make_layout())\n",
    "\n",
    "gui = TwoByTwoLayout(\n",
    "    top_left=start_button,\n",
    "    bottom_right=stop_button,\n",
    "    # top_right=show_button\n",
    "    )"
   ]
  },
  {
   "cell_type": "code",
   "execution_count": 12,
   "metadata": {},
   "outputs": [],
   "source": [
    "def start_pathfinder(*args):\n",
    "    if pathfinder._service.is_running():\n",
    "        print(\"Service is already running\", file=sys.stderr)\n",
    "        return\n",
    "    pathfinder.start_pathfinder_service()\n",
    "    stop_button.disabled=False\n",
    "    start_button.disabled=True\n",
    "start_button.on_click(start_pathfinder)\n",
    "def stop_pathfinder(*args):\n",
    "    pathfinder.stop_pathfinder_service()\n",
    "    importlib.reload(pathfinder)\n",
    "    stop_button.disabled=True\n",
    "    start_button.disabled=False\n",
    "stop_button.on_click(stop_pathfinder)\n",
    "# def show_visual(*args):\n",
    "#     fig, update_func = pathfinder_visualizer.run_visualizer(pathfinder)\n",
    "#     anime = anim.FuncAnimation(fig, update_func, 1, interval=50, blit=True)\n",
    "#     plt.show()\n",
    "#     return anime\n",
    "# show_button.on_click(show_visual)"
   ]
  },
  {
   "cell_type": "code",
   "execution_count": 13,
   "metadata": {},
   "outputs": [
    {
     "data": {
      "application/vnd.jupyter.widget-view+json": {
       "model_id": "dfeb83c31a9a4cafb412727f0b29bf61",
       "version_major": 2,
       "version_minor": 0
      },
      "text/plain": [
       "TwoByTwoLayout(children=(Button(button_style='primary', description='Start Pathfinder', layout=Layout(grid_are…"
      ]
     },
     "execution_count": 13,
     "metadata": {},
     "output_type": "execute_result"
    }
   ],
   "source": [
    "gui"
   ]
  },
  {
   "cell_type": "code",
   "execution_count": 14,
   "metadata": {},
   "outputs": [
    {
     "data": {
      "text/plain": [
       "<matplotlib.animation.FuncAnimation at 0x1c6fbb0af90>"
      ]
     },
     "execution_count": 14,
     "metadata": {},
     "output_type": "execute_result"
    }
   ],
   "source": [
    "def func():\n",
    "    def on_hover_point(point_polar):\n",
    "        pathfinder.set_goal(point_polar) if not point_polar is None else None\n",
    "    fig, update_func = pathfinder_visualizer.run_visualizer(pathfinder, on_hover_point)\n",
    "    anime = anim.FuncAnimation(fig, update_func, 1, interval=50, blit=True)\n",
    "    plt.show()\n",
    "    return anime\n",
    "func()"
   ]
  },
  {
   "cell_type": "code",
   "execution_count": null,
   "metadata": {},
   "outputs": [
    {
     "name": "stderr",
     "output_type": "stream",
     "text": [
      "Too many measurments in the input buffer: 584/500. Clearing buffer...\n",
      "Too many measurments in the input buffer: 581/500. Clearing buffer...\n"
     ]
    },
    {
     "name": "stdout",
     "output_type": "stream",
     "text": [
      "Data sent successfully\n"
     ]
    },
    {
     "name": "stderr",
     "output_type": "stream",
     "text": [
      "Too many measurments in the input buffer: 518/500. Clearing buffer...\n"
     ]
    },
    {
     "name": "stdout",
     "output_type": "stream",
     "text": [
      "Data sent successfully\n",
      "Data sent successfully\n"
     ]
    },
    {
     "name": "stderr",
     "output_type": "stream",
     "text": [
      "Too many measurments in the input buffer: 525/500. Clearing buffer...\n"
     ]
    },
    {
     "name": "stdout",
     "output_type": "stream",
     "text": [
      "Data sent successfully\n",
      "Data sent successfully\n",
      "Data sent successfully\n",
      "Data sent successfully\n",
      "Data sent successfully\n",
      "Data sent successfully\n",
      "Data sent successfully\n",
      "Data sent successfully\n",
      "Data sent successfully\n",
      "Data sent successfully\n"
     ]
    },
    {
     "name": "stderr",
     "output_type": "stream",
     "text": [
      "Too many measurments in the input buffer: 523/500. Clearing buffer...\n",
      "Too many measurments in the input buffer: 530/500. Clearing buffer...\n",
      "Too many measurments in the input buffer: 521/500. Clearing buffer...\n"
     ]
    },
    {
     "name": "stdout",
     "output_type": "stream",
     "text": [
      "Data sent successfully\n",
      "Data sent successfully\n"
     ]
    },
    {
     "name": "stderr",
     "output_type": "stream",
     "text": [
      "Too many measurments in the input buffer: 574/500. Clearing buffer...\n",
      "Too many measurments in the input buffer: 529/500. Clearing buffer...\n"
     ]
    },
    {
     "name": "stdout",
     "output_type": "stream",
     "text": [
      "Data sent successfully\n",
      "Data sent successfully\n"
     ]
    },
    {
     "name": "stderr",
     "output_type": "stream",
     "text": [
      "Too many measurments in the input buffer: 527/500. Clearing buffer...\n",
      "Too many measurments in the input buffer: 527/500. Clearing buffer...\n",
      "Too many measurments in the input buffer: 571/500. Clearing buffer...\n"
     ]
    },
    {
     "name": "stdout",
     "output_type": "stream",
     "text": [
      "Data sent successfully\n",
      "Data sent successfully\n"
     ]
    },
    {
     "name": "stderr",
     "output_type": "stream",
     "text": [
      "Too many measurments in the input buffer: 567/500. Clearing buffer...\n"
     ]
    },
    {
     "name": "stdout",
     "output_type": "stream",
     "text": [
      "Data sent successfully\n",
      "Data sent successfully\n"
     ]
    },
    {
     "name": "stderr",
     "output_type": "stream",
     "text": [
      "Too many measurments in the input buffer: 503/500. Clearing buffer...\n"
     ]
    },
    {
     "name": "stdout",
     "output_type": "stream",
     "text": [
      "Data sent successfully\n",
      "Data sent successfully\n",
      "Data sent successfully\n",
      "Data sent successfully\n",
      "Data sent successfully\n"
     ]
    },
    {
     "name": "stderr",
     "output_type": "stream",
     "text": [
      "Too many measurments in the input buffer: 527/500. Clearing buffer...\n",
      "Too many measurments in the input buffer: 555/500. Clearing buffer...\n"
     ]
    },
    {
     "name": "stdout",
     "output_type": "stream",
     "text": [
      "Data sent successfully\n",
      "Data sent successfully\n"
     ]
    },
    {
     "name": "stderr",
     "output_type": "stream",
     "text": [
      "Too many measurments in the input buffer: 509/500. Clearing buffer...\n"
     ]
    },
    {
     "name": "stdout",
     "output_type": "stream",
     "text": [
      "Data sent successfully\n",
      "Data sent successfully\n"
     ]
    },
    {
     "name": "stderr",
     "output_type": "stream",
     "text": [
      "Too many measurments in the input buffer: 500/500. Clearing buffer...\n"
     ]
    },
    {
     "name": "stdout",
     "output_type": "stream",
     "text": [
      "Data sent successfully\n",
      "Data sent successfully\n"
     ]
    },
    {
     "name": "stderr",
     "output_type": "stream",
     "text": [
      "Too many measurments in the input buffer: 510/500. Clearing buffer...\n"
     ]
    },
    {
     "name": "stdout",
     "output_type": "stream",
     "text": [
      "Data sent successfully\n",
      "Data sent successfully\n",
      "Data sent successfully\n",
      "Data sent successfully\n"
     ]
    },
    {
     "name": "stderr",
     "output_type": "stream",
     "text": [
      "Too many measurments in the input buffer: 512/500. Clearing buffer...\n"
     ]
    },
    {
     "name": "stdout",
     "output_type": "stream",
     "text": [
      "Data sent successfully\n",
      "Data sent successfully\n",
      "Data sent successfully\n",
      "Data sent successfully\n"
     ]
    },
    {
     "name": "stderr",
     "output_type": "stream",
     "text": [
      "Too many measurments in the input buffer: 515/500. Clearing buffer...\n"
     ]
    },
    {
     "name": "stdout",
     "output_type": "stream",
     "text": [
      "Data sent successfully\n",
      "Data sent successfully\n"
     ]
    },
    {
     "name": "stderr",
     "output_type": "stream",
     "text": [
      "Too many measurments in the input buffer: 527/500. Clearing buffer...\n"
     ]
    },
    {
     "name": "stdout",
     "output_type": "stream",
     "text": [
      "Data sent successfully\n",
      "Data sent successfully\n",
      "Data sent successfully\n",
      "Data sent successfully\n"
     ]
    },
    {
     "name": "stderr",
     "output_type": "stream",
     "text": [
      "Too many measurments in the input buffer: 560/500. Clearing buffer...\n"
     ]
    },
    {
     "name": "stdout",
     "output_type": "stream",
     "text": [
      "Data sent successfully\n",
      "Data sent successfully\n"
     ]
    },
    {
     "name": "stderr",
     "output_type": "stream",
     "text": [
      "Too many measurments in the input buffer: 533/500. Clearing buffer...\n"
     ]
    },
    {
     "name": "stdout",
     "output_type": "stream",
     "text": [
      "Data sent successfully\n",
      "Data sent successfully\n",
      "Data sent successfully\n",
      "Data sent successfully\n",
      "Data sent successfully\n",
      "Data sent successfully\n",
      "Data sent successfully\n",
      "Done auto\n"
     ]
    },
    {
     "name": "stderr",
     "output_type": "stream",
     "text": [
      "Too many measurments in the input buffer: 520/500. Clearing buffer...\n",
      "Too many measurments in the input buffer: 509/500. Clearing buffer...\n",
      "Too many measurments in the input buffer: 557/500. Clearing buffer...\n",
      "Too many measurments in the input buffer: 534/500. Clearing buffer...\n",
      "Too many measurments in the input buffer: 503/500. Clearing buffer...\n",
      "Too many measurments in the input buffer: 509/500. Clearing buffer...\n",
      "Too many measurments in the input buffer: 522/500. Clearing buffer...\n",
      "Too many measurments in the input buffer: 537/500. Clearing buffer...\n",
      "Too many measurments in the input buffer: 537/500. Clearing buffer...\n",
      "Too many measurments in the input buffer: 540/500. Clearing buffer...\n",
      "Too many measurments in the input buffer: 556/500. Clearing buffer...\n"
     ]
    },
    {
     "name": "stdout",
     "output_type": "stream",
     "text": [
      "Data sent successfully\n",
      "Data sent successfully\n"
     ]
    },
    {
     "name": "stderr",
     "output_type": "stream",
     "text": [
      "Too many measurments in the input buffer: 538/500. Clearing buffer...\n",
      "Too many measurments in the input buffer: 558/500. Clearing buffer...\n"
     ]
    },
    {
     "name": "stdout",
     "output_type": "stream",
     "text": [
      "Data sent successfully\n",
      "Data sent successfully\n"
     ]
    },
    {
     "name": "stderr",
     "output_type": "stream",
     "text": [
      "Too many measurments in the input buffer: 518/500. Clearing buffer...\n"
     ]
    },
    {
     "name": "stdout",
     "output_type": "stream",
     "text": [
      "Data sent successfully\n",
      "Data sent successfully\n",
      "Data sent successfully\n",
      "Data sent successfully\n",
      "Data sent successfully\n",
      "Data sent successfully\n"
     ]
    },
    {
     "name": "stderr",
     "output_type": "stream",
     "text": [
      "Too many measurments in the input buffer: 635/500. Clearing buffer...\n"
     ]
    },
    {
     "name": "stdout",
     "output_type": "stream",
     "text": [
      "Data sent successfully\n",
      "Data sent successfully\n",
      "Data sent successfully\n",
      "Data sent successfully\n"
     ]
    },
    {
     "name": "stderr",
     "output_type": "stream",
     "text": [
      "Too many measurments in the input buffer: 547/500. Clearing buffer...\n",
      "Too many measurments in the input buffer: 518/500. Clearing buffer...\n"
     ]
    },
    {
     "name": "stdout",
     "output_type": "stream",
     "text": [
      "Data sent successfully\n",
      "Data sent successfully\n"
     ]
    },
    {
     "name": "stderr",
     "output_type": "stream",
     "text": [
      "Too many measurments in the input buffer: 500/500. Clearing buffer...\n"
     ]
    },
    {
     "name": "stdout",
     "output_type": "stream",
     "text": [
      "Data sent successfully\n",
      "Data sent successfully\n"
     ]
    },
    {
     "name": "stderr",
     "output_type": "stream",
     "text": [
      "Too many measurments in the input buffer: 500/500. Clearing buffer...\n",
      "Too many measurments in the input buffer: 540/500. Clearing buffer...\n"
     ]
    },
    {
     "name": "stdout",
     "output_type": "stream",
     "text": [
      "Data sent successfully\n",
      "Data sent successfully\n"
     ]
    },
    {
     "name": "stderr",
     "output_type": "stream",
     "text": [
      "Too many measurments in the input buffer: 571/500. Clearing buffer...\n",
      "Too many measurments in the input buffer: 561/500. Clearing buffer...\n"
     ]
    },
    {
     "name": "stdout",
     "output_type": "stream",
     "text": [
      "Data sent successfully\n",
      "Data sent successfully\n"
     ]
    },
    {
     "name": "stderr",
     "output_type": "stream",
     "text": [
      "Too many measurments in the input buffer: 510/500. Clearing buffer...\n"
     ]
    },
    {
     "name": "stdout",
     "output_type": "stream",
     "text": [
      "Data sent successfully\n",
      "Data sent successfully\n"
     ]
    },
    {
     "name": "stderr",
     "output_type": "stream",
     "text": [
      "Too many measurments in the input buffer: 541/500. Clearing buffer...\n",
      "Too many measurments in the input buffer: 529/500. Clearing buffer...\n"
     ]
    },
    {
     "name": "stdout",
     "output_type": "stream",
     "text": [
      "Data sent successfully\n",
      "Data sent successfully\n"
     ]
    },
    {
     "name": "stderr",
     "output_type": "stream",
     "text": [
      "Too many measurments in the input buffer: 570/500. Clearing buffer...\n",
      "Too many measurments in the input buffer: 512/500. Clearing buffer...\n"
     ]
    },
    {
     "name": "stdout",
     "output_type": "stream",
     "text": [
      "Data sent successfully\n",
      "Data sent successfully\n",
      "Data sent successfully\n",
      "Data sent successfully\n",
      "Data sent successfully\n",
      "Data sent successfully\n",
      "Data sent successfully\n",
      "Data sent successfully\n"
     ]
    },
    {
     "name": "stderr",
     "output_type": "stream",
     "text": [
      "Too many measurments in the input buffer: 529/500. Clearing buffer...\n"
     ]
    },
    {
     "name": "stdout",
     "output_type": "stream",
     "text": [
      "Data sent successfully\n",
      "Data sent successfully\n",
      "Data sent successfully\n",
      "Data sent successfully\n"
     ]
    },
    {
     "name": "stderr",
     "output_type": "stream",
     "text": [
      "Too many measurments in the input buffer: 512/500. Clearing buffer...\n"
     ]
    },
    {
     "name": "stdout",
     "output_type": "stream",
     "text": [
      "Data sent successfully\n",
      "Data sent successfully\n"
     ]
    },
    {
     "name": "stderr",
     "output_type": "stream",
     "text": [
      "Too many measurments in the input buffer: 527/500. Clearing buffer...\n"
     ]
    },
    {
     "name": "stdout",
     "output_type": "stream",
     "text": [
      "Data sent successfully\n",
      "Data sent successfully\n"
     ]
    },
    {
     "name": "stderr",
     "output_type": "stream",
     "text": [
      "Too many measurments in the input buffer: 531/500. Clearing buffer...\n",
      "Too many measurments in the input buffer: 510/500. Clearing buffer...\n"
     ]
    },
    {
     "name": "stdout",
     "output_type": "stream",
     "text": [
      "Data sent successfully\n",
      "Data sent successfully\n"
     ]
    },
    {
     "name": "stderr",
     "output_type": "stream",
     "text": [
      "Too many measurments in the input buffer: 510/500. Clearing buffer...\n"
     ]
    },
    {
     "name": "stdout",
     "output_type": "stream",
     "text": [
      "Data sent successfully\n",
      "Data sent successfully\n"
     ]
    },
    {
     "name": "stderr",
     "output_type": "stream",
     "text": [
      "Too many measurments in the input buffer: 528/500. Clearing buffer...\n"
     ]
    },
    {
     "name": "stdout",
     "output_type": "stream",
     "text": [
      "Data sent successfully\n",
      "Data sent successfully\n"
     ]
    },
    {
     "name": "stderr",
     "output_type": "stream",
     "text": [
      "Too many measurments in the input buffer: 506/500. Clearing buffer...\n"
     ]
    },
    {
     "name": "stdout",
     "output_type": "stream",
     "text": [
      "Data sent successfully\n",
      "Data sent successfully\n"
     ]
    },
    {
     "name": "stderr",
     "output_type": "stream",
     "text": [
      "Too many measurments in the input buffer: 515/500. Clearing buffer...\n"
     ]
    },
    {
     "name": "stdout",
     "output_type": "stream",
     "text": [
      "Data sent successfully\n",
      "Data sent successfully\n",
      "Data sent successfully\n",
      "Data sent successfully\n"
     ]
    },
    {
     "name": "stderr",
     "output_type": "stream",
     "text": [
      "Too many measurments in the input buffer: 536/500. Clearing buffer...\n"
     ]
    },
    {
     "name": "stdout",
     "output_type": "stream",
     "text": [
      "Data sent successfully\n",
      "Data sent successfully\n"
     ]
    },
    {
     "name": "stderr",
     "output_type": "stream",
     "text": [
      "Too many measurments in the input buffer: 523/500. Clearing buffer...\n",
      "Too many measurments in the input buffer: 506/500. Clearing buffer...\n"
     ]
    },
    {
     "name": "stdout",
     "output_type": "stream",
     "text": [
      "Data sent successfully\n",
      "Data sent successfully\n"
     ]
    },
    {
     "name": "stderr",
     "output_type": "stream",
     "text": [
      "Too many measurments in the input buffer: 503/500. Clearing buffer...\n",
      "Too many measurments in the input buffer: 500/500. Clearing buffer...\n"
     ]
    },
    {
     "name": "stdout",
     "output_type": "stream",
     "text": [
      "Data sent successfully\n",
      "Data sent successfully\n"
     ]
    },
    {
     "name": "stderr",
     "output_type": "stream",
     "text": [
      "Too many measurments in the input buffer: 541/500. Clearing buffer...\n"
     ]
    },
    {
     "name": "stdout",
     "output_type": "stream",
     "text": [
      "Data sent successfully\n",
      "Data sent successfully\n"
     ]
    },
    {
     "name": "stderr",
     "output_type": "stream",
     "text": [
      "Too many measurments in the input buffer: 543/500. Clearing buffer...\n",
      "Too many measurments in the input buffer: 502/500. Clearing buffer...\n",
      "Too many measurments in the input buffer: 508/500. Clearing buffer...\n"
     ]
    },
    {
     "name": "stdout",
     "output_type": "stream",
     "text": [
      "Data sent successfully\n",
      "Data sent successfully\n",
      "Data sent successfully\n",
      "Data sent successfully\n"
     ]
    },
    {
     "name": "stderr",
     "output_type": "stream",
     "text": [
      "Too many measurments in the input buffer: 548/500. Clearing buffer...\n"
     ]
    },
    {
     "name": "stdout",
     "output_type": "stream",
     "text": [
      "Data sent successfully\n",
      "Data sent successfully\n",
      "Data sent successfully\n",
      "Data sent successfully\n"
     ]
    },
    {
     "name": "stderr",
     "output_type": "stream",
     "text": [
      "Too many measurments in the input buffer: 586/500. Clearing buffer...\n",
      "Too many measurments in the input buffer: 534/500. Clearing buffer...\n"
     ]
    },
    {
     "name": "stdout",
     "output_type": "stream",
     "text": [
      "Data sent successfully\n",
      "Data sent successfully\n",
      "Data sent successfully\n",
      "Data sent successfully\n"
     ]
    },
    {
     "name": "stderr",
     "output_type": "stream",
     "text": [
      "Too many measurments in the input buffer: 503/500. Clearing buffer...\n"
     ]
    },
    {
     "name": "stdout",
     "output_type": "stream",
     "text": [
      "Data sent successfully\n",
      "Data sent successfully\n",
      "Data sent successfully\n",
      "Data sent successfully\n"
     ]
    },
    {
     "name": "stderr",
     "output_type": "stream",
     "text": [
      "Too many measurments in the input buffer: 512/500. Clearing buffer...\n"
     ]
    },
    {
     "name": "stdout",
     "output_type": "stream",
     "text": [
      "Data sent successfully\n",
      "Data sent successfully\n"
     ]
    },
    {
     "name": "stderr",
     "output_type": "stream",
     "text": [
      "Too many measurments in the input buffer: 510/500. Clearing buffer...\n"
     ]
    },
    {
     "name": "stdout",
     "output_type": "stream",
     "text": [
      "Data sent successfully\n",
      "Data sent successfully\n",
      "Data sent successfully\n",
      "Data sent successfully\n"
     ]
    },
    {
     "name": "stderr",
     "output_type": "stream",
     "text": [
      "Too many measurments in the input buffer: 509/500. Clearing buffer...\n",
      "Too many measurments in the input buffer: 590/500. Clearing buffer...\n"
     ]
    },
    {
     "name": "stdout",
     "output_type": "stream",
     "text": [
      "Data sent successfully\n",
      "Data sent successfully\n"
     ]
    },
    {
     "name": "stderr",
     "output_type": "stream",
     "text": [
      "Too many measurments in the input buffer: 516/500. Clearing buffer...\n"
     ]
    },
    {
     "name": "stdout",
     "output_type": "stream",
     "text": [
      "Data sent successfully\n",
      "Data sent successfully\n"
     ]
    },
    {
     "name": "stderr",
     "output_type": "stream",
     "text": [
      "Too many measurments in the input buffer: 540/500. Clearing buffer...\n"
     ]
    },
    {
     "name": "stdout",
     "output_type": "stream",
     "text": [
      "Data sent successfully\n",
      "Data sent successfully\n"
     ]
    },
    {
     "name": "stderr",
     "output_type": "stream",
     "text": [
      "Too many measurments in the input buffer: 509/500. Clearing buffer...\n",
      "Too many measurments in the input buffer: 508/500. Clearing buffer...\n"
     ]
    },
    {
     "name": "stdout",
     "output_type": "stream",
     "text": [
      "Data sent successfully\n",
      "Data sent successfully\n",
      "Data sent successfully\n",
      "Data sent successfully\n",
      "Data sent successfully\n",
      "Data sent successfully\n"
     ]
    },
    {
     "name": "stderr",
     "output_type": "stream",
     "text": [
      "Too many measurments in the input buffer: 503/500. Clearing buffer...\n"
     ]
    },
    {
     "name": "stdout",
     "output_type": "stream",
     "text": [
      "Data sent successfully\n",
      "Data sent successfully\n"
     ]
    },
    {
     "name": "stderr",
     "output_type": "stream",
     "text": [
      "Too many measurments in the input buffer: 540/500. Clearing buffer...\n"
     ]
    },
    {
     "name": "stdout",
     "output_type": "stream",
     "text": [
      "Data sent successfully\n",
      "Data sent successfully\n"
     ]
    },
    {
     "name": "stderr",
     "output_type": "stream",
     "text": [
      "Too many measurments in the input buffer: 513/500. Clearing buffer...\n",
      "Too many measurments in the input buffer: 559/500. Clearing buffer...\n"
     ]
    },
    {
     "name": "stdout",
     "output_type": "stream",
     "text": [
      "Data sent successfully\n",
      "Data sent successfully\n"
     ]
    },
    {
     "name": "stderr",
     "output_type": "stream",
     "text": [
      "Too many measurments in the input buffer: 501/500. Clearing buffer...\n"
     ]
    },
    {
     "name": "stdout",
     "output_type": "stream",
     "text": [
      "Data sent successfully\n",
      "Data sent successfully\n",
      "Data sent successfully\n",
      "Data sent successfully\n"
     ]
    },
    {
     "name": "stderr",
     "output_type": "stream",
     "text": [
      "Too many measurments in the input buffer: 527/500. Clearing buffer...\n"
     ]
    },
    {
     "name": "stdout",
     "output_type": "stream",
     "text": [
      "Data sent successfully\n",
      "Data sent successfully\n",
      "Data sent successfully\n",
      "Data sent successfully\n"
     ]
    },
    {
     "name": "stderr",
     "output_type": "stream",
     "text": [
      "Too many measurments in the input buffer: 509/500. Clearing buffer...\n"
     ]
    },
    {
     "name": "stdout",
     "output_type": "stream",
     "text": [
      "Data sent successfully\n",
      "Data sent successfully\n",
      "Data sent successfully\n",
      "Data sent successfully\n"
     ]
    },
    {
     "name": "stderr",
     "output_type": "stream",
     "text": [
      "Too many measurments in the input buffer: 520/500. Clearing buffer...\n"
     ]
    },
    {
     "name": "stdout",
     "output_type": "stream",
     "text": [
      "Data sent successfully\n",
      "Data sent successfully\n",
      "Data sent successfully\n",
      "Data sent successfully\n",
      "Data sent successfully\n",
      "Data sent successfully\n"
     ]
    },
    {
     "name": "stderr",
     "output_type": "stream",
     "text": [
      "Too many measurments in the input buffer: 513/500. Clearing buffer...\n"
     ]
    },
    {
     "name": "stdout",
     "output_type": "stream",
     "text": [
      "Data sent successfully\n",
      "Data sent successfully\n",
      "Data sent successfully\n",
      "Data sent successfully\n",
      "Data sent successfully\n",
      "Data sent successfully\n"
     ]
    },
    {
     "name": "stderr",
     "output_type": "stream",
     "text": [
      "Too many measurments in the input buffer: 505/500. Clearing buffer...\n"
     ]
    },
    {
     "name": "stdout",
     "output_type": "stream",
     "text": [
      "Data sent successfully\n",
      "Data sent successfully\n",
      "Data sent successfully\n",
      "Data sent successfully\n",
      "Data sent successfully\n",
      "Data sent successfully\n",
      "Data sent successfully\n",
      "Data sent successfully\n",
      "Data sent successfully\n",
      "Data sent successfully\n",
      "Data sent successfully\n",
      "Data sent successfully\n"
     ]
    },
    {
     "name": "stderr",
     "output_type": "stream",
     "text": [
      "Too many measurments in the input buffer: 513/500. Clearing buffer...\n"
     ]
    },
    {
     "name": "stdout",
     "output_type": "stream",
     "text": [
      "Data sent successfully\n",
      "Data sent successfully\n"
     ]
    },
    {
     "name": "stderr",
     "output_type": "stream",
     "text": [
      "Too many measurments in the input buffer: 552/500. Clearing buffer...\n"
     ]
    },
    {
     "name": "stdout",
     "output_type": "stream",
     "text": [
      "Data sent successfully\n",
      "Data sent successfully\n"
     ]
    },
    {
     "name": "stderr",
     "output_type": "stream",
     "text": [
      "Too many measurments in the input buffer: 579/500. Clearing buffer...\n"
     ]
    },
    {
     "name": "stdout",
     "output_type": "stream",
     "text": [
      "Data sent successfully\n",
      "Data sent successfully\n"
     ]
    },
    {
     "name": "stderr",
     "output_type": "stream",
     "text": [
      "Too many measurments in the input buffer: 510/500. Clearing buffer...\n"
     ]
    },
    {
     "name": "stdout",
     "output_type": "stream",
     "text": [
      "Data sent successfully\n",
      "Data sent successfully\n"
     ]
    },
    {
     "name": "stderr",
     "output_type": "stream",
     "text": [
      "Too many measurments in the input buffer: 552/500. Clearing buffer...\n",
      "Too many measurments in the input buffer: 508/500. Clearing buffer...\n"
     ]
    },
    {
     "name": "stdout",
     "output_type": "stream",
     "text": [
      "Data sent successfully\n",
      "Data sent successfully\n",
      "Data sent successfully\n",
      "Data sent successfully\n",
      "Data sent successfully\n",
      "Done auto\n"
     ]
    },
    {
     "name": "stderr",
     "output_type": "stream",
     "text": [
      "Too many measurments in the input buffer: 507/500. Clearing buffer...\n",
      "Too many measurments in the input buffer: 531/500. Clearing buffer...\n",
      "Too many measurments in the input buffer: 529/500. Clearing buffer...\n",
      "Too many measurments in the input buffer: 525/500. Clearing buffer...\n"
     ]
    }
   ],
   "source": [
    "from ipywidgets import IntSlider\n",
    "speed = 10\n",
    "s = IntSlider(value=speed, min=0, max=25)"
   ]
  },
  {
   "cell_type": "code",
   "execution_count": 16,
   "metadata": {},
   "outputs": [
    {
     "data": {
      "text/plain": [
       "10"
      ]
     },
     "execution_count": 16,
     "metadata": {},
     "output_type": "execute_result"
    }
   ],
   "source": [
    "s.value"
   ]
  },
  {
   "cell_type": "code",
   "execution_count": 17,
   "metadata": {},
   "outputs": [
    {
     "data": {
      "application/vnd.jupyter.widget-view+json": {
       "model_id": "b5844ccf2a834eb7a64e422ed41c652b",
       "version_major": 2,
       "version_minor": 0
      },
      "text/plain": [
       "IntSlider(value=10, max=25)"
      ]
     },
     "execution_count": 17,
     "metadata": {},
     "output_type": "execute_result"
    }
   ],
   "source": [
    "s"
   ]
  },
  {
   "cell_type": "code",
   "execution_count": 18,
   "metadata": {},
   "outputs": [
    {
     "name": "stderr",
     "output_type": "stream",
     "text": [
      "Too many measurments in the input buffer: 527/500. Clearing buffer...\n",
      "Too many measurments in the input buffer: 540/500. Clearing buffer...\n"
     ]
    }
   ],
   "source": [
    "from math import pi\n",
    "import time\n",
    "rover = WiFi(\"http://192.168.0.211:5000\")\n",
    "speed = 10\n",
    "def captain_act():\n",
    "    path = pathfinder.get_path()\n",
    "    if len(path) < 2:\n",
    "        return\n",
    "    nxt = path[1]\n",
    "    radians = (nxt[0]%(2*pi))-pi/2\n",
    "    radians*=-1\n",
    "    degrees = int(radians/(2*pi)*360)\n",
    "    mode = Modes.DRIVE if abs(degrees) < 12 else Modes.SPIN\n",
    "    speed = s.value\n",
    "    if mode == Modes.SPIN:\n",
    "        speed *= (-1 if degrees < 0 else 1)\n",
    "    # print(mode, speed)\n",
    "    rover.write_data(make_command(mode, speed_percent=speed, angle_degrees=degrees))\n"
   ]
  },
  {
   "cell_type": "code",
   "execution_count": 22,
   "metadata": {},
   "outputs": [
    {
     "name": "stderr",
     "output_type": "stream",
     "text": [
      "Too many measurments in the input buffer: 532/500. Clearing buffer...\n"
     ]
    }
   ],
   "source": [
    "from threading import Thread"
   ]
  },
  {
   "cell_type": "code",
   "execution_count": 32,
   "metadata": {},
   "outputs": [
    {
     "name": "stdout",
     "output_type": "stream",
     "text": [
      "Data received: {'dt': '0.002533', 'current_wheel_speed': '4.97', 'current_steering_angle': '-4.98', 'current_wheel_heading': '0.00', 'delta_wheel_speed': '-50.00', 'delta_steering_angle': '40.00', 'delta_wheel_heading': '0.00', 'fl_steering_angle': '15424.0312', 'fl_steering_speed': '26.0000', 'fl_steering_current': '2.2400', 'fl_propulsion_angle': '8529.1748', 'fl_propulsion_speed': '-67.1667', 'fl_propulsion_current': '-1.0100', 'fl_requested_steering_angle': '-2.70', 'fl_requested_propulsion_speed': '0.05', 'fr_steering_angle': '-17418.6895', 'fr_steering_speed': '19.6667', 'fr_steering_current': '0.9900', 'fr_propulsion_angle': '5994.1284', 'fr_propulsion_speed': '60.3333', 'fr_propulsion_current': '0.1100', 'fr_requested_steering_angle': '-2.32', 'fr_requested_propulsion_speed': '0.05', 'b_steering_angle': '12453.2764', 'b_steering_speed': '-56.1667', 'b_steering_current': '-0.2400', 'b_propulsion_angle': '3008.4404', 'b_propulsion_speed': '50.6667', 'b_propulsion_current': '1.7900', 'b_requested_steering_angle': '4.98', 'b_requested_propulsion_speed': '0.05'}\n"
     ]
    },
    {
     "data": {
      "text/plain": [
       "{'dt': '0.002533',\n",
       " 'current_wheel_speed': '4.97',\n",
       " 'current_steering_angle': '-4.98',\n",
       " 'current_wheel_heading': '0.00',\n",
       " 'delta_wheel_speed': '-50.00',\n",
       " 'delta_steering_angle': '40.00',\n",
       " 'delta_wheel_heading': '0.00',\n",
       " 'fl_steering_angle': '15424.0312',\n",
       " 'fl_steering_speed': '26.0000',\n",
       " 'fl_steering_current': '2.2400',\n",
       " 'fl_propulsion_angle': '8529.1748',\n",
       " 'fl_propulsion_speed': '-67.1667',\n",
       " 'fl_propulsion_current': '-1.0100',\n",
       " 'fl_requested_steering_angle': '-2.70',\n",
       " 'fl_requested_propulsion_speed': '0.05',\n",
       " 'fr_steering_angle': '-17418.6895',\n",
       " 'fr_steering_speed': '19.6667',\n",
       " 'fr_steering_current': '0.9900',\n",
       " 'fr_propulsion_angle': '5994.1284',\n",
       " 'fr_propulsion_speed': '60.3333',\n",
       " 'fr_propulsion_current': '0.1100',\n",
       " 'fr_requested_steering_angle': '-2.32',\n",
       " 'fr_requested_propulsion_speed': '0.05',\n",
       " 'b_steering_angle': '12453.2764',\n",
       " 'b_steering_speed': '-56.1667',\n",
       " 'b_steering_current': '-0.2400',\n",
       " 'b_propulsion_angle': '3008.4404',\n",
       " 'b_propulsion_speed': '50.6667',\n",
       " 'b_propulsion_current': '1.7900',\n",
       " 'b_requested_steering_angle': '4.98',\n",
       " 'b_requested_propulsion_speed': '0.05'}"
      ]
     },
     "execution_count": 32,
     "metadata": {},
     "output_type": "execute_result"
    },
    {
     "name": "stdout",
     "output_type": "stream",
     "text": [
      "Data sent successfully\n",
      "Data sent successfully\n",
      "Data sent successfully\n",
      "Data sent successfully\n",
      "Data sent successfully\n",
      "Data sent successfully\n",
      "Data sent successfully\n",
      "Data sent successfully\n",
      "Data sent successfully\n",
      "Data sent successfully\n"
     ]
    },
    {
     "name": "stderr",
     "output_type": "stream",
     "text": [
      "Too many measurments in the input buffer: 536/500. Clearing buffer...\n"
     ]
    },
    {
     "name": "stdout",
     "output_type": "stream",
     "text": [
      "Data sent successfully\n",
      "Data sent successfully\n",
      "Data sent successfully\n",
      "Data sent successfully\n",
      "Data sent successfully\n",
      "Data sent successfully\n",
      "Data sent successfully\n",
      "Data sent successfully\n",
      "Data sent successfully\n",
      "Data sent successfully\n",
      "Data sent successfully\n",
      "Data sent successfully\n",
      "Data sent successfully\n",
      "Data sent successfully\n",
      "Data sent successfully\n",
      "Data sent successfully\n",
      "Data sent successfully\n",
      "Data sent successfully\n",
      "Data sent successfully\n",
      "Data sent successfully\n",
      "Data sent successfully\n",
      "Data sent successfully\n",
      "Data sent successfully\n",
      "Data sent successfully\n",
      "Data sent successfully\n",
      "Data sent successfully\n",
      "Data sent successfully\n",
      "Data sent successfully\n",
      "Data sent successfully\n",
      "Data sent successfully\n"
     ]
    }
   ],
   "source": [
    "rover.read_data()"
   ]
  },
  {
   "cell_type": "code",
   "execution_count": 25,
   "metadata": {},
   "outputs": [
    {
     "name": "stdout",
     "output_type": "stream",
     "text": [
      "Data sent successfully\n"
     ]
    },
    {
     "name": "stderr",
     "output_type": "stream",
     "text": [
      "Too many measurments in the input buffer: 528/500. Clearing buffer...\n",
      "Too many measurments in the input buffer: 520/500. Clearing buffer...\n",
      "Too many measurments in the input buffer: 541/500. Clearing buffer...\n",
      "Too many measurments in the input buffer: 574/500. Clearing buffer...\n",
      "Too many measurments in the input buffer: 527/500. Clearing buffer...\n",
      "Too many measurments in the input buffer: 509/500. Clearing buffer...\n"
     ]
    }
   ],
   "source": [
    "rover.write_data(make_command(Modes.SPIN))"
   ]
  },
  {
   "cell_type": "code",
   "execution_count": 29,
   "metadata": {},
   "outputs": [
    {
     "name": "stderr",
     "output_type": "stream",
     "text": [
      "Too many measurments in the input buffer: 558/500. Clearing buffer...\n"
     ]
    },
    {
     "name": "stderr",
     "output_type": "stream",
     "text": [
      "Too many measurments in the input buffer: 554/500. Clearing buffer...\n",
      "Too many measurments in the input buffer: 593/500. Clearing buffer...\n",
      "Too many measurments in the input buffer: 543/500. Clearing buffer...\n",
      "Too many measurments in the input buffer: 500/500. Clearing buffer...\n"
     ]
    }
   ],
   "source": [
    "stop = False"
   ]
  },
  {
   "cell_type": "code",
   "execution_count": 31,
   "metadata": {},
   "outputs": [
    {
     "name": "stdout",
     "output_type": "stream",
     "text": [
      "Staring auto\n"
     ]
    },
    {
     "name": "stdout",
     "output_type": "stream",
     "text": [
      "Data sent successfully\n",
      "Data sent successfully\n",
      "Data sent successfully\n"
     ]
    },
    {
     "name": "stderr",
     "output_type": "stream",
     "text": [
      "Too many measurments in the input buffer: 509/500. Clearing buffer...\n"
     ]
    },
    {
     "name": "stdout",
     "output_type": "stream",
     "text": [
      "Data sent successfully\n",
      "Data sent successfully\n"
     ]
    },
    {
     "name": "stderr",
     "output_type": "stream",
     "text": [
      "Too many measurments in the input buffer: 522/500. Clearing buffer...\n"
     ]
    },
    {
     "name": "stdout",
     "output_type": "stream",
     "text": [
      "Data sent successfully\n",
      "Data sent successfully\n",
      "Data sent successfully\n",
      "Data sent successfully\n",
      "Data sent successfully\n",
      "Data sent successfully\n"
     ]
    },
    {
     "name": "stderr",
     "output_type": "stream",
     "text": [
      "Too many measurments in the input buffer: 510/500. Clearing buffer...\n"
     ]
    },
    {
     "name": "stdout",
     "output_type": "stream",
     "text": [
      "Data sent successfully\n",
      "Data sent successfully\n",
      "Data sent successfully\n",
      "Data sent successfully\n"
     ]
    },
    {
     "name": "stderr",
     "output_type": "stream",
     "text": [
      "Too many measurments in the input buffer: 525/500. Clearing buffer...\n"
     ]
    },
    {
     "name": "stdout",
     "output_type": "stream",
     "text": [
      "Data sent successfully\n",
      "Data sent successfully\n",
      "Data sent successfully\n",
      "Data sent successfully\n",
      "Data sent successfully\n",
      "Data sent successfully\n"
     ]
    },
    {
     "name": "stderr",
     "output_type": "stream",
     "text": [
      "Too many measurments in the input buffer: 514/500. Clearing buffer...\n"
     ]
    },
    {
     "name": "stdout",
     "output_type": "stream",
     "text": [
      "Data sent successfully\n",
      "Data sent successfully\n",
      "Data sent successfully\n",
      "Data sent successfully\n"
     ]
    },
    {
     "name": "stderr",
     "output_type": "stream",
     "text": [
      "Too many measurments in the input buffer: 507/500. Clearing buffer...\n"
     ]
    },
    {
     "name": "stdout",
     "output_type": "stream",
     "text": [
      "Data sent successfully\n",
      "Data sent successfully\n"
     ]
    },
    {
     "name": "stderr",
     "output_type": "stream",
     "text": [
      "Too many measurments in the input buffer: 535/500. Clearing buffer...\n"
     ]
    },
    {
     "name": "stdout",
     "output_type": "stream",
     "text": [
      "Data sent successfully\n",
      "Data sent successfully\n",
      "Data sent successfully\n"
     ]
    },
    {
     "name": "stderr",
     "output_type": "stream",
     "text": [
      "Too many measurments in the input buffer: 529/500. Clearing buffer...\n"
     ]
    },
    {
     "name": "stdout",
     "output_type": "stream",
     "text": [
      "Data sent successfully\n",
      "Data sent successfully\n",
      "Data sent successfully\n",
      "Data sent successfully\n"
     ]
    }
   ],
   "source": [
    "def f():\n",
    "    global stop\n",
    "    print(\"Staring auto\")\n",
    "    for i in (list(range(100))):\n",
    "        if stop: break\n",
    "        captain_act()\n",
    "        time.sleep(1)\n",
    "        rover.write_data(make_command(speed_percent=0))\n",
    "    print(\"Done auto\")\n",
    "t = Thread(target=f)\n",
    "t.start()"
   ]
  },
  {
   "cell_type": "code",
   "execution_count": 24,
   "metadata": {},
   "outputs": [
    {
     "name": "stdout",
     "output_type": "stream",
     "text": [
      "Data sent successfully\n"
     ]
    }
   ],
   "source": [
    "rover.write_data(make_command(Modes.DRIVE,speed_percent=0))"
   ]
  },
  {
   "cell_type": "code",
   "execution_count": 21,
   "metadata": {},
   "outputs": [
    {
     "name": "stdout",
     "output_type": "stream",
     "text": [
      "Data received: {'dt': '0.001997', 'current_wheel_speed': '0.00', 'current_steering_angle': '0.00', 'current_wheel_heading': '0.00', 'delta_wheel_speed': '0.00', 'delta_steering_angle': '0.00', 'delta_wheel_heading': '0.00', 'fl_steering_angle': '-2301.7122', 'fl_steering_speed': '0.0000', 'fl_steering_current': '-0.1900', 'fl_propulsion_angle': '-1695.4130', 'fl_propulsion_speed': '0.0000', 'fl_propulsion_current': '0.1600', 'fl_requested_steering_angle': '0.00', 'fl_requested_propulsion_speed': '0.00', 'fr_steering_angle': '-15513.1025', 'fr_steering_speed': '0.0000', 'fr_steering_current': '-0.0500', 'fr_propulsion_angle': '19233.7617', 'fr_propulsion_speed': '0.0000', 'fr_propulsion_current': '0.5000', 'fr_requested_steering_angle': '0.00', 'fr_requested_propulsion_speed': '0.00', 'b_steering_angle': '5905.2856', 'b_steering_speed': '0.0000', 'b_steering_current': '-0.1500', 'b_propulsion_angle': '1922.2019', 'b_propulsion_speed': '0.0000', 'b_propulsion_current': '-0.6300', 'b_requested_steering_angle': '0.00', 'b_requested_propulsion_speed': '0.00'}\n"
     ]
    },
    {
     "data": {
      "text/plain": [
       "{'dt': '0.001997',\n",
       " 'current_wheel_speed': '0.00',\n",
       " 'current_steering_angle': '0.00',\n",
       " 'current_wheel_heading': '0.00',\n",
       " 'delta_wheel_speed': '0.00',\n",
       " 'delta_steering_angle': '0.00',\n",
       " 'delta_wheel_heading': '0.00',\n",
       " 'fl_steering_angle': '-2301.7122',\n",
       " 'fl_steering_speed': '0.0000',\n",
       " 'fl_steering_current': '-0.1900',\n",
       " 'fl_propulsion_angle': '-1695.4130',\n",
       " 'fl_propulsion_speed': '0.0000',\n",
       " 'fl_propulsion_current': '0.1600',\n",
       " 'fl_requested_steering_angle': '0.00',\n",
       " 'fl_requested_propulsion_speed': '0.00',\n",
       " 'fr_steering_angle': '-15513.1025',\n",
       " 'fr_steering_speed': '0.0000',\n",
       " 'fr_steering_current': '-0.0500',\n",
       " 'fr_propulsion_angle': '19233.7617',\n",
       " 'fr_propulsion_speed': '0.0000',\n",
       " 'fr_propulsion_current': '0.5000',\n",
       " 'fr_requested_steering_angle': '0.00',\n",
       " 'fr_requested_propulsion_speed': '0.00',\n",
       " 'b_steering_angle': '5905.2856',\n",
       " 'b_steering_speed': '0.0000',\n",
       " 'b_steering_current': '-0.1500',\n",
       " 'b_propulsion_angle': '1922.2019',\n",
       " 'b_propulsion_speed': '0.0000',\n",
       " 'b_propulsion_current': '-0.6300',\n",
       " 'b_requested_steering_angle': '0.00',\n",
       " 'b_requested_propulsion_speed': '0.00'}"
      ]
     },
     "execution_count": 21,
     "metadata": {},
     "output_type": "execute_result"
    }
   ],
   "source": [
    "rover.read_data()"
   ]
  }
 ],
 "metadata": {
  "kernelspec": {
   "display_name": "Python 3",
   "language": "python",
   "name": "python3"
  },
  "language_info": {
   "codemirror_mode": {
    "name": "ipython",
    "version": 3
   },
   "file_extension": ".py",
   "mimetype": "text/x-python",
   "name": "python",
   "nbconvert_exporter": "python",
   "pygments_lexer": "ipython3",
   "version": "3.11.7"
  }
 },
 "nbformat": 4,
 "nbformat_minor": 2
}
