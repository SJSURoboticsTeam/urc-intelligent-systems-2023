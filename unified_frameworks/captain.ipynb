{
 "cells": [
  {
   "cell_type": "code",
   "execution_count": 1,
   "metadata": {},
   "outputs": [],
   "source": [
    "# import matplotlib\n",
    "# matplotlib.use(\"qtagg\")\n",
    "%matplotlib WebAgg\n",
    "import os\n",
    "root = os.path.realpath(os.getcwd()+ os.sep+\"..\")\n",
    "import sys\n",
    "sys.path.append(root)\n",
    "from modules.WiFi import WiFi, Modes, make_command\n",
    "import pathfinder, pathfinder_visualizer\n",
    "import importlib\n",
    "import matplotlib.pyplot as plt\n",
    "import matplotlib.animation as anim\n",
    "import time\n",
    "import re, json\n",
    "from datetime import datetime\n",
    "import threading"
   ]
  },
  {
   "cell_type": "code",
   "execution_count": 2,
   "metadata": {},
   "outputs": [
    {
     "name": "stdout",
     "output_type": "stream",
     "text": [
      "called start_path_finder_service\n",
      "Starting Pathfinder Service\n",
      "Called start_worldview_service\n",
      "Starting Worldview Service\n",
      "Called start_lidar_service\n",
      "Starting Lidar Service\n",
      "\n",
      "started Lidar Scanning Thread\n",
      "called stop_path_finder_service\n",
      "\n",
      "Called stop_worldview_service\n",
      "Called stop_lidar_service\n",
      "waiting for obstacle thread to join\n",
      "waiting for lidar thread to join\n",
      "Stopping Lidar Service\n",
      "Starting Worldview Service\n",
      "Stopping Pathfinder Service\n"
     ]
    }
   ],
   "source": [
    "def show_visual():\n",
    "    def on_hover_point(point_polar):\n",
    "        pathfinder.set_goal(point_polar) if not point_polar is None else None\n",
    "    fig, update_func = pathfinder_visualizer.run_visualizer(pathfinder, on_hover_point)\n",
    "    anime = anim.FuncAnimation(fig, update_func, 1, interval=50, blit=True)\n",
    "    plt.show()\n",
    "    return anime\n",
    "# show_visual()\n",
    "\n",
    "from ipywidgets import Button, VBox, ToggleButton, IntSlider, HBox, HTML, Layout, Output\n",
    "\n",
    "start_pathfinder = Button(\n",
    "    description=\"Start Pathfinder\",\n",
    "    layout = Layout(width='auto', height='80px', margin='10px'), \n",
    "    style=dict(font_size=\"60px\"),\n",
    "    button_style=\"primary\",\n",
    "    disabled = pathfinder._service.is_running())\n",
    "stop_pathfinder = Button(\n",
    "    description=\"Stop Pathfinder\", \n",
    "    layout= start_pathfinder.layout, \n",
    "    style=start_pathfinder.style,\n",
    "    button_style=\"warning\",\n",
    "    disabled = not pathfinder._service.is_running())\n",
    "run_rover = ToggleButton(\n",
    "    value=False, \n",
    "    description=\"Run Rover\", \n",
    "    layout= Layout(flex='1', height='80px', margin='10px'), \n",
    "    style=dict(font_size=\"60px\"),\n",
    "    button_style=\"success\",\n",
    "    disabled = not pathfinder._service.is_running())\n",
    "visual_button = Button(\n",
    "    description=\"PLT\", \n",
    "    layout = Layout(height='auto', margin='10px'))\n",
    "speed_slide = IntSlider(\n",
    "    value=0, min=0, max=100, \n",
    "    orientation=\"vertical\", \n",
    "    layout=Layout(height=\"auto\"))\n",
    "# text_display = HTML(\n",
    "#     value=\"Some HTML text\", \n",
    "#     # layout= Layout(flex='1', margin=\"10px\", border=\"solid\", padding=\"10px\"))\n",
    "#     layout= )\n",
    "text_output = Output(layout=Layout(flex='1', max_height=\"500px\", min_height=\"100px\"))\n",
    "poll_rover = Button(\n",
    "    description=\"Poll Rover\",\n",
    "    layout = Layout(flex='1')\n",
    ")\n",
    "clear_output = Button(\n",
    "    description=\"Clear Output\"\n",
    ")\n",
    "\n",
    "buttons = VBox([\n",
    "    start_pathfinder,\n",
    "    HBox([run_rover,], layout=Layout(width='auto', padding='0px', margin='0px')),\n",
    "    stop_pathfinder,\n",
    "    ],\n",
    "    layout = Layout(flex='1')\n",
    ")\n",
    "controls = HBox([\n",
    "    speed_slide, buttons, speed_slide\n",
    "])\n",
    "logging = HBox([\n",
    "    HBox([text_output], layout=Layout(border='solid', flex='1', padding='10px')), VBox([poll_rover, clear_output])\n",
    "    ],\n",
    "    layout = Layout(margin='10px')\n",
    ")\n",
    "gui = VBox([\n",
    "    controls,\n",
    "    logging\n",
    "])\n",
    "# buttons"
   ]
  },
  {
   "cell_type": "code",
   "execution_count": 3,
   "metadata": {},
   "outputs": [],
   "source": [
    "from math import pi\n",
    "from unified_utils import Service\n",
    "\n",
    "rover = WiFi(\"http://192.168.0.211:5000\")\n",
    "def captain_act():\n",
    "    path = pathfinder.get_path()\n",
    "    if len(path) < 2:\n",
    "        rover.send_command(make_command(speed_percent=0))\n",
    "        # speed_slide.value=0\n",
    "        radians=pi/2\n",
    "    else:\n",
    "        nxt = path[1]\n",
    "        radians = (nxt[0]%(2*pi))-pi/2\n",
    "    radians*=-1\n",
    "    degrees = int(radians/(2*pi)*360)\n",
    "    mode = Modes.DRIVE if abs(degrees) < 12 else Modes.SPIN\n",
    "    speed = speed_slide.value\n",
    "    if mode == Modes.SPIN:\n",
    "        speed *= (-1 if degrees < 0 else 1)\n",
    "    # print(mode, speed)\n",
    "    command = make_command(mode, speed_percent=speed, angle_degrees=degrees)\n",
    "    print(f\"Sending command : {command}\")\n",
    "    rover.send_command(command)\n",
    "def captain_stop():\n",
    "    rover.send_command(make_command(speed_percent=0))\n",
    "command_freq = 3\n",
    "def start_captain(is_captain_running):\n",
    "    while is_captain_running():\n",
    "        captain_act()\n",
    "        # print(\"running captain\")\n",
    "        time.sleep(1/command_freq)\n",
    "    # print(\"stopping captain\")\n",
    "    captain_stop()\n",
    "    "
   ]
  },
  {
   "cell_type": "code",
   "execution_count": 4,
   "metadata": {},
   "outputs": [],
   "source": [
    "def update_button_disables(pathfinding):\n",
    "    start_pathfinder.disabled = pathfinding\n",
    "    run_rover.disabled = not pathfinding\n",
    "    stop_pathfinder.disabled = not pathfinding\n",
    "\n",
    "def on_start_pathfinding(b):\n",
    "    importlib.reload(pathfinder)\n",
    "    pathfinder.start_pathfinder_service()\n",
    "    # show_visual()\n",
    "    update_button_disables(True)\n",
    "start_pathfinder.on_click(on_start_pathfinding)\n",
    "def on_stop_pathfinding(b):\n",
    "    pathfinder.stop_pathfinder_service()\n",
    "    update_button_disables(False)\n",
    "stop_pathfinder.on_click(on_stop_pathfinding)\n",
    "\n",
    "# def on_visual_toggle(change):\n",
    "#     show = change['new']\n",
    "#     print(show)\n",
    "#     if show:\n",
    "#         show_visual()\n",
    "#     else:\n",
    "#         plt.close('all')\n",
    "# visual_button.observe(on_visual_toggle, 'value')\n",
    "def on_visual(b):\n",
    "    show_visual()\n",
    "visual_button.on_click(on_visual)\n",
    "\n",
    "captain_service = Service(start_captain, \"Captain Service\")\n",
    "def rover_order_changed(change):\n",
    "    global captain_service\n",
    "    run = change['new']\n",
    "    if run:\n",
    "        captain_service.start_service()\n",
    "        run_rover.button_style='danger'\n",
    "        run_rover.description='Stop Rover'\n",
    "    else:\n",
    "        captain_service.stop_service()\n",
    "        captain_service = Service(start_captain, \"Captain Service\")\n",
    "        run_rover.button_style='success'\n",
    "        run_rover.description='Run Rover'\n",
    "run_rover.observe(rover_order_changed, 'value')\n",
    "\n",
    "clear_output.on_click(lambda i: text_output.clear_output())\n",
    "history = []\n",
    "def on_poll_rover(b):\n",
    "    def background_task():\n",
    "        stat = rover.get_status()\n",
    "        with text_output:\n",
    "            if stat is None:\n",
    "                print(\"No response recieved\")\n",
    "            else:\n",
    "                print()\n",
    "                print(f\"at: {datetime.now().strftime('%H:%M:%S')}\")\n",
    "                print(json.dumps({k:stat[k] for k in stat if re.match(\"^current.*\", k)},indent=2))\n",
    "    t = threading.Thread(target=background_task)\n",
    "    print(\"Polling Rover...\")\n",
    "    t.start()\n",
    "poll_rover.on_click(on_poll_rover)"
   ]
  },
  {
   "cell_type": "code",
   "execution_count": 5,
   "metadata": {},
   "outputs": [
    {
     "data": {
      "text/plain": [
       "<matplotlib.animation.FuncAnimation at 0x256fa1d40d0>"
      ]
     },
     "execution_count": 5,
     "metadata": {},
     "output_type": "execute_result"
    }
   ],
   "source": [
    "show_visual()"
   ]
  },
  {
   "cell_type": "code",
   "execution_count": 6,
   "metadata": {},
   "outputs": [
    {
     "data": {
      "application/vnd.jupyter.widget-view+json": {
       "model_id": "6fd219d9f24b4f48a428b04fdbe4f935",
       "version_major": 2,
       "version_minor": 0
      },
      "text/plain": [
       "VBox(children=(HBox(children=(IntSlider(value=0, layout=Layout(height='auto'), orientation='vertical'), VBox(c…"
      ]
     },
     "execution_count": 6,
     "metadata": {},
     "output_type": "execute_result"
    }
   ],
   "source": [
    "gui"
   ]
  },
  {
   "cell_type": "code",
   "execution_count": 7,
   "metadata": {},
   "outputs": [],
   "source": [
    "# rover.send_command(make_command(Modes.SPIN,speed_percent=0))"
   ]
  }
 ],
 "metadata": {
  "kernelspec": {
   "display_name": "Python 3",
   "language": "python",
   "name": "python3"
  },
  "language_info": {
   "codemirror_mode": {
    "name": "ipython",
    "version": 3
   },
   "file_extension": ".py",
   "mimetype": "text/x-python",
   "name": "python",
   "nbconvert_exporter": "python",
   "pygments_lexer": "ipython3",
   "version": "3.11.7"
  }
 },
 "nbformat": 4,
 "nbformat_minor": 2
}
