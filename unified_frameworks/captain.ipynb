{
 "cells": [
  {
   "cell_type": "code",
   "execution_count": 2,
   "metadata": {},
   "outputs": [],
   "source": [
    "%matplotlib widget\n",
    "import os\n",
    "root = os.path.realpath(os.getcwd()+ os.sep+\"..\")\n",
    "import sys\n",
    "sys.path.append(root)\n",
    "from modules.WiFi import WiFi, Modes, make_command\n",
    "import pathfinder, pathfinder_visualizer\n",
    "import importlib\n",
    "import matplotlib.pyplot as plt\n",
    "import matplotlib.animation as anim"
   ]
  },
  {
   "cell_type": "code",
   "execution_count": 193,
   "metadata": {},
   "outputs": [
    {
     "data": {
      "application/vnd.jupyter.widget-view+json": {
       "model_id": "3ac4b672b7a54804aa54d192190b19b2",
       "version_major": 2,
       "version_minor": 0
      },
      "text/plain": [
       "VBox(children=(HBox(children=(IntSlider(value=0, layout=Layout(height='auto'), orientation='vertical'), VBox(c…"
      ]
     },
     "execution_count": 193,
     "metadata": {},
     "output_type": "execute_result"
    }
   ],
   "source": [
    "from ipywidgets import Button, VBox, ToggleButton, IntSlider, HBox, HTML, Layout, Output\n",
    "\n",
    "start_pathfinder = Button(\n",
    "    description=\"Start Pathfinder\",\n",
    "    layout = Layout(width='auto', height='80px', margin='10px'), \n",
    "    style=dict(font_size=\"60px\"),\n",
    "    button_style=\"primary\",\n",
    "    disabled = pathfinder._service.is_running())\n",
    "stop_pathfinder = Button(\n",
    "    description=\"Stop Pathfinder\", \n",
    "    layout= start_pathfinder.layout, \n",
    "    style=start_pathfinder.style,\n",
    "    button_style=\"warning\",\n",
    "    disabled = not pathfinder._service.is_running())\n",
    "run_rover = ToggleButton(\n",
    "    value=False, \n",
    "    description=\"Run Rover\", \n",
    "    layout= start_pathfinder.layout, \n",
    "    style=dict(font_size=\"60px\"),\n",
    "    button_style=\"success\",\n",
    "    disabled = not pathfinder._service.is_running())\n",
    "speed_slide = IntSlider(\n",
    "    value=0, min=0, max=100, \n",
    "    orientation=\"vertical\", \n",
    "    layout=Layout(height=\"auto\"))\n",
    "# text_display = HTML(\n",
    "#     value=\"Some HTML text\", \n",
    "#     # layout= Layout(flex='1', margin=\"10px\", border=\"solid\", padding=\"10px\"))\n",
    "#     layout= )\n",
    "text_output = Output(layout=Layout(flex='1', max_height=\"500px\", min_height=\"100px\"))\n",
    "poll_rover = Button(\n",
    "    description=\"Poll Rover\",\n",
    "    layout = Layout(flex='1')\n",
    ")\n",
    "clear_output = Button(\n",
    "    description=\"Clear Output\"\n",
    ")\n",
    "\n",
    "\n",
    "buttons = VBox([\n",
    "    start_pathfinder,\n",
    "    run_rover,\n",
    "    stop_pathfinder,\n",
    "    ],\n",
    "    layout = Layout(flex='1')\n",
    ")\n",
    "controls = HBox([\n",
    "    speed_slide, buttons, speed_slide\n",
    "])\n",
    "logging = HBox([\n",
    "    HBox([text_output], layout=Layout(border='solid', flex='1', padding='10px')), VBox([poll_rover, clear_output])\n",
    "    ],\n",
    "    layout = Layout(margin='10px')\n",
    ")\n",
    "VBox([\n",
    "    controls,\n",
    "    logging\n",
    "])\n",
    "# buttons"
   ]
  },
  {
   "cell_type": "code",
   "execution_count": 192,
   "metadata": {},
   "outputs": [],
   "source": [
    "def update_button_disables(pathfinding):\n",
    "    start_pathfinder.disabled = pathfinding\n",
    "    run_rover.disabled = not pathfinding\n",
    "    stop_pathfinder.disabled = not pathfinding\n",
    "\n",
    "def on_start_pathfinding(b):\n",
    "    update_button_disables(True)\n",
    "start_pathfinder.on_click(on_start_pathfinding)\n",
    "def on_stop_pathfinding(b):\n",
    "    update_button_disables(False)\n",
    "stop_pathfinder.on_click(on_stop_pathfinding)\n",
    "\n",
    "def rover_order_changed(change):\n",
    "    run = change['new']\n",
    "    if run:\n",
    "        run_rover.button_style='danger'\n",
    "        run_rover.description='Stop Rover'\n",
    "    else:\n",
    "        run_rover.button_style='success'\n",
    "        run_rover.description='Run Rover'\n",
    "run_rover.observe(rover_order_changed, 'value')\n",
    "\n",
    "clear_output.on_click(lambda i: text_output.clear_output())\n",
    "# Temp for test\n",
    "def on_poll_rover(b):\n",
    "    with text_output:\n",
    "        for i in range(10):\n",
    "            print(i, \"hello outputs\")\n",
    "poll_rover.on_click(on_poll_rover)"
   ]
  },
  {
   "cell_type": "markdown",
   "metadata": {},
   "source": [
    "# Archive 1"
   ]
  },
  {
   "cell_type": "code",
   "execution_count": 42,
   "metadata": {},
   "outputs": [
    {
     "data": {
      "application/vnd.jupyter.widget-view+json": {
       "model_id": "dee73dd7c3034c18b73ea4ba03020fd4",
       "version_major": 2,
       "version_minor": 0
      },
      "text/plain": [
       "TwoByTwoLayout(children=(Button(button_style='primary', description='Start Pathfinder', layout=Layout(grid_are…"
      ]
     },
     "execution_count": 42,
     "metadata": {},
     "output_type": "execute_result"
    }
   ],
   "source": [
    "from ipywidgets import Button, HBox, ToggleButton, TwoByTwoLayout, Layout, IntSlider\n",
    "# 3 buttons. Start service, stop service, show visualization\n",
    "make_layout = lambda: Layout(width=\"auto\", height=\"auto\")\n",
    "start_button = Button(description=\"Start Pathfinder\", disabled=pathfinder._service.is_running(), button_style='primary', layout=make_layout(), style=dict(font_size=\"60px\"))\n",
    "stop_button = Button(description=\"Stop Pathfinder\", disabled=not pathfinder._service.is_running(), button_style='warning', layout=make_layout(), style=dict(font_size=\"60px\"))\n",
    "show_button = Button(description=\"Show Visualization\", button_style='warning', layout=make_layout())\n",
    "\n",
    "\n",
    "pathfinder_controls = TwoByTwoLayout(\n",
    "    top_left=start_button,\n",
    "    bottom_left=stop_button,\n",
    "    layout = Layout(height=\"300px\")\n",
    "    )\n",
    "pathfinder_controls"
   ]
  },
  {
   "cell_type": "code",
   "execution_count": 43,
   "metadata": {},
   "outputs": [
    {
     "data": {
      "application/vnd.jupyter.widget-view+json": {
       "model_id": "e7712997a78b43699fb1833d4e177270",
       "version_major": 2,
       "version_minor": 0
      },
      "text/plain": [
       "Button(button_style='primary', description='Start Pathfinder', layout=Layout(grid_area='top-left', height='aut…"
      ]
     },
     "execution_count": 43,
     "metadata": {},
     "output_type": "execute_result"
    }
   ],
   "source": [
    "start_button"
   ]
  },
  {
   "cell_type": "code",
   "execution_count": null,
   "metadata": {},
   "outputs": [],
   "source": [
    "rideon_button = ToggleButton(description=\"Start Pathfinder\", disabled=pathfinder._service.is_running(), button_style='primary', layout=make_layout(), style=dict(font_size=\"60px\"))\n",
    "stop_button = Button(description=\"Stop Pathfinder\", disabled=not pathfinder._service.is_running(), button_style='warning', layout=make_layout(), style=dict(font_size=\"60px\"))\n",
    "speed_slide = IntSlider(value=0, min=0, max=100, layout=make_layout())"
   ]
  },
  {
   "cell_type": "code",
   "execution_count": 32,
   "metadata": {},
   "outputs": [],
   "source": [
    "def start_pathfinder(*args):\n",
    "    if pathfinder._service.is_running():\n",
    "        print(\"Service is already running\", file=sys.stderr)\n",
    "        return\n",
    "    pathfinder.start_pathfinder_service()\n",
    "    stop_button.disabled=False\n",
    "    start_button.disabled=True\n",
    "start_button.on_click(start_pathfinder)\n",
    "def stop_pathfinder(*args):\n",
    "    pathfinder.stop_pathfinder_service()\n",
    "    importlib.reload(pathfinder)\n",
    "    stop_button.disabled=True\n",
    "    start_button.disabled=False\n",
    "stop_button.on_click(stop_pathfinder)\n",
    "# def show_visual(*args):\n",
    "#     fig, update_func = pathfinder_visualizer.run_visualizer(pathfinder)\n",
    "#     anime = anim.FuncAnimation(fig, update_func, 1, interval=50, blit=True)\n",
    "#     plt.show()\n",
    "#     return anime\n",
    "# show_button.on_click(show_visual)"
   ]
  },
  {
   "cell_type": "code",
   "execution_count": 33,
   "metadata": {},
   "outputs": [],
   "source": [
    "def func():\n",
    "    def on_hover_point(point_polar):\n",
    "        pathfinder.set_goal(point_polar) if not point_polar is None else None\n",
    "    fig, update_func = pathfinder_visualizer.run_visualizer(pathfinder, on_hover_point)\n",
    "    anime = anim.FuncAnimation(fig, update_func, 1, interval=50, blit=True)\n",
    "    plt.show()\n",
    "    return anime"
   ]
  },
  {
   "cell_type": "code",
   "execution_count": 34,
   "metadata": {},
   "outputs": [
    {
     "data": {
      "application/vnd.jupyter.widget-view+json": {
       "model_id": "5dc7e6ad93bd4e7887793819fa849ed3",
       "version_major": 2,
       "version_minor": 0
      },
      "text/plain": [
       "TwoByTwoLayout(children=(Button(button_style='primary', description='Start Pathfinder', layout=Layout(grid_are…"
      ]
     },
     "execution_count": 34,
     "metadata": {},
     "output_type": "execute_result"
    }
   ],
   "source": [
    "gui"
   ]
  },
  {
   "cell_type": "code",
   "execution_count": null,
   "metadata": {},
   "outputs": [
    {
     "name": "stderr",
     "output_type": "stream",
     "text": [
      "Too many measurments in the input buffer: 584/500. Clearing buffer...\n",
      "Too many measurments in the input buffer: 581/500. Clearing buffer...\n"
     ]
    },
    {
     "name": "stdout",
     "output_type": "stream",
     "text": [
      "Data sent successfully\n"
     ]
    },
    {
     "name": "stderr",
     "output_type": "stream",
     "text": [
      "Too many measurments in the input buffer: 518/500. Clearing buffer...\n"
     ]
    },
    {
     "name": "stdout",
     "output_type": "stream",
     "text": [
      "Data sent successfully\n",
      "Data sent successfully\n"
     ]
    },
    {
     "name": "stderr",
     "output_type": "stream",
     "text": [
      "Too many measurments in the input buffer: 525/500. Clearing buffer...\n"
     ]
    },
    {
     "name": "stdout",
     "output_type": "stream",
     "text": [
      "Data sent successfully\n",
      "Data sent successfully\n",
      "Data sent successfully\n",
      "Data sent successfully\n",
      "Data sent successfully\n",
      "Data sent successfully\n",
      "Data sent successfully\n",
      "Data sent successfully\n",
      "Data sent successfully\n",
      "Data sent successfully\n"
     ]
    },
    {
     "name": "stderr",
     "output_type": "stream",
     "text": [
      "Too many measurments in the input buffer: 523/500. Clearing buffer...\n",
      "Too many measurments in the input buffer: 530/500. Clearing buffer...\n",
      "Too many measurments in the input buffer: 521/500. Clearing buffer...\n"
     ]
    },
    {
     "name": "stdout",
     "output_type": "stream",
     "text": [
      "Data sent successfully\n",
      "Data sent successfully\n"
     ]
    },
    {
     "name": "stderr",
     "output_type": "stream",
     "text": [
      "Too many measurments in the input buffer: 574/500. Clearing buffer...\n",
      "Too many measurments in the input buffer: 529/500. Clearing buffer...\n"
     ]
    },
    {
     "name": "stdout",
     "output_type": "stream",
     "text": [
      "Data sent successfully\n",
      "Data sent successfully\n"
     ]
    },
    {
     "name": "stderr",
     "output_type": "stream",
     "text": [
      "Too many measurments in the input buffer: 527/500. Clearing buffer...\n",
      "Too many measurments in the input buffer: 527/500. Clearing buffer...\n",
      "Too many measurments in the input buffer: 571/500. Clearing buffer...\n"
     ]
    },
    {
     "name": "stdout",
     "output_type": "stream",
     "text": [
      "Data sent successfully\n",
      "Data sent successfully\n"
     ]
    },
    {
     "name": "stderr",
     "output_type": "stream",
     "text": [
      "Too many measurments in the input buffer: 567/500. Clearing buffer...\n"
     ]
    },
    {
     "name": "stdout",
     "output_type": "stream",
     "text": [
      "Data sent successfully\n",
      "Data sent successfully\n"
     ]
    },
    {
     "name": "stderr",
     "output_type": "stream",
     "text": [
      "Too many measurments in the input buffer: 503/500. Clearing buffer...\n"
     ]
    },
    {
     "name": "stdout",
     "output_type": "stream",
     "text": [
      "Data sent successfully\n",
      "Data sent successfully\n",
      "Data sent successfully\n",
      "Data sent successfully\n",
      "Data sent successfully\n"
     ]
    },
    {
     "name": "stderr",
     "output_type": "stream",
     "text": [
      "Too many measurments in the input buffer: 527/500. Clearing buffer...\n",
      "Too many measurments in the input buffer: 555/500. Clearing buffer...\n"
     ]
    },
    {
     "name": "stdout",
     "output_type": "stream",
     "text": [
      "Data sent successfully\n",
      "Data sent successfully\n"
     ]
    },
    {
     "name": "stderr",
     "output_type": "stream",
     "text": [
      "Too many measurments in the input buffer: 509/500. Clearing buffer...\n"
     ]
    },
    {
     "name": "stdout",
     "output_type": "stream",
     "text": [
      "Data sent successfully\n",
      "Data sent successfully\n"
     ]
    },
    {
     "name": "stderr",
     "output_type": "stream",
     "text": [
      "Too many measurments in the input buffer: 500/500. Clearing buffer...\n"
     ]
    },
    {
     "name": "stdout",
     "output_type": "stream",
     "text": [
      "Data sent successfully\n",
      "Data sent successfully\n"
     ]
    },
    {
     "name": "stderr",
     "output_type": "stream",
     "text": [
      "Too many measurments in the input buffer: 510/500. Clearing buffer...\n"
     ]
    },
    {
     "name": "stdout",
     "output_type": "stream",
     "text": [
      "Data sent successfully\n",
      "Data sent successfully\n",
      "Data sent successfully\n",
      "Data sent successfully\n"
     ]
    },
    {
     "name": "stderr",
     "output_type": "stream",
     "text": [
      "Too many measurments in the input buffer: 512/500. Clearing buffer...\n"
     ]
    },
    {
     "name": "stdout",
     "output_type": "stream",
     "text": [
      "Data sent successfully\n",
      "Data sent successfully\n",
      "Data sent successfully\n",
      "Data sent successfully\n"
     ]
    },
    {
     "name": "stderr",
     "output_type": "stream",
     "text": [
      "Too many measurments in the input buffer: 515/500. Clearing buffer...\n"
     ]
    },
    {
     "name": "stdout",
     "output_type": "stream",
     "text": [
      "Data sent successfully\n",
      "Data sent successfully\n"
     ]
    },
    {
     "name": "stderr",
     "output_type": "stream",
     "text": [
      "Too many measurments in the input buffer: 527/500. Clearing buffer...\n"
     ]
    },
    {
     "name": "stdout",
     "output_type": "stream",
     "text": [
      "Data sent successfully\n",
      "Data sent successfully\n",
      "Data sent successfully\n",
      "Data sent successfully\n"
     ]
    },
    {
     "name": "stderr",
     "output_type": "stream",
     "text": [
      "Too many measurments in the input buffer: 560/500. Clearing buffer...\n"
     ]
    },
    {
     "name": "stdout",
     "output_type": "stream",
     "text": [
      "Data sent successfully\n",
      "Data sent successfully\n"
     ]
    },
    {
     "name": "stderr",
     "output_type": "stream",
     "text": [
      "Too many measurments in the input buffer: 533/500. Clearing buffer...\n"
     ]
    },
    {
     "name": "stdout",
     "output_type": "stream",
     "text": [
      "Data sent successfully\n",
      "Data sent successfully\n",
      "Data sent successfully\n",
      "Data sent successfully\n",
      "Data sent successfully\n",
      "Data sent successfully\n",
      "Data sent successfully\n",
      "Done auto\n"
     ]
    },
    {
     "name": "stderr",
     "output_type": "stream",
     "text": [
      "Too many measurments in the input buffer: 520/500. Clearing buffer...\n",
      "Too many measurments in the input buffer: 509/500. Clearing buffer...\n",
      "Too many measurments in the input buffer: 557/500. Clearing buffer...\n",
      "Too many measurments in the input buffer: 534/500. Clearing buffer...\n",
      "Too many measurments in the input buffer: 503/500. Clearing buffer...\n",
      "Too many measurments in the input buffer: 509/500. Clearing buffer...\n",
      "Too many measurments in the input buffer: 522/500. Clearing buffer...\n",
      "Too many measurments in the input buffer: 537/500. Clearing buffer...\n",
      "Too many measurments in the input buffer: 537/500. Clearing buffer...\n",
      "Too many measurments in the input buffer: 540/500. Clearing buffer...\n",
      "Too many measurments in the input buffer: 556/500. Clearing buffer...\n"
     ]
    },
    {
     "name": "stdout",
     "output_type": "stream",
     "text": [
      "Data sent successfully\n",
      "Data sent successfully\n"
     ]
    },
    {
     "name": "stderr",
     "output_type": "stream",
     "text": [
      "Too many measurments in the input buffer: 538/500. Clearing buffer...\n",
      "Too many measurments in the input buffer: 558/500. Clearing buffer...\n"
     ]
    },
    {
     "name": "stdout",
     "output_type": "stream",
     "text": [
      "Data sent successfully\n",
      "Data sent successfully\n"
     ]
    },
    {
     "name": "stderr",
     "output_type": "stream",
     "text": [
      "Too many measurments in the input buffer: 518/500. Clearing buffer...\n"
     ]
    },
    {
     "name": "stdout",
     "output_type": "stream",
     "text": [
      "Data sent successfully\n",
      "Data sent successfully\n",
      "Data sent successfully\n",
      "Data sent successfully\n",
      "Data sent successfully\n",
      "Data sent successfully\n"
     ]
    },
    {
     "name": "stderr",
     "output_type": "stream",
     "text": [
      "Too many measurments in the input buffer: 635/500. Clearing buffer...\n"
     ]
    },
    {
     "name": "stdout",
     "output_type": "stream",
     "text": [
      "Data sent successfully\n",
      "Data sent successfully\n",
      "Data sent successfully\n",
      "Data sent successfully\n"
     ]
    },
    {
     "name": "stderr",
     "output_type": "stream",
     "text": [
      "Too many measurments in the input buffer: 547/500. Clearing buffer...\n",
      "Too many measurments in the input buffer: 518/500. Clearing buffer...\n"
     ]
    },
    {
     "name": "stdout",
     "output_type": "stream",
     "text": [
      "Data sent successfully\n",
      "Data sent successfully\n"
     ]
    },
    {
     "name": "stderr",
     "output_type": "stream",
     "text": [
      "Too many measurments in the input buffer: 500/500. Clearing buffer...\n"
     ]
    },
    {
     "name": "stdout",
     "output_type": "stream",
     "text": [
      "Data sent successfully\n",
      "Data sent successfully\n"
     ]
    },
    {
     "name": "stderr",
     "output_type": "stream",
     "text": [
      "Too many measurments in the input buffer: 500/500. Clearing buffer...\n",
      "Too many measurments in the input buffer: 540/500. Clearing buffer...\n"
     ]
    },
    {
     "name": "stdout",
     "output_type": "stream",
     "text": [
      "Data sent successfully\n",
      "Data sent successfully\n"
     ]
    },
    {
     "name": "stderr",
     "output_type": "stream",
     "text": [
      "Too many measurments in the input buffer: 571/500. Clearing buffer...\n",
      "Too many measurments in the input buffer: 561/500. Clearing buffer...\n"
     ]
    },
    {
     "name": "stdout",
     "output_type": "stream",
     "text": [
      "Data sent successfully\n",
      "Data sent successfully\n"
     ]
    },
    {
     "name": "stderr",
     "output_type": "stream",
     "text": [
      "Too many measurments in the input buffer: 510/500. Clearing buffer...\n"
     ]
    },
    {
     "name": "stdout",
     "output_type": "stream",
     "text": [
      "Data sent successfully\n",
      "Data sent successfully\n"
     ]
    },
    {
     "name": "stderr",
     "output_type": "stream",
     "text": [
      "Too many measurments in the input buffer: 541/500. Clearing buffer...\n",
      "Too many measurments in the input buffer: 529/500. Clearing buffer...\n"
     ]
    },
    {
     "name": "stdout",
     "output_type": "stream",
     "text": [
      "Data sent successfully\n",
      "Data sent successfully\n"
     ]
    },
    {
     "name": "stderr",
     "output_type": "stream",
     "text": [
      "Too many measurments in the input buffer: 570/500. Clearing buffer...\n",
      "Too many measurments in the input buffer: 512/500. Clearing buffer...\n"
     ]
    },
    {
     "name": "stdout",
     "output_type": "stream",
     "text": [
      "Data sent successfully\n",
      "Data sent successfully\n",
      "Data sent successfully\n",
      "Data sent successfully\n",
      "Data sent successfully\n",
      "Data sent successfully\n",
      "Data sent successfully\n",
      "Data sent successfully\n"
     ]
    },
    {
     "name": "stderr",
     "output_type": "stream",
     "text": [
      "Too many measurments in the input buffer: 529/500. Clearing buffer...\n"
     ]
    },
    {
     "name": "stdout",
     "output_type": "stream",
     "text": [
      "Data sent successfully\n",
      "Data sent successfully\n",
      "Data sent successfully\n",
      "Data sent successfully\n"
     ]
    },
    {
     "name": "stderr",
     "output_type": "stream",
     "text": [
      "Too many measurments in the input buffer: 512/500. Clearing buffer...\n"
     ]
    },
    {
     "name": "stdout",
     "output_type": "stream",
     "text": [
      "Data sent successfully\n",
      "Data sent successfully\n"
     ]
    },
    {
     "name": "stderr",
     "output_type": "stream",
     "text": [
      "Too many measurments in the input buffer: 527/500. Clearing buffer...\n"
     ]
    },
    {
     "name": "stdout",
     "output_type": "stream",
     "text": [
      "Data sent successfully\n",
      "Data sent successfully\n"
     ]
    },
    {
     "name": "stderr",
     "output_type": "stream",
     "text": [
      "Too many measurments in the input buffer: 531/500. Clearing buffer...\n",
      "Too many measurments in the input buffer: 510/500. Clearing buffer...\n"
     ]
    },
    {
     "name": "stdout",
     "output_type": "stream",
     "text": [
      "Data sent successfully\n",
      "Data sent successfully\n"
     ]
    },
    {
     "name": "stderr",
     "output_type": "stream",
     "text": [
      "Too many measurments in the input buffer: 510/500. Clearing buffer...\n"
     ]
    },
    {
     "name": "stdout",
     "output_type": "stream",
     "text": [
      "Data sent successfully\n",
      "Data sent successfully\n"
     ]
    },
    {
     "name": "stderr",
     "output_type": "stream",
     "text": [
      "Too many measurments in the input buffer: 528/500. Clearing buffer...\n"
     ]
    },
    {
     "name": "stdout",
     "output_type": "stream",
     "text": [
      "Data sent successfully\n",
      "Data sent successfully\n"
     ]
    },
    {
     "name": "stderr",
     "output_type": "stream",
     "text": [
      "Too many measurments in the input buffer: 506/500. Clearing buffer...\n"
     ]
    },
    {
     "name": "stdout",
     "output_type": "stream",
     "text": [
      "Data sent successfully\n",
      "Data sent successfully\n"
     ]
    },
    {
     "name": "stderr",
     "output_type": "stream",
     "text": [
      "Too many measurments in the input buffer: 515/500. Clearing buffer...\n"
     ]
    },
    {
     "name": "stdout",
     "output_type": "stream",
     "text": [
      "Data sent successfully\n",
      "Data sent successfully\n",
      "Data sent successfully\n",
      "Data sent successfully\n"
     ]
    },
    {
     "name": "stderr",
     "output_type": "stream",
     "text": [
      "Too many measurments in the input buffer: 536/500. Clearing buffer...\n"
     ]
    },
    {
     "name": "stdout",
     "output_type": "stream",
     "text": [
      "Data sent successfully\n",
      "Data sent successfully\n"
     ]
    },
    {
     "name": "stderr",
     "output_type": "stream",
     "text": [
      "Too many measurments in the input buffer: 523/500. Clearing buffer...\n",
      "Too many measurments in the input buffer: 506/500. Clearing buffer...\n"
     ]
    },
    {
     "name": "stdout",
     "output_type": "stream",
     "text": [
      "Data sent successfully\n",
      "Data sent successfully\n"
     ]
    },
    {
     "name": "stderr",
     "output_type": "stream",
     "text": [
      "Too many measurments in the input buffer: 503/500. Clearing buffer...\n",
      "Too many measurments in the input buffer: 500/500. Clearing buffer...\n"
     ]
    },
    {
     "name": "stdout",
     "output_type": "stream",
     "text": [
      "Data sent successfully\n",
      "Data sent successfully\n"
     ]
    },
    {
     "name": "stderr",
     "output_type": "stream",
     "text": [
      "Too many measurments in the input buffer: 541/500. Clearing buffer...\n"
     ]
    },
    {
     "name": "stdout",
     "output_type": "stream",
     "text": [
      "Data sent successfully\n",
      "Data sent successfully\n"
     ]
    },
    {
     "name": "stderr",
     "output_type": "stream",
     "text": [
      "Too many measurments in the input buffer: 543/500. Clearing buffer...\n",
      "Too many measurments in the input buffer: 502/500. Clearing buffer...\n",
      "Too many measurments in the input buffer: 508/500. Clearing buffer...\n"
     ]
    },
    {
     "name": "stdout",
     "output_type": "stream",
     "text": [
      "Data sent successfully\n",
      "Data sent successfully\n",
      "Data sent successfully\n",
      "Data sent successfully\n"
     ]
    },
    {
     "name": "stderr",
     "output_type": "stream",
     "text": [
      "Too many measurments in the input buffer: 548/500. Clearing buffer...\n"
     ]
    },
    {
     "name": "stdout",
     "output_type": "stream",
     "text": [
      "Data sent successfully\n",
      "Data sent successfully\n",
      "Data sent successfully\n",
      "Data sent successfully\n"
     ]
    },
    {
     "name": "stderr",
     "output_type": "stream",
     "text": [
      "Too many measurments in the input buffer: 586/500. Clearing buffer...\n",
      "Too many measurments in the input buffer: 534/500. Clearing buffer...\n"
     ]
    },
    {
     "name": "stdout",
     "output_type": "stream",
     "text": [
      "Data sent successfully\n",
      "Data sent successfully\n",
      "Data sent successfully\n",
      "Data sent successfully\n"
     ]
    },
    {
     "name": "stderr",
     "output_type": "stream",
     "text": [
      "Too many measurments in the input buffer: 503/500. Clearing buffer...\n"
     ]
    },
    {
     "name": "stdout",
     "output_type": "stream",
     "text": [
      "Data sent successfully\n",
      "Data sent successfully\n",
      "Data sent successfully\n",
      "Data sent successfully\n"
     ]
    },
    {
     "name": "stderr",
     "output_type": "stream",
     "text": [
      "Too many measurments in the input buffer: 512/500. Clearing buffer...\n"
     ]
    },
    {
     "name": "stdout",
     "output_type": "stream",
     "text": [
      "Data sent successfully\n",
      "Data sent successfully\n"
     ]
    },
    {
     "name": "stderr",
     "output_type": "stream",
     "text": [
      "Too many measurments in the input buffer: 510/500. Clearing buffer...\n"
     ]
    },
    {
     "name": "stdout",
     "output_type": "stream",
     "text": [
      "Data sent successfully\n",
      "Data sent successfully\n",
      "Data sent successfully\n",
      "Data sent successfully\n"
     ]
    },
    {
     "name": "stderr",
     "output_type": "stream",
     "text": [
      "Too many measurments in the input buffer: 509/500. Clearing buffer...\n",
      "Too many measurments in the input buffer: 590/500. Clearing buffer...\n"
     ]
    },
    {
     "name": "stdout",
     "output_type": "stream",
     "text": [
      "Data sent successfully\n",
      "Data sent successfully\n"
     ]
    },
    {
     "name": "stderr",
     "output_type": "stream",
     "text": [
      "Too many measurments in the input buffer: 516/500. Clearing buffer...\n"
     ]
    },
    {
     "name": "stdout",
     "output_type": "stream",
     "text": [
      "Data sent successfully\n",
      "Data sent successfully\n"
     ]
    },
    {
     "name": "stderr",
     "output_type": "stream",
     "text": [
      "Too many measurments in the input buffer: 540/500. Clearing buffer...\n"
     ]
    },
    {
     "name": "stdout",
     "output_type": "stream",
     "text": [
      "Data sent successfully\n",
      "Data sent successfully\n"
     ]
    },
    {
     "name": "stderr",
     "output_type": "stream",
     "text": [
      "Too many measurments in the input buffer: 509/500. Clearing buffer...\n",
      "Too many measurments in the input buffer: 508/500. Clearing buffer...\n"
     ]
    },
    {
     "name": "stdout",
     "output_type": "stream",
     "text": [
      "Data sent successfully\n",
      "Data sent successfully\n",
      "Data sent successfully\n",
      "Data sent successfully\n",
      "Data sent successfully\n",
      "Data sent successfully\n"
     ]
    },
    {
     "name": "stderr",
     "output_type": "stream",
     "text": [
      "Too many measurments in the input buffer: 503/500. Clearing buffer...\n"
     ]
    },
    {
     "name": "stdout",
     "output_type": "stream",
     "text": [
      "Data sent successfully\n",
      "Data sent successfully\n"
     ]
    },
    {
     "name": "stderr",
     "output_type": "stream",
     "text": [
      "Too many measurments in the input buffer: 540/500. Clearing buffer...\n"
     ]
    },
    {
     "name": "stdout",
     "output_type": "stream",
     "text": [
      "Data sent successfully\n",
      "Data sent successfully\n"
     ]
    },
    {
     "name": "stderr",
     "output_type": "stream",
     "text": [
      "Too many measurments in the input buffer: 513/500. Clearing buffer...\n",
      "Too many measurments in the input buffer: 559/500. Clearing buffer...\n"
     ]
    },
    {
     "name": "stdout",
     "output_type": "stream",
     "text": [
      "Data sent successfully\n",
      "Data sent successfully\n"
     ]
    },
    {
     "name": "stderr",
     "output_type": "stream",
     "text": [
      "Too many measurments in the input buffer: 501/500. Clearing buffer...\n"
     ]
    },
    {
     "name": "stdout",
     "output_type": "stream",
     "text": [
      "Data sent successfully\n",
      "Data sent successfully\n",
      "Data sent successfully\n",
      "Data sent successfully\n"
     ]
    },
    {
     "name": "stderr",
     "output_type": "stream",
     "text": [
      "Too many measurments in the input buffer: 527/500. Clearing buffer...\n"
     ]
    },
    {
     "name": "stdout",
     "output_type": "stream",
     "text": [
      "Data sent successfully\n",
      "Data sent successfully\n",
      "Data sent successfully\n",
      "Data sent successfully\n"
     ]
    },
    {
     "name": "stderr",
     "output_type": "stream",
     "text": [
      "Too many measurments in the input buffer: 509/500. Clearing buffer...\n"
     ]
    },
    {
     "name": "stdout",
     "output_type": "stream",
     "text": [
      "Data sent successfully\n",
      "Data sent successfully\n",
      "Data sent successfully\n",
      "Data sent successfully\n"
     ]
    },
    {
     "name": "stderr",
     "output_type": "stream",
     "text": [
      "Too many measurments in the input buffer: 520/500. Clearing buffer...\n"
     ]
    },
    {
     "name": "stdout",
     "output_type": "stream",
     "text": [
      "Data sent successfully\n",
      "Data sent successfully\n",
      "Data sent successfully\n",
      "Data sent successfully\n",
      "Data sent successfully\n",
      "Data sent successfully\n"
     ]
    },
    {
     "name": "stderr",
     "output_type": "stream",
     "text": [
      "Too many measurments in the input buffer: 513/500. Clearing buffer...\n"
     ]
    },
    {
     "name": "stdout",
     "output_type": "stream",
     "text": [
      "Data sent successfully\n",
      "Data sent successfully\n",
      "Data sent successfully\n",
      "Data sent successfully\n",
      "Data sent successfully\n",
      "Data sent successfully\n"
     ]
    },
    {
     "name": "stderr",
     "output_type": "stream",
     "text": [
      "Too many measurments in the input buffer: 505/500. Clearing buffer...\n"
     ]
    },
    {
     "name": "stdout",
     "output_type": "stream",
     "text": [
      "Data sent successfully\n",
      "Data sent successfully\n",
      "Data sent successfully\n",
      "Data sent successfully\n",
      "Data sent successfully\n",
      "Data sent successfully\n",
      "Data sent successfully\n",
      "Data sent successfully\n",
      "Data sent successfully\n",
      "Data sent successfully\n",
      "Data sent successfully\n",
      "Data sent successfully\n"
     ]
    },
    {
     "name": "stderr",
     "output_type": "stream",
     "text": [
      "Too many measurments in the input buffer: 513/500. Clearing buffer...\n"
     ]
    },
    {
     "name": "stdout",
     "output_type": "stream",
     "text": [
      "Data sent successfully\n",
      "Data sent successfully\n"
     ]
    },
    {
     "name": "stderr",
     "output_type": "stream",
     "text": [
      "Too many measurments in the input buffer: 552/500. Clearing buffer...\n"
     ]
    },
    {
     "name": "stdout",
     "output_type": "stream",
     "text": [
      "Data sent successfully\n",
      "Data sent successfully\n"
     ]
    },
    {
     "name": "stderr",
     "output_type": "stream",
     "text": [
      "Too many measurments in the input buffer: 579/500. Clearing buffer...\n"
     ]
    },
    {
     "name": "stdout",
     "output_type": "stream",
     "text": [
      "Data sent successfully\n",
      "Data sent successfully\n"
     ]
    },
    {
     "name": "stderr",
     "output_type": "stream",
     "text": [
      "Too many measurments in the input buffer: 510/500. Clearing buffer...\n"
     ]
    },
    {
     "name": "stdout",
     "output_type": "stream",
     "text": [
      "Data sent successfully\n",
      "Data sent successfully\n"
     ]
    },
    {
     "name": "stderr",
     "output_type": "stream",
     "text": [
      "Too many measurments in the input buffer: 552/500. Clearing buffer...\n",
      "Too many measurments in the input buffer: 508/500. Clearing buffer...\n"
     ]
    },
    {
     "name": "stdout",
     "output_type": "stream",
     "text": [
      "Data sent successfully\n",
      "Data sent successfully\n",
      "Data sent successfully\n",
      "Data sent successfully\n",
      "Data sent successfully\n",
      "Done auto\n"
     ]
    },
    {
     "name": "stderr",
     "output_type": "stream",
     "text": [
      "Too many measurments in the input buffer: 507/500. Clearing buffer...\n",
      "Too many measurments in the input buffer: 531/500. Clearing buffer...\n",
      "Too many measurments in the input buffer: 529/500. Clearing buffer...\n",
      "Too many measurments in the input buffer: 525/500. Clearing buffer...\n"
     ]
    }
   ],
   "source": [
    "from ipywidgets import IntSlider\n",
    "speed = 10\n",
    "s = IntSlider(value=speed, min=0, max=25)"
   ]
  },
  {
   "cell_type": "code",
   "execution_count": 16,
   "metadata": {},
   "outputs": [
    {
     "data": {
      "text/plain": [
       "10"
      ]
     },
     "execution_count": 16,
     "metadata": {},
     "output_type": "execute_result"
    }
   ],
   "source": [
    "s.value"
   ]
  },
  {
   "cell_type": "code",
   "execution_count": 17,
   "metadata": {},
   "outputs": [
    {
     "data": {
      "application/vnd.jupyter.widget-view+json": {
       "model_id": "b5844ccf2a834eb7a64e422ed41c652b",
       "version_major": 2,
       "version_minor": 0
      },
      "text/plain": [
       "IntSlider(value=10, max=25)"
      ]
     },
     "execution_count": 17,
     "metadata": {},
     "output_type": "execute_result"
    }
   ],
   "source": [
    "s"
   ]
  },
  {
   "cell_type": "code",
   "execution_count": 18,
   "metadata": {},
   "outputs": [
    {
     "name": "stderr",
     "output_type": "stream",
     "text": [
      "Too many measurments in the input buffer: 527/500. Clearing buffer...\n",
      "Too many measurments in the input buffer: 540/500. Clearing buffer...\n"
     ]
    }
   ],
   "source": [
    "from math import pi\n",
    "import time\n",
    "rover = WiFi(\"http://192.168.0.211:5000\")\n",
    "speed = 10\n",
    "def captain_act():\n",
    "    path = pathfinder.get_path()\n",
    "    if len(path) < 2:\n",
    "        return\n",
    "    nxt = path[1]\n",
    "    radians = (nxt[0]%(2*pi))-pi/2\n",
    "    radians*=-1\n",
    "    degrees = int(radians/(2*pi)*360)\n",
    "    mode = Modes.DRIVE if abs(degrees) < 12 else Modes.SPIN\n",
    "    speed = s.value\n",
    "    if mode == Modes.SPIN:\n",
    "        speed *= (-1 if degrees < 0 else 1)\n",
    "    # print(mode, speed)\n",
    "    rover.write_data(make_command(mode, speed_percent=speed, angle_degrees=degrees))\n"
   ]
  },
  {
   "cell_type": "code",
   "execution_count": 22,
   "metadata": {},
   "outputs": [
    {
     "name": "stderr",
     "output_type": "stream",
     "text": [
      "Too many measurments in the input buffer: 532/500. Clearing buffer...\n"
     ]
    }
   ],
   "source": [
    "from threading import Thread"
   ]
  },
  {
   "cell_type": "code",
   "execution_count": 32,
   "metadata": {},
   "outputs": [
    {
     "name": "stdout",
     "output_type": "stream",
     "text": [
      "Data received: {'dt': '0.002533', 'current_wheel_speed': '4.97', 'current_steering_angle': '-4.98', 'current_wheel_heading': '0.00', 'delta_wheel_speed': '-50.00', 'delta_steering_angle': '40.00', 'delta_wheel_heading': '0.00', 'fl_steering_angle': '15424.0312', 'fl_steering_speed': '26.0000', 'fl_steering_current': '2.2400', 'fl_propulsion_angle': '8529.1748', 'fl_propulsion_speed': '-67.1667', 'fl_propulsion_current': '-1.0100', 'fl_requested_steering_angle': '-2.70', 'fl_requested_propulsion_speed': '0.05', 'fr_steering_angle': '-17418.6895', 'fr_steering_speed': '19.6667', 'fr_steering_current': '0.9900', 'fr_propulsion_angle': '5994.1284', 'fr_propulsion_speed': '60.3333', 'fr_propulsion_current': '0.1100', 'fr_requested_steering_angle': '-2.32', 'fr_requested_propulsion_speed': '0.05', 'b_steering_angle': '12453.2764', 'b_steering_speed': '-56.1667', 'b_steering_current': '-0.2400', 'b_propulsion_angle': '3008.4404', 'b_propulsion_speed': '50.6667', 'b_propulsion_current': '1.7900', 'b_requested_steering_angle': '4.98', 'b_requested_propulsion_speed': '0.05'}\n"
     ]
    },
    {
     "data": {
      "text/plain": [
       "{'dt': '0.002533',\n",
       " 'current_wheel_speed': '4.97',\n",
       " 'current_steering_angle': '-4.98',\n",
       " 'current_wheel_heading': '0.00',\n",
       " 'delta_wheel_speed': '-50.00',\n",
       " 'delta_steering_angle': '40.00',\n",
       " 'delta_wheel_heading': '0.00',\n",
       " 'fl_steering_angle': '15424.0312',\n",
       " 'fl_steering_speed': '26.0000',\n",
       " 'fl_steering_current': '2.2400',\n",
       " 'fl_propulsion_angle': '8529.1748',\n",
       " 'fl_propulsion_speed': '-67.1667',\n",
       " 'fl_propulsion_current': '-1.0100',\n",
       " 'fl_requested_steering_angle': '-2.70',\n",
       " 'fl_requested_propulsion_speed': '0.05',\n",
       " 'fr_steering_angle': '-17418.6895',\n",
       " 'fr_steering_speed': '19.6667',\n",
       " 'fr_steering_current': '0.9900',\n",
       " 'fr_propulsion_angle': '5994.1284',\n",
       " 'fr_propulsion_speed': '60.3333',\n",
       " 'fr_propulsion_current': '0.1100',\n",
       " 'fr_requested_steering_angle': '-2.32',\n",
       " 'fr_requested_propulsion_speed': '0.05',\n",
       " 'b_steering_angle': '12453.2764',\n",
       " 'b_steering_speed': '-56.1667',\n",
       " 'b_steering_current': '-0.2400',\n",
       " 'b_propulsion_angle': '3008.4404',\n",
       " 'b_propulsion_speed': '50.6667',\n",
       " 'b_propulsion_current': '1.7900',\n",
       " 'b_requested_steering_angle': '4.98',\n",
       " 'b_requested_propulsion_speed': '0.05'}"
      ]
     },
     "execution_count": 32,
     "metadata": {},
     "output_type": "execute_result"
    },
    {
     "name": "stdout",
     "output_type": "stream",
     "text": [
      "Data sent successfully\n",
      "Data sent successfully\n",
      "Data sent successfully\n",
      "Data sent successfully\n",
      "Data sent successfully\n",
      "Data sent successfully\n",
      "Data sent successfully\n",
      "Data sent successfully\n",
      "Data sent successfully\n",
      "Data sent successfully\n"
     ]
    },
    {
     "name": "stderr",
     "output_type": "stream",
     "text": [
      "Too many measurments in the input buffer: 536/500. Clearing buffer...\n"
     ]
    },
    {
     "name": "stdout",
     "output_type": "stream",
     "text": [
      "Data sent successfully\n",
      "Data sent successfully\n",
      "Data sent successfully\n",
      "Data sent successfully\n",
      "Data sent successfully\n",
      "Data sent successfully\n",
      "Data sent successfully\n",
      "Data sent successfully\n",
      "Data sent successfully\n",
      "Data sent successfully\n",
      "Data sent successfully\n",
      "Data sent successfully\n",
      "Data sent successfully\n",
      "Data sent successfully\n",
      "Data sent successfully\n",
      "Data sent successfully\n",
      "Data sent successfully\n",
      "Data sent successfully\n",
      "Data sent successfully\n",
      "Data sent successfully\n",
      "Data sent successfully\n",
      "Data sent successfully\n",
      "Data sent successfully\n",
      "Data sent successfully\n",
      "Data sent successfully\n",
      "Data sent successfully\n",
      "Data sent successfully\n",
      "Data sent successfully\n",
      "Data sent successfully\n",
      "Data sent successfully\n"
     ]
    }
   ],
   "source": [
    "rover.read_data()"
   ]
  },
  {
   "cell_type": "code",
   "execution_count": 25,
   "metadata": {},
   "outputs": [
    {
     "name": "stdout",
     "output_type": "stream",
     "text": [
      "Data sent successfully\n"
     ]
    },
    {
     "name": "stderr",
     "output_type": "stream",
     "text": [
      "Too many measurments in the input buffer: 528/500. Clearing buffer...\n",
      "Too many measurments in the input buffer: 520/500. Clearing buffer...\n",
      "Too many measurments in the input buffer: 541/500. Clearing buffer...\n",
      "Too many measurments in the input buffer: 574/500. Clearing buffer...\n",
      "Too many measurments in the input buffer: 527/500. Clearing buffer...\n",
      "Too many measurments in the input buffer: 509/500. Clearing buffer...\n"
     ]
    }
   ],
   "source": [
    "rover.write_data(make_command(Modes.SPIN))"
   ]
  },
  {
   "cell_type": "code",
   "execution_count": 29,
   "metadata": {},
   "outputs": [
    {
     "name": "stderr",
     "output_type": "stream",
     "text": [
      "Too many measurments in the input buffer: 558/500. Clearing buffer...\n"
     ]
    },
    {
     "name": "stderr",
     "output_type": "stream",
     "text": [
      "Too many measurments in the input buffer: 554/500. Clearing buffer...\n",
      "Too many measurments in the input buffer: 593/500. Clearing buffer...\n",
      "Too many measurments in the input buffer: 543/500. Clearing buffer...\n",
      "Too many measurments in the input buffer: 500/500. Clearing buffer...\n"
     ]
    }
   ],
   "source": [
    "stop = False"
   ]
  },
  {
   "cell_type": "code",
   "execution_count": 31,
   "metadata": {},
   "outputs": [
    {
     "name": "stdout",
     "output_type": "stream",
     "text": [
      "Staring auto\n"
     ]
    },
    {
     "name": "stdout",
     "output_type": "stream",
     "text": [
      "Data sent successfully\n",
      "Data sent successfully\n",
      "Data sent successfully\n"
     ]
    },
    {
     "name": "stderr",
     "output_type": "stream",
     "text": [
      "Too many measurments in the input buffer: 509/500. Clearing buffer...\n"
     ]
    },
    {
     "name": "stdout",
     "output_type": "stream",
     "text": [
      "Data sent successfully\n",
      "Data sent successfully\n"
     ]
    },
    {
     "name": "stderr",
     "output_type": "stream",
     "text": [
      "Too many measurments in the input buffer: 522/500. Clearing buffer...\n"
     ]
    },
    {
     "name": "stdout",
     "output_type": "stream",
     "text": [
      "Data sent successfully\n",
      "Data sent successfully\n",
      "Data sent successfully\n",
      "Data sent successfully\n",
      "Data sent successfully\n",
      "Data sent successfully\n"
     ]
    },
    {
     "name": "stderr",
     "output_type": "stream",
     "text": [
      "Too many measurments in the input buffer: 510/500. Clearing buffer...\n"
     ]
    },
    {
     "name": "stdout",
     "output_type": "stream",
     "text": [
      "Data sent successfully\n",
      "Data sent successfully\n",
      "Data sent successfully\n",
      "Data sent successfully\n"
     ]
    },
    {
     "name": "stderr",
     "output_type": "stream",
     "text": [
      "Too many measurments in the input buffer: 525/500. Clearing buffer...\n"
     ]
    },
    {
     "name": "stdout",
     "output_type": "stream",
     "text": [
      "Data sent successfully\n",
      "Data sent successfully\n",
      "Data sent successfully\n",
      "Data sent successfully\n",
      "Data sent successfully\n",
      "Data sent successfully\n"
     ]
    },
    {
     "name": "stderr",
     "output_type": "stream",
     "text": [
      "Too many measurments in the input buffer: 514/500. Clearing buffer...\n"
     ]
    },
    {
     "name": "stdout",
     "output_type": "stream",
     "text": [
      "Data sent successfully\n",
      "Data sent successfully\n",
      "Data sent successfully\n",
      "Data sent successfully\n"
     ]
    },
    {
     "name": "stderr",
     "output_type": "stream",
     "text": [
      "Too many measurments in the input buffer: 507/500. Clearing buffer...\n"
     ]
    },
    {
     "name": "stdout",
     "output_type": "stream",
     "text": [
      "Data sent successfully\n",
      "Data sent successfully\n"
     ]
    },
    {
     "name": "stderr",
     "output_type": "stream",
     "text": [
      "Too many measurments in the input buffer: 535/500. Clearing buffer...\n"
     ]
    },
    {
     "name": "stdout",
     "output_type": "stream",
     "text": [
      "Data sent successfully\n",
      "Data sent successfully\n",
      "Data sent successfully\n"
     ]
    },
    {
     "name": "stderr",
     "output_type": "stream",
     "text": [
      "Too many measurments in the input buffer: 529/500. Clearing buffer...\n"
     ]
    },
    {
     "name": "stdout",
     "output_type": "stream",
     "text": [
      "Data sent successfully\n",
      "Data sent successfully\n",
      "Data sent successfully\n",
      "Data sent successfully\n"
     ]
    }
   ],
   "source": [
    "def f():\n",
    "    global stop\n",
    "    print(\"Staring auto\")\n",
    "    for i in (list(range(100))):\n",
    "        if stop: break\n",
    "        captain_act()\n",
    "        time.sleep(1)\n",
    "        rover.write_data(make_command(speed_percent=0))\n",
    "    print(\"Done auto\")\n",
    "t = Thread(target=f)\n",
    "t.start()"
   ]
  },
  {
   "cell_type": "code",
   "execution_count": 24,
   "metadata": {},
   "outputs": [
    {
     "name": "stdout",
     "output_type": "stream",
     "text": [
      "Data sent successfully\n"
     ]
    }
   ],
   "source": [
    "rover.write_data(make_command(Modes.DRIVE,speed_percent=0))"
   ]
  },
  {
   "cell_type": "code",
   "execution_count": 21,
   "metadata": {},
   "outputs": [
    {
     "name": "stdout",
     "output_type": "stream",
     "text": [
      "Data received: {'dt': '0.001997', 'current_wheel_speed': '0.00', 'current_steering_angle': '0.00', 'current_wheel_heading': '0.00', 'delta_wheel_speed': '0.00', 'delta_steering_angle': '0.00', 'delta_wheel_heading': '0.00', 'fl_steering_angle': '-2301.7122', 'fl_steering_speed': '0.0000', 'fl_steering_current': '-0.1900', 'fl_propulsion_angle': '-1695.4130', 'fl_propulsion_speed': '0.0000', 'fl_propulsion_current': '0.1600', 'fl_requested_steering_angle': '0.00', 'fl_requested_propulsion_speed': '0.00', 'fr_steering_angle': '-15513.1025', 'fr_steering_speed': '0.0000', 'fr_steering_current': '-0.0500', 'fr_propulsion_angle': '19233.7617', 'fr_propulsion_speed': '0.0000', 'fr_propulsion_current': '0.5000', 'fr_requested_steering_angle': '0.00', 'fr_requested_propulsion_speed': '0.00', 'b_steering_angle': '5905.2856', 'b_steering_speed': '0.0000', 'b_steering_current': '-0.1500', 'b_propulsion_angle': '1922.2019', 'b_propulsion_speed': '0.0000', 'b_propulsion_current': '-0.6300', 'b_requested_steering_angle': '0.00', 'b_requested_propulsion_speed': '0.00'}\n"
     ]
    },
    {
     "data": {
      "text/plain": [
       "{'dt': '0.001997',\n",
       " 'current_wheel_speed': '0.00',\n",
       " 'current_steering_angle': '0.00',\n",
       " 'current_wheel_heading': '0.00',\n",
       " 'delta_wheel_speed': '0.00',\n",
       " 'delta_steering_angle': '0.00',\n",
       " 'delta_wheel_heading': '0.00',\n",
       " 'fl_steering_angle': '-2301.7122',\n",
       " 'fl_steering_speed': '0.0000',\n",
       " 'fl_steering_current': '-0.1900',\n",
       " 'fl_propulsion_angle': '-1695.4130',\n",
       " 'fl_propulsion_speed': '0.0000',\n",
       " 'fl_propulsion_current': '0.1600',\n",
       " 'fl_requested_steering_angle': '0.00',\n",
       " 'fl_requested_propulsion_speed': '0.00',\n",
       " 'fr_steering_angle': '-15513.1025',\n",
       " 'fr_steering_speed': '0.0000',\n",
       " 'fr_steering_current': '-0.0500',\n",
       " 'fr_propulsion_angle': '19233.7617',\n",
       " 'fr_propulsion_speed': '0.0000',\n",
       " 'fr_propulsion_current': '0.5000',\n",
       " 'fr_requested_steering_angle': '0.00',\n",
       " 'fr_requested_propulsion_speed': '0.00',\n",
       " 'b_steering_angle': '5905.2856',\n",
       " 'b_steering_speed': '0.0000',\n",
       " 'b_steering_current': '-0.1500',\n",
       " 'b_propulsion_angle': '1922.2019',\n",
       " 'b_propulsion_speed': '0.0000',\n",
       " 'b_propulsion_current': '-0.6300',\n",
       " 'b_requested_steering_angle': '0.00',\n",
       " 'b_requested_propulsion_speed': '0.00'}"
      ]
     },
     "execution_count": 21,
     "metadata": {},
     "output_type": "execute_result"
    }
   ],
   "source": [
    "rover.read_data()"
   ]
  }
 ],
 "metadata": {
  "kernelspec": {
   "display_name": "Python 3",
   "language": "python",
   "name": "python3"
  },
  "language_info": {
   "codemirror_mode": {
    "name": "ipython",
    "version": 3
   },
   "file_extension": ".py",
   "mimetype": "text/x-python",
   "name": "python",
   "nbconvert_exporter": "python",
   "pygments_lexer": "ipython3",
   "version": "3.11.7"
  }
 },
 "nbformat": 4,
 "nbformat_minor": 2
}
