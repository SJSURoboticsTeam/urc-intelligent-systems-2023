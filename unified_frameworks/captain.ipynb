{
 "cells": [
  {
   "cell_type": "code",
   "execution_count": 1,
   "metadata": {},
   "outputs": [],
   "source": [
    "%matplotlib qt\n",
    "import os\n",
    "root = os.path.realpath(os.getcwd()+ os.sep+\"..\")\n",
    "import sys\n",
    "sys.path.append(root)\n",
    "from modules.WiFi import WiFi, Modes, make_command\n",
    "import pathfinder, pathfinder_visualizer\n",
    "import importlib\n",
    "import matplotlib.pyplot as plt\n",
    "import matplotlib.animation as anim"
   ]
  },
  {
   "cell_type": "code",
   "execution_count": 21,
   "metadata": {},
   "outputs": [
    {
     "name": "stdout",
     "output_type": "stream",
     "text": [
      "called start_path_finder_service\n",
      "Starting Pathfinder Service\n",
      "Called start_worldview_service\n",
      "Starting Worldview Service\n",
      "Called start_lidar_service\n",
      "Starting Lidar Service\n",
      "called stop_path_finder_service\n",
      "\n",
      "Called stop_worldview_service\n",
      "Called stop_lidar_service\n",
      "\n",
      "started Lidar Scanning Thread\n",
      "waiting for obstacle thread to join\n",
      "waiting for lidar thread to join\n",
      "Stopping Lidar Service\n",
      "Starting Worldview Service\n",
      "Stopping Pathfinder Service\n",
      "called start_path_finder_service\n",
      "Starting Pathfinder Service\n",
      "Called start_worldview_service\n",
      "Starting Worldview Service\n",
      "Called start_lidar_service\n",
      "Starting Lidar Service\n",
      "\n",
      "started Lidar Scanning Thread\n"
     ]
    },
    {
     "name": "stderr",
     "output_type": "stream",
     "text": [
      "Too many measurments in the input buffer: 561/500. Clearing buffer...\n",
      "Too many measurments in the input buffer: 510/500. Clearing buffer...\n",
      "Too many measurments in the input buffer: 560/500. Clearing buffer...\n",
      "Too many measurments in the input buffer: 560/500. Clearing buffer...\n",
      "Too many measurments in the input buffer: 540/500. Clearing buffer...\n",
      "Too many measurments in the input buffer: 515/500. Clearing buffer...\n",
      "Too many measurments in the input buffer: 559/500. Clearing buffer...\n",
      "Too many measurments in the input buffer: 542/500. Clearing buffer...\n",
      "Too many measurments in the input buffer: 527/500. Clearing buffer...\n",
      "Too many measurments in the input buffer: 539/500. Clearing buffer...\n",
      "Too many measurments in the input buffer: 558/500. Clearing buffer...\n",
      "Too many measurments in the input buffer: 542/500. Clearing buffer...\n",
      "Too many measurments in the input buffer: 515/500. Clearing buffer...\n",
      "Too many measurments in the input buffer: 575/500. Clearing buffer...\n",
      "Too many measurments in the input buffer: 516/500. Clearing buffer...\n",
      "Too many measurments in the input buffer: 550/500. Clearing buffer...\n",
      "Too many measurments in the input buffer: 516/500. Clearing buffer...\n",
      "Too many measurments in the input buffer: 520/500. Clearing buffer...\n",
      "Too many measurments in the input buffer: 524/500. Clearing buffer...\n",
      "Too many measurments in the input buffer: 534/500. Clearing buffer...\n",
      "Too many measurments in the input buffer: 546/500. Clearing buffer...\n",
      "Too many measurments in the input buffer: 583/500. Clearing buffer...\n",
      "Too many measurments in the input buffer: 572/500. Clearing buffer...\n",
      "Too many measurments in the input buffer: 527/500. Clearing buffer...\n",
      "Too many measurments in the input buffer: 557/500. Clearing buffer...\n",
      "Too many measurments in the input buffer: 526/500. Clearing buffer...\n",
      "Too many measurments in the input buffer: 502/500. Clearing buffer...\n",
      "Too many measurments in the input buffer: 550/500. Clearing buffer...\n",
      "Too many measurments in the input buffer: 532/500. Clearing buffer...\n",
      "Too many measurments in the input buffer: 520/500. Clearing buffer...\n",
      "Too many measurments in the input buffer: 580/500. Clearing buffer...\n",
      "Too many measurments in the input buffer: 532/500. Clearing buffer...\n",
      "Too many measurments in the input buffer: 538/500. Clearing buffer...\n",
      "Too many measurments in the input buffer: 547/500. Clearing buffer...\n",
      "Too many measurments in the input buffer: 526/500. Clearing buffer...\n",
      "Too many measurments in the input buffer: 506/500. Clearing buffer...\n",
      "Too many measurments in the input buffer: 530/500. Clearing buffer...\n",
      "Too many measurments in the input buffer: 559/500. Clearing buffer...\n"
     ]
    },
    {
     "name": "stdout",
     "output_type": "stream",
     "text": [
      "called stop_path_finder_service\n",
      "\n",
      "Called stop_worldview_service\n",
      "Called stop_lidar_service\n",
      "waiting for obstacle thread to join\n",
      "waiting for lidar thread to join\n",
      "Stopping Lidar Service\n",
      "Starting Worldview Service\n",
      "Stopping Pathfinder Service\n"
     ]
    }
   ],
   "source": [
    "from ipywidgets import Button, HBox, ToggleButton, TwoByTwoLayout, Layout\n",
    "# 3 buttons. Start service, stop service, show visualization\n",
    "make_layout = lambda: Layout(width=\"auto\", height=\"auto\")\n",
    "start_button = Button(description=\"Start Pathfinder\", disabled=pathfinder._service.is_running(), button_style='primary', layout=make_layout())\n",
    "stop_button = Button(description=\"Stop Pathfinder\", disabled=not pathfinder._service.is_running(), button_style='danger', layout=make_layout())\n",
    "show_button = Button(description=\"Show Visualization\", button_style='warning', layout=make_layout())\n",
    "\n",
    "gui = TwoByTwoLayout(\n",
    "    top_left=start_button,\n",
    "    bottom_right=stop_button,\n",
    "    # top_right=show_button\n",
    "    )"
   ]
  },
  {
   "cell_type": "code",
   "execution_count": 22,
   "metadata": {},
   "outputs": [],
   "source": [
    "def start_pathfinder(*args):\n",
    "    if pathfinder._service.is_running():\n",
    "        print(\"Service is already running\", file=sys.stderr)\n",
    "        return\n",
    "    pathfinder.start_pathfinder_service()\n",
    "    stop_button.disabled=False\n",
    "    start_button.disabled=True\n",
    "start_button.on_click(start_pathfinder)\n",
    "def stop_pathfinder(*args):\n",
    "    pathfinder.stop_pathfinder_service()\n",
    "    importlib.reload(pathfinder)\n",
    "    stop_button.disabled=True\n",
    "    start_button.disabled=False\n",
    "stop_button.on_click(stop_pathfinder)\n",
    "# def show_visual(*args):\n",
    "#     fig, update_func = pathfinder_visualizer.run_visualizer(pathfinder)\n",
    "#     anime = anim.FuncAnimation(fig, update_func, 1, interval=50, blit=True)\n",
    "#     plt.show()\n",
    "#     return anime\n",
    "# show_button.on_click(show_visual)"
   ]
  },
  {
   "cell_type": "code",
   "execution_count": 23,
   "metadata": {},
   "outputs": [
    {
     "data": {
      "application/vnd.jupyter.widget-view+json": {
       "model_id": "66e0a3f34e3a4990886be8c434738674",
       "version_major": 2,
       "version_minor": 0
      },
      "text/plain": [
       "TwoByTwoLayout(children=(Button(button_style='primary', description='Start Pathfinder', layout=Layout(grid_are…"
      ]
     },
     "execution_count": 23,
     "metadata": {},
     "output_type": "execute_result"
    }
   ],
   "source": [
    "gui"
   ]
  },
  {
   "cell_type": "code",
   "execution_count": 24,
   "metadata": {},
   "outputs": [
    {
     "data": {
      "text/plain": [
       "<matplotlib.animation.FuncAnimation at 0x18989232e10>"
      ]
     },
     "execution_count": 24,
     "metadata": {},
     "output_type": "execute_result"
    }
   ],
   "source": [
    "def func():\n",
    "    fig, update_func = pathfinder_visualizer.run_visualizer(pathfinder)\n",
    "    anime = anim.FuncAnimation(fig, update_func, 1, interval=50, blit=True)\n",
    "    plt.show()\n",
    "    return anime\n",
    "func()"
   ]
  }
 ],
 "metadata": {
  "kernelspec": {
   "display_name": "Python 3",
   "language": "python",
   "name": "python3"
  },
  "language_info": {
   "codemirror_mode": {
    "name": "ipython",
    "version": 3
   },
   "file_extension": ".py",
   "mimetype": "text/x-python",
   "name": "python",
   "nbconvert_exporter": "python",
   "pygments_lexer": "ipython3",
   "version": "3.11.7"
  }
 },
 "nbformat": 4,
 "nbformat_minor": 2
}
