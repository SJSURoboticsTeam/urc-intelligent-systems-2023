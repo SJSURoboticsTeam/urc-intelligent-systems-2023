{
 "cells": [
  {
   "cell_type": "markdown",
   "source": [
    "# Camera Aruco Tag Distance Test\n",
    "\n",
    "Use this notebook to test how far away a standard USB camera (not the Oak-d, which requires seperate software) can detect an Aruco Tag. With a standard high definition camera, we were able to detect a tag 30-35 feet away. The competition may place the tag up to 67 feet away, so to be safe, we want to reliably detect a tag from 70 feet.\n",
    "\n",
    "## Setup\n",
    "\n",
    "You will need to install OpenCV-Contrib version 4.6.0.66 (a lower version is okay, but a higher has breaking API changes)."
   ],
   "metadata": {
    "collapsed": false
   }
  },
  {
   "cell_type": "code",
   "execution_count": 1,
   "metadata": {
    "collapsed": true
   },
   "outputs": [],
   "source": [
    "import cv2\n",
    "import numpy as np\n",
    "from collections import deque\n",
    "import os\n",
    "import glob"
   ]
  },
  {
   "cell_type": "code",
   "execution_count": 2,
   "outputs": [],
   "source": [
    "# load the 4x4_50 aruco tag dictionary\n",
    "arucoDict = cv2.aruco.Dictionary_get(cv2.aruco.DICT_4X4_50)\n",
    "parameters = cv2.aruco.DetectorParameters_create()"
   ],
   "metadata": {
    "collapsed": false
   }
  },
  {
   "cell_type": "markdown",
   "source": [
    "## Camera\n",
    "\n",
    "Here is where we set up the camera. Change the `CAMERA_NUMBER`, `FRAME_WIDTH`, and `FRAME_HEIGHT` variables to whatever camera you are testing.\n",
    "\n",
    "**!!IMPORTANT!!** Look at the output of this cell. If it is `True` then the camera was opened correctly and the frame width/height was properly set. If it is `False` then something went wrong and the camera closes."
   ],
   "metadata": {
    "collapsed": false
   }
  },
  {
   "cell_type": "code",
   "execution_count": 5,
   "outputs": [
    {
     "data": {
      "text/plain": "False"
     },
     "execution_count": 5,
     "metadata": {},
     "output_type": "execute_result"
    }
   ],
   "source": [
    "CAMERA_NUMBER = 0\n",
    "FRAME_WIDTH = 1920\n",
    "FRAME_HEIGHT = 1080\n",
    "\n",
    "cap = cv2.VideoCapture(CAMERA_NUMBER)\n",
    "cap.set(cv2.CAP_PROP_FRAME_WIDTH, FRAME_WIDTH)\n",
    "cap.set(cv2.CAP_PROP_FRAME_HEIGHT, FRAME_HEIGHT)\n"
   ],
   "metadata": {
    "collapsed": false
   }
  },
  {
   "cell_type": "markdown",
   "source": [
    "## Detecting Aruco Tags\n",
    "\n",
    "This is the main loop where we try to find aruco tags. It'll draw a green bounding box around any tag it detects. It also looks through the last 10 frames to see if it can detect a tag in any of those frames. This helps its accuracy at long distances because the odds of it detecting a tag in single frame isn't great, but over many frames, it's pretty decent. Press 'q' to stop the loop.\n",
    "\n",
    "NOTE: if you just hit `Run All` and then stop the loop with `q`, it will also close the camera and you will have to re-open it before you can start the loop again."
   ],
   "metadata": {
    "collapsed": false
   }
  },
  {
   "cell_type": "code",
   "execution_count": 4,
   "outputs": [
    {
     "ename": "error",
     "evalue": "OpenCV(4.6.0) D:\\a\\opencv-python\\opencv-python\\opencv_contrib\\modules\\aruco\\src\\aruco.cpp:1097: error: (-215:Assertion failed) !_image.empty() in function 'cv::aruco::detectMarkers'\n",
     "output_type": "error",
     "traceback": [
      "\u001B[1;31m---------------------------------------------------------------------------\u001B[0m",
      "\u001B[1;31merror\u001B[0m                                     Traceback (most recent call last)",
      "Cell \u001B[1;32mIn[4], line 12\u001B[0m\n\u001B[0;32m      8\u001B[0m corners, ids \u001B[38;5;241m=\u001B[39m [], []\n\u001B[0;32m     10\u001B[0m \u001B[38;5;28;01mfor\u001B[39;00m test_frame \u001B[38;5;129;01min\u001B[39;00m frame_queue:\n\u001B[0;32m     11\u001B[0m     \u001B[38;5;66;03m# detect the aruco markers in the image\u001B[39;00m\n\u001B[1;32m---> 12\u001B[0m     possible_corners, possible_ids, rejectedImgPoints \u001B[38;5;241m=\u001B[39m \u001B[43mcv2\u001B[49m\u001B[38;5;241;43m.\u001B[39;49m\u001B[43maruco\u001B[49m\u001B[38;5;241;43m.\u001B[39;49m\u001B[43mdetectMarkers\u001B[49m\u001B[43m(\u001B[49m\u001B[43mtest_frame\u001B[49m\u001B[43m,\u001B[49m\u001B[43m \u001B[49m\u001B[43marucoDict\u001B[49m\u001B[43m,\u001B[49m\u001B[43mparameters\u001B[49m\u001B[38;5;241;43m=\u001B[39;49m\u001B[43mparameters\u001B[49m\u001B[43m)\u001B[49m\n\u001B[0;32m     13\u001B[0m     \u001B[38;5;28;01mif\u001B[39;00m \u001B[38;5;28mlen\u001B[39m(possible_corners) \u001B[38;5;241m>\u001B[39m \u001B[38;5;241m0\u001B[39m:\n\u001B[0;32m     14\u001B[0m         corners\u001B[38;5;241m.\u001B[39mextend(possible_corners)\n",
      "\u001B[1;31merror\u001B[0m: OpenCV(4.6.0) D:\\a\\opencv-python\\opencv-python\\opencv_contrib\\modules\\aruco\\src\\aruco.cpp:1097: error: (-215:Assertion failed) !_image.empty() in function 'cv::aruco::detectMarkers'\n"
     ]
    }
   ],
   "source": [
    "frame_queue = deque(maxlen=10)\n",
    "\n",
    "while True:\n",
    "    # read the frame\n",
    "    ret, frame = cap.read()\n",
    "    frame_queue.append(frame)\n",
    "\n",
    "    corners, ids = [], []\n",
    "\n",
    "    for test_frame in frame_queue:\n",
    "        # detect the aruco markers in the image\n",
    "        possible_corners, possible_ids, rejectedImgPoints = cv2.aruco.detectMarkers(test_frame, arucoDict,parameters=parameters)\n",
    "        if len(possible_corners) > 0:\n",
    "            corners.extend(possible_corners)\n",
    "            ids.append(possible_ids.flatten())\n",
    "            break\n",
    "\n",
    "    for corner, tag_id in zip(corners, ids):\n",
    "        # loop over the detected ArUCo corners\n",
    "        #for (markerCorner, markerID) in zip(corners, ids):\n",
    "        # extract the marker corners (which are always returned in\n",
    "        # top-left, top-right, bottom-right, and bottom-left order)\n",
    "        # corners = markerCorner.reshape((4, 2))\n",
    "        tag_id = tag_id[0]\n",
    "\n",
    "        (topLeft, topRight, bottomRight, bottomLeft) = corner[0]\n",
    "        # convert each of the (x, y)-coordinate pairs to integers\n",
    "        topRight = (int(topRight[0]), int(topRight[1]))\n",
    "        bottomRight = (int(bottomRight[0]), int(bottomRight[1]))\n",
    "        bottomLeft = (int(bottomLeft[0]), int(bottomLeft[1]))\n",
    "        topLeft = (int(topLeft[0]), int(topLeft[1]))\n",
    "        # draw the bounding box of the ArUCo detection\n",
    "        cv2.line(frame, topLeft, topRight, (0, 255, 0), 2)\n",
    "        cv2.line(frame, topRight, bottomRight, (0, 255, 0), 2)\n",
    "        cv2.line(frame, bottomRight, bottomLeft, (0, 255, 0), 2)\n",
    "        cv2.line(frame, bottomLeft, topLeft, (0, 255, 0), 2)\n",
    "        # compute and draw the center (x, y)-coordinates of the ArUco\n",
    "        # marker\n",
    "        cX = int((topLeft[0] + bottomRight[0]) / 2.0)\n",
    "        cY = int((topLeft[1] + bottomRight[1]) / 2.0)\n",
    "        cv2.circle(frame, (cX, cY), 4, (0, 0, 255), -1)\n",
    "        # draw the ArUco marker ID on the frame\n",
    "        cv2.putText(frame, str(tag_id),\n",
    "            (topLeft[0], topLeft[1] - 15), cv2.FONT_HERSHEY_SIMPLEX,\n",
    "            0.5, (0, 255, 0), 2)\n",
    "\n",
    "\n",
    "    frame = cv2.resize(frame, None, fx=.5, fy=.5)\n",
    "    # show the output frame\n",
    "    cv2.imshow(\"Frame\", frame)\n",
    "    key = cv2.waitKey(1) & 0xFF\n",
    "    # if the `q` key was pressed, break from the loop\n",
    "    if key == ord(\"q\"):\n",
    "        break"
   ],
   "metadata": {
    "collapsed": false
   }
  },
  {
   "cell_type": "code",
   "execution_count": null,
   "outputs": [],
   "source": [
    "# close the camera\n",
    "cap.release()\n",
    "# close all windows\n",
    "cv2.destroyAllWindows()"
   ],
   "metadata": {
    "collapsed": false
   }
  }
 ],
 "metadata": {
  "kernelspec": {
   "display_name": "Python 3",
   "language": "python",
   "name": "python3"
  },
  "language_info": {
   "codemirror_mode": {
    "name": "ipython",
    "version": 2
   },
   "file_extension": ".py",
   "mimetype": "text/x-python",
   "name": "python",
   "nbconvert_exporter": "python",
   "pygments_lexer": "ipython2",
   "version": "2.7.6"
  }
 },
 "nbformat": 4,
 "nbformat_minor": 0
}
