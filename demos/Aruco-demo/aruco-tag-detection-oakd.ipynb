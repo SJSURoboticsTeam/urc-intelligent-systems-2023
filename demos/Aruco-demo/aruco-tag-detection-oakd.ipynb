{
 "cells": [
  {
   "cell_type": "markdown",
   "metadata": {
    "collapsed": false
   },
   "source": [
    "# Oak-D Aruco Tag Distance Test\n",
    "\n",
    "Use this notebook to test how far away the Oak-d camera can detect an Aruco tag. We've found that a high definition camera (1920x1080) can detect a tag from about 35 feet away, but Oak-d camera has 4k resolution, so hopefully it can sense the tags from a greater distance (the target is 70 feet).\n",
    "\n",
    "## Setup\n",
    "\n",
    "You'll need to set up the DepthAI program (see Adrien's setup steps [here](https://github.com/SJSURoboticsTeam/urc-intelligent_systems-2023/blob/main/Vision/README.md)). You will also need to install OpenCV-Contrib version 4.6.0.66 (a lower version is okay, but a higher has breaking API changes)."
   ]
  },
  {
   "cell_type": "code",
   "execution_count": 1,
   "metadata": {
    "collapsed": false
   },
   "outputs": [],
   "source": [
    "#!pip install opencv-contrib-python==4.6.0.66"
   ]
  },
  {
   "cell_type": "code",
   "execution_count": 2,
   "metadata": {
    "collapsed": true
   },
   "outputs": [],
   "source": [
    "import cv2\n",
    "import numpy as np\n",
    "from collections import deque\n",
    "import os\n",
    "import glob\n",
    "import depthai\n",
    "import sys\n",
    "sys.path.append('../../')\n",
    "from modules.OAKD import OakD"
   ]
  },
  {
   "cell_type": "code",
   "execution_count": 3,
   "metadata": {
    "collapsed": false
   },
   "outputs": [],
   "source": [
    "# load the 4x4_50 aruco tag dictionary\n",
    "arucoDict = cv2.aruco.Dictionary_get(cv2.aruco.DICT_4X4_50)\n",
    "parameters = cv2.aruco.DetectorParameters_create()"
   ]
  },
  {
   "cell_type": "markdown",
   "metadata": {
    "collapsed": false
   },
   "source": [
    "## Camera\n",
    "\n"
   ]
  },
  {
   "cell_type": "code",
   "execution_count": 4,
   "metadata": {
    "collapsed": false
   },
   "outputs": [
    {
     "name": "stdout",
     "output_type": "stream",
     "text": [
      "[194430102186771300] [1.3] [1.141] [ColorCamera(0)] [warning] Unsupported resolution set for detected camera IMX378/214, needs 1080_P / 4_K / 12_MP. Defaulting to 1080_P\n"
     ]
    }
   ],
   "source": [
    "cap = OakD(depthai.ColorCameraProperties.SensorResolution.THE_720_P)\n",
    "\n",
    "mtx = cap.mtx\n",
    "dist = cap.dist"
   ]
  },
  {
   "cell_type": "markdown",
   "metadata": {
    "collapsed": false
   },
   "source": [
    "## Detecting Aruco Tags\n",
    "\n",
    "This is the main loop where we try to find aruco tags. It'll draw a green bounding box around any tag it detects. It also looks through the last couple frames to see if it can detect a tag in any of those frames. This helps its accuracy at long distances because the odds of it detecting a tag in single frame isn't great, but over many frames, it's pretty decent. Press 'q' to stop the loop."
   ]
  },
  {
   "cell_type": "code",
   "execution_count": 5,
   "metadata": {
    "collapsed": false
   },
   "outputs": [],
   "source": [
    "frame_queue = deque(maxlen=1)\n",
    "\n",
    "while True:\n",
    "    _, frame = cap.read()\n",
    "\n",
    "    frame_queue.append(frame)\n",
    "\n",
    "    corners, ids = [], []\n",
    "\n",
    "    for test_frame in frame_queue:\n",
    "        # detect the aruco markers in the image\n",
    "        possible_corners, possible_ids, rejectedImgPoints = cv2.aruco.detectMarkers(test_frame, arucoDict,parameters=parameters)\n",
    "        if len(possible_corners) > 0:\n",
    "            corners.extend(possible_corners)\n",
    "            ids.extend(possible_ids.flatten())\n",
    "            break\n",
    "\n",
    "    for corner, tag_id in zip(corners, ids):\n",
    "        # loop over the detected ArUCo corners\n",
    "        #for (markerCorner, markerID) in zip(corners, ids):\n",
    "        # extract the marker corners (which are always returned in\n",
    "        # top-left, top-right, bottom-right, and bottom-left order)\n",
    "        # corners = markerCorner.reshape((4, 2))\n",
    "\n",
    "        (topLeft, topRight, bottomRight, bottomLeft) = corner[0]\n",
    "        # convert each of the (x, y)-coordinate pairs to integers\n",
    "        topRight = (int(topRight[0]), int(topRight[1]))\n",
    "        bottomRight = (int(bottomRight[0]), int(bottomRight[1]))\n",
    "        bottomLeft = (int(bottomLeft[0]), int(bottomLeft[1]))\n",
    "        topLeft = (int(topLeft[0]), int(topLeft[1]))\n",
    "        # draw the bounding box of the ArUCo detection\n",
    "        cv2.line(frame, topLeft, topRight, (0, 255, 0), 2)\n",
    "        cv2.line(frame, topRight, bottomRight, (0, 255, 0), 2)\n",
    "        cv2.line(frame, bottomRight, bottomLeft, (0, 255, 0), 2)\n",
    "        cv2.line(frame, bottomLeft, topLeft, (0, 255, 0), 2)\n",
    "        # compute and draw the center (x, y)-coordinates of the ArUco\n",
    "        # marker\n",
    "        cX = int((topLeft[0] + bottomRight[0]) / 2.0)\n",
    "        cY = int((topLeft[1] + bottomRight[1]) / 2.0)\n",
    "        cv2.circle(frame, (cX, cY), 4, (0, 0, 255), -1)\n",
    "        # draw the ArUco marker ID on the frame\n",
    "        cv2.putText(frame, str(tag_id),\n",
    "            (topLeft[0], topLeft[1] - 15), cv2.FONT_HERSHEY_SIMPLEX,\n",
    "            0.5, (0, 255, 0), 2)\n",
    "\n",
    "        # estimate the distance of the marker from the camera\n",
    "        markerSizeInM = .20\n",
    "\n",
    "        rvect, tvect, _ = cv2.aruco.estimatePoseSingleMarkers(corner, markerSizeInM, mtx, dist)\n",
    "\n",
    "        distance = np.linalg.norm(tvect[0][0])\n",
    "        # show the distance in the frame (limit the distance to 2 decimal places))\n",
    "        cv2.putText(frame, str(distance), (topLeft[0], topLeft[1] - 30), cv2.FONT_HERSHEY_SIMPLEX, 0.5, (0, 255, 0), 2)\n",
    "\n",
    "    if frame is not None:\n",
    "\n",
    "        #frame = cv2.resize(frame, None, fx=.25, fy=.25)\n",
    "        cv2.imshow(\"Frame\", frame)\n",
    "        key = cv2.waitKey(1) & 0xFF\n",
    "        #if the `q` key was pressed, break from the loop\n",
    "        if key == ord(\"q\"):\n",
    "           break"
   ]
  },
  {
   "cell_type": "code",
   "execution_count": null,
   "metadata": {
    "collapsed": false
   },
   "outputs": [],
   "source": [
    "# close all windows\n",
    "cv2.destroyAllWindows()"
   ]
  },
  {
   "cell_type": "code",
   "execution_count": null,
   "metadata": {
    "collapsed": false
   },
   "outputs": [],
   "source": []
  }
 ],
 "metadata": {
  "kernelspec": {
   "display_name": "Python 3",
   "language": "python",
   "name": "python3"
  },
  "language_info": {
   "codemirror_mode": {
    "name": "ipython",
    "version": 3
   },
   "file_extension": ".py",
   "mimetype": "text/x-python",
   "name": "python",
   "nbconvert_exporter": "python",
   "pygments_lexer": "ipython3",
   "version": "3.11.4"
  }
 },
 "nbformat": 4,
 "nbformat_minor": 0
}
