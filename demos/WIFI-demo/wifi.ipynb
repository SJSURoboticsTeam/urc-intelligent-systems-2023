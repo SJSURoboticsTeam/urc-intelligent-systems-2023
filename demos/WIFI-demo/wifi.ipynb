{
 "cells": [
  {
   "cell_type": "markdown",
   "metadata": {},
   "source": [
    "# Demo for [WIFI module](../../modules/WiFi.py)\n",
    "\n",
    "The WIFI module can be used to send command and retrieve the rovers status."
   ]
  },
  {
   "cell_type": "markdown",
   "metadata": {},
   "source": [
    "## Step 1 Import the WIFI module"
   ]
  },
  {
   "cell_type": "code",
   "execution_count": 1,
   "metadata": {},
   "outputs": [
    {
     "data": {
      "text/plain": [
       "'d:\\\\Projects\\\\urc-intelligent-systems-2023\\\\demos\\\\WIFI-demo'"
      ]
     },
     "execution_count": 1,
     "metadata": {},
     "output_type": "execute_result"
    }
   ],
   "source": [
    "import os\n",
    "os.getcwd()"
   ]
  },
  {
   "cell_type": "code",
   "execution_count": 2,
   "metadata": {},
   "outputs": [
    {
     "data": {
      "text/plain": [
       "'D:\\\\Projects\\\\urc-intelligent-systems-2023'"
      ]
     },
     "execution_count": 2,
     "metadata": {},
     "output_type": "execute_result"
    }
   ],
   "source": [
    "root = os.path.realpath(os.path.join(os.getcwd(), '..','..',))\n",
    "root"
   ]
  },
  {
   "cell_type": "code",
   "execution_count": 3,
   "metadata": {},
   "outputs": [],
   "source": [
    "import sys\n",
    "sys.path.insert(0,root)\n",
    "from modules.WiFi import WiFi"
   ]
  },
  {
   "cell_type": "markdown",
   "metadata": {},
   "source": [
    "## Step 2 Initialize the WIFI module"
   ]
  },
  {
   "cell_type": "code",
   "execution_count": 4,
   "metadata": {},
   "outputs": [],
   "source": [
    "rover_comms = WiFi(\"http://192.168.0.211:5000\")"
   ]
  },
  {
   "cell_type": "markdown",
   "metadata": {},
   "source": [
    "## Step 3 Read Status and Send Commands"
   ]
  },
  {
   "cell_type": "code",
   "execution_count": 6,
   "metadata": {},
   "outputs": [
    {
     "name": "stdout",
     "output_type": "stream",
     "text": [
      "Data received: {'dt': '0.002563', 'current_wheel_speed': '0.00', 'current_steering_angle': '90.00', 'current_wheel_heading': '0.00', 'delta_wheel_speed': '0.00', 'delta_steering_angle': '0.00', 'delta_wheel_heading': '0.00', 'fl_steering_angle': '-5803.8682', 'fl_steering_speed': '0.0000', 'fl_steering_current': '-0.1300', 'fl_propulsion_angle': '-3600.0002', 'fl_propulsion_speed': '0.0000', 'fl_propulsion_current': '0.0100', 'fl_requested_steering_angle': '30.00', 'fl_requested_propulsion_speed': '0.00', 'fr_steering_angle': '5809.1182', 'fr_steering_speed': '0.0000', 'fr_steering_current': '-0.2900', 'fr_propulsion_angle': '-5957.4316', 'fr_propulsion_speed': '0.0000', 'fr_propulsion_current': '0.1100', 'fr_requested_steering_angle': '150.00', 'fr_requested_propulsion_speed': '0.00', 'b_steering_angle': '1278.1938', 'b_steering_speed': '0.0000', 'b_steering_current': '0.3600', 'b_propulsion_angle': '-5355.5967', 'b_propulsion_speed': '0.0000', 'b_propulsion_current': '0.0300', 'b_requested_steering_angle': '-90.00', 'b_requested_propulsion_speed': '0.00'}\n"
     ]
    },
    {
     "data": {
      "text/plain": [
       "{'dt': '0.002563',\n",
       " 'current_wheel_speed': '0.00',\n",
       " 'current_steering_angle': '90.00',\n",
       " 'current_wheel_heading': '0.00',\n",
       " 'delta_wheel_speed': '0.00',\n",
       " 'delta_steering_angle': '0.00',\n",
       " 'delta_wheel_heading': '0.00',\n",
       " 'fl_steering_angle': '-5803.8682',\n",
       " 'fl_steering_speed': '0.0000',\n",
       " 'fl_steering_current': '-0.1300',\n",
       " 'fl_propulsion_angle': '-3600.0002',\n",
       " 'fl_propulsion_speed': '0.0000',\n",
       " 'fl_propulsion_current': '0.0100',\n",
       " 'fl_requested_steering_angle': '30.00',\n",
       " 'fl_requested_propulsion_speed': '0.00',\n",
       " 'fr_steering_angle': '5809.1182',\n",
       " 'fr_steering_speed': '0.0000',\n",
       " 'fr_steering_current': '-0.2900',\n",
       " 'fr_propulsion_angle': '-5957.4316',\n",
       " 'fr_propulsion_speed': '0.0000',\n",
       " 'fr_propulsion_current': '0.1100',\n",
       " 'fr_requested_steering_angle': '150.00',\n",
       " 'fr_requested_propulsion_speed': '0.00',\n",
       " 'b_steering_angle': '1278.1938',\n",
       " 'b_steering_speed': '0.0000',\n",
       " 'b_steering_current': '0.3600',\n",
       " 'b_propulsion_angle': '-5355.5967',\n",
       " 'b_propulsion_speed': '0.0000',\n",
       " 'b_propulsion_current': '0.0300',\n",
       " 'b_requested_steering_angle': '-90.00',\n",
       " 'b_requested_propulsion_speed': '0.00'}"
      ]
     },
     "execution_count": 6,
     "metadata": {},
     "output_type": "execute_result"
    }
   ],
   "source": [
    "rover_comms.read_data()"
   ]
  },
  {
   "cell_type": "code",
   "execution_count": 7,
   "metadata": {},
   "outputs": [
    {
     "name": "stdout",
     "output_type": "stream",
     "text": [
      "Data sent successfully\n"
     ]
    }
   ],
   "source": [
    "command = {\n",
    "    \"HB\": 0,        # Heart Beat\n",
    "    \"IO\": 1,        # Is Operational\n",
    "    \"WO\": 0,        # Wheel Orientation\n",
    "    \"DM\": \"D\",      # Drive mode {D: Drive, S: Spin, T: Translate}\n",
    "    \"CMD\": [0,0]    # Command [Speed, Angle in Degrees]\n",
    "}\n",
    "rover_comms.write_data(command)"
   ]
  },
  {
   "cell_type": "code",
   "execution_count": 8,
   "metadata": {},
   "outputs": [],
   "source": [
    "class Modes:\n",
    "    DRIVE=\"D\"\n",
    "    SPIN=\"S\"\n",
    "    TRANSLATE=\"T\"\n",
    "def make_command(mode=None, speed_percent=None, angle_degrees=None):\n",
    "    \"\"\"\n",
    "    Create a command to be written to the rover\n",
    "\n",
    "    Parameters\n",
    "    ----------\n",
    "    mode: Specify the mode in which to interpret command\n",
    "            D: Drive, S: Spin, T: Translate\n",
    "            Default to \"D\"\n",
    "    speed_percent: Specify the speed as a % of max speed. Can be +-\n",
    "    angle_degree: Specify angle the rover should deviate by\n",
    "            Look forward to this parameter being modified in the future\n",
    "    \"\"\"\n",
    "    command = {\n",
    "        \"HB\": 0,        # Heart Beat\n",
    "        \"IO\": 1,        # Is Operational\n",
    "        \"WO\": 0,        # Wheel Orientation\n",
    "        \"DM\": \"D\",      # Drive mode {D: Drive, S: Spin, T: Translate}\n",
    "        \"CMD\": [0,0]    # Command [Speed, Angle in Degrees]\n",
    "    }\n",
    "    if mode is not None:\n",
    "        command[\"DM\"] = mode\n",
    "    if speed_percent is not None:\n",
    "        command['CMD'][0] = speed_percent\n",
    "    if angle_degrees is not None:\n",
    "        command[\"CMD\"][1] = angle_degrees\n",
    "    return command"
   ]
  },
  {
   "cell_type": "code",
   "execution_count": 9,
   "metadata": {},
   "outputs": [
    {
     "name": "stdout",
     "output_type": "stream",
     "text": [
      "Data sent successfully\n"
     ]
    }
   ],
   "source": [
    "rover_comms.write_data(make_command(Modes.DRIVE, 0,))"
   ]
  },
  {
   "cell_type": "markdown",
   "metadata": {},
   "source": [
    "The Modes class and make_command function can also be imported from the WIFI module"
   ]
  },
  {
   "cell_type": "code",
   "execution_count": 21,
   "metadata": {},
   "outputs": [
    {
     "name": "stdout",
     "output_type": "stream",
     "text": [
      "Data sent successfully\n"
     ]
    }
   ],
   "source": [
    "from modules.WiFi import Modes, make_command\n",
    "\n",
    "rover_comms.write_data(make_command(Modes.DRIVE, angle_degrees=12))"
   ]
  }
 ],
 "metadata": {
  "kernelspec": {
   "display_name": "Python 3",
   "language": "python",
   "name": "python3"
  },
  "language_info": {
   "codemirror_mode": {
    "name": "ipython",
    "version": 3
   },
   "file_extension": ".py",
   "mimetype": "text/x-python",
   "name": "python",
   "nbconvert_exporter": "python",
   "pygments_lexer": "ipython3",
   "version": "3.11.7"
  }
 },
 "nbformat": 4,
 "nbformat_minor": 2
}
